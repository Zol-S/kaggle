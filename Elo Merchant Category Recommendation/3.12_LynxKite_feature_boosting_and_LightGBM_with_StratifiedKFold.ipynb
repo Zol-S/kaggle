{
 "cells": [
  {
   "cell_type": "markdown",
   "metadata": {},
   "source": [
    "# Elo Merchant Category Recommendation - LynxKite feature boosting and LightGBM with StratifiedKFold\n",
    "End date: _2019. february 19._<br/>\n",
    "\n",
    "This tutorial notebook is part of a series for [Elo Mechant Category Recommendation](https://www.kaggle.com/c/elo-merchant-category-recommendation) contest organized by Elo, one of the largest payment brands in Brazil. It has built partnerships with merchants in order to offer promotions or discounts to cardholders. The objective of the competition is to identify and serve the most relevant opportunities to individuals, by uncovering signals in customer loyalty. LynxKite does not yet support some of the data preprocessing, thus they need to be done in Python. The input files are available from the [download](https://www.kaggle.com/c/elo-merchant-category-recommendation/data) section of the contest:\n",
    "\n",
    "- **train.csv**,  **test.csv**: list of `card_ids` that can be used for training and testing\n",
    "- **historical_transactions.csv**: contains up to 3 months' worth of transactions for every card at any of the provided `merchant_ids`\n",
    "- **new_merchant_transactions.csv**: contains the transactions at new merchants (`merchant_ids` that this particular `card_id` \n",
    "has not yet visited) over a period of two months\n",
    "- **merchants.csv**: contains aggregate information for each `merchant_id` represented in the data set\n",
    "\n",
    "Inspired by [Feature engineering](https://github.com/zzsza/Play-Kaggle/blob/master/Elo-Merchant-Category-Recommendation/notebooks/03.Feature-Engineering.ipynb)"
   ]
  },
  {
   "cell_type": "code",
   "execution_count": 14,
   "metadata": {},
   "outputs": [],
   "source": [
    "import gc\n",
    "import random\n",
    "import warnings\n",
    "import datetime\n",
    "import numpy as np\n",
    "import pandas as pd\n",
    "import seaborn as sns\n",
    "import lightgbm as lgb\n",
    "import matplotlib.pyplot as plt\n",
    "from sklearn import preprocessing\n",
    "from sklearn.model_selection import StratifiedKFold\n",
    "from sklearn.metrics import mean_squared_error, confusion_matrix, accuracy_score\n",
    "\n",
    "warnings.filterwarnings(\"ignore\")\n",
    "\n",
    "random.seed(402)"
   ]
  },
  {
   "cell_type": "code",
   "execution_count": 15,
   "metadata": {},
   "outputs": [],
   "source": [
    "def reduce_mem_usage(df, verbose=True):\n",
    "    numerics = ['int16', 'int32', 'int64', 'float16', 'float32', 'float64']\n",
    "    start_mem = df.memory_usage().sum() / 1024**2\n",
    "    if verbose: print('Starting memory usage: {:5.2f} MB'.format(start_mem))\n",
    "\n",
    "    for col in df.columns:\n",
    "        col_type = df[col].dtypes\n",
    "        if col_type in numerics:\n",
    "            c_min = df[col].min()\n",
    "            c_max = df[col].max()\n",
    "            if str(col_type)[:3] == 'int':\n",
    "                if c_min >= np.iinfo(np.int8).min and c_max <= np.iinfo(np.int8).max:\n",
    "                    df[col] = df[col].astype(np.int8)\n",
    "                elif c_min >= np.iinfo(np.int16).min and c_max <= np.iinfo(np.int16).max:\n",
    "                    df[col] = df[col].astype(np.int16)\n",
    "                elif c_min >= np.iinfo(np.int32).min and c_max <= np.iinfo(np.int32).max:\n",
    "                    df[col] = df[col].astype(np.int32)\n",
    "                elif c_min >= np.iinfo(np.int64).min and c_max <= np.iinfo(np.int64).max:\n",
    "                    df[col] = df[col].astype(np.int64)  \n",
    "            else:\n",
    "                if c_min >= np.finfo(np.float16).min and c_max <= np.finfo(np.float16).max:\n",
    "                    df[col] = df[col].astype(np.float16)\n",
    "                elif c_min >= np.finfo(np.float32).min and c_max <= np.finfo(np.float32).max:\n",
    "                    df[col] = df[col].astype(np.float32)\n",
    "                else:\n",
    "                    df[col] = df[col].astype(np.float64)    \n",
    "    end_mem = df.memory_usage().sum() / 1024**2\n",
    "    if verbose: print('Reduced memory usage: {:5.2f} MB ({:.1f}% reduction)'.format(end_mem, 100 * (start_mem - end_mem) / start_mem))\n",
    "    return df"
   ]
  },
  {
   "cell_type": "markdown",
   "metadata": {},
   "source": [
    "## Feature engineering\n",
    "Inspired by [Feature Engineering](https://github.com/zzsza/Play-Kaggle/blob/master/Elo-Merchant-Category-Recommendation/notebooks/04.Feature-Engineering_2nd.ipynb)"
   ]
  },
  {
   "cell_type": "markdown",
   "metadata": {},
   "source": [
    "### Train & test data"
   ]
  },
  {
   "cell_type": "code",
   "execution_count": 3,
   "metadata": {},
   "outputs": [
    {
     "name": "stdout",
     "output_type": "stream",
     "text": [
      "Starting memory usage:  9.24 MB\n",
      "Reduced memory usage:  4.04 MB (56.2% reduction)\n",
      "201,917 observations and 5 features in train set.\n"
     ]
    }
   ],
   "source": [
    "df_train = pd.read_csv(\"input/train.csv\", parse_dates=[\"first_active_month\"], index_col=\"card_id\")\n",
    "df_train = reduce_mem_usage(df_train)\n",
    "print(\"{:,} observations and {} features in train set.\".format(df_train.shape[0], df_train.shape[1]))"
   ]
  },
  {
   "cell_type": "code",
   "execution_count": 4,
   "metadata": {},
   "outputs": [
    {
     "name": "stdout",
     "output_type": "stream",
     "text": [
      "Starting memory usage:  4.72 MB\n",
      "Reduced memory usage:  2.24 MB (52.5% reduction)\n",
      "123,623 observations and 4 features in test set.\n"
     ]
    }
   ],
   "source": [
    "df_test = pd.read_csv(\"input/test.csv\", parse_dates=[\"first_active_month\"], index_col=\"card_id\")\n",
    "df_test = reduce_mem_usage(df_test)\n",
    "print(\"{:,} observations and {} features in test set.\".format(df_test.shape[0], df_test.shape[1]))"
   ]
  },
  {
   "cell_type": "code",
   "execution_count": 5,
   "metadata": {},
   "outputs": [],
   "source": [
    "df_train['first_active_month'] = pd.to_datetime(df_train['first_active_month'])\n",
    "df_train['elapsed_days'] = (datetime.date(2018, 2, 1) - df_train['first_active_month'].dt.date).dt.days"
   ]
  },
  {
   "cell_type": "code",
   "execution_count": 6,
   "metadata": {},
   "outputs": [],
   "source": [
    "df_test['first_active_month'] = pd.to_datetime(df_test['first_active_month'])\n",
    "df_test['elapsed_days'] = (datetime.date(2018, 2, 1) - df_test['first_active_month'].dt.date).dt.days"
   ]
  },
  {
   "cell_type": "markdown",
   "metadata": {},
   "source": [
    "### Transactions"
   ]
  },
  {
   "cell_type": "code",
   "execution_count": 9,
   "metadata": {},
   "outputs": [
    {
     "name": "stdout",
     "output_type": "stream",
     "text": [
      "Starting memory usage: 3109.54 MB\n",
      "Reduced memory usage: 1749.11 MB (43.7% reduction)\n",
      "Number of historical transactions: 29,112,361\n",
      "CPU times: user 1min 25s, sys: 53 s, total: 2min 18s\n",
      "Wall time: 3min 7s\n"
     ]
    }
   ],
   "source": [
    "%%time\n",
    "df_hist_trans = pd.read_csv('input/historical_transactions.csv', parse_dates=['purchase_date'])\n",
    "df_hist_trans = reduce_mem_usage(df_hist_trans)\n",
    "print('Number of historical transactions: {:,}'.format(len(df_hist_trans)))"
   ]
  },
  {
   "cell_type": "code",
   "execution_count": 10,
   "metadata": {},
   "outputs": [
    {
     "name": "stdout",
     "output_type": "stream",
     "text": [
      "Starting memory usage: 209.67 MB\n",
      "Reduced memory usage: 114.20 MB (45.5% reduction)\n",
      "Number of new transactions: 1,963,031\n",
      "CPU times: user 5.8 s, sys: 844 ms, total: 6.64 s\n",
      "Wall time: 7.33 s\n"
     ]
    }
   ],
   "source": [
    "%%time\n",
    "df_new_trans = pd.read_csv('input/new_merchant_transactions.csv', parse_dates=['purchase_date'])\n",
    "df_new_trans = reduce_mem_usage(df_new_trans)\n",
    "print('Number of new transactions: {:,}'.format(len(df_new_trans)))"
   ]
  },
  {
   "cell_type": "code",
   "execution_count": 11,
   "metadata": {},
   "outputs": [
    {
     "data": {
      "text/plain": [
       "authorized_flag              0\n",
       "card_id                      0\n",
       "city_id                      0\n",
       "category_1                   0\n",
       "installments                 0\n",
       "category_3               55922\n",
       "merchant_category_id         0\n",
       "merchant_id              26216\n",
       "month_lag                    0\n",
       "purchase_amount              0\n",
       "purchase_date                0\n",
       "category_2              111745\n",
       "state_id                     0\n",
       "subsector_id                 0\n",
       "dtype: int64"
      ]
     },
     "execution_count": 11,
     "metadata": {},
     "output_type": "execute_result"
    }
   ],
   "source": [
    "df_new_trans.isna().sum()"
   ]
  },
  {
   "cell_type": "markdown",
   "metadata": {},
   "source": [
    "Missing data handling (why these values?)"
   ]
  },
  {
   "cell_type": "code",
   "execution_count": 12,
   "metadata": {},
   "outputs": [],
   "source": [
    "for df in [df_hist_trans, df_new_trans]:\n",
    "    df['category_2'].fillna(1.0, inplace=True)\n",
    "    df['category_3'].fillna('A', inplace=True)\n",
    "    df['merchant_id'].fillna('M_ID_00a6ca8a8a', inplace=True)"
   ]
  },
  {
   "cell_type": "markdown",
   "metadata": {},
   "source": [
    "Date handling"
   ]
  },
  {
   "cell_type": "code",
   "execution_count": 13,
   "metadata": {},
   "outputs": [],
   "source": [
    "def create_date_features(df, source_column, preposition):\n",
    "    df[preposition + '_year'] = df[source_column].dt.year\n",
    "    df[preposition + '_month'] = df[source_column].dt.month\n",
    "    df[preposition + '_day'] = df[source_column].dt.day\n",
    "    df[preposition + '_hour'] = df[source_column].dt.hour\n",
    "    df[preposition + '_weekofyear'] = df[source_column].dt.weekofyear\n",
    "    df[preposition + '_dayofweek'] = df[source_column].dt.dayofweek\n",
    "    df[preposition + '_weekend'] = (df[source_column].dt.weekday >=5).astype(int)\n",
    "    df[preposition + '_quarter'] = df[source_column].dt.quarter\n",
    "    \n",
    "    return df"
   ]
  },
  {
   "cell_type": "code",
   "execution_count": 14,
   "metadata": {},
   "outputs": [],
   "source": [
    "df_hist_trans['authorized_flag'] = df_hist_trans['authorized_flag'].map({'Y': 1, 'N': 0})\n",
    "df_hist_trans['category_1'] = df_hist_trans['category_1'].map({'N': 0, 'Y': 1})\n",
    "\n",
    "df_hist_trans['purchase_date'] = pd.to_datetime(df_hist_trans['purchase_date'])\n",
    "df_hist_trans = create_date_features(df_hist_trans, 'purchase_date', 'purchase')"
   ]
  },
  {
   "cell_type": "code",
   "execution_count": 15,
   "metadata": {},
   "outputs": [],
   "source": [
    "df_new_trans['authorized_flag'] = df_new_trans['authorized_flag'].map({'Y': 1, 'N': 0})\n",
    "df_new_trans['category_1'] = df_new_trans['category_1'].map({'N': 0, 'Y': 1})\n",
    "\n",
    "df_new_trans['purchase_date'] = pd.to_datetime(df_new_trans['purchase_date'])\n",
    "df_new_trans = create_date_features(df_new_trans, 'purchase_date', 'purchase')"
   ]
  },
  {
   "cell_type": "code",
   "execution_count": 16,
   "metadata": {},
   "outputs": [],
   "source": [
    "df_hist_trans['month_diff'] = ((datetime.date(2018, 12, 1) - df_hist_trans['purchase_date'].dt.date).dt.days)//30\n",
    "df_hist_trans['month_diff'] += df_hist_trans['month_lag']"
   ]
  },
  {
   "cell_type": "code",
   "execution_count": 17,
   "metadata": {},
   "outputs": [],
   "source": [
    "df_new_trans['month_diff'] = ((datetime.date(2018, 12, 1) - df_new_trans['purchase_date'].dt.date).dt.days)//30\n",
    "df_new_trans['month_diff'] += df_new_trans['month_lag']"
   ]
  },
  {
   "cell_type": "code",
   "execution_count": 18,
   "metadata": {},
   "outputs": [
    {
     "name": "stdout",
     "output_type": "stream",
     "text": [
      "Starting memory usage: 3748.10 MB\n",
      "Reduced memory usage: 1638.06 MB (56.3% reduction)\n"
     ]
    }
   ],
   "source": [
    "df_hist_trans = reduce_mem_usage(df_hist_trans)"
   ]
  },
  {
   "cell_type": "code",
   "execution_count": 19,
   "metadata": {},
   "outputs": [
    {
     "name": "stdout",
     "output_type": "stream",
     "text": [
      "Starting memory usage: 248.99 MB\n",
      "Reduced memory usage: 106.71 MB (57.1% reduction)\n"
     ]
    }
   ],
   "source": [
    "df_new_trans = reduce_mem_usage(df_new_trans)"
   ]
  },
  {
   "cell_type": "markdown",
   "metadata": {},
   "source": [
    "#### Aggregation"
   ]
  },
  {
   "cell_type": "code",
   "execution_count": 20,
   "metadata": {},
   "outputs": [],
   "source": [
    "def aggregate_transactions(df, prefix):\n",
    "    agg_funcs = {\n",
    "        'authorized_flag': ['sum', 'mean'],\n",
    "\n",
    "        'card_id': ['size'],\n",
    "        'category_1': ['sum', 'mean'],\n",
    "        \n",
    "        'installments': ['sum', 'max', 'min', 'mean', 'var'],\n",
    "\n",
    "        'merchant_category_id': ['nunique'],\n",
    "        'merchant_id': ['nunique'],\n",
    "        'month_diff': ['mean'],\n",
    "        'month_lag': ['max','min','mean','var'],\n",
    "\n",
    "        'purchase_amount': ['sum', 'max', 'min', 'mean', 'var'],\n",
    "        'purchase_date': ['max', 'min'],\n",
    "        'purchase_dayofweek': ['nunique'],\n",
    "        'purchase_hour': ['nunique'],\n",
    "        'purchase_month': ['nunique'],\n",
    "        'purchase_year': ['nunique'],\n",
    "        'purchase_weekend': ['sum', 'mean'],\n",
    "        'purchase_weekofyear': ['nunique'],\n",
    "\n",
    "        'subsector_id': ['nunique']\n",
    "    }\n",
    "\n",
    "    df['category_2_mean'] = df.groupby(['category_2'])['purchase_amount'].transform('mean')\n",
    "    df['category_3_mean'] = df.groupby(['category_3'])['purchase_amount'].transform('mean')\n",
    "\n",
    "    df_agg = df.groupby('card_id').agg(agg_funcs)\n",
    "    df_agg.columns = [prefix + '_' + '_'.join(col).strip() for col in df_agg.columns.values]\n",
    "    df_agg.reset_index(drop=False, inplace=True)\n",
    "    df_agg[prefix + '_purchase_date_diff'] = (df_agg[prefix + '_purchase_date_max'] - df_agg[prefix + '_purchase_date_min']).dt.days\n",
    "    df_agg[prefix + '_purchase_date_average'] = df_agg[prefix + '_purchase_date_diff']/df_agg[prefix + '_card_id_size']\n",
    "    df_agg[prefix + '_purchase_date_uptonow'] = (datetime.datetime.today() - df_agg[prefix + '_purchase_date_max']).dt.days\n",
    "\n",
    "    df = (df_agg.groupby('card_id').size().reset_index(name='{}_transactions_count'.format(prefix)))\n",
    "    df_agg = pd.merge(df, df_agg, on='card_id', how='left')\n",
    "    return df_agg"
   ]
  },
  {
   "cell_type": "code",
   "execution_count": 21,
   "metadata": {},
   "outputs": [],
   "source": [
    "df_hist_agg = aggregate_transactions(df_hist_trans, 'hist')\n",
    "df_new_agg = aggregate_transactions(df_new_trans, 'new')\n",
    "\n",
    "df_train = df_train.merge(df_hist_agg, on='card_id', how='left')\n",
    "df_train = df_train.merge(df_new_agg, on='card_id', how='left')\n",
    "\n",
    "df_test = df_test.merge(df_hist_agg, on='card_id', how='left')\n",
    "df_test = df_test.merge(df_new_agg, on='card_id', how='left')"
   ]
  },
  {
   "cell_type": "code",
   "execution_count": 22,
   "metadata": {},
   "outputs": [
    {
     "data": {
      "text/html": [
       "<div>\n",
       "<style scoped>\n",
       "    .dataframe tbody tr th:only-of-type {\n",
       "        vertical-align: middle;\n",
       "    }\n",
       "\n",
       "    .dataframe tbody tr th {\n",
       "        vertical-align: top;\n",
       "    }\n",
       "\n",
       "    .dataframe thead th {\n",
       "        text-align: right;\n",
       "    }\n",
       "</style>\n",
       "<table border=\"1\" class=\"dataframe\">\n",
       "  <thead>\n",
       "    <tr style=\"text-align: right;\">\n",
       "      <th></th>\n",
       "      <th>card_id</th>\n",
       "      <th>hist_transactions_count</th>\n",
       "      <th>hist_authorized_flag_sum</th>\n",
       "      <th>hist_authorized_flag_mean</th>\n",
       "      <th>hist_card_id_size</th>\n",
       "      <th>hist_category_1_sum</th>\n",
       "      <th>hist_category_1_mean</th>\n",
       "      <th>hist_installments_sum</th>\n",
       "      <th>hist_installments_max</th>\n",
       "      <th>hist_installments_min</th>\n",
       "      <th>...</th>\n",
       "      <th>hist_purchase_hour_nunique</th>\n",
       "      <th>hist_purchase_month_nunique</th>\n",
       "      <th>hist_purchase_year_nunique</th>\n",
       "      <th>hist_purchase_weekend_sum</th>\n",
       "      <th>hist_purchase_weekend_mean</th>\n",
       "      <th>hist_purchase_weekofyear_nunique</th>\n",
       "      <th>hist_subsector_id_nunique</th>\n",
       "      <th>hist_purchase_date_diff</th>\n",
       "      <th>hist_purchase_date_average</th>\n",
       "      <th>hist_purchase_date_uptonow</th>\n",
       "    </tr>\n",
       "  </thead>\n",
       "  <tbody>\n",
       "    <tr>\n",
       "      <th>0</th>\n",
       "      <td>C_ID_00007093c1</td>\n",
       "      <td>1</td>\n",
       "      <td>114.0</td>\n",
       "      <td>0.765101</td>\n",
       "      <td>149</td>\n",
       "      <td>28.0</td>\n",
       "      <td>0.187919</td>\n",
       "      <td>192</td>\n",
       "      <td>6</td>\n",
       "      <td>1</td>\n",
       "      <td>...</td>\n",
       "      <td>18</td>\n",
       "      <td>12</td>\n",
       "      <td>2</td>\n",
       "      <td>25.0</td>\n",
       "      <td>0.167785</td>\n",
       "      <td>39</td>\n",
       "      <td>13</td>\n",
       "      <td>377</td>\n",
       "      <td>2.530201</td>\n",
       "      <td>358</td>\n",
       "    </tr>\n",
       "    <tr>\n",
       "      <th>1</th>\n",
       "      <td>C_ID_0001238066</td>\n",
       "      <td>1</td>\n",
       "      <td>120.0</td>\n",
       "      <td>0.975610</td>\n",
       "      <td>123</td>\n",
       "      <td>2.0</td>\n",
       "      <td>0.016260</td>\n",
       "      <td>198</td>\n",
       "      <td>10</td>\n",
       "      <td>-1</td>\n",
       "      <td>...</td>\n",
       "      <td>20</td>\n",
       "      <td>6</td>\n",
       "      <td>2</td>\n",
       "      <td>52.0</td>\n",
       "      <td>0.422764</td>\n",
       "      <td>23</td>\n",
       "      <td>17</td>\n",
       "      <td>151</td>\n",
       "      <td>1.227642</td>\n",
       "      <td>357</td>\n",
       "    </tr>\n",
       "    <tr>\n",
       "      <th>2</th>\n",
       "      <td>C_ID_0001506ef0</td>\n",
       "      <td>1</td>\n",
       "      <td>62.0</td>\n",
       "      <td>0.939394</td>\n",
       "      <td>66</td>\n",
       "      <td>0.0</td>\n",
       "      <td>0.000000</td>\n",
       "      <td>1</td>\n",
       "      <td>1</td>\n",
       "      <td>0</td>\n",
       "      <td>...</td>\n",
       "      <td>15</td>\n",
       "      <td>11</td>\n",
       "      <td>2</td>\n",
       "      <td>32.0</td>\n",
       "      <td>0.484848</td>\n",
       "      <td>24</td>\n",
       "      <td>12</td>\n",
       "      <td>398</td>\n",
       "      <td>6.030303</td>\n",
       "      <td>368</td>\n",
       "    </tr>\n",
       "  </tbody>\n",
       "</table>\n",
       "<p>3 rows × 37 columns</p>\n",
       "</div>"
      ],
      "text/plain": [
       "           card_id  hist_transactions_count  hist_authorized_flag_sum  \\\n",
       "0  C_ID_00007093c1                        1                     114.0   \n",
       "1  C_ID_0001238066                        1                     120.0   \n",
       "2  C_ID_0001506ef0                        1                      62.0   \n",
       "\n",
       "   hist_authorized_flag_mean  hist_card_id_size  hist_category_1_sum  \\\n",
       "0                   0.765101                149                 28.0   \n",
       "1                   0.975610                123                  2.0   \n",
       "2                   0.939394                 66                  0.0   \n",
       "\n",
       "   hist_category_1_mean  hist_installments_sum  hist_installments_max  \\\n",
       "0              0.187919                    192                      6   \n",
       "1              0.016260                    198                     10   \n",
       "2              0.000000                      1                      1   \n",
       "\n",
       "   hist_installments_min             ...              \\\n",
       "0                      1             ...               \n",
       "1                     -1             ...               \n",
       "2                      0             ...               \n",
       "\n",
       "   hist_purchase_hour_nunique  hist_purchase_month_nunique  \\\n",
       "0                          18                           12   \n",
       "1                          20                            6   \n",
       "2                          15                           11   \n",
       "\n",
       "   hist_purchase_year_nunique  hist_purchase_weekend_sum  \\\n",
       "0                           2                       25.0   \n",
       "1                           2                       52.0   \n",
       "2                           2                       32.0   \n",
       "\n",
       "   hist_purchase_weekend_mean  hist_purchase_weekofyear_nunique  \\\n",
       "0                    0.167785                                39   \n",
       "1                    0.422764                                23   \n",
       "2                    0.484848                                24   \n",
       "\n",
       "   hist_subsector_id_nunique  hist_purchase_date_diff  \\\n",
       "0                         13                      377   \n",
       "1                         17                      151   \n",
       "2                         12                      398   \n",
       "\n",
       "   hist_purchase_date_average  hist_purchase_date_uptonow  \n",
       "0                    2.530201                         358  \n",
       "1                    1.227642                         357  \n",
       "2                    6.030303                         368  \n",
       "\n",
       "[3 rows x 37 columns]"
      ]
     },
     "execution_count": 22,
     "metadata": {},
     "output_type": "execute_result"
    }
   ],
   "source": [
    "df_hist_agg[:3]"
   ]
  },
  {
   "cell_type": "code",
   "execution_count": 23,
   "metadata": {},
   "outputs": [
    {
     "data": {
      "text/plain": [
       "105"
      ]
     },
     "execution_count": 23,
     "metadata": {},
     "output_type": "execute_result"
    }
   ],
   "source": [
    "del df_hist_trans, df_new_trans, df_hist_agg, df_new_agg\n",
    "gc.collect()"
   ]
  },
  {
   "cell_type": "code",
   "execution_count": 24,
   "metadata": {},
   "outputs": [],
   "source": [
    "df_train['hist_first_buy'] = (df_train['hist_purchase_date_min'] - df_train['first_active_month']).dt.days\n",
    "df_train['new_first_buy'] = (df_train['new_purchase_date_min'] - df_train['first_active_month']).dt.days\n",
    "\n",
    "df_test['hist_first_buy'] = (df_test['hist_purchase_date_min'] - df_test['first_active_month']).dt.days\n",
    "df_test['new_first_buy'] = (df_test['new_purchase_date_min'] - df_test['first_active_month']).dt.days"
   ]
  },
  {
   "cell_type": "code",
   "execution_count": 25,
   "metadata": {},
   "outputs": [],
   "source": [
    "for f in ['hist_purchase_date_max', 'hist_purchase_date_min', 'new_purchase_date_max', 'new_purchase_date_min']:\n",
    "    df_train[f] = df_train[f].astype(np.int64) * 1e-9\n",
    "    df_test[f] = df_test[f].astype(np.int64) * 1e-9\n",
    "\n",
    "df_train['card_id_total'] = df_train['hist_card_id_size'] + df_train['new_card_id_size']\n",
    "df_test['card_id_total'] = df_test['hist_card_id_size'] + df_test['new_card_id_size']\n",
    "\n",
    "df_train['purchase_amount_total'] = df_train['hist_purchase_amount_sum'] + df_train['new_purchase_amount_sum']\n",
    "df_test['purchase_amount_total'] = df_test['hist_purchase_amount_sum'] + df_test['new_purchase_amount_sum']"
   ]
  },
  {
   "cell_type": "code",
   "execution_count": 26,
   "metadata": {},
   "outputs": [
    {
     "data": {
      "text/plain": [
       "0    199710\n",
       "1      2207\n",
       "Name: outliers, dtype: int64"
      ]
     },
     "execution_count": 26,
     "metadata": {},
     "output_type": "execute_result"
    }
   ],
   "source": [
    "df_train['outliers'] = 0\n",
    "df_train.loc[df_train['target'] < -30, 'outliers'] = 1\n",
    "df_train['outliers'].value_counts()"
   ]
  },
  {
   "cell_type": "code",
   "execution_count": 27,
   "metadata": {},
   "outputs": [],
   "source": [
    "for f in ['feature_1', 'feature_2', 'feature_3']:\n",
    "    order_label = df_train.groupby([f])['outliers'].mean()\n",
    "    df_train[f] = df_train[f].map(order_label)\n",
    "    df_test[f] = df_test[f].map(order_label)"
   ]
  },
  {
   "cell_type": "markdown",
   "metadata": {},
   "source": [
    "### Loading features from LynxKite"
   ]
  },
  {
   "cell_type": "code",
   "execution_count": 16,
   "metadata": {},
   "outputs": [
    {
     "name": "stdout",
     "output_type": "stream",
     "text": [
      "Starting memory usage:  7.45 MB\n",
      "Reduced memory usage:  6.21 MB (16.7% reduction)\n",
      "325,540 observations and 2 features in train set.\n"
     ]
    }
   ],
   "source": [
    "df_lk_mc = pd.read_csv(\"LynxKite_export/LynxKite-modular_clusters_id_first.csv\", index_col=\"card_id\")\n",
    "df_lk_mc = reduce_mem_usage(df_lk_mc)\n",
    "print(\"{:,} observations and {} features in train set.\".format(df_lk_mc.shape[0], df_lk_mc.shape[1]))"
   ]
  },
  {
   "cell_type": "code",
   "execution_count": 17,
   "metadata": {},
   "outputs": [],
   "source": [
    "le = preprocessing.LabelEncoder()\n",
    "le.fit(df_lk_mc['modular_clusters_id_first'])\n",
    "df_lk_mc['modular_clusters_id_first'] = le.transform(df_lk_mc['modular_clusters_id_first'])\n",
    "\n",
    "le.fit(df_lk_mc['modular_clusters_size_first'])\n",
    "df_lk_mc['modular_clusters_size_first'] = le.transform(df_lk_mc['modular_clusters_size_first'])"
   ]
  },
  {
   "cell_type": "code",
   "execution_count": 18,
   "metadata": {},
   "outputs": [
    {
     "data": {
      "text/html": [
       "<div>\n",
       "<style scoped>\n",
       "    .dataframe tbody tr th:only-of-type {\n",
       "        vertical-align: middle;\n",
       "    }\n",
       "\n",
       "    .dataframe tbody tr th {\n",
       "        vertical-align: top;\n",
       "    }\n",
       "\n",
       "    .dataframe thead th {\n",
       "        text-align: right;\n",
       "    }\n",
       "</style>\n",
       "<table border=\"1\" class=\"dataframe\">\n",
       "  <thead>\n",
       "    <tr style=\"text-align: right;\">\n",
       "      <th></th>\n",
       "      <th>modular_clusters_id_first</th>\n",
       "      <th>modular_clusters_size_first</th>\n",
       "    </tr>\n",
       "    <tr>\n",
       "      <th>card_id</th>\n",
       "      <th></th>\n",
       "      <th></th>\n",
       "    </tr>\n",
       "  </thead>\n",
       "  <tbody>\n",
       "    <tr>\n",
       "      <th>C_ID_7d9dee148a</th>\n",
       "      <td>4926</td>\n",
       "      <td>14</td>\n",
       "    </tr>\n",
       "    <tr>\n",
       "      <th>C_ID_a7d06696b1</th>\n",
       "      <td>14326</td>\n",
       "      <td>25</td>\n",
       "    </tr>\n",
       "    <tr>\n",
       "      <th>C_ID_b9aeb45f7b</th>\n",
       "      <td>22988</td>\n",
       "      <td>19</td>\n",
       "    </tr>\n",
       "  </tbody>\n",
       "</table>\n",
       "</div>"
      ],
      "text/plain": [
       "                 modular_clusters_id_first  modular_clusters_size_first\n",
       "card_id                                                                \n",
       "C_ID_7d9dee148a                       4926                           14\n",
       "C_ID_a7d06696b1                      14326                           25\n",
       "C_ID_b9aeb45f7b                      22988                           19"
      ]
     },
     "execution_count": 18,
     "metadata": {},
     "output_type": "execute_result"
    }
   ],
   "source": [
    "df_lk_mc[:3]"
   ]
  },
  {
   "cell_type": "code",
   "execution_count": 9,
   "metadata": {},
   "outputs": [
    {
     "name": "stdout",
     "output_type": "stream",
     "text": [
      "Starting memory usage: 52.16 MB\n",
      "Reduced memory usage: 21.11 MB (59.5% reduction)\n",
      "325,540 observations and 21 features in train set.\n"
     ]
    }
   ],
   "source": [
    "df_lk_tt = pd.read_csv(\"LynxKite_export/LynxKite-target_top-target_wavg_purchase_amount-wavg_purchase_date.csv\")\n",
    "df_lk_tt = reduce_mem_usage(df_lk_tt)\n",
    "print(\"{:,} observations and {} features in train set.\".format(df_lk_tt.shape[0], df_lk_tt.shape[1]))"
   ]
  },
  {
   "cell_type": "code",
   "execution_count": 10,
   "metadata": {
    "scrolled": true
   },
   "outputs": [
    {
     "data": {
      "text/html": [
       "<div>\n",
       "<style scoped>\n",
       "    .dataframe tbody tr th:only-of-type {\n",
       "        vertical-align: middle;\n",
       "    }\n",
       "\n",
       "    .dataframe tbody tr th {\n",
       "        vertical-align: top;\n",
       "    }\n",
       "\n",
       "    .dataframe thead th {\n",
       "        text-align: right;\n",
       "    }\n",
       "</style>\n",
       "<table border=\"1\" class=\"dataframe\">\n",
       "  <thead>\n",
       "    <tr style=\"text-align: right;\">\n",
       "      <th></th>\n",
       "      <th>card_id</th>\n",
       "      <th>neighborhood_target_top_avg_average</th>\n",
       "      <th>neighborhood_target_top_avg_first</th>\n",
       "      <th>neighborhood_target_top_avg_max</th>\n",
       "      <th>neighborhood_target_top_avg_min</th>\n",
       "      <th>neighborhood_target_top_avg_most_common</th>\n",
       "      <th>neighborhood_target_bottom_avg_average</th>\n",
       "      <th>neighborhood_target_bottom_avg_first</th>\n",
       "      <th>neighborhood_target_bottom_avg_max</th>\n",
       "      <th>neighborhood_target_bottom_avg_min</th>\n",
       "      <th>...</th>\n",
       "      <th>neighborhood_target_wavg_purchase_amount_average</th>\n",
       "      <th>neighborhood_target_wavg_purchase_amount_first</th>\n",
       "      <th>neighborhood_target_wavg_purchase_amount_max</th>\n",
       "      <th>neighborhood_target_wavg_purchase_amount_min</th>\n",
       "      <th>neighborhood_target_wavg_purchase_amount_most_common</th>\n",
       "      <th>neighborhood_target_wavg_purchase_date_average</th>\n",
       "      <th>neighborhood_target_wavg_purchase_date_first</th>\n",
       "      <th>neighborhood_target_wavg_purchase_date_max</th>\n",
       "      <th>neighborhood_target_wavg_purchase_date_min</th>\n",
       "      <th>neighborhood_target_wavg_purchase_date_most_common</th>\n",
       "    </tr>\n",
       "  </thead>\n",
       "  <tbody>\n",
       "    <tr>\n",
       "      <th>0</th>\n",
       "      <td>C_ID_f26081eca3</td>\n",
       "      <td>0.275635</td>\n",
       "      <td>0.098267</td>\n",
       "      <td>0.475342</td>\n",
       "      <td>0.000000</td>\n",
       "      <td>0.214600</td>\n",
       "      <td>6.066406</td>\n",
       "      <td>12.468750</td>\n",
       "      <td>35.125000</td>\n",
       "      <td>0.270508</td>\n",
       "      <td>...</td>\n",
       "      <td>297.294617</td>\n",
       "      <td>62.974602</td>\n",
       "      <td>1039.092651</td>\n",
       "      <td>13.289358</td>\n",
       "      <td>135.277939</td>\n",
       "      <td>25528.681641</td>\n",
       "      <td>2833.434326</td>\n",
       "      <td>248088.328125</td>\n",
       "      <td>2.705562</td>\n",
       "      <td>137.098816</td>\n",
       "    </tr>\n",
       "    <tr>\n",
       "      <th>1</th>\n",
       "      <td>C_ID_0ba76b9ea2</td>\n",
       "      <td>0.107361</td>\n",
       "      <td>0.218750</td>\n",
       "      <td>0.218750</td>\n",
       "      <td>0.016052</td>\n",
       "      <td>0.016052</td>\n",
       "      <td>6.550781</td>\n",
       "      <td>1.922852</td>\n",
       "      <td>8.867188</td>\n",
       "      <td>1.922852</td>\n",
       "      <td>...</td>\n",
       "      <td>92.109688</td>\n",
       "      <td>28.921249</td>\n",
       "      <td>137.276337</td>\n",
       "      <td>28.921249</td>\n",
       "      <td>137.276337</td>\n",
       "      <td>12431.413086</td>\n",
       "      <td>1031.070190</td>\n",
       "      <td>27440.634766</td>\n",
       "      <td>1031.070190</td>\n",
       "      <td>27440.634766</td>\n",
       "    </tr>\n",
       "    <tr>\n",
       "      <th>2</th>\n",
       "      <td>C_ID_44946612a5</td>\n",
       "      <td>NaN</td>\n",
       "      <td>NaN</td>\n",
       "      <td>NaN</td>\n",
       "      <td>NaN</td>\n",
       "      <td>NaN</td>\n",
       "      <td>NaN</td>\n",
       "      <td>NaN</td>\n",
       "      <td>NaN</td>\n",
       "      <td>NaN</td>\n",
       "      <td>...</td>\n",
       "      <td>NaN</td>\n",
       "      <td>NaN</td>\n",
       "      <td>NaN</td>\n",
       "      <td>NaN</td>\n",
       "      <td>NaN</td>\n",
       "      <td>NaN</td>\n",
       "      <td>NaN</td>\n",
       "      <td>NaN</td>\n",
       "      <td>NaN</td>\n",
       "      <td>NaN</td>\n",
       "    </tr>\n",
       "  </tbody>\n",
       "</table>\n",
       "<p>3 rows × 21 columns</p>\n",
       "</div>"
      ],
      "text/plain": [
       "           card_id  neighborhood_target_top_avg_average  \\\n",
       "0  C_ID_f26081eca3                             0.275635   \n",
       "1  C_ID_0ba76b9ea2                             0.107361   \n",
       "2  C_ID_44946612a5                                  NaN   \n",
       "\n",
       "   neighborhood_target_top_avg_first  neighborhood_target_top_avg_max  \\\n",
       "0                           0.098267                         0.475342   \n",
       "1                           0.218750                         0.218750   \n",
       "2                                NaN                              NaN   \n",
       "\n",
       "   neighborhood_target_top_avg_min  neighborhood_target_top_avg_most_common  \\\n",
       "0                         0.000000                                 0.214600   \n",
       "1                         0.016052                                 0.016052   \n",
       "2                              NaN                                      NaN   \n",
       "\n",
       "   neighborhood_target_bottom_avg_average  \\\n",
       "0                                6.066406   \n",
       "1                                6.550781   \n",
       "2                                     NaN   \n",
       "\n",
       "   neighborhood_target_bottom_avg_first  neighborhood_target_bottom_avg_max  \\\n",
       "0                             12.468750                           35.125000   \n",
       "1                              1.922852                            8.867188   \n",
       "2                                   NaN                                 NaN   \n",
       "\n",
       "   neighborhood_target_bottom_avg_min  \\\n",
       "0                            0.270508   \n",
       "1                            1.922852   \n",
       "2                                 NaN   \n",
       "\n",
       "                          ...                          \\\n",
       "0                         ...                           \n",
       "1                         ...                           \n",
       "2                         ...                           \n",
       "\n",
       "   neighborhood_target_wavg_purchase_amount_average  \\\n",
       "0                                        297.294617   \n",
       "1                                         92.109688   \n",
       "2                                               NaN   \n",
       "\n",
       "   neighborhood_target_wavg_purchase_amount_first  \\\n",
       "0                                       62.974602   \n",
       "1                                       28.921249   \n",
       "2                                             NaN   \n",
       "\n",
       "   neighborhood_target_wavg_purchase_amount_max  \\\n",
       "0                                   1039.092651   \n",
       "1                                    137.276337   \n",
       "2                                           NaN   \n",
       "\n",
       "   neighborhood_target_wavg_purchase_amount_min  \\\n",
       "0                                     13.289358   \n",
       "1                                     28.921249   \n",
       "2                                           NaN   \n",
       "\n",
       "   neighborhood_target_wavg_purchase_amount_most_common  \\\n",
       "0                                         135.277939      \n",
       "1                                         137.276337      \n",
       "2                                                NaN      \n",
       "\n",
       "   neighborhood_target_wavg_purchase_date_average  \\\n",
       "0                                    25528.681641   \n",
       "1                                    12431.413086   \n",
       "2                                             NaN   \n",
       "\n",
       "   neighborhood_target_wavg_purchase_date_first  \\\n",
       "0                                   2833.434326   \n",
       "1                                   1031.070190   \n",
       "2                                           NaN   \n",
       "\n",
       "   neighborhood_target_wavg_purchase_date_max  \\\n",
       "0                               248088.328125   \n",
       "1                                27440.634766   \n",
       "2                                         NaN   \n",
       "\n",
       "   neighborhood_target_wavg_purchase_date_min  \\\n",
       "0                                    2.705562   \n",
       "1                                 1031.070190   \n",
       "2                                         NaN   \n",
       "\n",
       "   neighborhood_target_wavg_purchase_date_most_common  \n",
       "0                                         137.098816   \n",
       "1                                       27440.634766   \n",
       "2                                                NaN   \n",
       "\n",
       "[3 rows x 21 columns]"
      ]
     },
     "execution_count": 10,
     "metadata": {},
     "output_type": "execute_result"
    }
   ],
   "source": [
    "df_lk_tt[:3]"
   ]
  },
  {
   "cell_type": "markdown",
   "metadata": {},
   "source": [
    "### Merging"
   ]
  },
  {
   "cell_type": "code",
   "execution_count": 32,
   "metadata": {},
   "outputs": [],
   "source": [
    "df_train = df_train.merge(df_lk_mc, on='card_id', how='left')\n",
    "df_test = df_test.merge(df_lk_mc, on='card_id', how='left')"
   ]
  },
  {
   "cell_type": "code",
   "execution_count": 33,
   "metadata": {},
   "outputs": [],
   "source": [
    "df_train = df_train.merge(df_lk_tt, on='card_id', how='left')\n",
    "df_test = df_test.merge(df_lk_tt, on='card_id', how='left')"
   ]
  },
  {
   "cell_type": "markdown",
   "metadata": {},
   "source": [
    "### Training\n",
    "[LightGBM parameter tuning](https://testlightgbm.readthedocs.io/en/latest/Parameters-tuning.html)<br/>\n",
    "[What is LightGBM, How to implement it? How to fine tune the parameters?](https://medium.com/@pushkarmandot/https-medium-com-pushkarmandot-what-is-lightgbm-how-to-implement-it-how-to-fine-tune-the-parameters-60347819b7fc)"
   ]
  },
  {
   "cell_type": "code",
   "execution_count": 34,
   "metadata": {},
   "outputs": [],
   "source": [
    "df_train_columns = [c for c in df_train.columns if c not in ['card_id', 'first_active_month', 'target', 'outliers']]\n",
    "target = df_train['target']\n",
    "del df_train['target']"
   ]
  },
  {
   "cell_type": "code",
   "execution_count": 84,
   "metadata": {
    "scrolled": false
   },
   "outputs": [
    {
     "name": "stdout",
     "output_type": "stream",
     "text": [
      "\n",
      "Fold 1.\n",
      "Training until validation scores don't improve for 100 rounds.\n",
      "[100]\ttraining's rmse: 3.44914\tvalid_1's rmse: 3.42091\n",
      "[200]\ttraining's rmse: 3.42321\tvalid_1's rmse: 3.39666\n",
      "[300]\ttraining's rmse: 3.41361\tvalid_1's rmse: 3.38738\n",
      "[400]\ttraining's rmse: 3.40794\tvalid_1's rmse: 3.38198\n",
      "[500]\ttraining's rmse: 3.40376\tvalid_1's rmse: 3.37818\n",
      "[600]\ttraining's rmse: 3.40048\tvalid_1's rmse: 3.37528\n",
      "[700]\ttraining's rmse: 3.39781\tvalid_1's rmse: 3.373\n",
      "[800]\ttraining's rmse: 3.39559\tvalid_1's rmse: 3.37112\n",
      "[900]\ttraining's rmse: 3.39374\tvalid_1's rmse: 3.36974\n",
      "[1000]\ttraining's rmse: 3.39213\tvalid_1's rmse: 3.36838\n",
      "[1100]\ttraining's rmse: 3.3907\tvalid_1's rmse: 3.36716\n",
      "[1200]\ttraining's rmse: 3.38947\tvalid_1's rmse: 3.36627\n",
      "[1300]\ttraining's rmse: 3.3884\tvalid_1's rmse: 3.36551\n",
      "[1400]\ttraining's rmse: 3.38745\tvalid_1's rmse: 3.36483\n",
      "[1500]\ttraining's rmse: 3.3866\tvalid_1's rmse: 3.36419\n",
      "[1600]\ttraining's rmse: 3.38585\tvalid_1's rmse: 3.36358\n",
      "[1700]\ttraining's rmse: 3.38514\tvalid_1's rmse: 3.36315\n",
      "[1800]\ttraining's rmse: 3.38451\tvalid_1's rmse: 3.36271\n",
      "[1900]\ttraining's rmse: 3.38394\tvalid_1's rmse: 3.36233\n",
      "[2000]\ttraining's rmse: 3.38341\tvalid_1's rmse: 3.36204\n",
      "[2100]\ttraining's rmse: 3.38293\tvalid_1's rmse: 3.36166\n",
      "[2200]\ttraining's rmse: 3.3825\tvalid_1's rmse: 3.36122\n",
      "[2300]\ttraining's rmse: 3.38209\tvalid_1's rmse: 3.36094\n",
      "[2400]\ttraining's rmse: 3.38171\tvalid_1's rmse: 3.36072\n",
      "[2500]\ttraining's rmse: 3.38137\tvalid_1's rmse: 3.36058\n",
      "[2600]\ttraining's rmse: 3.38105\tvalid_1's rmse: 3.3603\n",
      "[2700]\ttraining's rmse: 3.38076\tvalid_1's rmse: 3.36011\n",
      "[2800]\ttraining's rmse: 3.38049\tvalid_1's rmse: 3.35992\n",
      "[2900]\ttraining's rmse: 3.38026\tvalid_1's rmse: 3.35987\n",
      "[3000]\ttraining's rmse: 3.38002\tvalid_1's rmse: 3.35979\n",
      "[3100]\ttraining's rmse: 3.37981\tvalid_1's rmse: 3.35966\n",
      "[3200]\ttraining's rmse: 3.3796\tvalid_1's rmse: 3.35952\n",
      "[3300]\ttraining's rmse: 3.37941\tvalid_1's rmse: 3.35938\n",
      "[3400]\ttraining's rmse: 3.37924\tvalid_1's rmse: 3.35926\n",
      "[3500]\ttraining's rmse: 3.37908\tvalid_1's rmse: 3.35913\n",
      "[3600]\ttraining's rmse: 3.37893\tvalid_1's rmse: 3.35907\n",
      "[3700]\ttraining's rmse: 3.37878\tvalid_1's rmse: 3.35901\n",
      "[3800]\ttraining's rmse: 3.37863\tvalid_1's rmse: 3.35889\n",
      "[3900]\ttraining's rmse: 3.37849\tvalid_1's rmse: 3.35874\n",
      "[4000]\ttraining's rmse: 3.37837\tvalid_1's rmse: 3.35882\n",
      "Early stopping, best iteration is:\n",
      "[3904]\ttraining's rmse: 3.37849\tvalid_1's rmse: 3.35873\n",
      "\n",
      "Fold 2.\n",
      "Training until validation scores don't improve for 100 rounds.\n",
      "[100]\ttraining's rmse: 3.44055\tvalid_1's rmse: 3.45508\n",
      "[200]\ttraining's rmse: 3.41523\tvalid_1's rmse: 3.4292\n",
      "[300]\ttraining's rmse: 3.40543\tvalid_1's rmse: 3.42005\n",
      "[400]\ttraining's rmse: 3.3997\tvalid_1's rmse: 3.41476\n",
      "[500]\ttraining's rmse: 3.39561\tvalid_1's rmse: 3.41095\n",
      "[600]\ttraining's rmse: 3.39244\tvalid_1's rmse: 3.40807\n",
      "[700]\ttraining's rmse: 3.38986\tvalid_1's rmse: 3.4054\n",
      "[800]\ttraining's rmse: 3.38774\tvalid_1's rmse: 3.40329\n",
      "[900]\ttraining's rmse: 3.38592\tvalid_1's rmse: 3.4017\n",
      "[1000]\ttraining's rmse: 3.38437\tvalid_1's rmse: 3.40028\n",
      "[1100]\ttraining's rmse: 3.38302\tvalid_1's rmse: 3.39907\n",
      "[1200]\ttraining's rmse: 3.38184\tvalid_1's rmse: 3.39793\n",
      "[1300]\ttraining's rmse: 3.3808\tvalid_1's rmse: 3.39699\n",
      "[1400]\ttraining's rmse: 3.37989\tvalid_1's rmse: 3.39613\n",
      "[1500]\ttraining's rmse: 3.37905\tvalid_1's rmse: 3.39549\n",
      "[1600]\ttraining's rmse: 3.37831\tvalid_1's rmse: 3.39479\n",
      "[1700]\ttraining's rmse: 3.37766\tvalid_1's rmse: 3.39425\n",
      "[1800]\ttraining's rmse: 3.37704\tvalid_1's rmse: 3.3937\n",
      "[1900]\ttraining's rmse: 3.37649\tvalid_1's rmse: 3.39309\n",
      "[2000]\ttraining's rmse: 3.37599\tvalid_1's rmse: 3.39271\n",
      "[2100]\ttraining's rmse: 3.37552\tvalid_1's rmse: 3.39227\n",
      "[2200]\ttraining's rmse: 3.37508\tvalid_1's rmse: 3.39193\n",
      "[2300]\ttraining's rmse: 3.37468\tvalid_1's rmse: 3.39167\n",
      "[2400]\ttraining's rmse: 3.37432\tvalid_1's rmse: 3.39141\n",
      "[2500]\ttraining's rmse: 3.37396\tvalid_1's rmse: 3.39111\n",
      "[2600]\ttraining's rmse: 3.37366\tvalid_1's rmse: 3.39103\n",
      "[2700]\ttraining's rmse: 3.37334\tvalid_1's rmse: 3.39072\n",
      "[2800]\ttraining's rmse: 3.37307\tvalid_1's rmse: 3.39047\n",
      "[2900]\ttraining's rmse: 3.37281\tvalid_1's rmse: 3.39024\n",
      "[3000]\ttraining's rmse: 3.37258\tvalid_1's rmse: 3.39024\n",
      "[3100]\ttraining's rmse: 3.37235\tvalid_1's rmse: 3.39002\n",
      "[3200]\ttraining's rmse: 3.37214\tvalid_1's rmse: 3.38993\n",
      "[3300]\ttraining's rmse: 3.37194\tvalid_1's rmse: 3.38976\n",
      "[3400]\ttraining's rmse: 3.37176\tvalid_1's rmse: 3.38975\n",
      "[3500]\ttraining's rmse: 3.37158\tvalid_1's rmse: 3.38964\n",
      "[3600]\ttraining's rmse: 3.37141\tvalid_1's rmse: 3.38967\n",
      "[3700]\ttraining's rmse: 3.37125\tvalid_1's rmse: 3.38958\n",
      "[3800]\ttraining's rmse: 3.37109\tvalid_1's rmse: 3.38953\n",
      "Early stopping, best iteration is:\n",
      "[3771]\ttraining's rmse: 3.37113\tvalid_1's rmse: 3.3895\n",
      "\n",
      "Fold 3.\n",
      "Training until validation scores don't improve for 100 rounds.\n",
      "[100]\ttraining's rmse: 3.44786\tvalid_1's rmse: 3.42617\n",
      "[200]\ttraining's rmse: 3.42241\tvalid_1's rmse: 3.40065\n",
      "[300]\ttraining's rmse: 3.41295\tvalid_1's rmse: 3.39083\n",
      "[400]\ttraining's rmse: 3.40736\tvalid_1's rmse: 3.38489\n",
      "[500]\ttraining's rmse: 3.40329\tvalid_1's rmse: 3.3809\n",
      "[600]\ttraining's rmse: 3.40008\tvalid_1's rmse: 3.37762\n",
      "[700]\ttraining's rmse: 3.39746\tvalid_1's rmse: 3.37502\n",
      "[800]\ttraining's rmse: 3.3953\tvalid_1's rmse: 3.37297\n",
      "[900]\ttraining's rmse: 3.39351\tvalid_1's rmse: 3.37144\n",
      "[1000]\ttraining's rmse: 3.39194\tvalid_1's rmse: 3.37012\n",
      "[1100]\ttraining's rmse: 3.39058\tvalid_1's rmse: 3.36898\n",
      "[1200]\ttraining's rmse: 3.38939\tvalid_1's rmse: 3.36776\n",
      "[1300]\ttraining's rmse: 3.38833\tvalid_1's rmse: 3.367\n",
      "[1400]\ttraining's rmse: 3.38738\tvalid_1's rmse: 3.36613\n",
      "[1500]\ttraining's rmse: 3.38651\tvalid_1's rmse: 3.3654\n",
      "[1600]\ttraining's rmse: 3.38575\tvalid_1's rmse: 3.3648\n",
      "[1700]\ttraining's rmse: 3.38505\tvalid_1's rmse: 3.36426\n",
      "[1800]\ttraining's rmse: 3.38441\tvalid_1's rmse: 3.36377\n",
      "[1900]\ttraining's rmse: 3.38383\tvalid_1's rmse: 3.36332\n",
      "[2000]\ttraining's rmse: 3.3833\tvalid_1's rmse: 3.36284\n",
      "[2100]\ttraining's rmse: 3.38283\tvalid_1's rmse: 3.36254\n",
      "[2200]\ttraining's rmse: 3.38238\tvalid_1's rmse: 3.36218\n",
      "[2300]\ttraining's rmse: 3.38198\tvalid_1's rmse: 3.36195\n",
      "[2400]\ttraining's rmse: 3.38161\tvalid_1's rmse: 3.36163\n",
      "[2500]\ttraining's rmse: 3.38128\tvalid_1's rmse: 3.36147\n",
      "[2600]\ttraining's rmse: 3.38097\tvalid_1's rmse: 3.36121\n",
      "[2700]\ttraining's rmse: 3.38069\tvalid_1's rmse: 3.36104\n",
      "[2800]\ttraining's rmse: 3.38041\tvalid_1's rmse: 3.36085\n",
      "[2900]\ttraining's rmse: 3.38015\tvalid_1's rmse: 3.36076\n",
      "[3000]\ttraining's rmse: 3.37992\tvalid_1's rmse: 3.36064\n",
      "[3100]\ttraining's rmse: 3.3797\tvalid_1's rmse: 3.36046\n",
      "[3200]\ttraining's rmse: 3.3795\tvalid_1's rmse: 3.36036\n",
      "[3300]\ttraining's rmse: 3.37931\tvalid_1's rmse: 3.36018\n",
      "[3400]\ttraining's rmse: 3.37913\tvalid_1's rmse: 3.36011\n",
      "[3500]\ttraining's rmse: 3.37896\tvalid_1's rmse: 3.36003\n",
      "[3600]\ttraining's rmse: 3.3788\tvalid_1's rmse: 3.36001\n",
      "[3700]\ttraining's rmse: 3.37865\tvalid_1's rmse: 3.35996\n",
      "[3800]\ttraining's rmse: 3.37851\tvalid_1's rmse: 3.35979\n",
      "[3900]\ttraining's rmse: 3.37836\tvalid_1's rmse: 3.35975\n",
      "[4000]\ttraining's rmse: 3.37824\tvalid_1's rmse: 3.35969\n",
      "[4100]\ttraining's rmse: 3.37811\tvalid_1's rmse: 3.35957\n",
      "[4200]\ttraining's rmse: 3.37801\tvalid_1's rmse: 3.35954\n",
      "Early stopping, best iteration is:\n",
      "[4142]\ttraining's rmse: 3.37806\tvalid_1's rmse: 3.35951\n",
      "\n",
      "Fold 4.\n",
      "Training until validation scores don't improve for 100 rounds.\n",
      "[100]\ttraining's rmse: 3.44021\tvalid_1's rmse: 3.45586\n",
      "[200]\ttraining's rmse: 3.41437\tvalid_1's rmse: 3.4325\n",
      "[300]\ttraining's rmse: 3.40462\tvalid_1's rmse: 3.42385\n",
      "[400]\ttraining's rmse: 3.39882\tvalid_1's rmse: 3.41899\n",
      "[500]\ttraining's rmse: 3.39474\tvalid_1's rmse: 3.4156\n",
      "[600]\ttraining's rmse: 3.39154\tvalid_1's rmse: 3.4127\n",
      "[700]\ttraining's rmse: 3.38899\tvalid_1's rmse: 3.41037\n",
      "[800]\ttraining's rmse: 3.38683\tvalid_1's rmse: 3.40839\n",
      "[900]\ttraining's rmse: 3.38498\tvalid_1's rmse: 3.40671\n",
      "[1000]\ttraining's rmse: 3.38338\tvalid_1's rmse: 3.40527\n",
      "[1100]\ttraining's rmse: 3.38202\tvalid_1's rmse: 3.4041\n",
      "[1200]\ttraining's rmse: 3.3808\tvalid_1's rmse: 3.40297\n",
      "[1300]\ttraining's rmse: 3.37971\tvalid_1's rmse: 3.40198\n",
      "[1400]\ttraining's rmse: 3.37876\tvalid_1's rmse: 3.40109\n",
      "[1500]\ttraining's rmse: 3.37791\tvalid_1's rmse: 3.40042\n",
      "[1600]\ttraining's rmse: 3.37715\tvalid_1's rmse: 3.39971\n",
      "[1700]\ttraining's rmse: 3.37644\tvalid_1's rmse: 3.39917\n",
      "[1800]\ttraining's rmse: 3.3758\tvalid_1's rmse: 3.39872\n"
     ]
    },
    {
     "name": "stdout",
     "output_type": "stream",
     "text": [
      "[1900]\ttraining's rmse: 3.37523\tvalid_1's rmse: 3.3982\n",
      "[2000]\ttraining's rmse: 3.37471\tvalid_1's rmse: 3.39788\n",
      "[2100]\ttraining's rmse: 3.37422\tvalid_1's rmse: 3.39755\n",
      "[2200]\ttraining's rmse: 3.37378\tvalid_1's rmse: 3.39724\n",
      "[2300]\ttraining's rmse: 3.37338\tvalid_1's rmse: 3.3969\n",
      "[2400]\ttraining's rmse: 3.37299\tvalid_1's rmse: 3.39661\n",
      "[2500]\ttraining's rmse: 3.37266\tvalid_1's rmse: 3.3963\n",
      "[2600]\ttraining's rmse: 3.37234\tvalid_1's rmse: 3.39606\n",
      "[2700]\ttraining's rmse: 3.37205\tvalid_1's rmse: 3.39588\n",
      "[2800]\ttraining's rmse: 3.37178\tvalid_1's rmse: 3.39564\n",
      "[2900]\ttraining's rmse: 3.37154\tvalid_1's rmse: 3.39557\n",
      "[3000]\ttraining's rmse: 3.37128\tvalid_1's rmse: 3.39536\n",
      "[3100]\ttraining's rmse: 3.37107\tvalid_1's rmse: 3.39507\n",
      "[3200]\ttraining's rmse: 3.37086\tvalid_1's rmse: 3.39499\n",
      "[3300]\ttraining's rmse: 3.37067\tvalid_1's rmse: 3.39487\n",
      "Early stopping, best iteration is:\n",
      "[3285]\ttraining's rmse: 3.3707\tvalid_1's rmse: 3.39485\n",
      "\n",
      "Fold 5.\n",
      "Training until validation scores don't improve for 100 rounds.\n",
      "[100]\ttraining's rmse: 3.4392\tvalid_1's rmse: 3.46154\n",
      "[200]\ttraining's rmse: 3.41357\tvalid_1's rmse: 3.43605\n",
      "[300]\ttraining's rmse: 3.40391\tvalid_1's rmse: 3.42661\n",
      "[400]\ttraining's rmse: 3.39826\tvalid_1's rmse: 3.42121\n",
      "[500]\ttraining's rmse: 3.39419\tvalid_1's rmse: 3.41709\n",
      "[600]\ttraining's rmse: 3.39104\tvalid_1's rmse: 3.41388\n",
      "[700]\ttraining's rmse: 3.38849\tvalid_1's rmse: 3.4115\n",
      "[800]\ttraining's rmse: 3.38631\tvalid_1's rmse: 3.40926\n",
      "[900]\ttraining's rmse: 3.38451\tvalid_1's rmse: 3.40763\n",
      "[1000]\ttraining's rmse: 3.38296\tvalid_1's rmse: 3.40621\n",
      "[1100]\ttraining's rmse: 3.3816\tvalid_1's rmse: 3.40486\n",
      "[1200]\ttraining's rmse: 3.38041\tvalid_1's rmse: 3.40376\n",
      "[1300]\ttraining's rmse: 3.37935\tvalid_1's rmse: 3.40277\n",
      "[1400]\ttraining's rmse: 3.37842\tvalid_1's rmse: 3.402\n",
      "[1500]\ttraining's rmse: 3.37758\tvalid_1's rmse: 3.40117\n",
      "[1600]\ttraining's rmse: 3.37683\tvalid_1's rmse: 3.40046\n",
      "[1700]\ttraining's rmse: 3.37615\tvalid_1's rmse: 3.39968\n",
      "[1800]\ttraining's rmse: 3.37552\tvalid_1's rmse: 3.39919\n",
      "[1900]\ttraining's rmse: 3.37494\tvalid_1's rmse: 3.39862\n",
      "[2000]\ttraining's rmse: 3.37442\tvalid_1's rmse: 3.39821\n",
      "[2100]\ttraining's rmse: 3.37393\tvalid_1's rmse: 3.3978\n",
      "[2200]\ttraining's rmse: 3.37351\tvalid_1's rmse: 3.39747\n",
      "[2300]\ttraining's rmse: 3.37312\tvalid_1's rmse: 3.39713\n",
      "[2400]\ttraining's rmse: 3.37275\tvalid_1's rmse: 3.39673\n",
      "[2500]\ttraining's rmse: 3.37243\tvalid_1's rmse: 3.39653\n",
      "[2600]\ttraining's rmse: 3.37212\tvalid_1's rmse: 3.39633\n",
      "[2700]\ttraining's rmse: 3.37184\tvalid_1's rmse: 3.39617\n",
      "[2800]\ttraining's rmse: 3.37157\tvalid_1's rmse: 3.39589\n",
      "[2900]\ttraining's rmse: 3.37132\tvalid_1's rmse: 3.3957\n",
      "[3000]\ttraining's rmse: 3.37111\tvalid_1's rmse: 3.39547\n",
      "[3100]\ttraining's rmse: 3.37087\tvalid_1's rmse: 3.39531\n",
      "[3200]\ttraining's rmse: 3.37067\tvalid_1's rmse: 3.39509\n",
      "[3300]\ttraining's rmse: 3.37048\tvalid_1's rmse: 3.39498\n",
      "[3400]\ttraining's rmse: 3.3703\tvalid_1's rmse: 3.39482\n",
      "[3500]\ttraining's rmse: 3.37014\tvalid_1's rmse: 3.39475\n",
      "[3600]\ttraining's rmse: 3.36998\tvalid_1's rmse: 3.39462\n",
      "[3700]\ttraining's rmse: 3.36983\tvalid_1's rmse: 3.3945\n",
      "[3800]\ttraining's rmse: 3.36968\tvalid_1's rmse: 3.39433\n",
      "[3900]\ttraining's rmse: 3.36955\tvalid_1's rmse: 3.39425\n",
      "[4000]\ttraining's rmse: 3.36942\tvalid_1's rmse: 3.39416\n",
      "[4100]\ttraining's rmse: 3.3693\tvalid_1's rmse: 3.39409\n",
      "[4200]\ttraining's rmse: 3.36919\tvalid_1's rmse: 3.39395\n",
      "Early stopping, best iteration is:\n",
      "[4199]\ttraining's rmse: 3.36919\tvalid_1's rmse: 3.39394\n",
      "CPU times: user 23min 46s, sys: 2.5 s, total: 23min 48s\n",
      "Wall time: 6min 16s\n"
     ]
    }
   ],
   "source": [
    "%%time\n",
    "param = {\n",
    "    \"bagging_freq\": 1,\n",
    "    \"bagging_fraction\": 0.7,\n",
    "    \"bagging_seed\": 1,\n",
    "    \"boosting\": \"random_forest\",\n",
    "\n",
    "    \"feature_fraction\": 0.8,\n",
    "    \"feature_fraction_seed\": 1,\n",
    "\n",
    "    \"lambda_l1\": 0.25,\n",
    "    #\"lambda_l2\": 0.001,\n",
    "    \"learning_rate\": 0.1,\n",
    "\n",
    "    \"max_bin\": 5,\n",
    "    'max_depth': 2,\n",
    "    \"metric\": \"rmse\",\n",
    "    \"min_data_in_leaf\": 20,\n",
    "    \"min_gain_to_split\": 0.1,\n",
    "    #\"min_sum_hessian_in_leaf\": 1e-3,\n",
    "    #\"min_child_samples\": 20,\n",
    "    #\"num_iterations\": 100,\n",
    "    \"num_boost_round\": 100,\n",
    "    \"num_leaves\": 2,\n",
    "\n",
    "    \"objective\": \"regression\",\n",
    "\n",
    "    \"random_state\": 1,\n",
    "    \"verbosity\": -1\n",
    "}\n",
    "\n",
    "folds = StratifiedKFold(n_splits=5, shuffle=True, random_state=402)\n",
    "oof = np.zeros(len(df_train))\n",
    "predictions = np.zeros(len(df_test))\n",
    "feature_importance_df = pd.DataFrame()\n",
    "\n",
    "for fold_, (trn_idx, val_idx) in enumerate(folds.split(df_train, df_train['outliers'].values)):\n",
    "    print(\"\\nFold {}.\".format(fold_+1))\n",
    "    trn_data = lgb.Dataset(df_train.iloc[trn_idx][df_train_columns], label=target.iloc[trn_idx])\n",
    "    val_data = lgb.Dataset(df_train.iloc[val_idx][df_train_columns], label=target.iloc[val_idx])\n",
    "\n",
    "    num_round = 10000\n",
    "    clf = lgb.train(param, trn_data, num_round, valid_sets = [trn_data, val_data], verbose_eval=100, early_stopping_rounds=100)\n",
    "    oof[val_idx] = clf.predict(df_train.iloc[val_idx][df_train_columns], num_iteration=clf.best_iteration)\n",
    "    \n",
    "    fold_importance_df = pd.DataFrame()\n",
    "    fold_importance_df[\"feature\"] = df_train_columns\n",
    "    fold_importance_df[\"importance\"] = clf.feature_importance()\n",
    "    fold_importance_df[\"fold\"] = fold_ + 1\n",
    "    feature_importance_df = pd.concat([feature_importance_df, fold_importance_df], axis=0)\n",
    "    \n",
    "    predictions += clf.predict(df_test[df_train_columns], num_iteration=clf.best_iteration) / folds.n_splits"
   ]
  },
  {
   "cell_type": "code",
   "execution_count": 85,
   "metadata": {},
   "outputs": [
    {
     "name": "stdout",
     "output_type": "stream",
     "text": [
      "CV score: 3.379347\n"
     ]
    }
   ],
   "source": [
    "cv_score = np.sqrt(mean_squared_error(oof, target))\n",
    "print(\"CV score: {:.6f}\".format(cv_score))"
   ]
  },
  {
   "cell_type": "code",
   "execution_count": 2,
   "metadata": {},
   "outputs": [
    {
     "ename": "NameError",
     "evalue": "name 'target' is not defined",
     "output_type": "error",
     "traceback": [
      "\u001b[0;31m---------------------------------------------------------------------------\u001b[0m",
      "\u001b[0;31mNameError\u001b[0m                                 Traceback (most recent call last)",
      "\u001b[0;32m<ipython-input-2-f544cfc13d30>\u001b[0m in \u001b[0;36m<module>\u001b[0;34m\u001b[0m\n\u001b[0;32m----> 1\u001b[0;31m \u001b[0mcm\u001b[0m \u001b[0;34m=\u001b[0m \u001b[0mconfusion_matrix\u001b[0m\u001b[0;34m(\u001b[0m\u001b[0mtarget\u001b[0m\u001b[0;34m,\u001b[0m \u001b[0mpredictions\u001b[0m\u001b[0;34m)\u001b[0m\u001b[0;34m\u001b[0m\u001b[0m\n\u001b[0m\u001b[1;32m      2\u001b[0m \u001b[0mcm\u001b[0m\u001b[0;34m\u001b[0m\u001b[0m\n",
      "\u001b[0;31mNameError\u001b[0m: name 'target' is not defined"
     ]
    }
   ],
   "source": [
    "confusion_matrix(target, predictions)"
   ]
  },
  {
   "cell_type": "code",
   "execution_count": null,
   "metadata": {},
   "outputs": [],
   "source": [
    "accuracy_score(target, predictions)"
   ]
  },
  {
   "cell_type": "code",
   "execution_count": 80,
   "metadata": {},
   "outputs": [
    {
     "data": {
      "image/png": "[encoded data removed]",
      "text/plain": [
       "<Figure size 1008x1800 with 1 Axes>"
      ]
     },
     "metadata": {
      "needs_background": "light"
     },
     "output_type": "display_data"
    }
   ],
   "source": [
    "cols = (feature_importance_df[[\"feature\", \"importance\"]]\n",
    "        .groupby(\"feature\")\n",
    "        .mean()\n",
    "        .sort_values(by=\"importance\", ascending=False)[:1000].index)\n",
    "\n",
    "best_features = feature_importance_df.loc[feature_importance_df.feature.isin(cols)]\n",
    "\n",
    "plt.figure(figsize=(14, 25))\n",
    "sns.barplot(x=\"importance\", y=\"feature\", data=best_features.sort_values(by=\"importance\", ascending=False))\n",
    "plt.title('LightGBM Features (avg over folds)')\n",
    "plt.tight_layout()\n",
    "plt.savefig('lgbm_importances.png')"
   ]
  },
  {
   "cell_type": "code",
   "execution_count": 81,
   "metadata": {},
   "outputs": [
    {
     "data": {
      "text/html": [
       "<div>\n",
       "<style scoped>\n",
       "    .dataframe tbody tr th:only-of-type {\n",
       "        vertical-align: middle;\n",
       "    }\n",
       "\n",
       "    .dataframe tbody tr th {\n",
       "        vertical-align: top;\n",
       "    }\n",
       "\n",
       "    .dataframe thead th {\n",
       "        text-align: right;\n",
       "    }\n",
       "</style>\n",
       "<table border=\"1\" class=\"dataframe\">\n",
       "  <thead>\n",
       "    <tr style=\"text-align: right;\">\n",
       "      <th></th>\n",
       "      <th>feature</th>\n",
       "      <th>importance</th>\n",
       "      <th>fold</th>\n",
       "    </tr>\n",
       "  </thead>\n",
       "  <tbody>\n",
       "    <tr>\n",
       "      <th>4</th>\n",
       "      <td>hist_transactions_count</td>\n",
       "      <td>0</td>\n",
       "      <td>1</td>\n",
       "    </tr>\n",
       "    <tr>\n",
       "      <th>42</th>\n",
       "      <td>new_authorized_flag_mean</td>\n",
       "      <td>0</td>\n",
       "      <td>1</td>\n",
       "    </tr>\n",
       "    <tr>\n",
       "      <th>43</th>\n",
       "      <td>new_card_id_size</td>\n",
       "      <td>0</td>\n",
       "      <td>1</td>\n",
       "    </tr>\n",
       "    <tr>\n",
       "      <th>4</th>\n",
       "      <td>hist_transactions_count</td>\n",
       "      <td>0</td>\n",
       "      <td>2</td>\n",
       "    </tr>\n",
       "    <tr>\n",
       "      <th>40</th>\n",
       "      <td>new_transactions_count</td>\n",
       "      <td>0</td>\n",
       "      <td>2</td>\n",
       "    </tr>\n",
       "    <tr>\n",
       "      <th>42</th>\n",
       "      <td>new_authorized_flag_mean</td>\n",
       "      <td>0</td>\n",
       "      <td>2</td>\n",
       "    </tr>\n",
       "    <tr>\n",
       "      <th>4</th>\n",
       "      <td>hist_transactions_count</td>\n",
       "      <td>0</td>\n",
       "      <td>3</td>\n",
       "    </tr>\n",
       "    <tr>\n",
       "      <th>42</th>\n",
       "      <td>new_authorized_flag_mean</td>\n",
       "      <td>0</td>\n",
       "      <td>3</td>\n",
       "    </tr>\n",
       "    <tr>\n",
       "      <th>43</th>\n",
       "      <td>new_card_id_size</td>\n",
       "      <td>0</td>\n",
       "      <td>3</td>\n",
       "    </tr>\n",
       "    <tr>\n",
       "      <th>4</th>\n",
       "      <td>hist_transactions_count</td>\n",
       "      <td>0</td>\n",
       "      <td>4</td>\n",
       "    </tr>\n",
       "    <tr>\n",
       "      <th>40</th>\n",
       "      <td>new_transactions_count</td>\n",
       "      <td>0</td>\n",
       "      <td>4</td>\n",
       "    </tr>\n",
       "    <tr>\n",
       "      <th>42</th>\n",
       "      <td>new_authorized_flag_mean</td>\n",
       "      <td>0</td>\n",
       "      <td>4</td>\n",
       "    </tr>\n",
       "    <tr>\n",
       "      <th>4</th>\n",
       "      <td>hist_transactions_count</td>\n",
       "      <td>0</td>\n",
       "      <td>5</td>\n",
       "    </tr>\n",
       "    <tr>\n",
       "      <th>40</th>\n",
       "      <td>new_transactions_count</td>\n",
       "      <td>0</td>\n",
       "      <td>5</td>\n",
       "    </tr>\n",
       "    <tr>\n",
       "      <th>42</th>\n",
       "      <td>new_authorized_flag_mean</td>\n",
       "      <td>0</td>\n",
       "      <td>5</td>\n",
       "    </tr>\n",
       "  </tbody>\n",
       "</table>\n",
       "</div>"
      ],
      "text/plain": [
       "                     feature  importance  fold\n",
       "4    hist_transactions_count           0     1\n",
       "42  new_authorized_flag_mean           0     1\n",
       "43          new_card_id_size           0     1\n",
       "4    hist_transactions_count           0     2\n",
       "40    new_transactions_count           0     2\n",
       "42  new_authorized_flag_mean           0     2\n",
       "4    hist_transactions_count           0     3\n",
       "42  new_authorized_flag_mean           0     3\n",
       "43          new_card_id_size           0     3\n",
       "4    hist_transactions_count           0     4\n",
       "40    new_transactions_count           0     4\n",
       "42  new_authorized_flag_mean           0     4\n",
       "4    hist_transactions_count           0     5\n",
       "40    new_transactions_count           0     5\n",
       "42  new_authorized_flag_mean           0     5"
      ]
     },
     "execution_count": 81,
     "metadata": {},
     "output_type": "execute_result"
    }
   ],
   "source": [
    "best_features[best_features['importance'] == 0]"
   ]
  },
  {
   "cell_type": "code",
   "execution_count": 86,
   "metadata": {},
   "outputs": [],
   "source": [
    "sub_df = pd.DataFrame({\n",
    "    \"card_id\": df_test[\"card_id\"].values\n",
    "})\n",
    "\n",
    "sub_df[\"target\"] = predictions\n",
    "sub_df.to_csv(\"output/regression_with_lk_{:.6f}.csv\".format(cv_score), index=False)"
   ]
  },
  {
   "cell_type": "markdown",
   "metadata": {},
   "source": [
    "[Just Train Data - LGB & XGB & CatBoost w/ Blending](https://www.kaggle.com/silverstone1903/just-train-data-lgb-xgb-catboost-w-blending/data)<br/>\n",
    "[MultiModel + RIDGE + STACKING](https://www.kaggle.com/ashishpatel26/rmse-3-66-multimodel-ridge-stacking)\n",
    "https://www.kaggle.com/c/elo-merchant-category-recommendation/discussion/75935"
   ]
  }
 ],
 "metadata": {
  "kernelspec": {
   "display_name": "Python 3",
   "language": "python",
   "name": "python3"
  },
  "language_info": {
   "codemirror_mode": {
    "name": "ipython",
    "version": 3
   },
   "file_extension": ".py",
   "mimetype": "text/x-python",
   "name": "python",
   "nbconvert_exporter": "python",
   "pygments_lexer": "ipython3",
   "version": "3.6.0"
  },
  "toc": {
   "base_numbering": 1,
   "nav_menu": {},
   "number_sections": true,
   "sideBar": true,
   "skip_h1_title": true,
   "title_cell": "Table of Contents",
   "title_sidebar": "Contents",
   "toc_cell": false,
   "toc_position": {
    "height": "calc(100% - 180px)",
    "left": "10px",
    "top": "150px",
    "width": "169.969px"
   },
   "toc_section_display": true,
   "toc_window_display": true
  }
 },
 "nbformat": 4,
 "nbformat_minor": 2
}
