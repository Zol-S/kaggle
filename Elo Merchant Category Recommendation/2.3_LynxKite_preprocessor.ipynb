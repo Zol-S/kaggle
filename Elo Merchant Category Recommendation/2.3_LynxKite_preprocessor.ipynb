{
 "cells": [
  {
   "cell_type": "markdown",
   "metadata": {},
   "source": [
    "# Elo Merchant Category Recommendation - LynxKite preprocessor\n",
    "In this tutorial you can solve the [Elo Mechant Category Recommendation](https://www.kaggle.com/c/elo-merchant-category-recommendation) contest with the help of LynxKite. Unfortunately LynxKite does not yet support some of the data preprocessing, thus it needs to be done in Python.\n",
    "\n",
    "First download the input files from [here](https://www.kaggle.com/c/elo-merchant-category-recommendation/data), unzip them and copy the extracted files to the `input` folder. These files are\n",
    "\n",
    "- **train.csv**,  **test.csv**: list of `card_ids` that can be used for training and prediction\n",
    "- **historical_transactions.csv**: contains up to 3 months' worth of transactions for every card at any of the provided `merchant_ids`\n",
    "- **new_merchant_transactions.csv**: contains the transactions at new merchants (`merchant_ids` that this particular `card_id` \n",
    "has not yet visited) over a period of two months\n",
    "- **merchants.csv**: contains aggregate information for each `merchant_id` represented in the data set"
   ]
  },
  {
   "cell_type": "code",
   "execution_count": 1,
   "metadata": {},
   "outputs": [],
   "source": [
    "import gc\n",
    "import math\n",
    "import warnings\n",
    "import datetime\n",
    "import numpy as np\n",
    "import pandas as pd\n",
    "from scipy.stats import iqr\n",
    "import matplotlib.pyplot as plt\n",
    "\n",
    "%matplotlib inline\n",
    "warnings.filterwarnings(\"ignore\")"
   ]
  },
  {
   "cell_type": "code",
   "execution_count": 2,
   "metadata": {},
   "outputs": [],
   "source": [
    "def reduce_mem_usage(df, verbose=True):\n",
    "    numerics = ['int16', 'int32', 'int64', 'float16', 'float32', 'float64']\n",
    "    start_mem = df.memory_usage().sum() / 1024**2\n",
    "    if verbose: print('Starting memory usage: {:5.2f} MB'.format(start_mem))\n",
    "\n",
    "    for col in df.columns:\n",
    "        col_type = df[col].dtypes\n",
    "        if col_type in numerics:\n",
    "            c_min = df[col].min()\n",
    "            c_max = df[col].max()\n",
    "            if str(col_type)[:3] == 'int':\n",
    "                if c_min >= np.iinfo(np.int8).min and c_max <= np.iinfo(np.int8).max:\n",
    "                    df[col] = df[col].astype(np.int8)\n",
    "                elif c_min >= np.iinfo(np.int16).min and c_max <= np.iinfo(np.int16).max:\n",
    "                    df[col] = df[col].astype(np.int16)\n",
    "                elif c_min >= np.iinfo(np.int32).min and c_max <= np.iinfo(np.int32).max:\n",
    "                    df[col] = df[col].astype(np.int32)\n",
    "                elif c_min >= np.iinfo(np.int64).min and c_max <= np.iinfo(np.int64).max:\n",
    "                    df[col] = df[col].astype(np.int64)  \n",
    "            else:\n",
    "                if c_min >= np.finfo(np.float16).min and c_max <= np.finfo(np.float16).max:\n",
    "                    df[col] = df[col].astype(np.float16)\n",
    "                elif c_min >= np.finfo(np.float32).min and c_max <= np.finfo(np.float32).max:\n",
    "                    df[col] = df[col].astype(np.float32)\n",
    "                else:\n",
    "                    df[col] = df[col].astype(np.float64)    \n",
    "    end_mem = df.memory_usage().sum() / 1024**2\n",
    "    if verbose: print('Reduced memory usage: {:5.2f} MB ({:.1f}% reduction)'.format(end_mem, 100 * (start_mem - end_mem) / start_mem))\n",
    "    return df"
   ]
  },
  {
   "cell_type": "code",
   "execution_count": 3,
   "metadata": {},
   "outputs": [],
   "source": [
    "def create_date_features(df, source_column, preposition):\n",
    "    df[preposition + '_year'] = df[source_column].dt.year\n",
    "    df[preposition + '_month'] = df[source_column].dt.month\n",
    "    df[preposition + '_day'] = df[source_column].dt.day\n",
    "    df[preposition + '_hour'] = df[source_column].dt.hour\n",
    "    df[preposition + '_weekofyear'] = df[source_column].dt.weekofyear\n",
    "    df[preposition + '_dayofweek'] = df[source_column].dt.dayofweek\n",
    "    df[preposition + '_quarter'] = df[source_column].dt.quarter\n",
    "    \n",
    "    return df"
   ]
  },
  {
   "cell_type": "markdown",
   "metadata": {},
   "source": [
    "## Input data preparation\n",
    "### Train & test data"
   ]
  },
  {
   "cell_type": "code",
   "execution_count": 4,
   "metadata": {},
   "outputs": [
    {
     "name": "stdout",
     "output_type": "stream",
     "text": [
      "Starting memory usage:  9.24 MB\n",
      "Reduced memory usage:  4.04 MB (56.2% reduction)\n",
      "201,917 observations and 5 features in train set.\n"
     ]
    }
   ],
   "source": [
    "df_train = pd.read_csv(\"input/train.csv\", parse_dates=[\"first_active_month\"], index_col=\"card_id\")\n",
    "df_train = reduce_mem_usage(df_train)\n",
    "print(\"{:,} observations and {} features in train set.\".format(df_train.shape[0], df_train.shape[1]))"
   ]
  },
  {
   "cell_type": "code",
   "execution_count": 5,
   "metadata": {},
   "outputs": [
    {
     "name": "stdout",
     "output_type": "stream",
     "text": [
      "Starting memory usage:  4.72 MB\n",
      "Reduced memory usage:  2.24 MB (52.5% reduction)\n",
      "123,623 observations and 4 features in test set.\n"
     ]
    }
   ],
   "source": [
    "df_test = pd.read_csv(\"input/test.csv\", parse_dates=[\"first_active_month\"], index_col=\"card_id\")\n",
    "df_test = reduce_mem_usage(df_test)\n",
    "print(\"{:,} observations and {} features in test set.\".format(df_test.shape[0], df_test.shape[1]))"
   ]
  },
  {
   "cell_type": "code",
   "execution_count": 6,
   "metadata": {},
   "outputs": [
    {
     "data": {
      "text/html": [
       "<div>\n",
       "<style scoped>\n",
       "    .dataframe tbody tr th:only-of-type {\n",
       "        vertical-align: middle;\n",
       "    }\n",
       "\n",
       "    .dataframe tbody tr th {\n",
       "        vertical-align: top;\n",
       "    }\n",
       "\n",
       "    .dataframe thead th {\n",
       "        text-align: right;\n",
       "    }\n",
       "</style>\n",
       "<table border=\"1\" class=\"dataframe\">\n",
       "  <thead>\n",
       "    <tr style=\"text-align: right;\">\n",
       "      <th></th>\n",
       "      <th>first_active_month</th>\n",
       "      <th>feature_1</th>\n",
       "      <th>feature_2</th>\n",
       "      <th>feature_3</th>\n",
       "      <th>target</th>\n",
       "    </tr>\n",
       "    <tr>\n",
       "      <th>card_id</th>\n",
       "      <th></th>\n",
       "      <th></th>\n",
       "      <th></th>\n",
       "      <th></th>\n",
       "      <th></th>\n",
       "    </tr>\n",
       "  </thead>\n",
       "  <tbody>\n",
       "    <tr>\n",
       "      <th>C_ID_92a2005557</th>\n",
       "      <td>2017-06-01</td>\n",
       "      <td>5</td>\n",
       "      <td>2</td>\n",
       "      <td>1</td>\n",
       "      <td>-0.820312</td>\n",
       "    </tr>\n",
       "    <tr>\n",
       "      <th>C_ID_3d0044924f</th>\n",
       "      <td>2017-01-01</td>\n",
       "      <td>4</td>\n",
       "      <td>1</td>\n",
       "      <td>0</td>\n",
       "      <td>0.392822</td>\n",
       "    </tr>\n",
       "    <tr>\n",
       "      <th>C_ID_d639edf6cd</th>\n",
       "      <td>2016-08-01</td>\n",
       "      <td>2</td>\n",
       "      <td>2</td>\n",
       "      <td>0</td>\n",
       "      <td>0.687988</td>\n",
       "    </tr>\n",
       "  </tbody>\n",
       "</table>\n",
       "</div>"
      ],
      "text/plain": [
       "                first_active_month  feature_1  feature_2  feature_3    target\n",
       "card_id                                                                      \n",
       "C_ID_92a2005557         2017-06-01          5          2          1 -0.820312\n",
       "C_ID_3d0044924f         2017-01-01          4          1          0  0.392822\n",
       "C_ID_d639edf6cd         2016-08-01          2          2          0  0.687988"
      ]
     },
     "execution_count": 6,
     "metadata": {},
     "output_type": "execute_result"
    }
   ],
   "source": [
    "df_train[:3]"
   ]
  },
  {
   "cell_type": "code",
   "execution_count": 7,
   "metadata": {},
   "outputs": [
    {
     "data": {
      "text/html": [
       "<div>\n",
       "<style scoped>\n",
       "    .dataframe tbody tr th:only-of-type {\n",
       "        vertical-align: middle;\n",
       "    }\n",
       "\n",
       "    .dataframe tbody tr th {\n",
       "        vertical-align: top;\n",
       "    }\n",
       "\n",
       "    .dataframe thead th {\n",
       "        text-align: right;\n",
       "    }\n",
       "</style>\n",
       "<table border=\"1\" class=\"dataframe\">\n",
       "  <thead>\n",
       "    <tr style=\"text-align: right;\">\n",
       "      <th></th>\n",
       "      <th>first_active_month</th>\n",
       "      <th>feature_1</th>\n",
       "      <th>feature_2</th>\n",
       "      <th>feature_3</th>\n",
       "    </tr>\n",
       "    <tr>\n",
       "      <th>card_id</th>\n",
       "      <th></th>\n",
       "      <th></th>\n",
       "      <th></th>\n",
       "      <th></th>\n",
       "    </tr>\n",
       "  </thead>\n",
       "  <tbody>\n",
       "    <tr>\n",
       "      <th>C_ID_0ab67a22ab</th>\n",
       "      <td>2017-04-01</td>\n",
       "      <td>3</td>\n",
       "      <td>3</td>\n",
       "      <td>1</td>\n",
       "    </tr>\n",
       "    <tr>\n",
       "      <th>C_ID_130fd0cbdd</th>\n",
       "      <td>2017-01-01</td>\n",
       "      <td>2</td>\n",
       "      <td>3</td>\n",
       "      <td>0</td>\n",
       "    </tr>\n",
       "    <tr>\n",
       "      <th>C_ID_b709037bc5</th>\n",
       "      <td>2017-08-01</td>\n",
       "      <td>5</td>\n",
       "      <td>1</td>\n",
       "      <td>1</td>\n",
       "    </tr>\n",
       "  </tbody>\n",
       "</table>\n",
       "</div>"
      ],
      "text/plain": [
       "                first_active_month  feature_1  feature_2  feature_3\n",
       "card_id                                                            \n",
       "C_ID_0ab67a22ab         2017-04-01          3          3          1\n",
       "C_ID_130fd0cbdd         2017-01-01          2          3          0\n",
       "C_ID_b709037bc5         2017-08-01          5          1          1"
      ]
     },
     "execution_count": 7,
     "metadata": {},
     "output_type": "execute_result"
    }
   ],
   "source": [
    "df_test[:3]"
   ]
  },
  {
   "cell_type": "code",
   "execution_count": 8,
   "metadata": {},
   "outputs": [
    {
     "name": "stdout",
     "output_type": "stream",
     "text": [
      "Range of the target in the training set: -33.21875 - 17.96875\n",
      "Interquartile range of target in the training set: -0.88330078125 - 0.765625\n"
     ]
    }
   ],
   "source": [
    "q1_tr = int(df_train['target'].count()/4)\n",
    "q3_tr = int(3*df_train['target'].count()/4)\n",
    "\n",
    "df_train.sort_values(by='target', inplace=True, na_position='last')\n",
    "\n",
    "print('Range of the target in the training set: {} - {}'.format(df_train['target'].min(), df_train['target'].max()))\n",
    "print('Interquartile range of target in the training set: {} - {}'.format(df_train['target'].iloc[q1_tr], df_train['target'].iloc[q3_tr]))"
   ]
  },
  {
   "cell_type": "code",
   "execution_count": 9,
   "metadata": {},
   "outputs": [
    {
     "data": {
      "image/png": "[encoded data removed]",
      "text/plain": [
       "<Figure size 1080x360 with 1 Axes>"
      ]
     },
     "metadata": {
      "needs_background": "light"
     },
     "output_type": "display_data"
    }
   ],
   "source": [
    "plt.figure(figsize=(15, 5))\n",
    "plt.hist(df_train['target'].values)\n",
    "plt.title('Histogram target counts')\n",
    "plt.xlabel('Count')\n",
    "plt.xticks(rotation=60)\n",
    "plt.ylabel('First Active Month')\n",
    "plt.axvline(df_train['target'].iloc[q1_tr], color=\"k\", linestyle=\"--\")\n",
    "plt.axvline(df_train['target'].iloc[q3_tr], color=\"k\", linestyle=\"--\")\n",
    "plt.show()"
   ]
  },
  {
   "cell_type": "code",
   "execution_count": 10,
   "metadata": {},
   "outputs": [
    {
     "name": "stdout",
     "output_type": "stream",
     "text": [
      "According to Rice's rule, the number of bins is 899 (for the whole set)\n",
      "According to Rice's rule, the number of bins is 894 (without the outliers)\n"
     ]
    }
   ],
   "source": [
    "print('According to Rice\\'s rule, the number of bins is {:.0f} (for the whole set)'.format(math.sqrt(df_train.shape[0])*2))\n",
    "print('According to Rice\\'s rule, the number of bins is {:.0f} (without the outliers)'.format(math.sqrt(df_train[df_train['target'] > -30].shape[0])*2))"
   ]
  },
  {
   "cell_type": "code",
   "execution_count": 11,
   "metadata": {},
   "outputs": [
    {
     "data": {
      "image/png": "[encoded data removed]",
      "text/plain": [
       "<Figure size 1080x360 with 1 Axes>"
      ]
     },
     "metadata": {
      "needs_background": "light"
     },
     "output_type": "display_data"
    }
   ],
   "source": [
    "plt.figure(figsize=(15, 5))\n",
    "plt.hist(df_train['target'].values, bins=899)\n",
    "plt.title('Histogram target counts')\n",
    "plt.xlabel('Count')\n",
    "plt.xticks(rotation=60)\n",
    "plt.ylabel('Target')\n",
    "plt.show()"
   ]
  },
  {
   "cell_type": "code",
   "execution_count": 12,
   "metadata": {},
   "outputs": [
    {
     "data": {
      "image/png": "[encoded data removed]",
      "text/plain": [
       "<Figure size 1080x360 with 1 Axes>"
      ]
     },
     "metadata": {
      "needs_background": "light"
     },
     "output_type": "display_data"
    }
   ],
   "source": [
    "plt.figure(figsize=(15, 5))\n",
    "plt.hist(df_train[df_train['target'] > -30]['target'].values, bins=894)\n",
    "plt.title('Histogram target counts')\n",
    "plt.xlabel('Count')\n",
    "plt.xticks(rotation=60)\n",
    "plt.ylabel('Target')\n",
    "plt.show()"
   ]
  },
  {
   "cell_type": "code",
   "execution_count": 13,
   "metadata": {},
   "outputs": [
    {
     "data": {
      "image/png": "[encoded data removed]",
      "text/plain": [
       "<Figure size 1080x360 with 1 Axes>"
      ]
     },
     "metadata": {
      "needs_background": "light"
     },
     "output_type": "display_data"
    }
   ],
   "source": [
    "plt.figure(figsize=(15, 5))\n",
    "plt.hist(df_train[df_train['target'] > -30]['target'].values, bins=100)\n",
    "plt.title('Histogram target counts')\n",
    "plt.xlabel('Count')\n",
    "plt.xticks(rotation=60)\n",
    "plt.ylabel('Target')\n",
    "plt.show()"
   ]
  },
  {
   "cell_type": "code",
   "execution_count": 14,
   "metadata": {},
   "outputs": [
    {
     "name": "stdout",
     "output_type": "stream",
     "text": [
      "The range of the training set without the outliers is 35.578125\n"
     ]
    }
   ],
   "source": [
    "range = math.fabs(df_train[df_train['target'] > -30]['target'].min()) + df_train[df_train['target'] > -30]['target'].max()\n",
    "print('The range of the training set without the outliers is {}'.format(range))"
   ]
  },
  {
   "cell_type": "code",
   "execution_count": 15,
   "metadata": {},
   "outputs": [
    {
     "name": "stdout",
     "output_type": "stream",
     "text": [
      "Minimum value without outliers: -17.609375, width of bin: 0.35578125\n"
     ]
    }
   ],
   "source": [
    "print('Minimum value without outliers: {}, width of bin: {}'.format(df_train[df_train['target'] > -30]['target'].min(), range/100))"
   ]
  },
  {
   "cell_type": "code",
   "execution_count": 16,
   "metadata": {},
   "outputs": [],
   "source": [
    "def create_bin(value, min_value, bin_width, cutoff_value=-20):\n",
    "    return np.where(value > min_value, ((value - min_value)/bin_width).astype(int), 0)"
   ]
  },
  {
   "cell_type": "code",
   "execution_count": 17,
   "metadata": {},
   "outputs": [],
   "source": [
    "min_value = df_train[df_train['target'] > -30]['target'].min()\n",
    "bin_width = range/100\n",
    "\n",
    "df_train['target_bin'] = create_bin(df_train['target'], min_value, bin_width)"
   ]
  },
  {
   "cell_type": "code",
   "execution_count": 18,
   "metadata": {},
   "outputs": [
    {
     "data": {
      "text/html": [
       "<div>\n",
       "<style scoped>\n",
       "    .dataframe tbody tr th:only-of-type {\n",
       "        vertical-align: middle;\n",
       "    }\n",
       "\n",
       "    .dataframe tbody tr th {\n",
       "        vertical-align: top;\n",
       "    }\n",
       "\n",
       "    .dataframe thead th {\n",
       "        text-align: right;\n",
       "    }\n",
       "</style>\n",
       "<table border=\"1\" class=\"dataframe\">\n",
       "  <thead>\n",
       "    <tr style=\"text-align: right;\">\n",
       "      <th></th>\n",
       "      <th>first_active_month</th>\n",
       "      <th>feature_1</th>\n",
       "      <th>feature_2</th>\n",
       "      <th>feature_3</th>\n",
       "      <th>target</th>\n",
       "      <th>target_bin</th>\n",
       "    </tr>\n",
       "    <tr>\n",
       "      <th>card_id</th>\n",
       "      <th></th>\n",
       "      <th></th>\n",
       "      <th></th>\n",
       "      <th></th>\n",
       "      <th></th>\n",
       "      <th></th>\n",
       "    </tr>\n",
       "  </thead>\n",
       "  <tbody>\n",
       "    <tr>\n",
       "      <th>C_ID_26891f7d19</th>\n",
       "      <td>2017-06-01</td>\n",
       "      <td>3</td>\n",
       "      <td>2</td>\n",
       "      <td>1</td>\n",
       "      <td>-33.21875</td>\n",
       "      <td>0</td>\n",
       "    </tr>\n",
       "    <tr>\n",
       "      <th>C_ID_5813c755d9</th>\n",
       "      <td>2014-10-01</td>\n",
       "      <td>5</td>\n",
       "      <td>1</td>\n",
       "      <td>1</td>\n",
       "      <td>-33.21875</td>\n",
       "      <td>0</td>\n",
       "    </tr>\n",
       "    <tr>\n",
       "      <th>C_ID_213342324e</th>\n",
       "      <td>2015-08-01</td>\n",
       "      <td>3</td>\n",
       "      <td>3</td>\n",
       "      <td>1</td>\n",
       "      <td>-33.21875</td>\n",
       "      <td>0</td>\n",
       "    </tr>\n",
       "    <tr>\n",
       "      <th>C_ID_80d84a0c20</th>\n",
       "      <td>2014-06-01</td>\n",
       "      <td>3</td>\n",
       "      <td>3</td>\n",
       "      <td>1</td>\n",
       "      <td>-33.21875</td>\n",
       "      <td>0</td>\n",
       "    </tr>\n",
       "    <tr>\n",
       "      <th>C_ID_f54535212e</th>\n",
       "      <td>2016-12-01</td>\n",
       "      <td>4</td>\n",
       "      <td>3</td>\n",
       "      <td>0</td>\n",
       "      <td>-33.21875</td>\n",
       "      <td>0</td>\n",
       "    </tr>\n",
       "  </tbody>\n",
       "</table>\n",
       "</div>"
      ],
      "text/plain": [
       "                first_active_month  feature_1  feature_2  feature_3    target  \\\n",
       "card_id                                                                         \n",
       "C_ID_26891f7d19         2017-06-01          3          2          1 -33.21875   \n",
       "C_ID_5813c755d9         2014-10-01          5          1          1 -33.21875   \n",
       "C_ID_213342324e         2015-08-01          3          3          1 -33.21875   \n",
       "C_ID_80d84a0c20         2014-06-01          3          3          1 -33.21875   \n",
       "C_ID_f54535212e         2016-12-01          4          3          0 -33.21875   \n",
       "\n",
       "                 target_bin  \n",
       "card_id                      \n",
       "C_ID_26891f7d19           0  \n",
       "C_ID_5813c755d9           0  \n",
       "C_ID_213342324e           0  \n",
       "C_ID_80d84a0c20           0  \n",
       "C_ID_f54535212e           0  "
      ]
     },
     "execution_count": 18,
     "metadata": {},
     "output_type": "execute_result"
    }
   ],
   "source": [
    "df_train[:5]"
   ]
  },
  {
   "cell_type": "code",
   "execution_count": 19,
   "metadata": {},
   "outputs": [
    {
     "name": "stdout",
     "output_type": "stream",
     "text": [
      "The first_active_month attribute in the train set is ranging between 2011-11-01 and 2018-02-01.\n"
     ]
    }
   ],
   "source": [
    "train_first = df_train['first_active_month'].min()\n",
    "train_last = df_train['first_active_month'].max()\n",
    "\n",
    "print(\"The first_active_month attribute in the train set is ranging between {0}-{1:02}-{2:02} and {3}-{4:02}-{5:02}.\".format(train_first.year, train_first.month, train_first.day, train_last.year, train_last.month, train_last.day))"
   ]
  },
  {
   "cell_type": "code",
   "execution_count": 20,
   "metadata": {
    "scrolled": true
   },
   "outputs": [
    {
     "name": "stdout",
     "output_type": "stream",
     "text": [
      "The first_active_month attribute in the test set is ranging between 2011-11-01 and 2018-01-01.\n"
     ]
    }
   ],
   "source": [
    "test_first = df_test['first_active_month'].min()\n",
    "test_last = df_test['first_active_month'].max()\n",
    "\n",
    "print(\"The first_active_month attribute in the test set is ranging between {0}-{1:02}-{2:02} and {3}-{4:02}-{5:02}.\".format(test_first.year, test_first.month, test_first.day, test_last.year, test_last.month, test_last.day))"
   ]
  },
  {
   "cell_type": "code",
   "execution_count": 21,
   "metadata": {},
   "outputs": [],
   "source": [
    "df_train[\"year\"] = df_train[\"first_active_month\"].dt.year\n",
    "df_train[\"month\"] = df_train[\"first_active_month\"].dt.month"
   ]
  },
  {
   "cell_type": "code",
   "execution_count": 22,
   "metadata": {},
   "outputs": [],
   "source": [
    "df_test[\"year\"] = df_test[\"first_active_month\"].dt.year\n",
    "df_test[\"month\"] = df_test[\"first_active_month\"].dt.month"
   ]
  },
  {
   "cell_type": "code",
   "execution_count": null,
   "metadata": {},
   "outputs": [],
   "source": [
    "df_train.to_csv('input/train_parsed.csv')\n",
    "df_test.to_csv('input/test_parsed.csv')"
   ]
  },
  {
   "cell_type": "code",
   "execution_count": 23,
   "metadata": {},
   "outputs": [],
   "source": [
    "df_output = pd.concat([df_train[df_train['target'] > -30], df_test])"
   ]
  },
  {
   "cell_type": "code",
   "execution_count": 32,
   "metadata": {},
   "outputs": [
    {
     "name": "stdout",
     "output_type": "stream",
     "text": [
      "Size of training set without outliers: 199,710\n",
      "Size of test set: 123,623\n",
      "Size of training + test set: 323,333\n"
     ]
    }
   ],
   "source": [
    "print('Size of training set without outliers: {:,}\\nSize of test set: {:,}\\nSize of training + test set: {:,}'.format(\n",
    "    len(df_train[df_train['target'] > -30]),\n",
    "    len(df_test),\n",
    "    len(df_output)\n",
    "))"
   ]
  },
  {
   "cell_type": "code",
   "execution_count": 33,
   "metadata": {},
   "outputs": [],
   "source": [
    "df_output.to_csv('input/train_test_wo_outliers.csv')"
   ]
  },
  {
   "cell_type": "code",
   "execution_count": 36,
   "metadata": {},
   "outputs": [
    {
     "data": {
      "text/html": [
       "<div>\n",
       "<style scoped>\n",
       "    .dataframe tbody tr th:only-of-type {\n",
       "        vertical-align: middle;\n",
       "    }\n",
       "\n",
       "    .dataframe tbody tr th {\n",
       "        vertical-align: top;\n",
       "    }\n",
       "\n",
       "    .dataframe thead th {\n",
       "        text-align: right;\n",
       "    }\n",
       "</style>\n",
       "<table border=\"1\" class=\"dataframe\">\n",
       "  <thead>\n",
       "    <tr style=\"text-align: right;\">\n",
       "      <th></th>\n",
       "      <th>feature_1</th>\n",
       "      <th>feature_2</th>\n",
       "      <th>feature_3</th>\n",
       "      <th>first_active_month</th>\n",
       "      <th>month</th>\n",
       "      <th>target</th>\n",
       "      <th>target_bin</th>\n",
       "      <th>year</th>\n",
       "    </tr>\n",
       "    <tr>\n",
       "      <th>card_id</th>\n",
       "      <th></th>\n",
       "      <th></th>\n",
       "      <th></th>\n",
       "      <th></th>\n",
       "      <th></th>\n",
       "      <th></th>\n",
       "      <th></th>\n",
       "      <th></th>\n",
       "    </tr>\n",
       "  </thead>\n",
       "  <tbody>\n",
       "    <tr>\n",
       "      <th>C_ID_8d4331102a</th>\n",
       "      <td>3</td>\n",
       "      <td>2</td>\n",
       "      <td>1</td>\n",
       "      <td>2017-02-01</td>\n",
       "      <td>2.0</td>\n",
       "      <td>-17.609375</td>\n",
       "      <td>0.0</td>\n",
       "      <td>2017.0</td>\n",
       "    </tr>\n",
       "    <tr>\n",
       "      <th>C_ID_3f7ba15ec2</th>\n",
       "      <td>1</td>\n",
       "      <td>1</td>\n",
       "      <td>0</td>\n",
       "      <td>2017-06-01</td>\n",
       "      <td>6.0</td>\n",
       "      <td>-17.500000</td>\n",
       "      <td>0.0</td>\n",
       "      <td>2017.0</td>\n",
       "    </tr>\n",
       "    <tr>\n",
       "      <th>C_ID_9636eefa07</th>\n",
       "      <td>1</td>\n",
       "      <td>1</td>\n",
       "      <td>0</td>\n",
       "      <td>2017-03-01</td>\n",
       "      <td>3.0</td>\n",
       "      <td>-17.437500</td>\n",
       "      <td>0.0</td>\n",
       "      <td>2017.0</td>\n",
       "    </tr>\n",
       "  </tbody>\n",
       "</table>\n",
       "</div>"
      ],
      "text/plain": [
       "                 feature_1  feature_2  feature_3 first_active_month  month  \\\n",
       "card_id                                                                      \n",
       "C_ID_8d4331102a          3          2          1         2017-02-01    2.0   \n",
       "C_ID_3f7ba15ec2          1          1          0         2017-06-01    6.0   \n",
       "C_ID_9636eefa07          1          1          0         2017-03-01    3.0   \n",
       "\n",
       "                    target  target_bin    year  \n",
       "card_id                                         \n",
       "C_ID_8d4331102a -17.609375         0.0  2017.0  \n",
       "C_ID_3f7ba15ec2 -17.500000         0.0  2017.0  \n",
       "C_ID_9636eefa07 -17.437500         0.0  2017.0  "
      ]
     },
     "execution_count": 36,
     "metadata": {},
     "output_type": "execute_result"
    }
   ],
   "source": [
    "df_output[:3]"
   ]
  },
  {
   "cell_type": "code",
   "execution_count": null,
   "metadata": {},
   "outputs": [],
   "source": [
    "df_train.loc['C_ID_a003725b5b']"
   ]
  },
  {
   "cell_type": "code",
   "execution_count": 41,
   "metadata": {},
   "outputs": [
    {
     "data": {
      "text/plain": [
       "first_active_month    2016-10-01 00:00:00\n",
       "feature_1                               3\n",
       "feature_2                               1\n",
       "feature_3                               1\n",
       "year                                 2016\n",
       "month                                  10\n",
       "Name: C_ID_a003725b5b, dtype: object"
      ]
     },
     "execution_count": 41,
     "metadata": {},
     "output_type": "execute_result"
    }
   ],
   "source": [
    "df_test.loc['C_ID_a003725b5b']"
   ]
  },
  {
   "cell_type": "markdown",
   "metadata": {},
   "source": [
    "### Transactions"
   ]
  },
  {
   "cell_type": "code",
   "execution_count": 4,
   "metadata": {},
   "outputs": [
    {
     "name": "stdout",
     "output_type": "stream",
     "text": [
      "Starting memory usage: 3109.54 MB\n",
      "Reduced memory usage: 1749.11 MB (43.8% reduction)\n",
      "Number of historical transactions: 29,112,361\n",
      "CPU times: user 1min 2s, sys: 1min 1s, total: 2min 4s\n",
      "Wall time: 2min 32s\n"
     ]
    }
   ],
   "source": [
    "%%time\n",
    "df_hist_trans = pd.read_csv(\"input/historical_transactions.csv\", index_col='card_id')\n",
    "df_hist_trans = reduce_mem_usage(df_hist_trans)\n",
    "print('Number of historical transactions: {:,}'.format(len(df_hist_trans)))"
   ]
  },
  {
   "cell_type": "code",
   "execution_count": null,
   "metadata": {},
   "outputs": [],
   "source": [
    "df_new_trans = pd.read_csv(\"input/new_merchant_transactions.csv\", index_col='card_id')\n",
    "df_new_trans = reduce_mem_usage(df_new_trans)\n",
    "print('Number of new transactions: {:,}'.format(df_new_trans['card_id'].count()))"
   ]
  },
  {
   "cell_type": "code",
   "execution_count": 5,
   "metadata": {},
   "outputs": [],
   "source": [
    "df_hist_trans['authorized_flag'] = df_hist_trans['authorized_flag'].map({'Y': 1, 'N': 0})\n",
    "df_hist_trans['category_1'] = df_hist_trans['category_1'].map({'Y': 1, 'N': 0})\n",
    "\n",
    "df_hist_trans['purchase_date'] = pd.to_datetime(df_hist_trans['purchase_date'])\n",
    "df_hist_trans = create_date_features(df_hist_trans, 'purchase_date', 'purchase')"
   ]
  },
  {
   "cell_type": "code",
   "execution_count": null,
   "metadata": {},
   "outputs": [],
   "source": [
    "df_new_trans['authorized_flag'] = df_new_trans['authorized_flag'].map({'Y': 1, 'N': 0})\n",
    "df_new_trans['category_1'] = df_new_trans['category_1'].map({'Y': 1, 'N': 0})\n",
    "\n",
    "df_new_trans['purchase_date'] = pd.to_datetime(df_new_trans['purchase_date'])\n",
    "df_new_trans = create_date_features(df_new_trans, 'purchase_date', 'purchase')"
   ]
  },
  {
   "cell_type": "code",
   "execution_count": 6,
   "metadata": {},
   "outputs": [
    {
     "data": {
      "text/html": [
       "<div>\n",
       "<style scoped>\n",
       "    .dataframe tbody tr th:only-of-type {\n",
       "        vertical-align: middle;\n",
       "    }\n",
       "\n",
       "    .dataframe tbody tr th {\n",
       "        vertical-align: top;\n",
       "    }\n",
       "\n",
       "    .dataframe thead th {\n",
       "        text-align: right;\n",
       "    }\n",
       "</style>\n",
       "<table border=\"1\" class=\"dataframe\">\n",
       "  <thead>\n",
       "    <tr style=\"text-align: right;\">\n",
       "      <th></th>\n",
       "      <th>authorized_flag</th>\n",
       "      <th>city_id</th>\n",
       "      <th>category_1</th>\n",
       "      <th>installments</th>\n",
       "      <th>category_3</th>\n",
       "      <th>merchant_category_id</th>\n",
       "      <th>merchant_id</th>\n",
       "      <th>month_lag</th>\n",
       "      <th>purchase_amount</th>\n",
       "      <th>purchase_date</th>\n",
       "      <th>category_2</th>\n",
       "      <th>state_id</th>\n",
       "      <th>subsector_id</th>\n",
       "      <th>purchase_year</th>\n",
       "      <th>purchase_month</th>\n",
       "      <th>purchase_day</th>\n",
       "      <th>purchase_hour</th>\n",
       "      <th>purchase_weekofyear</th>\n",
       "      <th>purchase_dayofweek</th>\n",
       "      <th>purchase_quarter</th>\n",
       "    </tr>\n",
       "    <tr>\n",
       "      <th>card_id</th>\n",
       "      <th></th>\n",
       "      <th></th>\n",
       "      <th></th>\n",
       "      <th></th>\n",
       "      <th></th>\n",
       "      <th></th>\n",
       "      <th></th>\n",
       "      <th></th>\n",
       "      <th></th>\n",
       "      <th></th>\n",
       "      <th></th>\n",
       "      <th></th>\n",
       "      <th></th>\n",
       "      <th></th>\n",
       "      <th></th>\n",
       "      <th></th>\n",
       "      <th></th>\n",
       "      <th></th>\n",
       "      <th></th>\n",
       "      <th></th>\n",
       "    </tr>\n",
       "  </thead>\n",
       "  <tbody>\n",
       "    <tr>\n",
       "      <th>C_ID_4e6213e9bc</th>\n",
       "      <td>1</td>\n",
       "      <td>88</td>\n",
       "      <td>0</td>\n",
       "      <td>0</td>\n",
       "      <td>A</td>\n",
       "      <td>80</td>\n",
       "      <td>M_ID_e020e9b302</td>\n",
       "      <td>-8</td>\n",
       "      <td>-0.703331</td>\n",
       "      <td>2017-06-25 15:33:07</td>\n",
       "      <td>1.0</td>\n",
       "      <td>16</td>\n",
       "      <td>37</td>\n",
       "      <td>2017</td>\n",
       "      <td>6</td>\n",
       "      <td>25</td>\n",
       "      <td>15</td>\n",
       "      <td>25</td>\n",
       "      <td>6</td>\n",
       "      <td>2</td>\n",
       "    </tr>\n",
       "    <tr>\n",
       "      <th>C_ID_4e6213e9bc</th>\n",
       "      <td>1</td>\n",
       "      <td>88</td>\n",
       "      <td>0</td>\n",
       "      <td>0</td>\n",
       "      <td>A</td>\n",
       "      <td>367</td>\n",
       "      <td>M_ID_86ec983688</td>\n",
       "      <td>-7</td>\n",
       "      <td>-0.733128</td>\n",
       "      <td>2017-07-15 12:10:45</td>\n",
       "      <td>1.0</td>\n",
       "      <td>16</td>\n",
       "      <td>16</td>\n",
       "      <td>2017</td>\n",
       "      <td>7</td>\n",
       "      <td>15</td>\n",
       "      <td>12</td>\n",
       "      <td>28</td>\n",
       "      <td>5</td>\n",
       "      <td>3</td>\n",
       "    </tr>\n",
       "    <tr>\n",
       "      <th>C_ID_4e6213e9bc</th>\n",
       "      <td>1</td>\n",
       "      <td>88</td>\n",
       "      <td>0</td>\n",
       "      <td>0</td>\n",
       "      <td>A</td>\n",
       "      <td>80</td>\n",
       "      <td>M_ID_979ed661fc</td>\n",
       "      <td>-6</td>\n",
       "      <td>-0.720386</td>\n",
       "      <td>2017-08-09 22:04:29</td>\n",
       "      <td>1.0</td>\n",
       "      <td>16</td>\n",
       "      <td>37</td>\n",
       "      <td>2017</td>\n",
       "      <td>8</td>\n",
       "      <td>9</td>\n",
       "      <td>22</td>\n",
       "      <td>32</td>\n",
       "      <td>2</td>\n",
       "      <td>3</td>\n",
       "    </tr>\n",
       "  </tbody>\n",
       "</table>\n",
       "</div>"
      ],
      "text/plain": [
       "                 authorized_flag  city_id  category_1  installments  \\\n",
       "card_id                                                               \n",
       "C_ID_4e6213e9bc                1       88           0             0   \n",
       "C_ID_4e6213e9bc                1       88           0             0   \n",
       "C_ID_4e6213e9bc                1       88           0             0   \n",
       "\n",
       "                category_3  merchant_category_id      merchant_id  month_lag  \\\n",
       "card_id                                                                        \n",
       "C_ID_4e6213e9bc          A                    80  M_ID_e020e9b302         -8   \n",
       "C_ID_4e6213e9bc          A                   367  M_ID_86ec983688         -7   \n",
       "C_ID_4e6213e9bc          A                    80  M_ID_979ed661fc         -6   \n",
       "\n",
       "                 purchase_amount       purchase_date  category_2  state_id  \\\n",
       "card_id                                                                      \n",
       "C_ID_4e6213e9bc        -0.703331 2017-06-25 15:33:07         1.0        16   \n",
       "C_ID_4e6213e9bc        -0.733128 2017-07-15 12:10:45         1.0        16   \n",
       "C_ID_4e6213e9bc        -0.720386 2017-08-09 22:04:29         1.0        16   \n",
       "\n",
       "                 subsector_id  purchase_year  purchase_month  purchase_day  \\\n",
       "card_id                                                                      \n",
       "C_ID_4e6213e9bc            37           2017               6            25   \n",
       "C_ID_4e6213e9bc            16           2017               7            15   \n",
       "C_ID_4e6213e9bc            37           2017               8             9   \n",
       "\n",
       "                 purchase_hour  purchase_weekofyear  purchase_dayofweek  \\\n",
       "card_id                                                                   \n",
       "C_ID_4e6213e9bc             15                   25                   6   \n",
       "C_ID_4e6213e9bc             12                   28                   5   \n",
       "C_ID_4e6213e9bc             22                   32                   2   \n",
       "\n",
       "                 purchase_quarter  \n",
       "card_id                            \n",
       "C_ID_4e6213e9bc                 2  \n",
       "C_ID_4e6213e9bc                 3  \n",
       "C_ID_4e6213e9bc                 3  "
      ]
     },
     "execution_count": 6,
     "metadata": {},
     "output_type": "execute_result"
    }
   ],
   "source": [
    "df_hist_trans[:3]"
   ]
  },
  {
   "cell_type": "code",
   "execution_count": null,
   "metadata": {},
   "outputs": [],
   "source": [
    "df_new_trans[:3]"
   ]
  },
  {
   "cell_type": "markdown",
   "metadata": {},
   "source": [
    "The preprocessed training and test sets can now be saved to disk as CSV."
   ]
  },
  {
   "cell_type": "code",
   "execution_count": null,
   "metadata": {},
   "outputs": [],
   "source": [
    "cols = ('C_ID_3b297b98b2', 'C_ID_0dcb7bedcf', 'C_ID_4dcdeb27e4', 'C_ID_96bb9e0008', 'C_ID_c0b9cac086', 'C_ID_310be2af53', 'C_ID_8ead828e10', 'C_ID_21117571cf', 'C_ID_d5962d5324', 'C_ID_8fc635b8cc', 'C_ID_a864f93aaa', 'C_ID_67ed87cfd8', 'C_ID_b3dcdca2bf', 'C_ID_0d6b8c2d0f', 'C_ID_de92f6f007', 'C_ID_34a8dbcd67', 'C_ID_0e4bbeaef2', 'C_ID_dc9c5fe1b8', 'C_ID_ddda020c19', 'C_ID_5037ff576e', 'C_ID_59adbef773', 'C_ID_fa73b85d9f', 'C_ID_6e38ce95e5', 'C_ID_54ba74790a', 'C_ID_5d8793d8a3', 'C_ID_a3b8ec250a', 'C_ID_0382b662f4', 'C_ID_0ac3bdba13', 'C_ID_55aa6d6d5e', 'C_ID_094a0016ee', 'C_ID_8b7650c51a', 'C_ID_8530ef3114', 'C_ID_a6c19c14c2', 'C_ID_0d966d5bb3', 'C_ID_1a16072149', 'C_ID_0e171c1b48', 'C_ID_3b54c9951f', 'C_ID_db71047141', 'C_ID_ae8deed850', 'C_ID_2f6751b08c', 'C_ID_e3eaaf0ce2', 'C_ID_9d5614d4d4', 'C_ID_ac54812859', 'C_ID_ecae7401f1', 'C_ID_5e558b8771', 'C_ID_bf8f463e73', 'C_ID_466977c3a6', 'C_ID_3fff3df454', 'C_ID_6ea1a4947f', 'C_ID_3249a3e3c3', 'C_ID_b7873760fe', 'C_ID_5b98ebe338', 'C_ID_8c0201c7d8', 'C_ID_7d87b2c9b0', 'C_ID_5481d0ce7b', 'C_ID_abd541d01e', 'C_ID_082020e48f', 'C_ID_324cc02fa3', 'C_ID_d6f97e5780', 'C_ID_99c391a674', 'C_ID_269d5da08d', 'C_ID_542f1fa442', 'C_ID_06b77830e2', 'C_ID_f0f1b0e44b', 'C_ID_cd401594f8', 'C_ID_532c46e82a', 'C_ID_963f024506', 'C_ID_bfffcd4064', 'C_ID_575f3c7299', 'C_ID_3acbfc844a', 'C_ID_e19bb972b7', 'C_ID_d793cf0bdf', 'C_ID_d3ec4a9f31', 'C_ID_5ef4e703f7', 'C_ID_c0fdcc9bb6', 'C_ID_1626d68d07', 'C_ID_b20540b62d', 'C_ID_e109e07eb2', 'C_ID_28fa6e1b95', 'C_ID_4438374542', 'C_ID_3917d75318', 'C_ID_fe4dd0d9dd', 'C_ID_a0a8f2a2dd', 'C_ID_a980c15f58', 'C_ID_eb250c57f5', 'C_ID_8365e2648a', 'C_ID_c95cd104c1', 'C_ID_6107f3d6c2', 'C_ID_661830c108', 'C_ID_89f75e7d82', 'C_ID_ae9a186307', 'C_ID_1fba7e1cfa', 'C_ID_d3a66157a0', 'C_ID_27de525a35', 'C_ID_a0fb489ce1', 'C_ID_ae86f7d5fb', 'C_ID_66f025e164', 'C_ID_f52b7b5563', 'C_ID_9085892d9d', 'C_ID_6c42fcb585', 'C_ID_7ce2c0198d', 'C_ID_4f68cca7a0', 'C_ID_a959a584cc', 'C_ID_422117ed25', 'C_ID_d26b4291db', 'C_ID_4a1d9765f8', 'C_ID_de30fec963', 'C_ID_23518d5fe7', 'C_ID_e834f752c5', 'C_ID_98abe8365a', 'C_ID_396885e977', 'C_ID_19d5c8812e', 'C_ID_fcf602b303', 'C_ID_65188857e6', 'C_ID_8c4310aa0b', 'C_ID_16ebae3306', 'C_ID_9e6b3e491a', 'C_ID_7e8f7e2ff2', 'C_ID_3df86e0089', 'C_ID_2f6f120cf8', 'C_ID_0998bf9e51', 'C_ID_02cc9ba024', 'C_ID_b45d4d37b1', 'C_ID_b271e7ab60', 'C_ID_01904d743d', 'C_ID_a7d3313624', 'C_ID_9861d0fa05', 'C_ID_37cd39cd15', 'C_ID_206fcaf22f', 'C_ID_ca09e9cea5', 'C_ID_57c74056eb', 'C_ID_ae1363307b', 'C_ID_1e5197c60a', 'C_ID_d41d4f60ef', 'C_ID_1f04b26739', 'C_ID_2b69ff3d45', 'C_ID_a1b71153bd', 'C_ID_5f1aa8ad77', 'C_ID_d244d8976d', 'C_ID_fc8e41b9cf', 'C_ID_375af5c403', 'C_ID_6f8d56d71a', 'C_ID_b762734ff1', 'C_ID_4de2220387', 'C_ID_9ccb22f5ba', 'C_ID_a85af7105b', 'C_ID_ca434fdc9a', 'C_ID_d89ed6f903', 'C_ID_2baa9db487', 'C_ID_cf615002dd', 'C_ID_c14a40541e', 'C_ID_635cb0727f', 'C_ID_f58ef7a582', 'C_ID_3e00ef3f82', 'C_ID_b1ce08a6d0', 'C_ID_87d0d2fd99', 'C_ID_225a70c9da', 'C_ID_434428e462', 'C_ID_f2e160883a', 'C_ID_fd5d1d036a', 'C_ID_d8ab1b33a2', 'C_ID_d931f87212', 'C_ID_93d201f55f', 'C_ID_5f908016f7', 'C_ID_5e5555f2ea', 'C_ID_afbb8e417e', 'C_ID_58cde062ed', 'C_ID_95077ee141', 'C_ID_c56da88dff', 'C_ID_c9f2b024e9', 'C_ID_149d46d5d6', 'C_ID_3c8e3894db', 'C_ID_5c00f333c0', 'C_ID_7708547f5b', 'C_ID_59b56d1e88', 'C_ID_fe97da1633', 'C_ID_f531b08078', 'C_ID_896f0e6096', 'C_ID_4bed29d75c', 'C_ID_393b2ef990', 'C_ID_c8fb63a431', 'C_ID_6356c35053', 'C_ID_dcd74bca0d', 'C_ID_f3df5d55f9', 'C_ID_b22d445d78', 'C_ID_b86ad6f26b', 'C_ID_bdf550bccd', 'C_ID_63c433bd94', 'C_ID_9ac0d2f776', 'C_ID_d7c4f585a0', 'C_ID_855fbbcbe0', 'C_ID_651c203a79', 'C_ID_1170a4101e', 'C_ID_b8a0610439', 'C_ID_01b098ff01', 'C_ID_e375f96772', 'C_ID_d1e9049805', 'C_ID_f466e63724', 'C_ID_565eea411b', 'C_ID_4edae7c94f', 'C_ID_de61f65ad9', 'C_ID_9c199928d9', 'C_ID_c216431929', 'C_ID_577adf384e', 'C_ID_deda0cca28', 'C_ID_adafc22926', 'C_ID_fb0366b9bf', 'C_ID_36742bf16a', 'C_ID_9340bd3efb', 'C_ID_fe2cf74a3c', 'C_ID_4e8ff74a06', 'C_ID_600545406a', 'C_ID_59604814a9', 'C_ID_1950177218', 'C_ID_a2297a992c', 'C_ID_2addfdb32f', 'C_ID_61f0bd6ecf', 'C_ID_3951902b7d', 'C_ID_7133b0dba0', 'C_ID_9f21a05b07', 'C_ID_ea299331ff', 'C_ID_4588654788', 'C_ID_74f3f3b63f', 'C_ID_30ec43c662', 'C_ID_3da75e85ea', 'C_ID_5fcd403807', 'C_ID_af912c5938', 'C_ID_5eef3384f5', 'C_ID_41b88ec506', 'C_ID_99f00fd8b4', 'C_ID_536bff298a', 'C_ID_d0a8c728be', 'C_ID_8d2a9e9f02', 'C_ID_bbde7637a1', 'C_ID_12e8350931', 'C_ID_3173592630', 'C_ID_cf58d5be10', 'C_ID_c7c14d34b0', 'C_ID_d2e70e9653', 'C_ID_64b849f050', 'C_ID_093d35c85b', 'C_ID_618fea3c1c', 'C_ID_a22de71ac8', 'C_ID_9f6ab4a101', 'C_ID_954eebf6b2', 'C_ID_62a64f942c', 'C_ID_6318b13586', 'C_ID_ce026bf60b', 'C_ID_87fa00165a', 'C_ID_d3b06b0fe2', 'C_ID_e6c5c7f7a7', 'C_ID_c3ebae4cfb', 'C_ID_f8598ef051', 'C_ID_94f2c85d55', 'C_ID_2391482aa2', 'C_ID_b68861894d', 'C_ID_69d6ea6a2d', 'C_ID_9311c9e1d2', 'C_ID_d0882a3bce', 'C_ID_4515537c55', 'C_ID_83d49f36ff', 'C_ID_f8f16746a1', 'C_ID_1f24dc4823', 'C_ID_12898d9f0c', 'C_ID_a9bc1c6200', 'C_ID_454bf27987', 'C_ID_1da0ce93b5', 'C_ID_1a4fb91bf1', 'C_ID_6d31cab489', 'C_ID_9ff71414ce', 'C_ID_198914cf94', 'C_ID_03d3f6c6f4', 'C_ID_261c245e65', 'C_ID_398122d796', 'C_ID_9deaeaf200', 'C_ID_5786ec9f45', 'C_ID_b448b1df4b', 'C_ID_460bb1bafa', 'C_ID_25236b70f6', 'C_ID_7332ad5a4a', 'C_ID_e5f5fcf6e7', 'C_ID_12b7811978', 'C_ID_8134216e2d', 'C_ID_149071be4f', 'C_ID_f894a3884a', 'C_ID_622ed23564', 'C_ID_e4f9fdda44', 'C_ID_c504d73c6f', 'C_ID_1964c39b55')\n",
    "\n",
    "df_hist_trans.loc[cols,:].to_csv('input/trans_hist_trimmed.csv')\n",
    "print('{:,} rows were saved.'.format(df_hist_trans.loc[cols,:].shape[0]))"
   ]
  },
  {
   "cell_type": "code",
   "execution_count": 7,
   "metadata": {},
   "outputs": [],
   "source": [
    "%%time\n",
    "df_hist_trans[:10000000].to_csv('input/trans_hist_first10m.csv')\n",
    "#df_new_trans[:10000000].to_csv('input/trans_new_first100k.csv')"
   ]
  },
  {
   "cell_type": "markdown",
   "metadata": {},
   "source": [
    "### Merchants"
   ]
  },
  {
   "cell_type": "code",
   "execution_count": null,
   "metadata": {},
   "outputs": [],
   "source": [
    "df_merch = pd.read_csv(\"input/merchants.csv\", index_col=\"merchant_id\")"
   ]
  },
  {
   "cell_type": "code",
   "execution_count": null,
   "metadata": {},
   "outputs": [],
   "source": [
    "df_merch.loc['M_ID_992a180b15']"
   ]
  },
  {
   "cell_type": "code",
   "execution_count": null,
   "metadata": {},
   "outputs": [],
   "source": [
    "df_merch = df_merch.groupby(df_merch.index).first()"
   ]
  },
  {
   "cell_type": "code",
   "execution_count": null,
   "metadata": {},
   "outputs": [],
   "source": [
    "df_merch['category_1'] = df_merch['category_1'].map({'N': 0, 'Y': 1})\n",
    "df_merch['category_2'] = pd.to_numeric(df_merch['category_2'])\n",
    "df_merch['category_4'] = df_merch['category_4'].map({'N': 0, 'Y': 1})\n",
    "df_merch['most_recent_sales_range'] = df_merch['most_recent_sales_range'].map({'E': 0, 'D': 1, 'C': 2, 'B': 3, 'A': 4})\n",
    "df_merch['most_recent_purchases_range'] = df_merch['most_recent_purchases_range'].map({'E': 0, 'D': 1, 'C': 2, 'B': 3, 'A': 4})"
   ]
  },
  {
   "cell_type": "code",
   "execution_count": null,
   "metadata": {},
   "outputs": [],
   "source": [
    "df_merch[:3]"
   ]
  },
  {
   "cell_type": "code",
   "execution_count": null,
   "metadata": {},
   "outputs": [],
   "source": [
    "df_merch.to_csv('input/merchants_parsed.csv')"
   ]
  },
  {
   "cell_type": "markdown",
   "metadata": {},
   "source": [
    "### Merging"
   ]
  },
  {
   "cell_type": "code",
   "execution_count": null,
   "metadata": {},
   "outputs": [],
   "source": [
    "df_hist_trans = df_hist_trans[:100000]"
   ]
  },
  {
   "cell_type": "code",
   "execution_count": null,
   "metadata": {},
   "outputs": [],
   "source": [
    "df_hist_trans = pd.merge(df_hist_trans, df_merch, on='merchant_id', how='left', suffixes=['_trans','_merch'])\n",
    "df_train = pd.merge(df_train, df_hist_trans, on='card_id',how='left')"
   ]
  },
  {
   "cell_type": "code",
   "execution_count": null,
   "metadata": {},
   "outputs": [],
   "source": [
    "df_new_trans = pd.merge(df_new_trans, df_merch, on='merchant_id', how='left', suffixes=['_trans','_merch'])\n",
    "df_test = pd.merge(df_test, df_new_trans, on='card_id', how='left')"
   ]
  },
  {
   "cell_type": "code",
   "execution_count": null,
   "metadata": {},
   "outputs": [],
   "source": [
    "df_train.dropna(axis=0, how='any', inplace=True)"
   ]
  },
  {
   "cell_type": "code",
   "execution_count": null,
   "metadata": {},
   "outputs": [],
   "source": [
    "df_train.shape"
   ]
  },
  {
   "cell_type": "code",
   "execution_count": null,
   "metadata": {},
   "outputs": [],
   "source": [
    "list(df_train['card_id'].unique())"
   ]
  },
  {
   "cell_type": "markdown",
   "metadata": {},
   "source": [
    "## Output analysis"
   ]
  },
  {
   "cell_type": "code",
   "execution_count": 45,
   "metadata": {},
   "outputs": [],
   "source": [
    "def rmse(predictions, targets):\n",
    "    return np.sqrt(np.mean((predictions-targets)**2))"
   ]
  },
  {
   "cell_type": "markdown",
   "metadata": {},
   "source": [
    "### RMSE of average, median aggregation & average, median backpropagation"
   ]
  },
  {
   "cell_type": "code",
   "execution_count": 43,
   "metadata": {},
   "outputs": [
    {
     "name": "stdout",
     "output_type": "stream",
     "text": [
      "Starting memory usage:  9.87 MB\n",
      "Reduced memory usage:  4.32 MB (56.2% reduction)\n",
      "323,333 observations and 3 features in the output set.\n"
     ]
    }
   ],
   "source": [
    "df_output = pd.read_csv(\"output/LynxKite_test_prediction.csv\", index_col=\"card_id\")\n",
    "df_output = reduce_mem_usage(df_output)\n",
    "print(\"{:,} observations and {} features in the output set.\".format(df_output.shape[0], df_output.shape[1]))"
   ]
  },
  {
   "cell_type": "code",
   "execution_count": 99,
   "metadata": {},
   "outputs": [
    {
     "name": "stdout",
     "output_type": "stream",
     "text": [
      "Size of\n",
      "\ttraining set: 199,710\n",
      "\ttest set: 123,623\n",
      "\ttotal set: 323,333\n",
      "\n",
      "Number of records with valid prediction in the\n",
      "\ttraining set: 2,935 (0.0091%)\n",
      "\ttest set: 1,824 (0.0056%)\n",
      "\ttotal set: 4,759 (0.0147%)\n",
      "\n",
      "Training set RMSE of\n",
      "\taverage loyalty score: 0.94970703125\n",
      "\tmedian loyalty score: 1.1357421875\n"
     ]
    }
   ],
   "source": [
    "avg_rmse_score = rmse(df_output[df_output['target'].isnull() == False]['merch_seg_target_average_average'], df_output[df_output['target'].isnull() == False]['target'])\n",
    "med_rmse_score = rmse(df_output[df_output['target'].isnull() == False]['merch_seg_target_median_median'], df_output[df_output['target'].isnull() == False]['target'])\n",
    "num = len(df_output[\n",
    "    (df_output['target'].isnull() == False) & \n",
    "    (df_output['merch_seg_target_average_average'].isna() == False)\n",
    "])\n",
    "\n",
    "print('Size of the\\n\\ttraining set: {:,}\\n\\ttest set: {:,}\\n\\ttotal set: {:,}'.format(\n",
    "    len(df_output[df_output['target'].isnull() == False]),\n",
    "    len(df_output[df_output['target'].isnull()]),\n",
    "    len(df_output)\n",
    "))\n",
    "\n",
    "print('\\nNumber of records with valid prediction in the\\n\\ttraining set: {:,} ({:.4f}%)\\n\\ttest set: {:,} ({:.4f}%)\\n\\ttotal set: {:,} ({:.4f}%)'.format(\n",
    "    num,\n",
    "    num/len(df_output),\n",
    "    len(df_output[(df_output['target'].isnull()) & (df_output['merch_seg_target_average_average'].isna() == False)]),\n",
    "    len(df_output[(df_output['target'].isnull()) & (df_output['merch_seg_target_average_average'].isna() == False)])/len(df_output),\n",
    "    len(df_output[df_output['merch_seg_target_average_average'].isna() == False]),\n",
    "    len(df_output[df_output['merch_seg_target_average_average'].isna() == False])/len(df_output)\n",
    "))\n",
    "print('\\nTraining set RMSE of\\n\\taverage loyalty score: {}\\n\\tmedian loyalty score: {}'.format(avg_rmse_score, med_rmse_score))"
   ]
  },
  {
   "cell_type": "markdown",
   "metadata": {},
   "source": [
    "### RMSE of viral modeling & most common backpropagation"
   ]
  },
  {
   "cell_type": "code",
   "execution_count": 113,
   "metadata": {},
   "outputs": [
    {
     "name": "stdout",
     "output_type": "stream",
     "text": [
      "Starting memory usage: 17.27 MB\n",
      "Reduced memory usage:  6.17 MB (64.3% reduction)\n",
      "323,333 observations and 6 features in the output set.\n"
     ]
    }
   ],
   "source": [
    "df_output = pd.read_csv(\"output/LynxKite_viral_modeling.csv\", index_col=\"card_id\")\n",
    "df_output = reduce_mem_usage(df_output)\n",
    "print(\"{:,} observations and {} features in the output set.\".format(df_output.shape[0], df_output.shape[1]))"
   ]
  },
  {
   "cell_type": "code",
   "execution_count": 118,
   "metadata": {},
   "outputs": [
    {
     "name": "stdout",
     "output_type": "stream",
     "text": [
      "Size of the\n",
      "\ttraining set: 199,710\n",
      "\ttest set: 123,623\n",
      "\ttotal set: 323,333\n",
      "\n",
      "Number of records with valid prediction in the\n",
      "\ttraining set: 2,935 (0.0091%)\n",
      "\ttest set: 1,824 (0.0056%)\n",
      "\ttotal set: 4,759 (0.0147%)\n",
      "\n",
      "Training set RMSE of\n",
      "\tviral target average after iteration 1: 0.95947265625\n",
      "\tviral target average after iteration 2: 1.0615234375\n",
      "\tviral target average after iteration 3: 1.0615234375\n"
     ]
    }
   ],
   "source": [
    "num = len(df_output[\n",
    "    (df_output['target'].isnull() == False) & \n",
    "    (df_output['merch_seg_target_average_average'].isna() == False)\n",
    "])\n",
    "\n",
    "print('Size of the\\n\\ttraining set: {:,}\\n\\ttest set: {:,}\\n\\ttotal set: {:,}'.format(\n",
    "    len(df_output[df_output['target'].isnull() == False]),\n",
    "    len(df_output[df_output['target'].isnull()]),\n",
    "    len(df_output)\n",
    "))\n",
    "\n",
    "print('\\nNumber of records with valid prediction in the\\n\\ttraining set: {:,} ({:.4f}%)\\n\\ttest set: {:,} ({:.4f}%)\\n\\ttotal set: {:,} ({:.4f}%)'.format(\n",
    "    num,\n",
    "    num/len(df_output),\n",
    "    len(df_output[(df_output['target'].isnull()) & (df_output['merch_seg_target_average_average'].isna() == False)]),\n",
    "    len(df_output[(df_output['target'].isnull()) & (df_output['merch_seg_target_average_average'].isna() == False)])/len(df_output),\n",
    "    len(df_output[df_output['merch_seg_target_average_average'].isna() == False]),\n",
    "    len(df_output[df_output['merch_seg_target_average_average'].isna() == False])/len(df_output)\n",
    "))\n",
    "\n",
    "vtavg1_rmse_score = rmse(df_output[df_output['target'].isnull() == False]['merch_seg_viral_target_average_after_iteration_1_most_common'], df_output[df_output['target'].isnull() == False]['target'])\n",
    "vtavg2_rmse_score = rmse(df_output[df_output['target'].isnull() == False]['merch_seg_viral_target_average_after_iteration_2_most_common'], df_output[df_output['target'].isnull() == False]['target'])\n",
    "vtavg3_rmse_score = rmse(df_output[df_output['target'].isnull() == False]['merch_seg_viral_target_average_after_iteration_3_most_common'], df_output[df_output['target'].isnull() == False]['target'])\n",
    "\n",
    "print('\\nTraining set RMSE of\\n\\tviral target average after iteration 1: {}\\n\\tviral target average after iteration 2: {}\\n\\tviral target average after iteration 3: {}'.format(\n",
    "    vtavg1_rmse_score,\n",
    "    vtavg2_rmse_score,\n",
    "    vtavg3_rmse_score\n",
    "))"
   ]
  }
 ],
 "metadata": {
  "kernelspec": {
   "display_name": "Python 3",
   "language": "python",
   "name": "python3"
  },
  "language_info": {
   "codemirror_mode": {
    "name": "ipython",
    "version": 3
   },
   "file_extension": ".py",
   "mimetype": "text/x-python",
   "name": "python",
   "nbconvert_exporter": "python",
   "pygments_lexer": "ipython3",
   "version": "3.6.0"
  },
  "toc": {
   "base_numbering": 1,
   "nav_menu": {},
   "number_sections": true,
   "sideBar": true,
   "skip_h1_title": true,
   "title_cell": "Table of Contents",
   "title_sidebar": "Contents",
   "toc_cell": false,
   "toc_position": {
    "height": "calc(100% - 180px)",
    "left": "10px",
    "top": "150px",
    "width": "256px"
   },
   "toc_section_display": true,
   "toc_window_display": true
  }
 },
 "nbformat": 4,
 "nbformat_minor": 2
}
