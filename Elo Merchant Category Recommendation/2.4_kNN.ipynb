{
 "cells": [
  {
   "cell_type": "markdown",
   "metadata": {
    "toc": true
   },
   "source": [
    "<h1>Table of Contents<span class=\"tocSkip\"></span></h1>\n",
    "<div class=\"toc\"><ul class=\"toc-item\"><li><span><a href=\"#Loading-the-input-data\" data-toc-modified-id=\"Loading-the-input-data-1\"><span class=\"toc-item-num\">1&nbsp;&nbsp;</span>Loading the input data</a></span><ul class=\"toc-item\"><li><span><a href=\"#Marking-outliers\" data-toc-modified-id=\"Marking-outliers-1.1\"><span class=\"toc-item-num\">1.1&nbsp;&nbsp;</span>Marking outliers</a></span></li><li><span><a href=\"#Filtering\" data-toc-modified-id=\"Filtering-1.2\"><span class=\"toc-item-num\">1.2&nbsp;&nbsp;</span>Filtering</a></span></li></ul></li><li><span><a href=\"#k-Nearest-Neighbors\" data-toc-modified-id=\"k-Nearest-Neighbors-2\"><span class=\"toc-item-num\">2&nbsp;&nbsp;</span>k-Nearest Neighbors</a></span></li></ul></div>"
   ]
  },
  {
   "cell_type": "markdown",
   "metadata": {},
   "source": [
    "# Elo Merchant Category Recommendation - kNN\n",
    "End date: _2019. february 19._<br/>\n",
    "\n",
    "This tutorial notebook is the second part of a seriers for [Elo Mechant Category Recommendation](https://www.kaggle.com/c/elo-merchant-category-recommendation) contest organized by Elo, one of the largest payment brands in Brazil. It has built partnerships with merchants in order to offer promotions or discounts to cardholders. The objective of the competition is to identify and serve the most relevant opportunities to individuals, by uncovering signals in customer loyalty. The input files are available from the [download](https://www.kaggle.com/c/elo-merchant-category-recommendation/data) section of the contest:\n",
    "\n",
    "- **train.csv**,  **test.csv**: list of `card_ids` that can be used for training and testing\n",
    "- **historical_transactions.csv**: contains up to 3 months' worth of transactions for every card at any of the provided `merchant_ids`\n",
    "- **new_merchant_transactions.csv**: contains the transactions at new merchants (`merchant_ids` that this particular `card_id` \n",
    "has not yet visited) over a period of two months\n",
    "- **merchants.csv**: contains aggregate information for each `merchant_id` represented in the data set"
   ]
  },
  {
   "cell_type": "code",
   "execution_count": 1,
   "metadata": {},
   "outputs": [
    {
     "name": "stderr",
     "output_type": "stream",
     "text": [
      "Using TensorFlow backend.\n"
     ]
    }
   ],
   "source": [
    "import gc\n",
    "import math\n",
    "import time\n",
    "import datetime\n",
    "import numpy as np\n",
    "import pandas as pd\n",
    "import seaborn as sns\n",
    "from scipy import stats\n",
    "from functools import wraps\n",
    "import matplotlib.pyplot as plt\n",
    "from sklearn.metrics import accuracy_score\n",
    "from sklearn.neighbors import KNeighborsClassifier\n",
    "from sklearn.model_selection import train_test_split\n",
    "from keras.callbacks import ModelCheckpoint, TensorBoard, EarlyStopping\n",
    "\n",
    "%matplotlib inline\n",
    "\n",
    "sns.set(style='whitegrid', palette='muted', font_scale=1.5)\n",
    "sns.set(rc={'figure.figsize':(15, 6)})"
   ]
  },
  {
   "cell_type": "code",
   "execution_count": 2,
   "metadata": {},
   "outputs": [],
   "source": [
    "def reduce_mem_usage(df, verbose=True):\n",
    "    numerics = ['int16', 'int32', 'int64', 'float16', 'float32', 'float64']\n",
    "    start_mem = df.memory_usage().sum() / 1024**2\n",
    "    if verbose: print('Starting memory usage: {:5.2f} MB'.format(start_mem))\n",
    "\n",
    "    for col in df.columns:\n",
    "        col_type = df[col].dtypes\n",
    "        if col_type in numerics:\n",
    "            c_min = df[col].min()\n",
    "            c_max = df[col].max()\n",
    "            if str(col_type)[:3] == 'int':\n",
    "                if c_min >= np.iinfo(np.int8).min and c_max <= np.iinfo(np.int8).max:\n",
    "                    df[col] = df[col].astype(np.int8)\n",
    "                elif c_min >= np.iinfo(np.int16).min and c_max <= np.iinfo(np.int16).max:\n",
    "                    df[col] = df[col].astype(np.int16)\n",
    "                elif c_min >= np.iinfo(np.int32).min and c_max <= np.iinfo(np.int32).max:\n",
    "                    df[col] = df[col].astype(np.int32)\n",
    "                elif c_min >= np.iinfo(np.int64).min and c_max <= np.iinfo(np.int64).max:\n",
    "                    df[col] = df[col].astype(np.int64)  \n",
    "            else:\n",
    "                if c_min >= np.finfo(np.float16).min and c_max <= np.finfo(np.float16).max:\n",
    "                    df[col] = df[col].astype(np.float16)\n",
    "                elif c_min >= np.finfo(np.float32).min and c_max <= np.finfo(np.float32).max:\n",
    "                    df[col] = df[col].astype(np.float32)\n",
    "                else:\n",
    "                    df[col] = df[col].astype(np.float64)    \n",
    "    end_mem = df.memory_usage().sum() / 1024**2\n",
    "    if verbose: print('Reduced memory usage: {:5.2f} MB ({:.1f}% reduction)'.format(end_mem, 100 * (start_mem - end_mem) / start_mem))\n",
    "    return df"
   ]
  },
  {
   "cell_type": "code",
   "execution_count": 3,
   "metadata": {},
   "outputs": [],
   "source": [
    "class TimeMeasurer:\n",
    "    def __init__(self):\n",
    "        self.start_time = time.time()\n",
    "        print (\"Started at {}\".format(datetime.datetime.now().strftime(\"%Y-%m-%d %H:%M:%S\")))\n",
    "    \n",
    "    def stop(self):\n",
    "        self.elapsed_time = time.time() - self.start_time\n",
    "        print(\"Elapsed time max: {:.3f}s\".format(self.elapsed_time))"
   ]
  },
  {
   "cell_type": "markdown",
   "metadata": {},
   "source": [
    "## Loading the input data"
   ]
  },
  {
   "cell_type": "code",
   "execution_count": 4,
   "metadata": {},
   "outputs": [
    {
     "name": "stdout",
     "output_type": "stream",
     "text": [
      "334,696 records and 22 features in merchant set.\n"
     ]
    }
   ],
   "source": [
    "df_merch = pd.read_csv(\"input/merchants.csv\")\n",
    "print(\"{:,} records and {} features in merchant set.\".format(df_merch.shape[0], df_merch.shape[1]))"
   ]
  },
  {
   "cell_type": "code",
   "execution_count": 5,
   "metadata": {},
   "outputs": [],
   "source": [
    "df_merch['category_1'] = df_merch['category_1'].map({'N': 0, 'Y': 1})\n",
    "df_merch['category_2'] = pd.to_numeric(df_merch['category_2'])\n",
    "df_merch['category_4'] = df_merch['category_4'].map({'N': 0, 'Y': 1})\n",
    "df_merch['most_recent_sales_range'] = df_merch['most_recent_sales_range'].map({'E': 0, 'D': 1, 'C': 2, 'B': 3, 'A': 4})\n",
    "df_merch['most_recent_purchases_range'] = df_merch['most_recent_purchases_range'].map({'E': 0, 'D': 1, 'C': 2, 'B': 3, 'A': 4})"
   ]
  },
  {
   "cell_type": "code",
   "execution_count": 6,
   "metadata": {},
   "outputs": [],
   "source": [
    "dropping = ['city_id', 'state_id']\n",
    "for var in dropping:\n",
    "    df_merch = df_merch.drop(var, axis=1)"
   ]
  },
  {
   "cell_type": "code",
   "execution_count": 7,
   "metadata": {},
   "outputs": [
    {
     "name": "stdout",
     "output_type": "stream",
     "text": [
      "Starting memory usage: 51.07 MB\n",
      "Reduced memory usage: 20.43 MB (60.0% reduction)\n"
     ]
    }
   ],
   "source": [
    "df_merch = reduce_mem_usage(df_merch)"
   ]
  },
  {
   "cell_type": "code",
   "execution_count": 8,
   "metadata": {},
   "outputs": [
    {
     "name": "stdout",
     "output_type": "stream",
     "text": [
      "Starting memory usage: 354.01 MB\n",
      "Reduced memory usage: 84.35 MB (76.2% reduction)\n",
      "Starting memory usage: 397.39 MB\n",
      "Reduced memory usage: 112.08 MB (71.8% reduction)\n"
     ]
    }
   ],
   "source": [
    "df_new_trans = pd.read_csv(\"input/trans_merch_new_agg.csv\", index_col=0)\n",
    "df_new_trans = reduce_mem_usage(df_new_trans)\n",
    "\n",
    "df_hist_trans = pd.read_csv(\"input/trans_merch_hist_agg.csv\", index_col=0)\n",
    "df_hist_trans = reduce_mem_usage(df_hist_trans)"
   ]
  },
  {
   "cell_type": "code",
   "execution_count": 9,
   "metadata": {},
   "outputs": [
    {
     "name": "stdout",
     "output_type": "stream",
     "text": [
      "Starting memory usage:  9.24 MB\n",
      "Reduced memory usage:  4.04 MB (56.2% reduction)\n",
      "Starting memory usage:  4.72 MB\n",
      "Reduced memory usage:  2.24 MB (52.5% reduction)\n",
      "201,917 records and 6 features in train set.\n",
      "123,623 records and 5 features in test set.\n"
     ]
    }
   ],
   "source": [
    "df_train = pd.read_csv(\"input/train.csv\")\n",
    "df_train = reduce_mem_usage(df_train)\n",
    "\n",
    "df_test = pd.read_csv(\"input/test.csv\")\n",
    "df_test = reduce_mem_usage(df_test)\n",
    "\n",
    "print(\"{:,} records and {} features in train set.\".format(df_train.shape[0], df_train.shape[1]))\n",
    "print(\"{:,} records and {} features in test set.\".format(df_test.shape[0], df_test.shape[1]))"
   ]
  },
  {
   "cell_type": "code",
   "execution_count": 10,
   "metadata": {},
   "outputs": [],
   "source": [
    "df_train = pd.merge(df_train, df_hist_trans, on='card_id',how='left')\n",
    "df_test = pd.merge(df_test, df_hist_trans, on='card_id',how='left')\n",
    "\n",
    "df_train = pd.merge(df_train, df_new_trans, on='card_id', how='left')\n",
    "df_test = pd.merge(df_test, df_new_trans, on='card_id', how='left')"
   ]
  },
  {
   "cell_type": "code",
   "execution_count": 11,
   "metadata": {},
   "outputs": [
    {
     "data": {
      "text/plain": [
       "72"
      ]
     },
     "execution_count": 11,
     "metadata": {},
     "output_type": "execute_result"
    }
   ],
   "source": [
    "del df_hist_trans\n",
    "del df_new_trans\n",
    "gc.collect()"
   ]
  },
  {
   "cell_type": "code",
   "execution_count": 12,
   "metadata": {},
   "outputs": [
    {
     "data": {
      "text/html": [
       "<div>\n",
       "<style scoped>\n",
       "    .dataframe tbody tr th:only-of-type {\n",
       "        vertical-align: middle;\n",
       "    }\n",
       "\n",
       "    .dataframe tbody tr th {\n",
       "        vertical-align: top;\n",
       "    }\n",
       "\n",
       "    .dataframe thead th {\n",
       "        text-align: right;\n",
       "    }\n",
       "</style>\n",
       "<table border=\"1\" class=\"dataframe\">\n",
       "  <thead>\n",
       "    <tr style=\"text-align: right;\">\n",
       "      <th></th>\n",
       "      <th>first_active_month</th>\n",
       "      <th>card_id</th>\n",
       "      <th>feature_1</th>\n",
       "      <th>feature_2</th>\n",
       "      <th>feature_3</th>\n",
       "      <th>target</th>\n",
       "      <th>hist_transactions_count</th>\n",
       "      <th>hist_authorized_flag_sum</th>\n",
       "      <th>hist_authorized_flag_mean</th>\n",
       "      <th>hist_active_months_lag3_sum</th>\n",
       "      <th>...</th>\n",
       "      <th>new_purchase_dayofweek_max</th>\n",
       "      <th>new_purchase_dayofweek_min</th>\n",
       "      <th>new_purchase_dayofweek_std</th>\n",
       "      <th>new_purchase_dayofweek_mode</th>\n",
       "      <th>new_purchase_quarter_mean</th>\n",
       "      <th>new_purchase_quarter_median</th>\n",
       "      <th>new_purchase_quarter_max</th>\n",
       "      <th>new_purchase_quarter_min</th>\n",
       "      <th>new_purchase_quarter_std</th>\n",
       "      <th>new_purchase_quarter_mode</th>\n",
       "    </tr>\n",
       "  </thead>\n",
       "  <tbody>\n",
       "    <tr>\n",
       "      <th>0</th>\n",
       "      <td>2017-06</td>\n",
       "      <td>C_ID_92a2005557</td>\n",
       "      <td>5</td>\n",
       "      <td>2</td>\n",
       "      <td>1</td>\n",
       "      <td>-0.820312</td>\n",
       "      <td>1</td>\n",
       "      <td>252.0</td>\n",
       "      <td>0.951172</td>\n",
       "      <td>777.0</td>\n",
       "      <td>...</td>\n",
       "      <td>6.0</td>\n",
       "      <td>0.0</td>\n",
       "      <td>2.029297</td>\n",
       "      <td>4.0</td>\n",
       "      <td>1.478516</td>\n",
       "      <td>1.0</td>\n",
       "      <td>2.0</td>\n",
       "      <td>1.0</td>\n",
       "      <td>0.510742</td>\n",
       "      <td>1.0</td>\n",
       "    </tr>\n",
       "    <tr>\n",
       "      <th>1</th>\n",
       "      <td>2017-01</td>\n",
       "      <td>C_ID_3d0044924f</td>\n",
       "      <td>4</td>\n",
       "      <td>1</td>\n",
       "      <td>0</td>\n",
       "      <td>0.392822</td>\n",
       "      <td>1</td>\n",
       "      <td>354.0</td>\n",
       "      <td>0.969727</td>\n",
       "      <td>1095.0</td>\n",
       "      <td>...</td>\n",
       "      <td>4.0</td>\n",
       "      <td>0.0</td>\n",
       "      <td>1.643555</td>\n",
       "      <td>0.0</td>\n",
       "      <td>1.000000</td>\n",
       "      <td>1.0</td>\n",
       "      <td>1.0</td>\n",
       "      <td>1.0</td>\n",
       "      <td>0.000000</td>\n",
       "      <td>1.0</td>\n",
       "    </tr>\n",
       "    <tr>\n",
       "      <th>2</th>\n",
       "      <td>2016-08</td>\n",
       "      <td>C_ID_d639edf6cd</td>\n",
       "      <td>2</td>\n",
       "      <td>2</td>\n",
       "      <td>0</td>\n",
       "      <td>0.687988</td>\n",
       "      <td>1</td>\n",
       "      <td>42.0</td>\n",
       "      <td>0.954590</td>\n",
       "      <td>132.0</td>\n",
       "      <td>...</td>\n",
       "      <td>5.0</td>\n",
       "      <td>5.0</td>\n",
       "      <td>NaN</td>\n",
       "      <td>5.0</td>\n",
       "      <td>2.000000</td>\n",
       "      <td>2.0</td>\n",
       "      <td>2.0</td>\n",
       "      <td>2.0</td>\n",
       "      <td>NaN</td>\n",
       "      <td>2.0</td>\n",
       "    </tr>\n",
       "  </tbody>\n",
       "</table>\n",
       "<p>3 rows × 322 columns</p>\n",
       "</div>"
      ],
      "text/plain": [
       "  first_active_month          card_id  feature_1  feature_2  feature_3  \\\n",
       "0            2017-06  C_ID_92a2005557          5          2          1   \n",
       "1            2017-01  C_ID_3d0044924f          4          1          0   \n",
       "2            2016-08  C_ID_d639edf6cd          2          2          0   \n",
       "\n",
       "     target  hist_transactions_count  hist_authorized_flag_sum  \\\n",
       "0 -0.820312                        1                     252.0   \n",
       "1  0.392822                        1                     354.0   \n",
       "2  0.687988                        1                      42.0   \n",
       "\n",
       "   hist_authorized_flag_mean  hist_active_months_lag3_sum  \\\n",
       "0                   0.951172                        777.0   \n",
       "1                   0.969727                       1095.0   \n",
       "2                   0.954590                        132.0   \n",
       "\n",
       "             ...              new_purchase_dayofweek_max  \\\n",
       "0            ...                                     6.0   \n",
       "1            ...                                     4.0   \n",
       "2            ...                                     5.0   \n",
       "\n",
       "   new_purchase_dayofweek_min  new_purchase_dayofweek_std  \\\n",
       "0                         0.0                    2.029297   \n",
       "1                         0.0                    1.643555   \n",
       "2                         5.0                         NaN   \n",
       "\n",
       "   new_purchase_dayofweek_mode  new_purchase_quarter_mean  \\\n",
       "0                          4.0                   1.478516   \n",
       "1                          0.0                   1.000000   \n",
       "2                          5.0                   2.000000   \n",
       "\n",
       "   new_purchase_quarter_median  new_purchase_quarter_max  \\\n",
       "0                          1.0                       2.0   \n",
       "1                          1.0                       1.0   \n",
       "2                          2.0                       2.0   \n",
       "\n",
       "   new_purchase_quarter_min  new_purchase_quarter_std  \\\n",
       "0                       1.0                  0.510742   \n",
       "1                       1.0                  0.000000   \n",
       "2                       2.0                       NaN   \n",
       "\n",
       "   new_purchase_quarter_mode  \n",
       "0                        1.0  \n",
       "1                        1.0  \n",
       "2                        2.0  \n",
       "\n",
       "[3 rows x 322 columns]"
      ]
     },
     "execution_count": 12,
     "metadata": {},
     "output_type": "execute_result"
    }
   ],
   "source": [
    "df_train[:3]"
   ]
  },
  {
   "cell_type": "code",
   "execution_count": 13,
   "metadata": {},
   "outputs": [
    {
     "data": {
      "text/html": [
       "<div>\n",
       "<style scoped>\n",
       "    .dataframe tbody tr th:only-of-type {\n",
       "        vertical-align: middle;\n",
       "    }\n",
       "\n",
       "    .dataframe tbody tr th {\n",
       "        vertical-align: top;\n",
       "    }\n",
       "\n",
       "    .dataframe thead th {\n",
       "        text-align: right;\n",
       "    }\n",
       "</style>\n",
       "<table border=\"1\" class=\"dataframe\">\n",
       "  <thead>\n",
       "    <tr style=\"text-align: right;\">\n",
       "      <th></th>\n",
       "      <th>first_active_month</th>\n",
       "      <th>card_id</th>\n",
       "      <th>feature_1</th>\n",
       "      <th>feature_2</th>\n",
       "      <th>feature_3</th>\n",
       "      <th>hist_transactions_count</th>\n",
       "      <th>hist_authorized_flag_sum</th>\n",
       "      <th>hist_authorized_flag_mean</th>\n",
       "      <th>hist_active_months_lag3_sum</th>\n",
       "      <th>hist_active_months_lag3_mean</th>\n",
       "      <th>...</th>\n",
       "      <th>new_purchase_dayofweek_max</th>\n",
       "      <th>new_purchase_dayofweek_min</th>\n",
       "      <th>new_purchase_dayofweek_std</th>\n",
       "      <th>new_purchase_dayofweek_mode</th>\n",
       "      <th>new_purchase_quarter_mean</th>\n",
       "      <th>new_purchase_quarter_median</th>\n",
       "      <th>new_purchase_quarter_max</th>\n",
       "      <th>new_purchase_quarter_min</th>\n",
       "      <th>new_purchase_quarter_std</th>\n",
       "      <th>new_purchase_quarter_mode</th>\n",
       "    </tr>\n",
       "  </thead>\n",
       "  <tbody>\n",
       "    <tr>\n",
       "      <th>0</th>\n",
       "      <td>2017-04</td>\n",
       "      <td>C_ID_0ab67a22ab</td>\n",
       "      <td>3</td>\n",
       "      <td>3</td>\n",
       "      <td>1</td>\n",
       "      <td>1</td>\n",
       "      <td>47.0</td>\n",
       "      <td>0.662109</td>\n",
       "      <td>213.0</td>\n",
       "      <td>3.0</td>\n",
       "      <td>...</td>\n",
       "      <td>5.0</td>\n",
       "      <td>2.0</td>\n",
       "      <td>1.527344</td>\n",
       "      <td>2.0</td>\n",
       "      <td>1.000000</td>\n",
       "      <td>1.0</td>\n",
       "      <td>1.0</td>\n",
       "      <td>1.0</td>\n",
       "      <td>0.000000</td>\n",
       "      <td>1.0</td>\n",
       "    </tr>\n",
       "    <tr>\n",
       "      <th>1</th>\n",
       "      <td>2017-01</td>\n",
       "      <td>C_ID_130fd0cbdd</td>\n",
       "      <td>2</td>\n",
       "      <td>3</td>\n",
       "      <td>0</td>\n",
       "      <td>1</td>\n",
       "      <td>77.0</td>\n",
       "      <td>0.987305</td>\n",
       "      <td>234.0</td>\n",
       "      <td>3.0</td>\n",
       "      <td>...</td>\n",
       "      <td>6.0</td>\n",
       "      <td>0.0</td>\n",
       "      <td>2.359375</td>\n",
       "      <td>0.0</td>\n",
       "      <td>1.400391</td>\n",
       "      <td>1.0</td>\n",
       "      <td>2.0</td>\n",
       "      <td>1.0</td>\n",
       "      <td>0.516602</td>\n",
       "      <td>1.0</td>\n",
       "    </tr>\n",
       "    <tr>\n",
       "      <th>2</th>\n",
       "      <td>2017-08</td>\n",
       "      <td>C_ID_b709037bc5</td>\n",
       "      <td>5</td>\n",
       "      <td>1</td>\n",
       "      <td>1</td>\n",
       "      <td>1</td>\n",
       "      <td>9.0</td>\n",
       "      <td>0.692383</td>\n",
       "      <td>39.0</td>\n",
       "      <td>3.0</td>\n",
       "      <td>...</td>\n",
       "      <td>3.0</td>\n",
       "      <td>1.0</td>\n",
       "      <td>1.414062</td>\n",
       "      <td>1.0</td>\n",
       "      <td>1.000000</td>\n",
       "      <td>1.0</td>\n",
       "      <td>1.0</td>\n",
       "      <td>1.0</td>\n",
       "      <td>0.000000</td>\n",
       "      <td>1.0</td>\n",
       "    </tr>\n",
       "  </tbody>\n",
       "</table>\n",
       "<p>3 rows × 321 columns</p>\n",
       "</div>"
      ],
      "text/plain": [
       "  first_active_month          card_id  feature_1  feature_2  feature_3  \\\n",
       "0            2017-04  C_ID_0ab67a22ab          3          3          1   \n",
       "1            2017-01  C_ID_130fd0cbdd          2          3          0   \n",
       "2            2017-08  C_ID_b709037bc5          5          1          1   \n",
       "\n",
       "   hist_transactions_count  hist_authorized_flag_sum  \\\n",
       "0                        1                      47.0   \n",
       "1                        1                      77.0   \n",
       "2                        1                       9.0   \n",
       "\n",
       "   hist_authorized_flag_mean  hist_active_months_lag3_sum  \\\n",
       "0                   0.662109                        213.0   \n",
       "1                   0.987305                        234.0   \n",
       "2                   0.692383                         39.0   \n",
       "\n",
       "   hist_active_months_lag3_mean            ...              \\\n",
       "0                           3.0            ...               \n",
       "1                           3.0            ...               \n",
       "2                           3.0            ...               \n",
       "\n",
       "   new_purchase_dayofweek_max  new_purchase_dayofweek_min  \\\n",
       "0                         5.0                         2.0   \n",
       "1                         6.0                         0.0   \n",
       "2                         3.0                         1.0   \n",
       "\n",
       "   new_purchase_dayofweek_std  new_purchase_dayofweek_mode  \\\n",
       "0                    1.527344                          2.0   \n",
       "1                    2.359375                          0.0   \n",
       "2                    1.414062                          1.0   \n",
       "\n",
       "   new_purchase_quarter_mean  new_purchase_quarter_median  \\\n",
       "0                   1.000000                          1.0   \n",
       "1                   1.400391                          1.0   \n",
       "2                   1.000000                          1.0   \n",
       "\n",
       "   new_purchase_quarter_max  new_purchase_quarter_min  \\\n",
       "0                       1.0                       1.0   \n",
       "1                       2.0                       1.0   \n",
       "2                       1.0                       1.0   \n",
       "\n",
       "   new_purchase_quarter_std  new_purchase_quarter_mode  \n",
       "0                  0.000000                        1.0  \n",
       "1                  0.516602                        1.0  \n",
       "2                  0.000000                        1.0  \n",
       "\n",
       "[3 rows x 321 columns]"
      ]
     },
     "execution_count": 13,
     "metadata": {},
     "output_type": "execute_result"
    }
   ],
   "source": [
    "df_test[:3]"
   ]
  },
  {
   "cell_type": "code",
   "execution_count": 14,
   "metadata": {},
   "outputs": [
    {
     "data": {
      "text/plain": [
       "<matplotlib.axes._subplots.AxesSubplot at 0x7fef8f00a048>"
      ]
     },
     "execution_count": 14,
     "metadata": {},
     "output_type": "execute_result"
    },
    {
     "data": {
      "image/png": "[encoded data removed]",
      "text/plain": [
       "<Figure size 432x288 with 1 Axes>"
      ]
     },
     "metadata": {
      "needs_background": "light"
     },
     "output_type": "display_data"
    }
   ],
   "source": [
    "df_train['target'].hist(bins=100)"
   ]
  },
  {
   "cell_type": "markdown",
   "metadata": {},
   "source": [
    "### Marking outliers"
   ]
  },
  {
   "cell_type": "code",
   "execution_count": 15,
   "metadata": {},
   "outputs": [],
   "source": [
    "df_train['is_outlier'] = df_train['target'].apply(lambda x: 1 if x < -30 else 0)"
   ]
  },
  {
   "cell_type": "code",
   "execution_count": 16,
   "metadata": {},
   "outputs": [
    {
     "data": {
      "text/plain": [
       "2207"
      ]
     },
     "execution_count": 16,
     "metadata": {},
     "output_type": "execute_result"
    }
   ],
   "source": [
    "len(df_train[df_train['is_outlier'] == 1]['is_outlier'])"
   ]
  },
  {
   "cell_type": "code",
   "execution_count": 17,
   "metadata": {},
   "outputs": [
    {
     "data": {
      "text/plain": [
       "Text(0, 0.5, 'Frequency')"
      ]
     },
     "execution_count": 17,
     "metadata": {},
     "output_type": "execute_result"
    },
    {
     "data": {
      "image/png": "[encoded data removed]",
      "text/plain": [
       "<Figure size 432x288 with 1 Axes>"
      ]
     },
     "metadata": {
      "needs_background": "light"
     },
     "output_type": "display_data"
    }
   ],
   "source": [
    "count_classes = pd.value_counts(df_train['is_outlier'], sort = True)\n",
    "count_classes.plot(kind = 'bar', rot=0)\n",
    "plt.title(\"Transaction class distribution\")\n",
    "plt.xticks(range(2), [\"Normal\", \"Outlier\"])\n",
    "plt.ylabel(\"Frequency\")"
   ]
  },
  {
   "cell_type": "markdown",
   "metadata": {},
   "source": [
    "### Filtering"
   ]
  },
  {
   "cell_type": "code",
   "execution_count": 18,
   "metadata": {},
   "outputs": [],
   "source": [
    "df_train.drop(columns=['card_id', 'first_active_month', 'hist_merchant_id_mode', 'new_merchant_id_mode'], inplace=True, axis=1)\n",
    "df_test.drop(columns=['card_id', 'first_active_month', 'hist_merchant_id_mode', 'new_merchant_id_mode'], inplace=True, axis=1)"
   ]
  },
  {
   "cell_type": "code",
   "execution_count": 19,
   "metadata": {},
   "outputs": [
    {
     "data": {
      "text/plain": [
       "(201917, 123623)"
      ]
     },
     "execution_count": 19,
     "metadata": {},
     "output_type": "execute_result"
    }
   ],
   "source": [
    "len(df_train), len(df_test)"
   ]
  },
  {
   "cell_type": "code",
   "execution_count": 20,
   "metadata": {},
   "outputs": [],
   "source": [
    "df_train.dropna(how='any', axis=0, inplace=True)\n",
    "df_test.dropna(how='any', axis=0, inplace=True)"
   ]
  },
  {
   "cell_type": "code",
   "execution_count": 21,
   "metadata": {},
   "outputs": [
    {
     "data": {
      "text/plain": [
       "(147718, 90384)"
      ]
     },
     "execution_count": 21,
     "metadata": {},
     "output_type": "execute_result"
    }
   ],
   "source": [
    "len(df_train), len(df_test)"
   ]
  },
  {
   "cell_type": "code",
   "execution_count": 22,
   "metadata": {},
   "outputs": [
    {
     "name": "stdout",
     "output_type": "stream",
     "text": [
      "feature_1: 3.0877 (1.1951)\n",
      "feature_2: 1.7326 (0.7500)\n",
      "feature_3: 0.5543 (0.4970)\n",
      "target: -0.4637 (3.0914)\n",
      "hist_transactions_count: 1.0000 (0.0000)\n",
      "hist_authorized_flag_sum: 96.7168 (111.3211)\n",
      "hist_authorized_flag_mean: 0.1419 (0.3490)\n",
      "hist_active_months_lag3_sum: 313.4754 (349.7907)\n",
      "hist_active_months_lag3_mean: 2.9866 (0.1149)\n",
      "hist_active_months_lag6_sum: 626.7824 (699.3774)\n",
      "hist_active_months_lag6_mean: 5.9466 (0.2249)\n",
      "hist_active_months_lag12_sum: 1229.6961 (1374.6195)\n",
      "hist_active_months_lag12_mean: 11.1854 (0.4336)\n",
      "hist_avg_sales_lag3_sum: 13026.3418 (150941.2031)\n",
      "hist_avg_sales_lag3_mean: 130.5023 (1961.9861)\n",
      "hist_avg_sales_lag6_sum: 12329.6572 (141868.8281)\n",
      "hist_avg_sales_lag6_mean: 123.9150 (1847.1615)\n",
      "hist_avg_sales_lag12_sum: 11424.0674 (138272.3594)\n",
      "hist_avg_sales_lag12_mean: 114.8046 (1782.2146)\n",
      "hist_avg_purchases_lag3_sum: inf (nan)\n",
      "hist_avg_purchases_lag3_mean: inf (nan)\n",
      "hist_avg_purchases_lag6_sum: inf (nan)\n",
      "hist_avg_purchases_lag6_mean: inf (nan)\n",
      "hist_avg_purchases_lag12_sum: inf (nan)\n",
      "hist_avg_purchases_lag12_mean: inf (nan)\n",
      "hist_category_1_trans_sum: 6.1011 (18.6061)\n",
      "hist_category_1_trans_mean: 0.0000 (0.0000)\n",
      "hist_category_1_merch_sum: 16.6153 (25.4355)\n",
      "hist_category_1_merch_mean: 0.0000 (0.0000)\n",
      "hist_category_2_trans_sum: 208.9516 (318.0031)\n",
      "hist_category_2_trans_mean: 1.8578 (1.1558)\n",
      "hist_category_2_trans_mode: 2.2107 (1.5159)\n",
      "hist_category_2_trans_nancnt: 7.2018 (21.9816)\n",
      "hist_category_2_trans_nanperc: 8.0301 (15.8880)\n",
      "hist_category_2_merch_sum: 197.3885 (308.6681)\n",
      "hist_category_2_merch_mean: 2.1114 (1.3998)\n",
      "hist_category_2_merch_mode: 2.2564 (1.5297)\n",
      "hist_category_2_merch_nancnt: 17.5494 (27.3753)\n",
      "hist_category_2_merch_nanperc: 17.9430 (17.2910)\n",
      "hist_category_3_sum: 54.4710 (93.6685)\n",
      "hist_category_3_mean: 0.5158 (0.5035)\n",
      "hist_category_3_mode: 0.5605 (0.5764)\n",
      "hist_category_3_nancnt: 0.6290 (1.5281)\n",
      "hist_category_3_nanperc: 1.0749 (3.4280)\n",
      "hist_category_4_sum: 55.8960 (88.3042)\n",
      "hist_category_4_mean: 0.0933 (0.2909)\n",
      "hist_city_id_nunique: 5.3800 (3.7099)\n",
      "hist_city_id_mode: 135.6271 (104.1336)\n",
      "hist_city_id_nancnt: 0.0000 (0.0000)\n",
      "hist_city_id_nanperc: 0.0000 (0.0000)\n",
      "hist_installments_sum: 65.8095 (112.7410)\n",
      "hist_installments_median: 0.5841 (0.7106)\n",
      "hist_installments_mean: 0.6294 (0.9257)\n",
      "hist_installments_max: 4.3069 (23.9259)\n",
      "hist_installments_min: -0.0019 (0.7147)\n",
      "hist_installments_std: 0.4733 (2.9919)\n",
      "hist_installments_mode: 0.5567 (0.7257)\n",
      "hist_installments_nancnt: 0.0000 (0.0000)\n",
      "hist_installments_nanperc: 0.0000 (0.0000)\n",
      "hist_merchant_id_nunique: 38.5399 (32.6949)\n",
      "hist_merchant_id_nancnt: 0.5106 (1.4118)\n",
      "hist_merchant_id_nanperc: 0.4379 (1.6262)\n",
      "hist_merchant_category_id_trans_nunique: 20.2509 (11.7008)\n",
      "hist_merchant_category_id_trans_mode: 536.3420 (249.4129)\n",
      "hist_merchant_category_id_trans_nancnt: 0.0000 (0.0000)\n",
      "hist_merchant_category_id_trans_nanperc: 0.0000 (0.0000)\n",
      "hist_merchant_group_id_nunique: 26.4158 (22.4729)\n",
      "hist_merchant_group_id_mode: 5873.2651 (19187.6523)\n",
      "hist_merchant_group_id_nancnt: 0.5106 (1.4118)\n",
      "hist_merchant_group_id_nanperc: 0.4379 (1.6262)\n",
      "hist_merchant_category_id_merch_nunique: 19.4257 (11.0796)\n",
      "hist_merchant_category_id_merch_mode: 494.3967 (220.8925)\n",
      "hist_merchant_category_id_merch_nancnt: 0.5106 (1.4118)\n",
      "hist_merchant_category_id_merch_nanperc: 0.4379 (1.6262)\n",
      "hist_month_lag_min: -7.5715 (3.8857)\n",
      "hist_month_lag_max: -0.1274 (0.5697)\n",
      "hist_month_lag_mean: -3.1215 (2.0904)\n",
      "hist_most_recent_sales_range_sum: 246.2816 (281.8642)\n",
      "hist_most_recent_sales_range_mean: 1.8776 (0.5640)\n",
      "hist_most_recent_sales_range_max: 3.9634 (0.2189)\n",
      "hist_most_recent_sales_range_min: 0.0000 (0.0000)\n",
      "hist_most_recent_sales_range_std: 0.8894 (0.3157)\n",
      "hist_most_recent_sales_range_mode: 2.7722 (1.2147)\n",
      "hist_most_recent_purchases_range_sum: 254.1958 (295.4684)\n",
      "hist_most_recent_purchases_range_mean: 1.9122 (0.5602)\n",
      "hist_most_recent_purchases_range_max: 3.9601 (0.2333)\n",
      "hist_most_recent_purchases_range_min: 0.0000 (0.0000)\n",
      "hist_most_recent_purchases_range_std: 0.8797 (0.3275)\n",
      "hist_most_recent_purchases_range_mode: 2.7985 (1.2246)\n",
      "hist_numerical_1_mean: 4.5395 (8.2045)\n",
      "hist_numerical_1_median: 0.0000 (0.0000)\n",
      "hist_numerical_1_max: 57.5656 (65.2554)\n",
      "hist_numerical_1_min: -0.0000 (0.0000)\n",
      "hist_numerical_1_std: 11.9085 (15.5031)\n",
      "hist_numerical_1_mode: 1.0972 (10.4323)\n",
      "hist_numerical_2_mean: 4.4279 (8.0728)\n",
      "hist_numerical_2_median: 0.0000 (0.0000)\n",
      "hist_numerical_2_max: 56.9293 (64.6059)\n",
      "hist_numerical_2_min: -0.0000 (0.0000)\n",
      "hist_numerical_2_std: 11.7682 (15.3240)\n",
      "hist_numerical_2_mode: 0.4961 (6.8764)\n",
      "hist_state_id_nunique: 2.8778 (1.5831)\n",
      "hist_state_id_mode: 11.1763 (6.0483)\n",
      "hist_state_id_nancnt: 0.0000 (0.0000)\n",
      "hist_state_id_nanperc: 0.0000 (0.0000)\n",
      "hist_subsector_id_trans_nunique: 12.4010 (5.0646)\n",
      "hist_subsector_id_trans_mode: 28.4719 (8.2286)\n",
      "hist_subsector_id_trans_nancnt: 0.0000 (0.0000)\n",
      "hist_subsector_id_trans_nanperc: 0.0000 (0.0000)\n",
      "hist_subsector_id_merch_nunique: 12.4192 (5.0453)\n",
      "hist_subsector_id_merch_mode: 25.8324 (10.8462)\n",
      "hist_subsector_id_merch_nancnt: 0.5106 (1.4118)\n",
      "hist_subsector_id_merch_nanperc: 0.4379 (1.6262)\n",
      "hist_purchase_amount_sum: 14.7370 (15694.1895)\n",
      "hist_purchase_amount_mean: 3.2138 (1303.3660)\n",
      "hist_purchase_amount_max: 76.5675 (15693.4443)\n",
      "hist_purchase_amount_min: 0.0001 (0.0286)\n",
      "hist_purchase_amount_std: 15.1825 (4516.1724)\n",
      "hist_purchase_amount_mode: 0.0396 (0.6728)\n",
      "hist_purchase_year_mean: 2017.1323 (0.3388)\n",
      "hist_purchase_year_median: 2017.1323 (0.3388)\n",
      "hist_purchase_year_max: 2017.7621 (0.4258)\n",
      "hist_purchase_year_min: 2017.0000 (0.0000)\n",
      "hist_purchase_year_std: 0.0000 (0.0000)\n",
      "hist_purchase_year_mode: 2017.1233 (0.3288)\n",
      "hist_purchase_month_mean: 6.0358 (1.8745)\n",
      "hist_purchase_month_median: 6.7042 (3.0091)\n",
      "hist_purchase_month_max: 11.2197 (1.8810)\n",
      "hist_purchase_month_min: 1.5522 (1.6546)\n",
      "hist_purchase_month_std: 2.9479 (1.2295)\n",
      "hist_purchase_month_mode: 5.9929 (4.2838)\n",
      "hist_purchase_day_mean: 15.4829 (2.5959)\n",
      "hist_purchase_day_median: 15.9705 (3.9969)\n",
      "hist_purchase_day_max: 29.8766 (2.1990)\n",
      "hist_purchase_day_min: 2.0149 (2.2551)\n",
      "hist_purchase_day_std: 7.7680 (1.4399)\n",
      "hist_purchase_day_mode: 14.4757 (8.4881)\n",
      "hist_purchase_hour_mean: 13.6206 (1.5233)\n",
      "hist_purchase_hour_median: 14.5650 (1.9822)\n",
      "hist_purchase_hour_max: 22.0736 (1.5069)\n",
      "hist_purchase_hour_min: 1.9198 (3.5179)\n",
      "hist_purchase_hour_std: 4.5809 (1.3426)\n",
      "hist_purchase_hour_mode: 13.5907 (5.0923)\n",
      "hist_purchase_weekofyear_mean: 26.0538 (8.0398)\n",
      "hist_purchase_weekofyear_median: 27.3152 (12.9418)\n",
      "hist_purchase_weekofyear_max: 48.2151 (8.0601)\n",
      "hist_purchase_weekofyear_min: 4.0553 (7.4979)\n",
      "hist_purchase_weekofyear_std: 14.5538 (5.1418)\n",
      "hist_purchase_weekofyear_mode: 23.6583 (18.3511)\n",
      "hist_purchase_dayofweek_mean: 2.5422 (0.6283)\n",
      "hist_purchase_dayofweek_median: 3.1057 (0.8782)\n",
      "hist_purchase_dayofweek_max: 5.8632 (0.4298)\n",
      "hist_purchase_dayofweek_min: 0.0715 (0.3348)\n",
      "hist_purchase_dayofweek_std: 1.2151 (0.4272)\n",
      "hist_purchase_dayofweek_mode: 3.2068 (1.8238)\n",
      "hist_purchase_quarter_mean: 2.0397 (0.6242)\n",
      "hist_purchase_quarter_median: 2.5708 (1.0320)\n",
      "hist_purchase_quarter_max: 3.8184 (0.5431)\n",
      "hist_purchase_quarter_min: 1.1323 (0.4740)\n",
      "hist_purchase_quarter_std: 0.6974 (0.4594)\n",
      "hist_purchase_quarter_mode: 2.4960 (1.3170)\n",
      "new_transactions_count: 1.0000 (0.0000)\n",
      "new_authorized_flag_sum: 8.0499 (6.8662)\n",
      "new_authorized_flag_mean: 1.0000 (0.0000)\n",
      "new_active_months_lag3_sum: 23.8549 (20.4714)\n",
      "new_active_months_lag3_mean: 2.9988 (0.0344)\n",
      "new_active_months_lag6_sum: 47.6413 (40.8818)\n",
      "new_active_months_lag6_mean: 5.9636 (0.1893)\n",
      "new_active_months_lag12_sum: 93.7455 (80.7951)\n",
      "new_active_months_lag12_mean: 11.5963 (0.6313)\n",
      "new_avg_sales_lag3_sum: 362.6921 (17190.4805)\n",
      "new_avg_sales_lag3_mean: 40.3760 (2396.4983)\n",
      "new_avg_sales_lag6_sum: 360.8368 (16685.2578)\n",
      "new_avg_sales_lag6_mean: 38.8400 (2189.4004)\n",
      "new_avg_sales_lag12_sum: 343.6239 (16961.4590)\n",
      "new_avg_sales_lag12_mean: 35.7340 (1974.2880)\n",
      "new_avg_purchases_lag3_sum: 36.3451 (1236.6488)\n",
      "new_avg_purchases_lag3_mean: 3.9841 (172.9089)\n",
      "new_avg_purchases_lag6_sum: 65.2337 (1132.6649)\n",
      "new_avg_purchases_lag6_mean: 8.1225 (159.2151)\n",
      "new_avg_purchases_lag12_sum: 68.1853 (1026.9635)\n",
      "new_avg_purchases_lag12_mean: 8.5860 (145.2153)\n",
      "new_category_1_trans_sum: 0.2313 (0.6441)\n",
      "new_category_1_trans_mean: 0.0000 (0.0000)\n",
      "new_category_1_merch_sum: 0.7701 (1.1499)\n",
      "new_category_1_merch_mean: 0.0000 (0.0000)\n",
      "new_category_2_trans_sum: 16.7172 (20.2138)\n",
      "new_category_2_trans_mean: 2.0526 (1.3542)\n",
      "new_category_2_trans_mode: 2.1699 (1.5054)\n",
      "new_category_2_trans_nancnt: 0.0000 (0.0000)\n"
     ]
    },
    {
     "name": "stdout",
     "output_type": "stream",
     "text": [
      "new_category_2_trans_nanperc: 4.6427 (12.1898)\n",
      "new_category_2_merch_sum: 15.9339 (19.8446)\n",
      "new_category_2_merch_mean: 2.1792 (1.4587)\n",
      "new_category_2_merch_mode: 2.2388 (1.5272)\n",
      "new_category_2_merch_nancnt: 0.9026 (1.3522)\n",
      "new_category_2_merch_nanperc: 11.9043 (16.9196)\n",
      "new_category_3_sum: 4.6446 (7.0415)\n",
      "new_category_3_mean: 0.5316 (0.5310)\n",
      "new_category_3_mode: 0.5587 (0.5738)\n",
      "new_category_3_nancnt: 0.0000 (0.0000)\n",
      "new_category_3_nanperc: 3.1530 (9.2390)\n",
      "new_category_4_sum: 4.0277 (5.1978)\n",
      "new_category_4_mean: 0.2198 (0.4141)\n",
      "new_city_id_nunique: 2.5745 (1.7250)\n",
      "new_city_id_mode: 129.5956 (99.5631)\n",
      "new_city_id_nancnt: 0.0000 (0.0000)\n",
      "new_city_id_nanperc: 0.0000 (0.0000)\n",
      "new_installments_sum: 5.4636 (9.0421)\n",
      "new_installments_median: 0.5913 (0.7818)\n",
      "new_installments_mean: 0.5650 (0.8297)\n",
      "new_installments_max: 1.5609 (3.5678)\n",
      "new_installments_min: 0.2161 (0.7393)\n",
      "new_installments_std: 0.3332 (0.9593)\n",
      "new_installments_mode: 0.5047 (0.7122)\n",
      "new_installments_nancnt: 0.0000 (0.0000)\n",
      "new_installments_nanperc: 0.0000 (0.0000)\n",
      "new_merchant_id_nunique: 7.8263 (6.7674)\n",
      "new_merchant_id_nancnt: 0.0976 (0.2971)\n",
      "new_merchant_id_nanperc: 1.2555 (4.6164)\n",
      "new_merchant_category_id_trans_nunique: 6.1938 (4.1845)\n",
      "new_merchant_category_id_trans_mode: 310.2593 (237.9681)\n",
      "new_merchant_category_id_trans_nancnt: 0.0000 (0.0000)\n",
      "new_merchant_category_id_trans_nanperc: 0.0000 (0.0000)\n",
      "new_merchant_group_id_nunique: 6.2513 (5.2096)\n",
      "new_merchant_group_id_mode: 1775.9818 (7943.8931)\n",
      "new_merchant_group_id_nancnt: 0.0000 (0.0000)\n",
      "new_merchant_group_id_nanperc: 1.2555 (4.6164)\n",
      "new_merchant_category_id_merch_nunique: 6.1100 (4.1476)\n",
      "new_merchant_category_id_merch_mode: 293.4166 (211.0457)\n",
      "new_merchant_category_id_merch_nancnt: 0.0000 (0.0000)\n",
      "new_merchant_category_id_merch_nanperc: 1.2555 (4.6164)\n",
      "new_month_lag_min: 1.0996 (0.2994)\n",
      "new_month_lag_max: 1.8781 (0.3272)\n",
      "new_month_lag_mean: 1.0996 (0.2994)\n",
      "new_most_recent_sales_range_sum: 16.3429 (14.1091)\n",
      "new_most_recent_sales_range_mean: 1.7041 (0.7297)\n",
      "new_most_recent_sales_range_max: 3.5157 (0.8032)\n",
      "new_most_recent_sales_range_min: 0.6629 (0.8597)\n",
      "new_most_recent_sales_range_std: 0.7619 (0.5306)\n",
      "new_most_recent_sales_range_mode: 1.7658 (1.2211)\n",
      "new_most_recent_purchases_range_sum: 16.6592 (14.5083)\n",
      "new_most_recent_purchases_range_mean: 1.7306 (0.7267)\n",
      "new_most_recent_purchases_range_max: 3.5220 (0.8126)\n",
      "new_most_recent_purchases_range_min: 0.7308 (0.8441)\n",
      "new_most_recent_purchases_range_std: 0.7403 (0.5328)\n",
      "new_most_recent_purchases_range_mode: 1.7828 (1.1960)\n",
      "new_numerical_1_mean: 3.3802 (8.3829)\n",
      "new_numerical_1_median: 0.8369 (5.5778)\n",
      "new_numerical_1_max: 19.9888 (39.7693)\n",
      "new_numerical_1_min: 0.0000 (0.0000)\n",
      "new_numerical_1_std: 7.0454 (14.8150)\n",
      "new_numerical_1_mode: 0.0000 (0.0000)\n",
      "new_numerical_2_mean: 3.2998 (8.2453)\n",
      "new_numerical_2_median: 0.8136 (5.5024)\n",
      "new_numerical_2_max: 19.6369 (39.1573)\n",
      "new_numerical_2_min: 0.0000 (0.0000)\n",
      "new_numerical_2_std: 6.9342 (14.5914)\n",
      "new_numerical_2_mode: 0.0000 (0.0000)\n",
      "new_state_id_nunique: 1.6928 (0.9170)\n",
      "new_state_id_mode: 11.1739 (5.8385)\n",
      "new_state_id_nancnt: 0.0000 (0.0000)\n",
      "new_state_id_nanperc: 0.0000 (0.0000)\n",
      "new_subsector_id_trans_nunique: 5.1302 (2.9233)\n",
      "new_subsector_id_trans_mode: 23.2761 (10.7747)\n",
      "new_subsector_id_trans_nancnt: 0.0000 (0.0000)\n",
      "new_subsector_id_trans_nanperc: 0.0000 (0.0000)\n",
      "new_subsector_id_merch_nunique: 5.0942 (2.9247)\n",
      "new_subsector_id_merch_mode: 21.8923 (11.3851)\n",
      "new_subsector_id_merch_nancnt: 0.0000 (0.0000)\n",
      "new_subsector_id_merch_nanperc: 1.2555 (4.6164)\n",
      "new_purchase_amount_sum: -4.0204 (4.5259)\n",
      "new_purchase_amount_mean: 0.0155 (0.2612)\n",
      "new_purchase_amount_max: -0.0000 (0.0000)\n",
      "new_purchase_amount_min: 0.0010 (0.0549)\n",
      "new_purchase_amount_std: 0.0000 (0.0000)\n",
      "new_purchase_amount_mode: 0.0063 (0.1721)\n",
      "new_purchase_year_mean: 2017.8530 (0.3541)\n",
      "new_purchase_year_median: 2017.8530 (0.3541)\n",
      "new_purchase_year_max: 2017.8661 (0.3405)\n",
      "new_purchase_year_min: 2017.8407 (0.3659)\n",
      "new_purchase_year_std: 0.0000 (0.0000)\n",
      "new_purchase_year_mode: 2017.8491 (0.3579)\n",
      "new_purchase_month_mean: 3.7225 (2.2438)\n",
      "new_purchase_month_median: 4.0328 (2.4088)\n",
      "new_purchase_month_max: 4.6145 (2.4662)\n",
      "new_purchase_month_min: 3.5817 (2.2083)\n",
      "new_purchase_month_std: 0.1273 (0.8025)\n",
      "new_purchase_month_mode: 4.0134 (2.4130)\n",
      "new_purchase_day_mean: 15.2940 (5.1409)\n",
      "new_purchase_day_median: 15.5548 (6.4633)\n",
      "new_purchase_day_max: 24.5428 (6.5132)\n",
      "new_purchase_day_min: 6.8562 (6.2037)\n",
      "new_purchase_day_std: 6.7238 (3.5083)\n",
      "new_purchase_day_mode: 12.2568 (8.5738)\n",
      "new_purchase_hour_mean: 13.1184 (2.4657)\n",
      "new_purchase_hour_median: 13.4998 (2.9126)\n",
      "new_purchase_hour_max: 18.4818 (3.3353)\n",
      "new_purchase_hour_min: 8.0627 (4.0775)\n",
      "new_purchase_hour_std: 3.5229 (1.9262)\n",
      "new_purchase_hour_mode: 11.5967 (4.5305)\n",
      "new_purchase_weekofyear_mean: 15.5348 (9.7552)\n",
      "new_purchase_weekofyear_median: 15.8606 (10.3443)\n",
      "new_purchase_weekofyear_max: 18.9434 (10.7746)\n",
      "new_purchase_weekofyear_min: 12.8340 (9.6456)\n",
      "new_purchase_weekofyear_std: 2.1608 (3.6340)\n",
      "new_purchase_weekofyear_mode: 15.1273 (10.4693)\n",
      "new_purchase_dayofweek_mean: 2.7069 (1.0690)\n",
      "new_purchase_dayofweek_median: 3.0863 (1.3617)\n",
      "new_purchase_dayofweek_max: 5.0258 (1.2107)\n",
      "new_purchase_dayofweek_min: 0.9793 (1.3379)\n",
      "new_purchase_dayofweek_std: 1.2004 (0.7331)\n",
      "new_purchase_dayofweek_mode: 2.6647 (1.9298)\n",
      "new_purchase_quarter_mean: 1.3863 (0.8248)\n",
      "new_purchase_quarter_median: 1.6176 (0.8775)\n",
      "new_purchase_quarter_max: 2.0183 (0.7954)\n",
      "new_purchase_quarter_min: 1.3555 (0.8090)\n",
      "new_purchase_quarter_std: 0.0000 (0.0000)\n",
      "new_purchase_quarter_mode: 1.6137 (0.8780)\n"
     ]
    }
   ],
   "source": [
    "for f in df_train.columns:\n",
    "    if f != 'is_outlier':\n",
    "        mean = df_train[f].mean()\n",
    "        std = df_train[f].std()\n",
    "        if math.isnan(mean):\n",
    "            mean = df_train[f].astype(int).mean()\n",
    "            std = df_train[f].astype(int).std()\n",
    "    \n",
    "        df_train[f] = (df_train[f] - mean)/std\n",
    "        print('{}: {:.4f} ({:.4f})'.format(f, mean, std))"
   ]
  },
  {
   "cell_type": "markdown",
   "metadata": {},
   "source": [
    "## k-Nearest Neighbors\n",
    "http://dataaspirant.com/2016/12/30/k-nearest-neighbor-implementation-scikit-learn/"
   ]
  },
  {
   "cell_type": "code",
   "execution_count": 33,
   "metadata": {},
   "outputs": [],
   "source": [
    "def SplitIntoTrainTestSet(df, cols, test_perc=0.2, verbose=True):\n",
    "    X_train, X_test = train_test_split(df[cols], test_size=0.2, random_state=42)\n",
    "\n",
    "    y_train = X_train['is_outlier']\n",
    "    X_train = X_train.drop(['is_outlier'], axis=1)\n",
    "\n",
    "    y_test = X_test['is_outlier']\n",
    "    X_test = X_test.drop(['is_outlier'], axis=1)\n",
    "    \n",
    "    if verbose:\n",
    "        print('There are {:,} records and {} fetures in the training set and {:,} records and {} fetures in the test set.'.format(\n",
    "            X_train.shape[0],\n",
    "            X_train.shape[1],\n",
    "            X_test.shape[0],\n",
    "            X_test.shape[1]\n",
    "        ))\n",
    "\n",
    "    return X_train.values, y_train, X_test.values, y_test\n",
    "\n",
    "def createReconstructionError(model, X_test, y_test):\n",
    "    predictions = model.predict(X_test)\n",
    "    mse = np.mean(np.power(X_test - predictions, 2), axis=1)\n",
    "    error_df = pd.DataFrame({\n",
    "        'reconstruction_error': mse,\n",
    "        'true_class': y_test\n",
    "    })\n",
    "    return error_df\n",
    "\n",
    "def plotROCcurve(error_df):\n",
    "    fpr, tpr, thresholds = roc_curve(error_df.true_class, error_df.reconstruction_error)\n",
    "    roc_auc = auc(fpr, tpr)\n",
    "\n",
    "    plt.title('Receiver Operating Characteristic')\n",
    "    plt.plot(fpr, tpr, label='AUC = %0.4f'% roc_auc)\n",
    "    plt.legend(loc='lower right')\n",
    "    plt.plot([0, 1], [0, 1],'r--')\n",
    "    plt.xlim([-0.001, 1])\n",
    "    plt.ylim([0, 1.001])\n",
    "    plt.ylabel('True Positive Rate')\n",
    "    plt.xlabel('False Positive Rate')\n",
    "    plt.show()\n",
    "\n",
    "def plotRecallPrecisionCurve(error_df):\n",
    "    precision, recall, th = precision_recall_curve(error_df.true_class, error_df.reconstruction_error)\n",
    "    plt.plot(recall, precision, 'b', label='Precision-Recall curve')\n",
    "    plt.title('Recall vs Precision')\n",
    "    plt.xlabel('Recall')\n",
    "    plt.ylabel('Precision')\n",
    "    plt.show()\n",
    "    return precision, recall, th\n",
    "\n",
    "def plotThresholdPrecisionCurve(th, precision):\n",
    "    plt.plot(th, precision[1:], 'b', label='Threshold-Precision curve')\n",
    "    plt.title('Precision for different threshold values')\n",
    "    plt.xlabel('Threshold')\n",
    "    plt.ylabel('Precision')\n",
    "    plt.show()\n",
    "\n",
    "def plotReconstructionErrorDataPoints(error_df, threshold):\n",
    "    groups = error_df.groupby('true_class')\n",
    "    fig, ax = plt.subplots()\n",
    "\n",
    "    for name, group in groups:\n",
    "        ax.plot(group.index, group.reconstruction_error, marker='o', ms=3.5, linestyle='',\n",
    "                label= \"Fraud\" if name == 1 else \"Normal\")\n",
    "    ax.hlines(threshold, ax.get_xlim()[0], ax.get_xlim()[1], colors=\"r\", zorder=100, label='Threshold')\n",
    "    ax.legend()\n",
    "    plt.title(\"Reconstruction error for different classes\")\n",
    "    plt.ylabel(\"Reconstruction error\")\n",
    "    plt.xlabel(\"Data point index\")\n",
    "    plt.show()\n",
    "\n",
    "def drawConfusionMatrix(error_df, threshold):\n",
    "    y_pred = [1 if e > threshold else 0 for e in error_df.reconstruction_error.values]\n",
    "    conf_matrix = confusion_matrix(error_df.true_class, y_pred)\n",
    "    plt.figure(figsize=(12, 12))\n",
    "    sns.heatmap(conf_matrix, xticklabels=[\"Normal\", \"Outlier\"], yticklabels=[\"Normal\", \"Outlier\"], annot=True, fmt=\"d\");\n",
    "    plt.title(\"Confusion matrix\")\n",
    "    plt.ylabel('True class')\n",
    "    plt.xlabel('Predicted class')\n",
    "    plt.show()"
   ]
  },
  {
   "cell_type": "code",
   "execution_count": 24,
   "metadata": {},
   "outputs": [
    {
     "name": "stdout",
     "output_type": "stream",
     "text": [
      "There are 118,174 records and 210 fetures in the training set and 29,544 records and 210 fetures in the test set.\n"
     ]
    }
   ],
   "source": [
    "cols = ['feature_1', 'feature_2', 'feature_3', 'hist_authorized_flag_sum', 'hist_active_months_lag3_sum', 'hist_active_months_lag6_sum', 'hist_active_months_lag12_sum', 'hist_avg_sales_lag3_sum', 'hist_avg_sales_lag3_mean', 'hist_avg_sales_lag6_sum', 'hist_avg_sales_lag6_mean', 'hist_avg_sales_lag12_sum', 'hist_avg_sales_lag12_mean', 'hist_category_1_trans_sum', 'hist_category_1_merch_sum', 'hist_category_2_trans_sum', 'hist_category_2_trans_mean', 'hist_category_2_trans_nancnt', 'hist_category_2_trans_nanperc', 'hist_category_2_merch_sum', 'hist_category_2_merch_mean', 'hist_category_2_merch_nancnt', 'hist_category_2_merch_nanperc', 'hist_category_3_sum', 'hist_category_3_nanperc', 'hist_category_4_sum', 'hist_city_id_nunique', 'hist_city_id_mode', 'hist_installments_sum', 'hist_installments_mean', 'hist_installments_max', 'hist_installments_min', 'hist_installments_std', 'hist_installments_mode', 'hist_merchant_id_nunique', 'hist_merchant_id_nancnt', 'hist_merchant_category_id_trans_nunique', 'hist_merchant_category_id_trans_mode', 'hist_merchant_group_id_nunique', 'hist_merchant_group_id_mode', 'hist_merchant_category_id_merch_nunique', 'hist_merchant_category_id_merch_mode', 'hist_month_lag_min', 'hist_month_lag_max', 'hist_month_lag_mean', 'hist_most_recent_sales_range_sum', 'hist_most_recent_sales_range_max', 'hist_most_recent_sales_range_mode', 'hist_most_recent_purchases_range_sum', 'hist_most_recent_purchases_range_max', 'hist_most_recent_purchases_range_mode', 'hist_numerical_1_mean', 'hist_numerical_1_std', 'hist_numerical_1_mode', 'hist_numerical_2_mean', 'hist_numerical_2_std', 'hist_state_id_nunique', 'hist_state_id_mode', 'hist_subsector_id_trans_nunique', 'hist_subsector_id_trans_mode', 'hist_subsector_id_merch_nunique', 'hist_subsector_id_merch_mode', 'hist_purchase_amount_sum', 'hist_purchase_amount_mean', 'hist_purchase_amount_max', 'hist_purchase_amount_std', 'hist_purchase_year_mean', 'hist_purchase_year_median', 'hist_purchase_year_max', 'hist_purchase_year_mode', 'hist_purchase_month_mean', 'hist_purchase_month_median', 'hist_purchase_month_max', 'hist_purchase_month_min', 'hist_purchase_month_std', 'hist_purchase_month_mode', 'hist_purchase_day_mean', 'hist_purchase_day_median', 'hist_purchase_day_max', 'hist_purchase_day_min', 'hist_purchase_day_std', 'hist_purchase_day_mode', 'hist_purchase_hour_mean', 'hist_purchase_hour_median', 'hist_purchase_hour_max', 'hist_purchase_hour_min', 'hist_purchase_hour_std', 'hist_purchase_hour_mode', 'hist_purchase_weekofyear_mean', 'hist_purchase_weekofyear_median', 'hist_purchase_weekofyear_max', 'hist_purchase_weekofyear_min', 'hist_purchase_weekofyear_std', 'hist_purchase_weekofyear_mode', 'hist_purchase_dayofweek_median', 'hist_purchase_dayofweek_max', 'hist_purchase_dayofweek_min', 'hist_purchase_dayofweek_mode', 'hist_purchase_quarter_median', 'hist_purchase_quarter_max', 'hist_purchase_quarter_min', 'hist_purchase_quarter_mode', 'new_authorized_flag_sum', 'new_active_months_lag3_sum', 'new_active_months_lag3_mean', 'new_active_months_lag6_sum', 'new_active_months_lag12_sum', 'new_avg_sales_lag3_sum', 'new_avg_sales_lag3_mean', 'new_avg_sales_lag6_sum', 'new_avg_sales_lag6_mean', 'new_avg_sales_lag12_sum', 'new_avg_sales_lag12_mean', 'new_avg_purchases_lag3_sum', 'new_avg_purchases_lag3_mean', 'new_avg_purchases_lag6_sum', 'new_avg_purchases_lag6_mean', 'new_avg_purchases_lag12_sum', 'new_avg_purchases_lag12_mean', 'new_category_1_trans_sum', 'new_category_1_merch_sum', 'new_category_2_trans_sum', 'new_category_2_trans_mean', 'new_category_2_trans_nanperc', 'new_category_2_merch_sum', 'new_category_2_merch_nancnt', 'new_category_2_merch_nanperc', 'new_category_3_sum', 'new_category_3_nanperc', 'new_category_4_sum', 'new_city_id_nunique', 'new_city_id_mode', 'new_installments_sum', 'new_installments_max', 'new_installments_min', 'new_installments_mode', 'new_merchant_id_nunique', 'new_merchant_id_nancnt', 'new_merchant_id_nanperc', 'new_merchant_category_id_trans_nunique', 'new_merchant_category_id_trans_mode', 'new_merchant_group_id_nunique', 'new_merchant_group_id_mode', 'new_merchant_group_id_nanperc', 'new_merchant_category_id_merch_nunique', 'new_merchant_category_id_merch_mode', 'new_merchant_category_id_merch_nanperc', 'new_month_lag_min', 'new_month_lag_max', 'new_most_recent_sales_range_sum', 'new_most_recent_sales_range_max', 'new_most_recent_sales_range_mode', 'new_most_recent_purchases_range_sum', 'new_most_recent_purchases_range_max', 'new_most_recent_purchases_range_min', 'new_most_recent_purchases_range_mode', 'new_numerical_1_mean', 'new_numerical_1_median', 'new_numerical_1_max', 'new_numerical_1_std', 'new_numerical_2_mean', 'new_numerical_2_median', 'new_numerical_2_max', 'new_numerical_2_std', 'new_state_id_nunique', 'new_state_id_mode', 'new_subsector_id_trans_nunique', 'new_subsector_id_trans_mode', 'new_subsector_id_merch_nunique', 'new_subsector_id_merch_mode', 'new_subsector_id_merch_nanperc', 'new_purchase_amount_sum', 'new_purchase_year_mean', 'new_purchase_year_median', 'new_purchase_year_max', 'new_purchase_year_min', 'new_purchase_year_mode', 'new_purchase_month_mean', 'new_purchase_month_median', 'new_purchase_month_max', 'new_purchase_month_min', 'new_purchase_month_mode', 'new_purchase_day_mean', 'new_purchase_day_median', 'new_purchase_day_max', 'new_purchase_day_min', 'new_purchase_day_std', 'new_purchase_day_mode', 'new_purchase_hour_mean', 'new_purchase_hour_median', 'new_purchase_hour_max', 'new_purchase_hour_min', 'new_purchase_hour_std', 'new_purchase_hour_mode', 'new_purchase_weekofyear_mean', 'new_purchase_weekofyear_median', 'new_purchase_weekofyear_max', 'new_purchase_weekofyear_min', 'new_purchase_weekofyear_std', 'new_purchase_weekofyear_mode', 'new_purchase_dayofweek_mean', 'new_purchase_dayofweek_median', 'new_purchase_dayofweek_max', 'new_purchase_dayofweek_min', 'new_purchase_dayofweek_mode', 'new_purchase_quarter_mean', 'new_purchase_quarter_median', 'new_purchase_quarter_max', 'new_purchase_quarter_min', 'new_purchase_quarter_mode', 'is_outlier']\n",
    "X_train, y_train, X_test, y_test = SplitIntoTrainTestSet(df_train, cols)"
   ]
  },
  {
   "cell_type": "markdown",
   "metadata": {},
   "source": [
    "Check how many outliers in the first 10k, 20k, 50k, 75k, 100k and all elements."
   ]
  },
  {
   "cell_type": "code",
   "execution_count": 29,
   "metadata": {},
   "outputs": [
    {
     "name": "stdout",
     "output_type": "stream",
     "text": [
      "There are 74 (0.0074%) outliers in the first 10,000 in the training set.\n",
      "There are 150 (0.0075%) outliers in the first 20,000 in the training set.\n",
      "There are 383 (0.0077%) outliers in the first 50,000 in the training set.\n",
      "There are 574 (0.0077%) outliers in the first 75,000 in the training set.\n",
      "There are 761 (0.0076%) outliers in the first 100,000 in the training set.\n",
      "There are 885 (0.0075%) outliers in the first 118,174 in the training set.\n"
     ]
    }
   ],
   "source": [
    "item_array = [10000, 20000, 50000, 75000, 100000, len(y_train)]\n",
    "for c in item_array:\n",
    "    indices = [i for i, x in enumerate(y_train[:c]) if x == 1]\n",
    "\n",
    "    print('There are {} ({:.4f}%) outliers in the first {:,} in the training set.'.format(\n",
    "        len(indices),\n",
    "        len(indices)/c,\n",
    "        c\n",
    "    ))"
   ]
  },
  {
   "cell_type": "code",
   "execution_count": 30,
   "metadata": {},
   "outputs": [
    {
     "name": "stdout",
     "output_type": "stream",
     "text": [
      "Started at 2019-01-09 12:07:13\n",
      "Accuracy is 99.174%\n",
      "Elapsed time max: 1699.138s\n"
     ]
    }
   ],
   "source": [
    "t = TimeMeasurer()\n",
    "neigh = KNeighborsClassifier(n_neighbors = 5, weights='distance', algorithm='auto')\n",
    "neigh.fit(X_train, y_train)\n",
    "\n",
    "y_pred = neigh.predict(X_test)\n",
    "print(\"Accuracy is {:.3f}%\".format(accuracy_score(y_test, y_pred)*100))\n",
    "t.stop()"
   ]
  },
  {
   "cell_type": "code",
   "execution_count": 32,
   "metadata": {},
   "outputs": [
    {
     "name": "stdout",
     "output_type": "stream",
     "text": [
      "Are there any outliers in the prediction: True\n",
      "Number of outliers in prediction: 4\n"
     ]
    }
   ],
   "source": [
    "print('Are there any outliers in the prediction: {}'.format(1 in y_pred))\n",
    "print('Number of outliers in prediction: {}'.format(len(y_pred[y_pred == 1])))"
   ]
  },
  {
   "cell_type": "code",
   "execution_count": 1,
   "metadata": {},
   "outputs": [
    {
     "ename": "NameError",
     "evalue": "name 'neigh' is not defined",
     "output_type": "error",
     "traceback": [
      "\u001b[0;31m---------------------------------------------------------------------------\u001b[0m",
      "\u001b[0;31mNameError\u001b[0m                                 Traceback (most recent call last)",
      "\u001b[0;32m<ipython-input-1-13791c41c3d4>\u001b[0m in \u001b[0;36m<module>\u001b[0;34m\u001b[0m\n\u001b[0;32m----> 1\u001b[0;31m \u001b[0mneigh\u001b[0m\u001b[0;34m.\u001b[0m\u001b[0msave\u001b[0m\u001b[0;34m(\u001b[0m\u001b[0;34m'models/knn_distance_n5.h5'\u001b[0m\u001b[0;34m)\u001b[0m\u001b[0;34m\u001b[0m\u001b[0m\n\u001b[0m",
      "\u001b[0;31mNameError\u001b[0m: name 'neigh' is not defined"
     ]
    }
   ],
   "source": [
    "neigh.save('models/knn_distance_n5.h5')"
   ]
  },
  {
   "cell_type": "code",
   "execution_count": null,
   "metadata": {},
   "outputs": [],
   "source": [
    "t = TimeMeasurer()\n",
    "error_df = createReconstructionError(neigh, X_test, y_test)\n",
    "t.stop()"
   ]
  },
  {
   "cell_type": "code",
   "execution_count": null,
   "metadata": {},
   "outputs": [],
   "source": [
    "error_df.describe()"
   ]
  },
  {
   "cell_type": "code",
   "execution_count": null,
   "metadata": {},
   "outputs": [],
   "source": [
    "plotReconstructionErrors(error_df)"
   ]
  },
  {
   "cell_type": "code",
   "execution_count": null,
   "metadata": {},
   "outputs": [],
   "source": [
    "plotROCcurve(error_df)"
   ]
  },
  {
   "cell_type": "code",
   "execution_count": null,
   "metadata": {},
   "outputs": [],
   "source": [
    "precision, recall, th = plotRecallPrecisionCurve(error_df)"
   ]
  },
  {
   "cell_type": "code",
   "execution_count": null,
   "metadata": {},
   "outputs": [],
   "source": [
    "plotThresholdPrecisionCurve(th, precision)"
   ]
  },
  {
   "cell_type": "code",
   "execution_count": null,
   "metadata": {},
   "outputs": [],
   "source": [
    "threshold = 2\n",
    "plotReconstructionErrorDataPoints(error_df, threshold)"
   ]
  },
  {
   "cell_type": "code",
   "execution_count": null,
   "metadata": {},
   "outputs": [],
   "source": [
    "drawConfusionMatrix(error_df, threshold)"
   ]
  },
  {
   "cell_type": "code",
   "execution_count": null,
   "metadata": {},
   "outputs": [],
   "source": [
    "for K in range(5, 10):\n",
    "    K_value = K+1\n",
    "    neigh = KNeighborsClassifier(n_neighbors = K_value, weights='distance', algorithm='auto')\n",
    "    neigh.fit(X_train[:10000], y_train[:10000])\n",
    "\n",
    "    y_pred = neigh.predict(X_test[:10000])\n",
    "    print(\"Accuracy for {} is {:.3f}\".format(K_value, accuracy_score(y_test[:10000], y_pred)*100))"
   ]
  }
 ],
 "metadata": {
  "kernelspec": {
   "display_name": "Python 3",
   "language": "python",
   "name": "python3"
  },
  "language_info": {
   "codemirror_mode": {
    "name": "ipython",
    "version": 3
   },
   "file_extension": ".py",
   "mimetype": "text/x-python",
   "name": "python",
   "nbconvert_exporter": "python",
   "pygments_lexer": "ipython3",
   "version": "3.6.2"
  },
  "toc": {
   "base_numbering": 1,
   "nav_menu": {},
   "number_sections": true,
   "sideBar": true,
   "skip_h1_title": true,
   "title_cell": "Table of Contents",
   "title_sidebar": "Contents",
   "toc_cell": true,
   "toc_position": {},
   "toc_section_display": true,
   "toc_window_display": false
  }
 },
 "nbformat": 4,
 "nbformat_minor": 2
}
