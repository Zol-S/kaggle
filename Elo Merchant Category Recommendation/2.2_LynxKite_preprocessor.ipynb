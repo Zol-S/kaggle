{
 "cells": [
  {
   "cell_type": "markdown",
   "metadata": {},
   "source": [
    "# Elo Merchant Category Recommendation - LynxKite preprocessor\n",
    "End date: _2019. february 19._<br/>\n",
    "\n",
    "This tutorial notebook is the first part of a seriers for [Elo Mechant Category Recommendation](https://www.kaggle.com/c/elo-merchant-category-recommendation) contest organized by Elo, one of the largest payment brands in Brazil. It has built partnerships with merchants in order to offer promotions or discounts to cardholders. The objective of the competition is to identify and serve the most relevant opportunities to individuals, by uncovering signals in customer loyalty. The input files are available from the [download](https://www.kaggle.com/c/elo-merchant-category-recommendation/data) section of the contest:\n",
    "\n",
    "- **train.csv**,  **test.csv**: list of `card_ids` that can be used for training and testing\n",
    "- **historical_transactions.csv**: contains up to 3 months' worth of transactions for every card at any of the provided `merchant_ids`\n",
    "- **new_merchant_transactions.csv**: contains the transactions at new merchants (`merchant_ids` that this particular `card_id` \n",
    "has not yet visited) over a period of two months\n",
    "- **merchants.csv**: contains aggregate information for each `merchant_id` represented in the data set"
   ]
  },
  {
   "cell_type": "code",
   "execution_count": 4,
   "metadata": {},
   "outputs": [],
   "source": [
    "import gc\n",
    "import warnings\n",
    "import datetime\n",
    "import numpy as np\n",
    "import pandas as pd\n",
    "\n",
    "warnings.filterwarnings(\"ignore\")"
   ]
  },
  {
   "cell_type": "code",
   "execution_count": 5,
   "metadata": {},
   "outputs": [],
   "source": [
    "def reduce_mem_usage(df, verbose=True):\n",
    "    numerics = ['int16', 'int32', 'int64', 'float16', 'float32', 'float64']\n",
    "    start_mem = df.memory_usage().sum() / 1024**2\n",
    "    if verbose: print('Starting memory usage: {:5.2f} MB'.format(start_mem))\n",
    "\n",
    "    for col in df.columns:\n",
    "        col_type = df[col].dtypes\n",
    "        if col_type in numerics:\n",
    "            c_min = df[col].min()\n",
    "            c_max = df[col].max()\n",
    "            if str(col_type)[:3] == 'int':\n",
    "                if c_min >= np.iinfo(np.int8).min and c_max <= np.iinfo(np.int8).max:\n",
    "                    df[col] = df[col].astype(np.int8)\n",
    "                elif c_min >= np.iinfo(np.int16).min and c_max <= np.iinfo(np.int16).max:\n",
    "                    df[col] = df[col].astype(np.int16)\n",
    "                elif c_min >= np.iinfo(np.int32).min and c_max <= np.iinfo(np.int32).max:\n",
    "                    df[col] = df[col].astype(np.int32)\n",
    "                elif c_min >= np.iinfo(np.int64).min and c_max <= np.iinfo(np.int64).max:\n",
    "                    df[col] = df[col].astype(np.int64)  \n",
    "            else:\n",
    "                if c_min >= np.finfo(np.float16).min and c_max <= np.finfo(np.float16).max:\n",
    "                    df[col] = df[col].astype(np.float16)\n",
    "                elif c_min >= np.finfo(np.float32).min and c_max <= np.finfo(np.float32).max:\n",
    "                    df[col] = df[col].astype(np.float32)\n",
    "                else:\n",
    "                    df[col] = df[col].astype(np.float64)    \n",
    "    end_mem = df.memory_usage().sum() / 1024**2\n",
    "    if verbose: print('Reduced memory usage: {:5.2f} MB ({:.1f}% reduction)'.format(end_mem, 100 * (start_mem - end_mem) / start_mem))\n",
    "    return df"
   ]
  },
  {
   "cell_type": "code",
   "execution_count": 6,
   "metadata": {},
   "outputs": [],
   "source": [
    "def create_date_features(df, source_column, preposition):\n",
    "    df[preposition + '_year'] = df[source_column].dt.year\n",
    "    df[preposition + '_month'] = df[source_column].dt.month\n",
    "    df[preposition + '_day'] = df[source_column].dt.day\n",
    "    df[preposition + '_hour'] = df[source_column].dt.hour\n",
    "    df[preposition + '_weekofyear'] = df[source_column].dt.weekofyear\n",
    "    df[preposition + '_dayofweek'] = df[source_column].dt.dayofweek\n",
    "    df[preposition + '_quarter'] = df[source_column].dt.quarter\n",
    "    \n",
    "    return df"
   ]
  },
  {
   "cell_type": "markdown",
   "metadata": {},
   "source": [
    "## Merchants"
   ]
  },
  {
   "cell_type": "code",
   "execution_count": 7,
   "metadata": {},
   "outputs": [
    {
     "name": "stdout",
     "output_type": "stream",
     "text": [
      "334,696 records and 22 features in merchant set.\n"
     ]
    }
   ],
   "source": [
    "df_merch = pd.read_csv(\"input/merchants.csv\")\n",
    "print(\"{:,} records and {} features in merchant set.\".format(df_merch.shape[0], df_merch.shape[1]))"
   ]
  },
  {
   "cell_type": "code",
   "execution_count": 8,
   "metadata": {},
   "outputs": [],
   "source": [
    "df_merch['category_1'] = df_merch['category_1'].map({'N': 0, 'Y': 1})\n",
    "df_merch['category_2'] = pd.to_numeric(df_merch['category_2'])\n",
    "df_merch['category_4'] = df_merch['category_4'].map({'N': 0, 'Y': 1})\n",
    "df_merch['most_recent_sales_range'] = df_merch['most_recent_sales_range'].map({'E': 0, 'D': 1, 'C': 2, 'B': 3, 'A': 4})\n",
    "df_merch['most_recent_purchases_range'] = df_merch['most_recent_purchases_range'].map({'E': 0, 'D': 1, 'C': 2, 'B': 3, 'A': 4})"
   ]
  },
  {
   "cell_type": "code",
   "execution_count": 9,
   "metadata": {},
   "outputs": [],
   "source": [
    "dropping = ['city_id', 'state_id']\n",
    "for var in dropping:\n",
    "    df_merch = df_merch.drop(var, axis=1)"
   ]
  },
  {
   "cell_type": "code",
   "execution_count": 10,
   "metadata": {},
   "outputs": [
    {
     "name": "stdout",
     "output_type": "stream",
     "text": [
      "Starting memory usage: 51.07 MB\n",
      "Reduced memory usage: 20.43 MB (60.0% reduction)\n"
     ]
    }
   ],
   "source": [
    "df_merch = reduce_mem_usage(df_merch)"
   ]
  },
  {
   "cell_type": "markdown",
   "metadata": {},
   "source": [
    "## Transactions"
   ]
  },
  {
   "cell_type": "code",
   "execution_count": 11,
   "metadata": {},
   "outputs": [
    {
     "name": "stdout",
     "output_type": "stream",
     "text": [
      "29,112,361 records and 14 features in historical transactions set.\n"
     ]
    }
   ],
   "source": [
    "df_hist_trans = pd.read_csv(\"input/historical_transactions.csv\")\n",
    "print(\"{:,} records and {} features in historical transactions set.\".format(df_hist_trans.shape[0], df_hist_trans.shape[1]))"
   ]
  },
  {
   "cell_type": "code",
   "execution_count": 12,
   "metadata": {},
   "outputs": [
    {
     "name": "stdout",
     "output_type": "stream",
     "text": [
      "1,963,031 records and 14 features in new transactions set.\n"
     ]
    }
   ],
   "source": [
    "df_new_trans = pd.read_csv(\"input/new_merchant_transactions.csv\")\n",
    "print(\"{:,} records and {} features in new transactions set.\".format(df_new_trans.shape[0], df_new_trans.shape[1]))"
   ]
  },
  {
   "cell_type": "code",
   "execution_count": 13,
   "metadata": {},
   "outputs": [],
   "source": [
    "df_hist_trans['authorized_flag'] = df_hist_trans['authorized_flag'].map({'N': 0, 'Y': 1})\n",
    "df_hist_trans['category_1'] = df_hist_trans['category_1'].map({'N': 0, 'Y': 1})\n",
    "df_hist_trans['category_2'] = pd.to_numeric(df_hist_trans['category_2'])\n",
    "df_hist_trans['category_3'] = df_hist_trans['category_3'].map({'A': 0, 'B': 1, 'C': 2})"
   ]
  },
  {
   "cell_type": "code",
   "execution_count": 14,
   "metadata": {},
   "outputs": [],
   "source": [
    "df_new_trans['authorized_flag'] = df_new_trans['authorized_flag'].map({'N': 0, 'Y': 1})\n",
    "df_new_trans['category_1'] = df_new_trans['category_1'].map({'N': 0, 'Y': 1})\n",
    "df_new_trans['category_2'] = pd.to_numeric(df_new_trans['category_2'])\n",
    "df_new_trans['category_3'] = df_new_trans['category_3'].map({'A': 0, 'B': 1, 'C': 2})"
   ]
  },
  {
   "cell_type": "code",
   "execution_count": 15,
   "metadata": {},
   "outputs": [],
   "source": [
    "df_hist_trans['purchase_date'] = pd.to_datetime(df_hist_trans['purchase_date'])\n",
    "df_hist_trans = create_date_features(df_hist_trans, 'purchase_date', 'purchase')"
   ]
  },
  {
   "cell_type": "code",
   "execution_count": 16,
   "metadata": {},
   "outputs": [],
   "source": [
    "df_new_trans['purchase_date'] = pd.to_datetime(df_new_trans['purchase_date'])\n",
    "df_new_trans = create_date_features(df_new_trans, 'purchase_date', 'purchase')"
   ]
  },
  {
   "cell_type": "code",
   "execution_count": 17,
   "metadata": {},
   "outputs": [
    {
     "name": "stdout",
     "output_type": "stream",
     "text": [
      "Starting memory usage: 4664.30 MB\n",
      "Reduced memory usage: 1415.95 MB (69.6% reduction)\n"
     ]
    }
   ],
   "source": [
    "df_hist_trans = reduce_mem_usage(df_hist_trans)"
   ]
  },
  {
   "cell_type": "code",
   "execution_count": 18,
   "metadata": {},
   "outputs": [
    {
     "name": "stdout",
     "output_type": "stream",
     "text": [
      "Starting memory usage: 314.51 MB\n",
      "Reduced memory usage: 91.73 MB (70.8% reduction)\n"
     ]
    }
   ],
   "source": [
    "df_new_trans = reduce_mem_usage(df_new_trans)"
   ]
  },
  {
   "cell_type": "code",
   "execution_count": 19,
   "metadata": {},
   "outputs": [],
   "source": [
    "df_hist_trans = pd.merge(df_hist_trans, df_merch, on='merchant_id', how='left', suffixes=['_trans','_merch'])"
   ]
  },
  {
   "cell_type": "code",
   "execution_count": 20,
   "metadata": {},
   "outputs": [],
   "source": [
    "df_new_trans = pd.merge(df_new_trans, df_merch, on='merchant_id', how='left', suffixes=['_trans','_merch'])"
   ]
  },
  {
   "cell_type": "code",
   "execution_count": 21,
   "metadata": {},
   "outputs": [],
   "source": [
    "def aggregate_transactions(df, prefix):  \n",
    "    agg_funcs = {\n",
    "        'authorized_flag': ['sum', 'mean'],\n",
    "        'active_months_lag3': ['sum', 'mean'],\n",
    "        'active_months_lag6': ['sum', 'mean'],\n",
    "        'active_months_lag12': ['sum', 'mean'],\n",
    "        \n",
    "        'avg_sales_lag3': ['sum', 'mean'],\n",
    "        'avg_sales_lag6': ['sum', 'mean'], \n",
    "        'avg_sales_lag12': ['sum', 'mean'],\n",
    "        \n",
    "        'avg_purchases_lag3': ['sum', 'mean'], \n",
    "        'avg_purchases_lag6': ['sum', 'mean'], \n",
    "        'avg_purchases_lag12': ['sum', 'mean'], \n",
    "\n",
    "        'category_1_trans': ['sum', 'mean'],\n",
    "        'category_1_merch': ['sum', 'mean'],\n",
    "        'category_2_trans': ['sum', 'mean'],\n",
    "        'category_2_merch': ['sum', 'mean'],\n",
    "        'category_3': ['sum', 'mean'],\n",
    "        'category_4': ['sum', 'mean'], \n",
    "        \n",
    "        'city_id': ['nunique'],\n",
    "        \n",
    "        'installments': ['sum', 'median', 'mean', 'max', 'min', 'std'],\n",
    "\n",
    "        'merchant_id': ['nunique'],\n",
    "        'merchant_category_id_trans': ['nunique'],\n",
    "        'merchant_group_id': ['nunique'],\n",
    "        'merchant_category_id_merch': ['nunique'],\n",
    "        'month_lag': ['min', 'max', 'mean'],\n",
    "        \n",
    "        'most_recent_sales_range': ['sum', 'mean', 'max', 'min', 'std'],\n",
    "        'most_recent_purchases_range': ['sum', 'mean', 'max', 'min', 'std'],\n",
    "        \n",
    "        'numerical_1': ['mean', 'median', 'max', 'min', 'std'],\n",
    "        'numerical_2': ['mean', 'median', 'max', 'min', 'std'],\n",
    "\n",
    "        'state_id': ['nunique'],\n",
    "        'subsector_id_trans': ['nunique'],\n",
    "        'subsector_id_merch': ['nunique'],\n",
    "        \n",
    "        'purchase_amount': ['sum', 'mean', 'max', 'min', 'std'],\n",
    "        'purchase_year': ['mean', 'median', 'max', 'min', 'std'],\n",
    "        'purchase_month': ['mean', 'median', 'max', 'min', 'std'],\n",
    "        'purchase_day': ['mean', 'median', 'max', 'min', 'std'],\n",
    "        'purchase_hour': ['mean', 'median', 'max', 'min', 'std'],\n",
    "        'purchase_weekofyear': ['mean', 'median', 'max', 'min', 'std'],\n",
    "        'purchase_dayofweek': ['mean', 'median', 'max', 'min', 'std'],\n",
    "        'purchase_quarter': ['mean', 'median', 'max', 'min', 'std']\n",
    "    }\n",
    "    df_agg = df.groupby('card_id').agg(agg_funcs)\n",
    "    df_agg.columns = [prefix + '_'.join(col).strip() for col in df_agg.columns.values]\n",
    "    df_agg.reset_index(inplace=True)\n",
    "\n",
    "    df = (df_agg.groupby('card_id').size().reset_index(name='{}transactions_count'.format(prefix)))\n",
    "    df_agg = pd.merge(df, df_agg, on='card_id', how='left')\n",
    "\n",
    "    return df_agg"
   ]
  },
  {
   "cell_type": "code",
   "execution_count": 22,
   "metadata": {},
   "outputs": [],
   "source": [
    "df_new_trans = aggregate_transactions(df_new_trans, prefix='new_')"
   ]
  },
  {
   "cell_type": "code",
   "execution_count": 23,
   "metadata": {},
   "outputs": [
    {
     "data": {
      "text/html": [
       "<div>\n",
       "<style scoped>\n",
       "    .dataframe tbody tr th:only-of-type {\n",
       "        vertical-align: middle;\n",
       "    }\n",
       "\n",
       "    .dataframe tbody tr th {\n",
       "        vertical-align: top;\n",
       "    }\n",
       "\n",
       "    .dataframe thead th {\n",
       "        text-align: right;\n",
       "    }\n",
       "</style>\n",
       "<table border=\"1\" class=\"dataframe\">\n",
       "  <thead>\n",
       "    <tr style=\"text-align: right;\">\n",
       "      <th></th>\n",
       "      <th>card_id</th>\n",
       "      <th>new_transactions_count</th>\n",
       "      <th>new_authorized_flag_sum</th>\n",
       "      <th>new_authorized_flag_mean</th>\n",
       "      <th>new_active_months_lag3_sum</th>\n",
       "      <th>new_active_months_lag3_mean</th>\n",
       "      <th>new_active_months_lag6_sum</th>\n",
       "      <th>new_active_months_lag6_mean</th>\n",
       "      <th>new_active_months_lag12_sum</th>\n",
       "      <th>new_active_months_lag12_mean</th>\n",
       "      <th>...</th>\n",
       "      <th>new_purchase_dayofweek_mean</th>\n",
       "      <th>new_purchase_dayofweek_median</th>\n",
       "      <th>new_purchase_dayofweek_max</th>\n",
       "      <th>new_purchase_dayofweek_min</th>\n",
       "      <th>new_purchase_dayofweek_std</th>\n",
       "      <th>new_purchase_quarter_mean</th>\n",
       "      <th>new_purchase_quarter_median</th>\n",
       "      <th>new_purchase_quarter_max</th>\n",
       "      <th>new_purchase_quarter_min</th>\n",
       "      <th>new_purchase_quarter_std</th>\n",
       "    </tr>\n",
       "  </thead>\n",
       "  <tbody>\n",
       "    <tr>\n",
       "      <th>0</th>\n",
       "      <td>C_ID_00007093c1</td>\n",
       "      <td>1</td>\n",
       "      <td>3</td>\n",
       "      <td>1</td>\n",
       "      <td>9.0</td>\n",
       "      <td>3.0</td>\n",
       "      <td>18.0</td>\n",
       "      <td>6.0</td>\n",
       "      <td>31.0</td>\n",
       "      <td>10.333333</td>\n",
       "      <td>...</td>\n",
       "      <td>0.333333</td>\n",
       "      <td>0.0</td>\n",
       "      <td>1</td>\n",
       "      <td>0</td>\n",
       "      <td>0.577350</td>\n",
       "      <td>2.000000</td>\n",
       "      <td>2.0</td>\n",
       "      <td>2</td>\n",
       "      <td>2</td>\n",
       "      <td>0.000000</td>\n",
       "    </tr>\n",
       "    <tr>\n",
       "      <th>1</th>\n",
       "      <td>C_ID_0001238066</td>\n",
       "      <td>1</td>\n",
       "      <td>27</td>\n",
       "      <td>1</td>\n",
       "      <td>78.0</td>\n",
       "      <td>3.0</td>\n",
       "      <td>156.0</td>\n",
       "      <td>6.0</td>\n",
       "      <td>304.0</td>\n",
       "      <td>11.692308</td>\n",
       "      <td>...</td>\n",
       "      <td>4.037037</td>\n",
       "      <td>4.0</td>\n",
       "      <td>6</td>\n",
       "      <td>0</td>\n",
       "      <td>1.764642</td>\n",
       "      <td>1.333333</td>\n",
       "      <td>1.0</td>\n",
       "      <td>2</td>\n",
       "      <td>1</td>\n",
       "      <td>0.480384</td>\n",
       "    </tr>\n",
       "    <tr>\n",
       "      <th>2</th>\n",
       "      <td>C_ID_0001506ef0</td>\n",
       "      <td>1</td>\n",
       "      <td>2</td>\n",
       "      <td>1</td>\n",
       "      <td>3.0</td>\n",
       "      <td>3.0</td>\n",
       "      <td>6.0</td>\n",
       "      <td>6.0</td>\n",
       "      <td>12.0</td>\n",
       "      <td>12.000000</td>\n",
       "      <td>...</td>\n",
       "      <td>3.500000</td>\n",
       "      <td>3.5</td>\n",
       "      <td>4</td>\n",
       "      <td>3</td>\n",
       "      <td>0.707107</td>\n",
       "      <td>1.000000</td>\n",
       "      <td>1.0</td>\n",
       "      <td>1</td>\n",
       "      <td>1</td>\n",
       "      <td>0.000000</td>\n",
       "    </tr>\n",
       "  </tbody>\n",
       "</table>\n",
       "<p>3 rows × 111 columns</p>\n",
       "</div>"
      ],
      "text/plain": [
       "           card_id  new_transactions_count  new_authorized_flag_sum  \\\n",
       "0  C_ID_00007093c1                       1                        3   \n",
       "1  C_ID_0001238066                       1                       27   \n",
       "2  C_ID_0001506ef0                       1                        2   \n",
       "\n",
       "   new_authorized_flag_mean  new_active_months_lag3_sum  \\\n",
       "0                         1                         9.0   \n",
       "1                         1                        78.0   \n",
       "2                         1                         3.0   \n",
       "\n",
       "   new_active_months_lag3_mean  new_active_months_lag6_sum  \\\n",
       "0                          3.0                        18.0   \n",
       "1                          3.0                       156.0   \n",
       "2                          3.0                         6.0   \n",
       "\n",
       "   new_active_months_lag6_mean  new_active_months_lag12_sum  \\\n",
       "0                          6.0                         31.0   \n",
       "1                          6.0                        304.0   \n",
       "2                          6.0                         12.0   \n",
       "\n",
       "   new_active_months_lag12_mean            ...             \\\n",
       "0                     10.333333            ...              \n",
       "1                     11.692308            ...              \n",
       "2                     12.000000            ...              \n",
       "\n",
       "   new_purchase_dayofweek_mean  new_purchase_dayofweek_median  \\\n",
       "0                     0.333333                            0.0   \n",
       "1                     4.037037                            4.0   \n",
       "2                     3.500000                            3.5   \n",
       "\n",
       "   new_purchase_dayofweek_max  new_purchase_dayofweek_min  \\\n",
       "0                           1                           0   \n",
       "1                           6                           0   \n",
       "2                           4                           3   \n",
       "\n",
       "   new_purchase_dayofweek_std  new_purchase_quarter_mean  \\\n",
       "0                    0.577350                   2.000000   \n",
       "1                    1.764642                   1.333333   \n",
       "2                    0.707107                   1.000000   \n",
       "\n",
       "   new_purchase_quarter_median  new_purchase_quarter_max  \\\n",
       "0                          2.0                         2   \n",
       "1                          1.0                         2   \n",
       "2                          1.0                         1   \n",
       "\n",
       "   new_purchase_quarter_min  new_purchase_quarter_std  \n",
       "0                         2                  0.000000  \n",
       "1                         1                  0.480384  \n",
       "2                         1                  0.000000  \n",
       "\n",
       "[3 rows x 111 columns]"
      ]
     },
     "execution_count": 23,
     "metadata": {},
     "output_type": "execute_result"
    }
   ],
   "source": [
    "df_new_trans[:3]"
   ]
  },
  {
   "cell_type": "code",
   "execution_count": 24,
   "metadata": {},
   "outputs": [],
   "source": [
    "df_new_trans.to_csv('input/trans_merch_new_agg.csv')"
   ]
  },
  {
   "cell_type": "code",
   "execution_count": 26,
   "metadata": {},
   "outputs": [],
   "source": [
    "df_hist_trans = aggregate_transactions(df_hist_trans, prefix='hist_')"
   ]
  },
  {
   "cell_type": "code",
   "execution_count": 27,
   "metadata": {},
   "outputs": [
    {
     "data": {
      "text/html": [
       "<div>\n",
       "<style scoped>\n",
       "    .dataframe tbody tr th:only-of-type {\n",
       "        vertical-align: middle;\n",
       "    }\n",
       "\n",
       "    .dataframe tbody tr th {\n",
       "        vertical-align: top;\n",
       "    }\n",
       "\n",
       "    .dataframe thead th {\n",
       "        text-align: right;\n",
       "    }\n",
       "</style>\n",
       "<table border=\"1\" class=\"dataframe\">\n",
       "  <thead>\n",
       "    <tr style=\"text-align: right;\">\n",
       "      <th></th>\n",
       "      <th>card_id</th>\n",
       "      <th>hist_transactions_count</th>\n",
       "      <th>hist_authorized_flag_sum</th>\n",
       "      <th>hist_authorized_flag_mean</th>\n",
       "      <th>hist_active_months_lag3_sum</th>\n",
       "      <th>hist_active_months_lag3_mean</th>\n",
       "      <th>hist_active_months_lag6_sum</th>\n",
       "      <th>hist_active_months_lag6_mean</th>\n",
       "      <th>hist_active_months_lag12_sum</th>\n",
       "      <th>hist_active_months_lag12_mean</th>\n",
       "      <th>...</th>\n",
       "      <th>hist_purchase_dayofweek_mean</th>\n",
       "      <th>hist_purchase_dayofweek_median</th>\n",
       "      <th>hist_purchase_dayofweek_max</th>\n",
       "      <th>hist_purchase_dayofweek_min</th>\n",
       "      <th>hist_purchase_dayofweek_std</th>\n",
       "      <th>hist_purchase_quarter_mean</th>\n",
       "      <th>hist_purchase_quarter_median</th>\n",
       "      <th>hist_purchase_quarter_max</th>\n",
       "      <th>hist_purchase_quarter_min</th>\n",
       "      <th>hist_purchase_quarter_std</th>\n",
       "    </tr>\n",
       "  </thead>\n",
       "  <tbody>\n",
       "    <tr>\n",
       "      <th>0</th>\n",
       "      <td>C_ID_00007093c1</td>\n",
       "      <td>1</td>\n",
       "      <td>114.0</td>\n",
       "      <td>0.765101</td>\n",
       "      <td>447.0</td>\n",
       "      <td>3.0</td>\n",
       "      <td>894.0</td>\n",
       "      <td>6.0</td>\n",
       "      <td>1776.0</td>\n",
       "      <td>11.919463</td>\n",
       "      <td>...</td>\n",
       "      <td>2.241611</td>\n",
       "      <td>2.0</td>\n",
       "      <td>6</td>\n",
       "      <td>0</td>\n",
       "      <td>1.869568</td>\n",
       "      <td>2.476510</td>\n",
       "      <td>2.0</td>\n",
       "      <td>4</td>\n",
       "      <td>1</td>\n",
       "      <td>1.100270</td>\n",
       "    </tr>\n",
       "    <tr>\n",
       "      <th>1</th>\n",
       "      <td>C_ID_0001238066</td>\n",
       "      <td>1</td>\n",
       "      <td>120.0</td>\n",
       "      <td>0.975610</td>\n",
       "      <td>369.0</td>\n",
       "      <td>3.0</td>\n",
       "      <td>738.0</td>\n",
       "      <td>6.0</td>\n",
       "      <td>1476.0</td>\n",
       "      <td>12.000000</td>\n",
       "      <td>...</td>\n",
       "      <td>3.504065</td>\n",
       "      <td>4.0</td>\n",
       "      <td>6</td>\n",
       "      <td>0</td>\n",
       "      <td>1.909313</td>\n",
       "      <td>2.764228</td>\n",
       "      <td>4.0</td>\n",
       "      <td>4</td>\n",
       "      <td>1</td>\n",
       "      <td>1.471485</td>\n",
       "    </tr>\n",
       "    <tr>\n",
       "      <th>2</th>\n",
       "      <td>C_ID_0001506ef0</td>\n",
       "      <td>1</td>\n",
       "      <td>64.0</td>\n",
       "      <td>0.941176</td>\n",
       "      <td>204.0</td>\n",
       "      <td>3.0</td>\n",
       "      <td>408.0</td>\n",
       "      <td>6.0</td>\n",
       "      <td>806.0</td>\n",
       "      <td>11.852941</td>\n",
       "      <td>...</td>\n",
       "      <td>3.617647</td>\n",
       "      <td>4.5</td>\n",
       "      <td>6</td>\n",
       "      <td>0</td>\n",
       "      <td>1.787431</td>\n",
       "      <td>2.558824</td>\n",
       "      <td>3.0</td>\n",
       "      <td>4</td>\n",
       "      <td>1</td>\n",
       "      <td>1.407680</td>\n",
       "    </tr>\n",
       "  </tbody>\n",
       "</table>\n",
       "<p>3 rows × 111 columns</p>\n",
       "</div>"
      ],
      "text/plain": [
       "           card_id  hist_transactions_count  hist_authorized_flag_sum  \\\n",
       "0  C_ID_00007093c1                        1                     114.0   \n",
       "1  C_ID_0001238066                        1                     120.0   \n",
       "2  C_ID_0001506ef0                        1                      64.0   \n",
       "\n",
       "   hist_authorized_flag_mean  hist_active_months_lag3_sum  \\\n",
       "0                   0.765101                        447.0   \n",
       "1                   0.975610                        369.0   \n",
       "2                   0.941176                        204.0   \n",
       "\n",
       "   hist_active_months_lag3_mean  hist_active_months_lag6_sum  \\\n",
       "0                           3.0                        894.0   \n",
       "1                           3.0                        738.0   \n",
       "2                           3.0                        408.0   \n",
       "\n",
       "   hist_active_months_lag6_mean  hist_active_months_lag12_sum  \\\n",
       "0                           6.0                        1776.0   \n",
       "1                           6.0                        1476.0   \n",
       "2                           6.0                         806.0   \n",
       "\n",
       "   hist_active_months_lag12_mean            ...              \\\n",
       "0                      11.919463            ...               \n",
       "1                      12.000000            ...               \n",
       "2                      11.852941            ...               \n",
       "\n",
       "   hist_purchase_dayofweek_mean  hist_purchase_dayofweek_median  \\\n",
       "0                      2.241611                             2.0   \n",
       "1                      3.504065                             4.0   \n",
       "2                      3.617647                             4.5   \n",
       "\n",
       "   hist_purchase_dayofweek_max  hist_purchase_dayofweek_min  \\\n",
       "0                            6                            0   \n",
       "1                            6                            0   \n",
       "2                            6                            0   \n",
       "\n",
       "   hist_purchase_dayofweek_std  hist_purchase_quarter_mean  \\\n",
       "0                     1.869568                    2.476510   \n",
       "1                     1.909313                    2.764228   \n",
       "2                     1.787431                    2.558824   \n",
       "\n",
       "   hist_purchase_quarter_median  hist_purchase_quarter_max  \\\n",
       "0                           2.0                          4   \n",
       "1                           4.0                          4   \n",
       "2                           3.0                          4   \n",
       "\n",
       "   hist_purchase_quarter_min  hist_purchase_quarter_std  \n",
       "0                          1                   1.100270  \n",
       "1                          1                   1.471485  \n",
       "2                          1                   1.407680  \n",
       "\n",
       "[3 rows x 111 columns]"
      ]
     },
     "execution_count": 27,
     "metadata": {},
     "output_type": "execute_result"
    }
   ],
   "source": [
    "df_hist_trans[:3]"
   ]
  },
  {
   "cell_type": "code",
   "execution_count": 28,
   "metadata": {},
   "outputs": [],
   "source": [
    "df_hist_trans.to_csv('input/trans_merch_hist_agg.csv')"
   ]
  }
 ],
 "metadata": {
  "kernelspec": {
   "display_name": "Python 3",
   "language": "python",
   "name": "python3"
  },
  "language_info": {
   "codemirror_mode": {
    "name": "ipython",
    "version": 3
   },
   "file_extension": ".py",
   "mimetype": "text/x-python",
   "name": "python",
   "nbconvert_exporter": "python",
   "pygments_lexer": "ipython3",
   "version": "3.6.2"
  }
 },
 "nbformat": 4,
 "nbformat_minor": 2
}
