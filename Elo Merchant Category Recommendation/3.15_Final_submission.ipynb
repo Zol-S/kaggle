{
 "cells": [
  {
   "cell_type": "markdown",
   "metadata": {},
   "source": [
    "# Elo Merchant Category Recommendation - Final submission\n",
    "End date: _2019. february 19._<br/>\n",
    "\n",
    "This tutorial notebook is part of a series for [Elo Mechant Category Recommendation](https://www.kaggle.com/c/elo-merchant-category-recommendation) contest organized by Elo, one of the largest payment brands in Brazil. It has built partnerships with merchants in order to offer promotions or discounts to cardholders. The objective of the competition is to identify and serve the most relevant opportunities to individuals, by uncovering signals in customer loyalty. LynxKite does not yet support some of the data preprocessing, thus they need to be done in Python. The input files are available from the [download](https://www.kaggle.com/c/elo-merchant-category-recommendation/data) section of the contest:\n",
    "\n",
    "- **train.csv**,  **test.csv**: list of `card_ids` that can be used for training and testing\n",
    "- **historical_transactions.csv**: contains up to 3 months' worth of transactions for every card at any of the provided `merchant_ids`\n",
    "- **new_merchant_transactions.csv**: contains the transactions at new merchants (`merchant_ids` that this particular `card_id` \n",
    "has not yet visited) over a period of two months\n",
    "- **merchants.csv**: contains aggregate information for each `merchant_id` represented in the data set\n",
    "\n",
    "Inspired by [MultiModel + RIDGE + STACKING](https://www.kaggle.com/ashishpatel26/rmse-3-66-multimodel-ridge-stacking)<br/>\n",
    "[KazaNova's presentation on stacking](https://www.coursera.org/lecture/competitive-data-science/stacking-Qdtt6)"
   ]
  },
  {
   "cell_type": "code",
   "execution_count": 1,
   "metadata": {},
   "outputs": [],
   "source": [
    "import gc\n",
    "import random\n",
    "import warnings\n",
    "import datetime\n",
    "import numpy as np\n",
    "import pandas as pd\n",
    "import xgboost as xgb\n",
    "import seaborn as sns\n",
    "import lightgbm as lgb\n",
    "import matplotlib.pyplot as plt\n",
    "from sklearn import preprocessing\n",
    "from sklearn.externals import joblib\n",
    "from catboost import CatBoostRegressor\n",
    "from sklearn.model_selection import StratifiedKFold, RepeatedKFold, KFold, train_test_split\n",
    "from sklearn.linear_model import BayesianRidge, Ridge\n",
    "from sklearn.metrics import mean_squared_error, confusion_matrix, accuracy_score\n",
    "\n",
    "random.seed(1)\n",
    "warnings.filterwarnings(\"ignore\")"
   ]
  },
  {
   "cell_type": "code",
   "execution_count": 2,
   "metadata": {},
   "outputs": [],
   "source": [
    "def reduce_mem_usage(df, verbose=True):\n",
    "    numerics = ['int16', 'int32', 'int64', 'float16', 'float32', 'float64']\n",
    "    start_mem = df.memory_usage().sum() / 1024**2\n",
    "    if verbose: print('Starting memory usage: {:5.2f} MB'.format(start_mem))\n",
    "\n",
    "    for col in df.columns:\n",
    "        col_type = df[col].dtypes\n",
    "        if col_type in numerics:\n",
    "            c_min = df[col].min()\n",
    "            c_max = df[col].max()\n",
    "            if str(col_type)[:3] == 'int':\n",
    "                if c_min >= np.iinfo(np.int8).min and c_max <= np.iinfo(np.int8).max:\n",
    "                    df[col] = df[col].astype(np.int8)\n",
    "                elif c_min >= np.iinfo(np.int16).min and c_max <= np.iinfo(np.int16).max:\n",
    "                    df[col] = df[col].astype(np.int16)\n",
    "                elif c_min >= np.iinfo(np.int32).min and c_max <= np.iinfo(np.int32).max:\n",
    "                    df[col] = df[col].astype(np.int32)\n",
    "                elif c_min >= np.iinfo(np.int64).min and c_max <= np.iinfo(np.int64).max:\n",
    "                    df[col] = df[col].astype(np.int64)  \n",
    "            else:\n",
    "                if c_min >= np.finfo(np.float16).min and c_max <= np.finfo(np.float16).max:\n",
    "                    df[col] = df[col].astype(np.float16)\n",
    "                elif c_min >= np.finfo(np.float32).min and c_max <= np.finfo(np.float32).max:\n",
    "                    df[col] = df[col].astype(np.float32)\n",
    "                else:\n",
    "                    df[col] = df[col].astype(np.float64)    \n",
    "    end_mem = df.memory_usage().sum() / 1024**2\n",
    "    if verbose: print('Reduced memory usage: {:5.2f} MB ({:.1f}% reduction)'.format(end_mem, 100 * (start_mem - end_mem) / start_mem))\n",
    "    return df"
   ]
  },
  {
   "cell_type": "markdown",
   "metadata": {},
   "source": [
    "## Feature engineering"
   ]
  },
  {
   "cell_type": "markdown",
   "metadata": {},
   "source": [
    "### Train & test data"
   ]
  },
  {
   "cell_type": "code",
   "execution_count": null,
   "metadata": {},
   "outputs": [],
   "source": [
    "df_train = pd.read_csv(\"input/train.csv\", parse_dates=[\"first_active_month\"])\n",
    "df_train = reduce_mem_usage(df_train)\n",
    "print(\"{:,} observations and {} features in train set.\".format(df_train.shape[0], df_train.shape[1]))"
   ]
  },
  {
   "cell_type": "code",
   "execution_count": null,
   "metadata": {},
   "outputs": [],
   "source": [
    "df_test = pd.read_csv(\"input/test.csv\", parse_dates=[\"first_active_month\"])\n",
    "df_test = reduce_mem_usage(df_test)\n",
    "print(\"{:,} observations and {} features in test set.\".format(df_test.shape[0], df_test.shape[1]))"
   ]
  },
  {
   "cell_type": "code",
   "execution_count": null,
   "metadata": {},
   "outputs": [],
   "source": [
    "df_train['first_active_month'] = pd.to_datetime(df_train['first_active_month'])\n",
    "df_train['elapsed_days'] = (datetime.date(2018, 2, 1) - df_train['first_active_month'].dt.date).dt.days"
   ]
  },
  {
   "cell_type": "code",
   "execution_count": null,
   "metadata": {},
   "outputs": [],
   "source": [
    "df_test['first_active_month'] = pd.to_datetime(df_test['first_active_month'])\n",
    "df_test['elapsed_days'] = (datetime.date(2018, 2, 1) - df_test['first_active_month'].dt.date).dt.days"
   ]
  },
  {
   "cell_type": "markdown",
   "metadata": {},
   "source": [
    "### Transactions"
   ]
  },
  {
   "cell_type": "code",
   "execution_count": null,
   "metadata": {},
   "outputs": [],
   "source": [
    "%%time\n",
    "df_hist_trans = pd.read_csv('input/historical_transactions.csv', parse_dates=['purchase_date'])\n",
    "df_hist_trans = reduce_mem_usage(df_hist_trans)\n",
    "print('Number of historical transactions: {:,}'.format(len(df_hist_trans)))"
   ]
  },
  {
   "cell_type": "code",
   "execution_count": null,
   "metadata": {},
   "outputs": [],
   "source": [
    "%%time\n",
    "df_new_trans = pd.read_csv('input/new_merchant_transactions.csv', parse_dates=['purchase_date'])\n",
    "df_new_trans = reduce_mem_usage(df_new_trans)\n",
    "print('Number of new transactions: {:,}'.format(len(df_new_trans)))"
   ]
  },
  {
   "cell_type": "code",
   "execution_count": null,
   "metadata": {},
   "outputs": [],
   "source": [
    "df_new_trans.isna().sum()"
   ]
  },
  {
   "cell_type": "markdown",
   "metadata": {},
   "source": [
    "Missing data handling (why these values?)"
   ]
  },
  {
   "cell_type": "code",
   "execution_count": null,
   "metadata": {},
   "outputs": [],
   "source": [
    "for df in [df_hist_trans, df_new_trans]:\n",
    "    df['category_2'].fillna(1.0, inplace=True)\n",
    "    df['category_3'].fillna('A', inplace=True)\n",
    "    df['merchant_id'].fillna('M_ID_00a6ca8a8a', inplace=True)"
   ]
  },
  {
   "cell_type": "markdown",
   "metadata": {},
   "source": [
    "Date handling"
   ]
  },
  {
   "cell_type": "code",
   "execution_count": null,
   "metadata": {},
   "outputs": [],
   "source": [
    "def create_date_features(df, source_column, preposition):\n",
    "    df[preposition + '_year'] = df[source_column].dt.year\n",
    "    df[preposition + '_month'] = df[source_column].dt.month\n",
    "    df[preposition + '_day'] = df[source_column].dt.day\n",
    "    df[preposition + '_hour'] = df[source_column].dt.hour\n",
    "    df[preposition + '_weekofyear'] = df[source_column].dt.weekofyear\n",
    "    df[preposition + '_dayofweek'] = df[source_column].dt.dayofweek\n",
    "    df[preposition + '_weekend'] = (df[source_column].dt.weekday >=5).astype(int)\n",
    "    df[preposition + '_quarter'] = df[source_column].dt.quarter\n",
    "    \n",
    "    return df"
   ]
  },
  {
   "cell_type": "code",
   "execution_count": null,
   "metadata": {},
   "outputs": [],
   "source": [
    "df_hist_trans['authorized_flag'] = df_hist_trans['authorized_flag'].map({'Y': 1, 'N': 0})\n",
    "df_hist_trans['category_1'] = df_hist_trans['category_1'].map({'N': 0, 'Y': 1})\n",
    "\n",
    "df_hist_trans['purchase_date'] = pd.to_datetime(df_hist_trans['purchase_date'])\n",
    "df_hist_trans = create_date_features(df_hist_trans, 'purchase_date', 'purchase')"
   ]
  },
  {
   "cell_type": "code",
   "execution_count": null,
   "metadata": {},
   "outputs": [],
   "source": [
    "df_new_trans['authorized_flag'] = df_new_trans['authorized_flag'].map({'Y': 1, 'N': 0})\n",
    "df_new_trans['category_1'] = df_new_trans['category_1'].map({'N': 0, 'Y': 1})\n",
    "\n",
    "df_new_trans['purchase_date'] = pd.to_datetime(df_new_trans['purchase_date'])\n",
    "df_new_trans = create_date_features(df_new_trans, 'purchase_date', 'purchase')"
   ]
  },
  {
   "cell_type": "code",
   "execution_count": null,
   "metadata": {},
   "outputs": [],
   "source": [
    "df_hist_trans['month_diff'] = ((datetime.date(2018, 12, 1) - df_hist_trans['purchase_date'].dt.date).dt.days)//30\n",
    "df_hist_trans['month_diff'] += df_hist_trans['month_lag']"
   ]
  },
  {
   "cell_type": "code",
   "execution_count": null,
   "metadata": {},
   "outputs": [],
   "source": [
    "df_new_trans['month_diff'] = ((datetime.date(2018, 12, 1) - df_new_trans['purchase_date'].dt.date).dt.days)//30\n",
    "df_new_trans['month_diff'] += df_new_trans['month_lag']"
   ]
  },
  {
   "cell_type": "code",
   "execution_count": null,
   "metadata": {},
   "outputs": [],
   "source": [
    "df_hist_trans = reduce_mem_usage(df_hist_trans)"
   ]
  },
  {
   "cell_type": "code",
   "execution_count": null,
   "metadata": {},
   "outputs": [],
   "source": [
    "df_new_trans = reduce_mem_usage(df_new_trans)"
   ]
  },
  {
   "cell_type": "markdown",
   "metadata": {},
   "source": [
    "#### Aggregation"
   ]
  },
  {
   "cell_type": "code",
   "execution_count": null,
   "metadata": {},
   "outputs": [],
   "source": [
    "def aggregate_transactions(df, prefix):\n",
    "    agg_funcs = {\n",
    "        'authorized_flag': ['sum', 'mean'],\n",
    "\n",
    "        'card_id': ['size'],\n",
    "        'category_1': ['sum', 'mean'],\n",
    "        \n",
    "        'installments': ['sum', 'max', 'min', 'mean', 'var'],\n",
    "\n",
    "        'merchant_category_id': ['nunique'],\n",
    "        'merchant_id': ['nunique'],\n",
    "        'month_diff': ['mean'],\n",
    "        'month_lag': ['max','min','mean','var'],\n",
    "\n",
    "        'purchase_amount': ['sum', 'max', 'min', 'mean', 'var'],\n",
    "        'purchase_date': ['max', 'min'],\n",
    "        'purchase_dayofweek': ['nunique'],\n",
    "        'purchase_hour': ['nunique'],\n",
    "        'purchase_month': ['nunique'],\n",
    "        'purchase_year': ['nunique'],\n",
    "        'purchase_weekend': ['sum', 'mean'],\n",
    "        'purchase_weekofyear': ['nunique'],\n",
    "\n",
    "        'subsector_id': ['nunique']\n",
    "    }\n",
    "\n",
    "    df['category_2_mean'] = df.groupby(['category_2'])['purchase_amount'].transform('mean')\n",
    "    df['category_3_mean'] = df.groupby(['category_3'])['purchase_amount'].transform('mean')\n",
    "\n",
    "    df_agg = df.groupby('card_id').agg(agg_funcs)\n",
    "    df_agg.columns = [prefix + '_' + '_'.join(col).strip() for col in df_agg.columns.values]\n",
    "    df_agg.reset_index(drop=False, inplace=True)\n",
    "    df_agg[prefix + '_purchase_date_diff'] = (df_agg[prefix + '_purchase_date_max'] - df_agg[prefix + '_purchase_date_min']).dt.days\n",
    "    df_agg[prefix + '_purchase_date_average'] = df_agg[prefix + '_purchase_date_diff']/df_agg[prefix + '_card_id_size']\n",
    "    df_agg[prefix + '_purchase_date_uptonow'] = (datetime.datetime.today() - df_agg[prefix + '_purchase_date_max']).dt.days\n",
    "\n",
    "    df = (df_agg.groupby('card_id').size().reset_index(name='{}_transactions_count'.format(prefix)))\n",
    "    df_agg = pd.merge(df, df_agg, on='card_id', how='left')\n",
    "    return df_agg"
   ]
  },
  {
   "cell_type": "code",
   "execution_count": null,
   "metadata": {},
   "outputs": [],
   "source": [
    "df_hist_agg = aggregate_transactions(df_hist_trans, 'hist')\n",
    "df_new_agg = aggregate_transactions(df_new_trans, 'new')\n",
    "\n",
    "df_train = df_train.merge(df_hist_agg, on='card_id', how='left')\n",
    "df_train = df_train.merge(df_new_agg, on='card_id', how='left')\n",
    "\n",
    "df_test = df_test.merge(df_hist_agg, on='card_id', how='left')\n",
    "df_test = df_test.merge(df_new_agg, on='card_id', how='left')"
   ]
  },
  {
   "cell_type": "code",
   "execution_count": null,
   "metadata": {},
   "outputs": [],
   "source": [
    "df_hist_agg[:3]"
   ]
  },
  {
   "cell_type": "code",
   "execution_count": null,
   "metadata": {},
   "outputs": [],
   "source": [
    "del df_hist_agg, df_new_agg\n",
    "gc.collect()"
   ]
  },
  {
   "cell_type": "code",
   "execution_count": null,
   "metadata": {},
   "outputs": [],
   "source": [
    "df_train['hist_first_buy'] = (df_train['hist_purchase_date_min'] - df_train['first_active_month']).dt.days\n",
    "df_train['new_first_buy'] = (df_train['new_purchase_date_min'] - df_train['first_active_month']).dt.days\n",
    "\n",
    "df_test['hist_first_buy'] = (df_test['hist_purchase_date_min'] - df_test['first_active_month']).dt.days\n",
    "df_test['new_first_buy'] = (df_test['new_purchase_date_min'] - df_test['first_active_month']).dt.days"
   ]
  },
  {
   "cell_type": "code",
   "execution_count": null,
   "metadata": {},
   "outputs": [],
   "source": [
    "for f in ['hist_purchase_date_max', 'hist_purchase_date_min', 'new_purchase_date_max', 'new_purchase_date_min']:\n",
    "    df_train[f] = df_train[f].astype(np.int64) * 1e-9\n",
    "    df_test[f] = df_test[f].astype(np.int64) * 1e-9\n",
    "\n",
    "df_train['card_id_total'] = df_train['hist_card_id_size'] + df_train['new_card_id_size']\n",
    "df_test['card_id_total'] = df_test['hist_card_id_size'] + df_test['new_card_id_size']\n",
    "\n",
    "df_train['purchase_amount_total'] = df_train['hist_purchase_amount_sum'] + df_train['new_purchase_amount_sum']\n",
    "df_test['purchase_amount_total'] = df_test['hist_purchase_amount_sum'] + df_test['new_purchase_amount_sum']"
   ]
  },
  {
   "cell_type": "code",
   "execution_count": null,
   "metadata": {},
   "outputs": [],
   "source": [
    "df_train['outliers'] = 0\n",
    "df_train.loc[df_train['target'] < -30, 'outliers'] = 1\n",
    "df_train['outliers'].value_counts()"
   ]
  },
  {
   "cell_type": "code",
   "execution_count": null,
   "metadata": {},
   "outputs": [],
   "source": [
    "for f in ['feature_1', 'feature_2', 'feature_3']:\n",
    "    order_label = df_train.groupby([f])['outliers'].mean()\n",
    "    df_train[f] = df_train[f].map(order_label)\n",
    "    df_test[f] = df_test[f].map(order_label)"
   ]
  },
  {
   "cell_type": "code",
   "execution_count": null,
   "metadata": {},
   "outputs": [],
   "source": [
    "df_train.to_csv('preprocessed/train_merged.csv')\n",
    "df_test.to_csv('preprocessed/test_merged.csv')"
   ]
  },
  {
   "cell_type": "markdown",
   "metadata": {},
   "source": [
    "Loading previously saved model"
   ]
  },
  {
   "cell_type": "code",
   "execution_count": 3,
   "metadata": {},
   "outputs": [
    {
     "name": "stdout",
     "output_type": "stream",
     "text": [
      "Starting memory usage: 130.94 MB\n",
      "Reduced memory usage: 36.97 MB (71.8% reduction)\n",
      "201,917 observations and 85 features in train set.\n",
      "Starting memory usage: 78.28 MB\n",
      "Reduced memory usage: 22.28 MB (71.5% reduction)\n",
      "123,623 observations and 83 features in train set.\n"
     ]
    }
   ],
   "source": [
    "df_train = pd.read_csv('preprocessed/train_merged.csv')\n",
    "df_train = reduce_mem_usage(df_train)\n",
    "print(\"{:,} observations and {} features in train set.\".format(df_train.shape[0], df_train.shape[1]))\n",
    "\n",
    "df_test = pd.read_csv('preprocessed/test_merged.csv')\n",
    "df_test = reduce_mem_usage(df_test)\n",
    "print(\"{:,} observations and {} features in train set.\".format(df_test.shape[0], df_test.shape[1]))"
   ]
  },
  {
   "cell_type": "markdown",
   "metadata": {},
   "source": [
    "### Loading possible outliers (Bea's predictions)"
   ]
  },
  {
   "cell_type": "raw",
   "metadata": {},
   "source": [
    "df_train_po = pd.read_csv(\"preprocessed/possible_outliers_train_gt0.9.csv\")\n",
    "df_train_po = reduce_mem_usage(df_train_po)\n",
    "print(\"{:,} observations and {} features in train set.\".format(df_train_po.shape[0], df_train_po.shape[1]))"
   ]
  },
  {
   "cell_type": "raw",
   "metadata": {},
   "source": [
    "df_train_po[df_train_po['possible_out'] == 1].count()"
   ]
  },
  {
   "cell_type": "raw",
   "metadata": {},
   "source": [
    "df_test_po = pd.read_csv(\"preprocessed/possible_outliers_test_gt0.9.csv\")\n",
    "df_test_po = reduce_mem_usage(df_test_po)\n",
    "print(\"{:,} observations and {} features in train set.\".format(df_test_po.shape[0], df_test_po.shape[1]))"
   ]
  },
  {
   "cell_type": "raw",
   "metadata": {},
   "source": [
    "len(df_train_po[df_train_po['possible_out'] == 1]), len(df_test_po[df_test_po['possible_out'] == 1])"
   ]
  },
  {
   "cell_type": "code",
   "execution_count": null,
   "metadata": {},
   "outputs": [],
   "source": [
    "df_all_trans = pd.concat([df_hist_trans, df_new_trans])"
   ]
  },
  {
   "cell_type": "code",
   "execution_count": null,
   "metadata": {},
   "outputs": [],
   "source": [
    "del df_hist_trans\n",
    "gc.collect()"
   ]
  },
  {
   "cell_type": "code",
   "execution_count": null,
   "metadata": {},
   "outputs": [],
   "source": [
    "df_all_trans = df_all_trans[df_all_trans['authorized_flag']==1] #We will only use authorized transactions\n",
    "df_all_trans['purchase_amount_raw'] = df_all_trans['purchase_amount']/0.00150265118 + 497.06"
   ]
  },
  {
   "cell_type": "code",
   "execution_count": null,
   "metadata": {},
   "outputs": [],
   "source": [
    "# Aggregate for authorized transactions: number of transactions and merchants, and total raw amount\n",
    "agg_funcs_auth = {\n",
    "    'card_id': ['size'],\n",
    "    'merchant_id': ['nunique'],\n",
    "    'purchase_amount_raw': ['sum'],\n",
    "    'purchase_date': ['max']\n",
    "}\n",
    "df_agg_auth = df_all_trans.groupby('card_id').agg(agg_funcs_auth)"
   ]
  },
  {
   "cell_type": "code",
   "execution_count": null,
   "metadata": {},
   "outputs": [],
   "source": [
    "df_agg_auth.columns = ['_'.join(col).strip() for col in df_agg_auth.columns.values]\n",
    "df_agg_auth.reset_index(drop=False, inplace=True)"
   ]
  },
  {
   "cell_type": "code",
   "execution_count": null,
   "metadata": {},
   "outputs": [],
   "source": [
    "#Time up to May 1th, 2018\n",
    "df_agg_auth['last_date_upto_may'] = (datetime.datetime.strptime('May 1 2018', '%b %d %Y') - df_agg_auth['purchase_date_max']).dt.days\n",
    "df_agg_auth.drop('purchase_date_max', axis=1, inplace=True)"
   ]
  },
  {
   "cell_type": "code",
   "execution_count": null,
   "metadata": {},
   "outputs": [],
   "source": [
    "df_train_po = df_train.merge(df_agg_auth, on='card_id', how='left')\n",
    "df_test_po = df_test.merge(df_agg_auth, on='card_id', how='left')"
   ]
  },
  {
   "cell_type": "code",
   "execution_count": null,
   "metadata": {},
   "outputs": [],
   "source": [
    "df_train_po.rename(columns={'card_id_size': 'n_purchase_amount', 'merchant_id_nunique': 'n_merchant', 'purchase_amount_raw_sum': 'sum_purchase_amount'}, inplace=True)\n",
    "df_test_po.rename(columns={'card_id_size': 'n_purchase_amount', 'merchant_id_nunique': 'n_merchant', 'purchase_amount_raw_sum': 'sum_purchase_amount'}, inplace=True)"
   ]
  },
  {
   "cell_type": "code",
   "execution_count": null,
   "metadata": {},
   "outputs": [],
   "source": [
    "del df_agg_auth\n",
    "gc.collect()"
   ]
  },
  {
   "cell_type": "code",
   "execution_count": null,
   "metadata": {},
   "outputs": [],
   "source": [
    "#Create year-month variable\n",
    "def create_date_year_month(df, source_column, preposition):\n",
    "    df[preposition + '_ym'] = df[source_column].dt.strftime('%Y') + '-' + df[source_column].dt.strftime('%m')    \n",
    "    return df\n",
    "df_all_trans = create_date_year_month(df_all_trans, 'purchase_date', 'purchase')"
   ]
  },
  {
   "cell_type": "code",
   "execution_count": null,
   "metadata": {},
   "outputs": [],
   "source": [
    "#Shape of the transactions over time\n",
    "def compute_shape(user):\n",
    "    grid = np.linspace(-1,1,user['purchase_ym'].nunique())\n",
    "    coeffs = np.polyfit(grid, user.groupby('purchase_ym')['purchase_amount_raw'].sum().values, 2)\n",
    "    return(pd.DataFrame({'purchase_shape': [np.sign(coeffs[0])]}))\n",
    "\n",
    "df_coeffs = df_all_trans.groupby('card_id')[['purchase_ym','purchase_amount_raw']].apply(compute_shape)\n",
    "df_coeffs = df_coeffs.reset_index(level=0)"
   ]
  },
  {
   "cell_type": "code",
   "execution_count": null,
   "metadata": {},
   "outputs": [],
   "source": [
    "df_train_po = df_train_po.merge(df_coeffs, on='card_id', how='left') \n",
    "df_test_po = df_test_po.merge(df_coeffs, on='card_id', how='left')"
   ]
  },
  {
   "cell_type": "code",
   "execution_count": null,
   "metadata": {},
   "outputs": [],
   "source": [
    "del df_coeffs\n",
    "gc.collect()"
   ]
  },
  {
   "cell_type": "code",
   "execution_count": null,
   "metadata": {},
   "outputs": [],
   "source": [
    "#Ratio max/median amount\n",
    "df_amounts_over_time = df_all_trans.groupby(['card_id','purchase_ym'])['purchase_amount_raw'].sum().reset_index()\n",
    "df_ratios = df_amounts_over_time.groupby('card_id')['purchase_amount_raw'].apply(lambda dfx: dfx.max() / dfx.median())\n",
    "df_ratios = df_ratios.reset_index(level=0)\n",
    "df_ratios.rename(columns={'purchase_amount_raw': 'ratio_amount'}, inplace=True)"
   ]
  },
  {
   "cell_type": "code",
   "execution_count": null,
   "metadata": {},
   "outputs": [],
   "source": [
    "df_train_po = df_train_po.merge(df_ratios, on='card_id', how='left') \n",
    "df_test_po = df_test_po.merge(df_ratios, on='card_id', how='left')"
   ]
  },
  {
   "cell_type": "code",
   "execution_count": null,
   "metadata": {},
   "outputs": [],
   "source": [
    "del df_amounts_over_time, df_ratios\n",
    "gc.collect()"
   ]
  },
  {
   "cell_type": "code",
   "execution_count": null,
   "metadata": {},
   "outputs": [],
   "source": [
    "#Time differences for favourite merchant\n",
    "def diff_times_fav(user):\n",
    "    id_merch_temp = user.groupby('merchant_id').size().idxmax()\n",
    "    dates_temp = user[user['merchant_id']==id_merch_temp].sort_values('purchase_date')['purchase_date'].values\n",
    "    diff_temp = (np.diff(dates_temp)/3.6e+12).astype(float)\n",
    "    return(pd.DataFrame({'diff_time_fav_mean': [diff_temp.mean()], 'diff_time_fav_std': [diff_temp.std()]}))\n",
    "\n",
    "df_diff_times = df_all_trans.groupby('card_id')[['merchant_id','purchase_date']].apply(diff_times_fav).reset_index(level=0)\n",
    "df_diff_times['diff_time_fav_mean'].fillna(0, inplace=True)\n",
    "df_diff_times['diff_time_fav_std'].fillna(0, inplace=True)"
   ]
  },
  {
   "cell_type": "code",
   "execution_count": null,
   "metadata": {},
   "outputs": [],
   "source": [
    "df_train_po = df_train_po.merge(df_diff_times, on='card_id', how='left') \n",
    "df_test_po = df_test_po.merge(df_diff_times, on='card_id', how='left')"
   ]
  },
  {
   "cell_type": "code",
   "execution_count": null,
   "metadata": {},
   "outputs": [],
   "source": [
    "del df_diff_times\n",
    "gc.collect()"
   ]
  },
  {
   "cell_type": "code",
   "execution_count": null,
   "metadata": {},
   "outputs": [],
   "source": [
    "#Time differences for all transactions\n",
    "def diff_times(user):\n",
    "    diff_temp = (np.diff(np.sort(user.values))/3.6e+12).astype(float)\n",
    "    return(pd.DataFrame({'diff_time_mean': [diff_temp.mean()], 'diff_time_std': [diff_temp.std()]}))\n",
    "\n",
    "df_diff_times2 = df_all_trans.groupby('card_id')['purchase_date'].apply(diff_times).reset_index(level=0)"
   ]
  },
  {
   "cell_type": "code",
   "execution_count": null,
   "metadata": {},
   "outputs": [],
   "source": [
    "df_train_po = df_train_po.merge(df_diff_times2, on='card_id', how='left') \n",
    "df_test_po = df_test_po.merge(df_diff_times2, on='card_id', how='left')"
   ]
  },
  {
   "cell_type": "code",
   "execution_count": null,
   "metadata": {},
   "outputs": [],
   "source": [
    "del df_diff_times2\n",
    "gc.collect()"
   ]
  },
  {
   "cell_type": "code",
   "execution_count": null,
   "metadata": {},
   "outputs": [],
   "source": [
    "#If the user is in the new transactions set\n",
    "df_train_po['in_new'] = (df_train_po['card_id'].isin(df_new_trans['card_id'].values))*1\n",
    "df_test_po['in_new'] = (df_test_po['card_id'].isin(df_new_trans['card_id'].values))*1"
   ]
  },
  {
   "cell_type": "code",
   "execution_count": null,
   "metadata": {},
   "outputs": [],
   "source": [
    "del df_new_trans\n",
    "gc.collect()"
   ]
  },
  {
   "cell_type": "markdown",
   "metadata": {},
   "source": [
    "We use a perceptron with a single layer of 50 neurons"
   ]
  },
  {
   "cell_type": "code",
   "execution_count": null,
   "metadata": {},
   "outputs": [],
   "source": [
    "from imblearn.over_sampling import SMOTE\n",
    "from sklearn.neural_network import MLPClassifier\n",
    "\n",
    "kf = KFold(n_splits=5)\n",
    "X = df_train_po[['feature_1', 'feature_2', 'feature_3', 'n_purchase_amount',\n",
    "       'n_merchant', 'sum_purchase_amount', 'last_date_upto_may',\n",
    "       'purchase_shape', 'ratio_amount', 'diff_time_fav_mean',\n",
    "       'diff_time_fav_std', 'diff_time_mean', 'diff_time_std', 'in_new']]\n",
    "y = df_train_po['outliers']"
   ]
  },
  {
   "cell_type": "code",
   "execution_count": null,
   "metadata": {},
   "outputs": [],
   "source": [
    "# Predictions for the train set with 5-folds\n",
    "os_smote = SMOTE(random_state=1)\n",
    "y_train_prob = np.zeros(y.shape[0])\n",
    "\n",
    "for train_index, test_index in kf.split(X):\n",
    "    X_train, X_test = X.iloc[train_index], X.iloc[test_index]\n",
    "    y_train, y_test = y[train_index], y[test_index]\n",
    "    \n",
    "    #Over-sample the data\n",
    "    os_data_X, os_data_y = os_smote.fit_sample(X_train, y_train)\n",
    "    os_data_X = pd.DataFrame(data=os_data_X, columns=X_train.columns)\n",
    "    os_data_y= pd.DataFrame(data=os_data_y, columns=['y'])\n",
    "    \n",
    "    #Fit the MLPC\n",
    "    clf = MLPClassifier(hidden_layer_sizes=(50), max_iter=100, early_stopping=True, verbose=False,  random_state=1, tol=0.001)\n",
    "    clf.fit(os_data_X, os_data_y)\n",
    "    y_train_prob[test_index] = clf.predict_proba(X_test)[:,1]"
   ]
  },
  {
   "cell_type": "code",
   "execution_count": null,
   "metadata": {},
   "outputs": [],
   "source": [
    "y_train_pred = 1*(y_train_prob>=0.9)"
   ]
  },
  {
   "cell_type": "code",
   "execution_count": null,
   "metadata": {},
   "outputs": [],
   "source": [
    "#Predictions for the test set\n",
    "\n",
    "#Over-sample the data\n",
    "os_data_X, os_data_y = os_smote.fit_sample(X, y)\n",
    "os_data_X = pd.DataFrame(data=os_data_X, columns=X.columns)\n",
    "os_data_y= pd.DataFrame(data=os_data_y, columns=['y'])\n",
    "    \n",
    "#Fit the MLPC\n",
    "clf = MLPClassifier(hidden_layer_sizes=(50), max_iter=100, early_stopping=True, verbose=False,  random_state=1, tol=0.001)\n",
    "clf.fit(os_data_X, os_data_y)\n",
    "\n",
    "#Predictions for the test set\n",
    "X_test = df_test_po[['feature_1', 'feature_2', 'feature_3', 'n_purchase_amount',\n",
    "       'n_merchant', 'sum_purchase_amount', 'last_date_upto_may',\n",
    "       'purchase_shape', 'ratio_amount', 'diff_time_fav_mean',\n",
    "       'diff_time_fav_std', 'diff_time_mean', 'diff_time_std', 'in_new']]\n",
    "y_test_prob = clf.predict_proba(X_test)[:,1]"
   ]
  },
  {
   "cell_type": "code",
   "execution_count": null,
   "metadata": {},
   "outputs": [],
   "source": [
    "y_test_pred = 1*(y_test_prob >= 0.9)"
   ]
  },
  {
   "cell_type": "code",
   "execution_count": null,
   "metadata": {},
   "outputs": [],
   "source": [
    "df_train_po['possible_out'] = y_train_pred\n",
    "df_test_po['possible_out'] = y_test_pred\n",
    "df_train = df_train.merge(df_train_po[['card_id','possible_out']], on='card_id', how='left')\n",
    "df_test = df_test.merge(df_test_po[['card_id','possible_out']], on='card_id', how='left')"
   ]
  },
  {
   "cell_type": "markdown",
   "metadata": {},
   "source": [
    "### Training\n",
    "[LightGBM parameter tuning](https://testlightgbm.readthedocs.io/en/latest/Parameters-tuning.html)<br/>\n",
    "[What is LightGBM, How to implement it? How to fine tune the parameters?](https://medium.com/@pushkarmandot/https-medium-com-pushkarmandot-what-is-lightgbm-how-to-implement-it-how-to-fine-tune-the-parameters-60347819b7fc)"
   ]
  },
  {
   "cell_type": "code",
   "execution_count": 13,
   "metadata": {},
   "outputs": [],
   "source": [
    "df_train_columns = [c for c in df_train.columns if c not in ['card_id', 'first_active_month', 'target', 'outliers', 'is_outlier']]\n",
    "target = df_train['target']\n",
    "del df_train['target']"
   ]
  },
  {
   "cell_type": "markdown",
   "metadata": {},
   "source": [
    "#### LightGBM"
   ]
  },
  {
   "cell_type": "code",
   "execution_count": 14,
   "metadata": {
    "scrolled": false
   },
   "outputs": [
    {
     "name": "stdout",
     "output_type": "stream",
     "text": [
      "\n",
      "Fold 1.\n",
      "Training until validation scores don't improve for 100 rounds.\n",
      "[100]\ttraining's rmse: 3.65131\tvalid_1's rmse: 3.77266\n",
      "[200]\ttraining's rmse: 3.5728\tvalid_1's rmse: 3.73938\n",
      "[300]\ttraining's rmse: 3.5226\tvalid_1's rmse: 3.72582\n",
      "[400]\ttraining's rmse: 3.48413\tvalid_1's rmse: 3.71832\n",
      "[500]\ttraining's rmse: 3.45211\tvalid_1's rmse: 3.71349\n",
      "[600]\ttraining's rmse: 3.42438\tvalid_1's rmse: 3.70994\n",
      "[700]\ttraining's rmse: 3.39998\tvalid_1's rmse: 3.70699\n",
      "[800]\ttraining's rmse: 3.37942\tvalid_1's rmse: 3.70577\n",
      "[900]\ttraining's rmse: 3.35821\tvalid_1's rmse: 3.70347\n",
      "[1000]\ttraining's rmse: 3.33976\tvalid_1's rmse: 3.70214\n",
      "[1100]\ttraining's rmse: 3.3216\tvalid_1's rmse: 3.70126\n",
      "[1200]\ttraining's rmse: 3.3051\tvalid_1's rmse: 3.7005\n",
      "[1300]\ttraining's rmse: 3.28818\tvalid_1's rmse: 3.6998\n",
      "[1400]\ttraining's rmse: 3.2728\tvalid_1's rmse: 3.69902\n",
      "[1500]\ttraining's rmse: 3.25809\tvalid_1's rmse: 3.69854\n",
      "[1600]\ttraining's rmse: 3.24244\tvalid_1's rmse: 3.69807\n",
      "[1700]\ttraining's rmse: 3.22804\tvalid_1's rmse: 3.698\n",
      "[1800]\ttraining's rmse: 3.21314\tvalid_1's rmse: 3.69755\n",
      "[1900]\ttraining's rmse: 3.1992\tvalid_1's rmse: 3.69728\n",
      "[2000]\ttraining's rmse: 3.18574\tvalid_1's rmse: 3.6969\n",
      "[2100]\ttraining's rmse: 3.17166\tvalid_1's rmse: 3.69673\n",
      "[2200]\ttraining's rmse: 3.15838\tvalid_1's rmse: 3.69719\n",
      "Early stopping, best iteration is:\n",
      "[2105]\ttraining's rmse: 3.17101\tvalid_1's rmse: 3.69668\n",
      "\n",
      "Fold 2.\n",
      "Training until validation scores don't improve for 100 rounds.\n",
      "[100]\ttraining's rmse: 3.67989\tvalid_1's rmse: 3.65417\n",
      "[200]\ttraining's rmse: 3.59913\tvalid_1's rmse: 3.62323\n",
      "[300]\ttraining's rmse: 3.54798\tvalid_1's rmse: 3.61169\n",
      "[400]\ttraining's rmse: 3.50828\tvalid_1's rmse: 3.6051\n",
      "[500]\ttraining's rmse: 3.4773\tvalid_1's rmse: 3.60126\n",
      "[600]\ttraining's rmse: 3.44976\tvalid_1's rmse: 3.5991\n",
      "[700]\ttraining's rmse: 3.42444\tvalid_1's rmse: 3.59811\n",
      "[800]\ttraining's rmse: 3.40142\tvalid_1's rmse: 3.59649\n",
      "[900]\ttraining's rmse: 3.38216\tvalid_1's rmse: 3.59558\n",
      "[1000]\ttraining's rmse: 3.36202\tvalid_1's rmse: 3.59444\n",
      "[1100]\ttraining's rmse: 3.3434\tvalid_1's rmse: 3.59442\n",
      "[1200]\ttraining's rmse: 3.32592\tvalid_1's rmse: 3.59402\n",
      "[1300]\ttraining's rmse: 3.30894\tvalid_1's rmse: 3.59396\n",
      "[1400]\ttraining's rmse: 3.29304\tvalid_1's rmse: 3.5937\n",
      "[1500]\ttraining's rmse: 3.27792\tvalid_1's rmse: 3.59357\n",
      "[1600]\ttraining's rmse: 3.26307\tvalid_1's rmse: 3.59322\n",
      "[1700]\ttraining's rmse: 3.24769\tvalid_1's rmse: 3.59299\n",
      "[1800]\ttraining's rmse: 3.23289\tvalid_1's rmse: 3.59277\n",
      "[1900]\ttraining's rmse: 3.21798\tvalid_1's rmse: 3.59276\n",
      "Early stopping, best iteration is:\n",
      "[1881]\ttraining's rmse: 3.22071\tvalid_1's rmse: 3.59263\n",
      "\n",
      "Fold 3.\n",
      "Training until validation scores don't improve for 100 rounds.\n",
      "[100]\ttraining's rmse: 3.67803\tvalid_1's rmse: 3.66231\n",
      "[200]\ttraining's rmse: 3.59925\tvalid_1's rmse: 3.63313\n",
      "[300]\ttraining's rmse: 3.55023\tvalid_1's rmse: 3.62176\n",
      "[400]\ttraining's rmse: 3.51299\tvalid_1's rmse: 3.61508\n",
      "[500]\ttraining's rmse: 3.48232\tvalid_1's rmse: 3.61017\n",
      "[600]\ttraining's rmse: 3.45534\tvalid_1's rmse: 3.60614\n",
      "[700]\ttraining's rmse: 3.43146\tvalid_1's rmse: 3.60383\n",
      "[800]\ttraining's rmse: 3.40912\tvalid_1's rmse: 3.60327\n",
      "[900]\ttraining's rmse: 3.38759\tvalid_1's rmse: 3.60283\n",
      "[1000]\ttraining's rmse: 3.36893\tvalid_1's rmse: 3.60221\n",
      "[1100]\ttraining's rmse: 3.35068\tvalid_1's rmse: 3.60209\n",
      "[1200]\ttraining's rmse: 3.3341\tvalid_1's rmse: 3.60207\n",
      "Early stopping, best iteration is:\n",
      "[1152]\ttraining's rmse: 3.3422\tvalid_1's rmse: 3.60166\n",
      "\n",
      "Fold 4.\n",
      "Training until validation scores don't improve for 100 rounds.\n",
      "[100]\ttraining's rmse: 3.66525\tvalid_1's rmse: 3.72139\n",
      "[200]\ttraining's rmse: 3.58588\tvalid_1's rmse: 3.68666\n",
      "[300]\ttraining's rmse: 3.53692\tvalid_1's rmse: 3.67248\n",
      "[400]\ttraining's rmse: 3.49776\tvalid_1's rmse: 3.66403\n",
      "[500]\ttraining's rmse: 3.46632\tvalid_1's rmse: 3.65864\n",
      "[600]\ttraining's rmse: 3.43948\tvalid_1's rmse: 3.65492\n",
      "[700]\ttraining's rmse: 3.41521\tvalid_1's rmse: 3.65283\n",
      "[800]\ttraining's rmse: 3.39222\tvalid_1's rmse: 3.65093\n",
      "[900]\ttraining's rmse: 3.37187\tvalid_1's rmse: 3.64977\n",
      "[1000]\ttraining's rmse: 3.35283\tvalid_1's rmse: 3.64838\n",
      "[1100]\ttraining's rmse: 3.33545\tvalid_1's rmse: 3.64779\n",
      "[1200]\ttraining's rmse: 3.31744\tvalid_1's rmse: 3.64734\n",
      "[1300]\ttraining's rmse: 3.29971\tvalid_1's rmse: 3.64664\n",
      "[1400]\ttraining's rmse: 3.28475\tvalid_1's rmse: 3.64653\n",
      "Early stopping, best iteration is:\n",
      "[1315]\ttraining's rmse: 3.29735\tvalid_1's rmse: 3.64646\n",
      "\n",
      "Fold 5.\n",
      "Training until validation scores don't improve for 100 rounds.\n",
      "[100]\ttraining's rmse: 3.64799\tvalid_1's rmse: 3.78064\n",
      "[200]\ttraining's rmse: 3.56664\tvalid_1's rmse: 3.7528\n",
      "[300]\ttraining's rmse: 3.51682\tvalid_1's rmse: 3.74533\n",
      "[400]\ttraining's rmse: 3.47872\tvalid_1's rmse: 3.73979\n",
      "[500]\ttraining's rmse: 3.44766\tvalid_1's rmse: 3.73664\n",
      "[600]\ttraining's rmse: 3.42073\tvalid_1's rmse: 3.73509\n",
      "[700]\ttraining's rmse: 3.39737\tvalid_1's rmse: 3.73405\n",
      "[800]\ttraining's rmse: 3.37524\tvalid_1's rmse: 3.73357\n",
      "[900]\ttraining's rmse: 3.35476\tvalid_1's rmse: 3.73264\n",
      "[1000]\ttraining's rmse: 3.33594\tvalid_1's rmse: 3.73224\n",
      "[1100]\ttraining's rmse: 3.31862\tvalid_1's rmse: 3.7317\n",
      "[1200]\ttraining's rmse: 3.3004\tvalid_1's rmse: 3.73137\n",
      "Early stopping, best iteration is:\n",
      "[1161]\ttraining's rmse: 3.30763\tvalid_1's rmse: 3.73133\n",
      "CPU times: user 15min 5s, sys: 5.59 s, total: 15min 10s\n",
      "Wall time: 3min 59s\n"
     ]
    }
   ],
   "source": [
    "%%time\n",
    "param = {\n",
    "    \"bagging_freq\": 1,\n",
    "    \"bagging_fraction\": 0.9,\n",
    "    \"bagging_seed\": 11,\n",
    "    \"boosting\": \"gbdt\",\n",
    "\n",
    "    \"feature_fraction\": 0.9,\n",
    "    #\"feature_fraction_seed\": 1,\n",
    "\n",
    "    \"lambda_l1\": 0.1,\n",
    "    \"learning_rate\": 0.01,\n",
    "\n",
    "    #\"max_bin\": 5,\n",
    "    'max_depth': -1,\n",
    "    \"metric\": \"rmse\",\n",
    "    #\"min_data_in_leaf\": 30,\n",
    "    #\"min_gain_to_split\": 0.1,\n",
    "    \"min_child_samples\": 20,\n",
    "    #\"num_boost_round\": 100,\n",
    "    \"num_leaves\": 31,\n",
    "    \"nthread\": -1,\n",
    "\n",
    "    \"objective\": \"regression\",\n",
    "\n",
    "    \"random_state\": 402,\n",
    "    \"verbosity\": -1\n",
    "}\n",
    "\n",
    "folds = StratifiedKFold(n_splits=5, shuffle=True, random_state=402)\n",
    "oof_lgbm = np.zeros(len(df_train))\n",
    "predictions_lgbm = np.zeros(len(df_test))\n",
    "feature_importance_lgbm = pd.DataFrame()\n",
    "\n",
    "for fold_, (trn_idx, val_idx) in enumerate(folds.split(df_train, df_train['possible_out'].values)):\n",
    "    print(\"\\nFold {}.\".format(fold_+1))\n",
    "    trn_data = lgb.Dataset(df_train.iloc[trn_idx][df_train_columns], label=target.iloc[trn_idx])\n",
    "    val_data = lgb.Dataset(df_train.iloc[val_idx][df_train_columns], label=target.iloc[val_idx])\n",
    "\n",
    "    num_round = 10000\n",
    "    model_lgbm = lgb.train(param, trn_data, num_round, valid_sets = [trn_data, val_data], verbose_eval=100, early_stopping_rounds=100)\n",
    "    oof_lgbm[val_idx] = model_lgbm.predict(df_train.iloc[val_idx][df_train_columns], num_iteration=model_lgbm.best_iteration)\n",
    "    \n",
    "    fold_importance_df = pd.DataFrame()\n",
    "    fold_importance_df[\"feature\"] = df_train_columns\n",
    "    fold_importance_df[\"importance\"] = model_lgbm.feature_importance()\n",
    "    fold_importance_df[\"fold\"] = fold_ + 1\n",
    "    feature_importance_lgbm = pd.concat([feature_importance_lgbm, fold_importance_df], axis=0)\n",
    "    \n",
    "    predictions_lgbm += model_lgbm.predict(df_test[df_train_columns], num_iteration=model_lgbm.best_iteration) / folds.n_splits"
   ]
  },
  {
   "cell_type": "code",
   "execution_count": 15,
   "metadata": {},
   "outputs": [
    {
     "name": "stdout",
     "output_type": "stream",
     "text": [
      "CV score: 3.654144\n"
     ]
    }
   ],
   "source": [
    "cv_score_lgbm = np.sqrt(mean_squared_error(oof_lgbm, target))\n",
    "print(\"CV score: {:.6f}\".format(cv_score_lgbm))"
   ]
  },
  {
   "cell_type": "code",
   "execution_count": 16,
   "metadata": {},
   "outputs": [
    {
     "data": {
      "image/png": "[encoded data removed]",
      "text/plain": [
       "<Figure size 1008x1800 with 1 Axes>"
      ]
     },
     "metadata": {
      "needs_background": "light"
     },
     "output_type": "display_data"
    }
   ],
   "source": [
    "cols = (feature_importance_lgbm[[\"feature\", \"importance\"]]\n",
    "        .groupby(\"feature\")\n",
    "        .mean()\n",
    "        .sort_values(by=\"importance\", ascending=False)[:1000].index)\n",
    "\n",
    "best_features_lgbm = feature_importance_lgbm.loc[feature_importance_lgbm.feature.isin(cols)]\n",
    "\n",
    "plt.figure(figsize=(14, 25))\n",
    "sns.barplot(x=\"importance\", y=\"feature\", data=best_features_lgbm.sort_values(by=\"importance\", ascending=False))\n",
    "plt.title('LightGBM Features (avg over folds)')\n",
    "plt.tight_layout()\n",
    "plt.savefig('lgbm_importances.png')"
   ]
  },
  {
   "cell_type": "code",
   "execution_count": 17,
   "metadata": {},
   "outputs": [
    {
     "data": {
      "text/plain": [
       "<lightgbm.basic.Booster at 0x7f6fa30c32b0>"
      ]
     },
     "execution_count": 17,
     "metadata": {},
     "output_type": "execute_result"
    }
   ],
   "source": [
    "model_lgbm.save_model(\"models/lightgbm_{:.6f}.txt\".format(cv_score_lgbm))"
   ]
  },
  {
   "cell_type": "code",
   "execution_count": null,
   "metadata": {},
   "outputs": [],
   "source": [
    "model_lgbm = lgb.Booster(model_file='models/lightgbm_3.655203.txt')"
   ]
  },
  {
   "cell_type": "markdown",
   "metadata": {},
   "source": [
    "#### CatBoost"
   ]
  },
  {
   "cell_type": "code",
   "execution_count": null,
   "metadata": {},
   "outputs": [],
   "source": [
    "list(set(df_train[df_train_columns].columns) - set(df_train[df_train_columns]._get_numeric_data().columns))"
   ]
  },
  {
   "cell_type": "markdown",
   "metadata": {},
   "source": [
    "There is no real categorical columns in the training set."
   ]
  },
  {
   "cell_type": "code",
   "execution_count": null,
   "metadata": {},
   "outputs": [],
   "source": [
    "category_columns = df_train[df_train_columns].select_dtypes(include=['int8', 'int16', 'int32', 'int64']).columns.tolist()"
   ]
  },
  {
   "cell_type": "code",
   "execution_count": null,
   "metadata": {},
   "outputs": [],
   "source": [
    "for i in category_columns:\n",
    "       print(str(df_train[df_train_columns].columns.get_loc(i)) + ',')"
   ]
  },
  {
   "cell_type": "code",
   "execution_count": 18,
   "metadata": {
    "scrolled": false
   },
   "outputs": [
    {
     "name": "stdout",
     "output_type": "stream",
     "text": [
      "\n",
      "Fold 1.\n",
      "0:\tlearn: 3.8564959\ttest: 3.8671581\tbest: 3.8671581 (0)\ttotal: 462ms\tremaining: 7m 41s\n",
      "100:\tlearn: 3.6633001\ttest: 3.6997890\tbest: 3.6997890 (100)\ttotal: 31.6s\tremaining: 4m 41s\n",
      "200:\tlearn: 3.6401100\ttest: 3.6909489\tbest: 3.6909079 (199)\ttotal: 1m 2s\tremaining: 4m 7s\n",
      "300:\tlearn: 3.6244456\ttest: 3.6871839\tbest: 3.6871805 (299)\ttotal: 1m 34s\tremaining: 3m 38s\n",
      "400:\tlearn: 3.6095112\ttest: 3.6837522\tbest: 3.6837517 (399)\ttotal: 2m 5s\tremaining: 3m 7s\n",
      "500:\tlearn: 3.5959388\ttest: 3.6820738\tbest: 3.6820371 (499)\ttotal: 2m 37s\tremaining: 2m 37s\n",
      "600:\tlearn: 3.5841467\ttest: 3.6814911\tbest: 3.6814911 (600)\ttotal: 3m 9s\tremaining: 2m 6s\n",
      "700:\tlearn: 3.5699976\ttest: 3.6809006\tbest: 3.6804636 (696)\ttotal: 3m 42s\tremaining: 1m 34s\n",
      "Stopped by overfitting detector  (50 iterations wait)\n",
      "\n",
      "bestTest = 3.680463635\n",
      "bestIteration = 696\n",
      "\n",
      "Shrink model to first 697 iterations.\n",
      "\n",
      "Fold 2.\n",
      "0:\tlearn: 3.8569052\ttest: 3.8646026\tbest: 3.8646026 (0)\ttotal: 334ms\tremaining: 5m 33s\n",
      "100:\tlearn: 3.6622277\ttest: 3.7059136\tbest: 3.7058783 (99)\ttotal: 31.7s\tremaining: 4m 42s\n",
      "200:\tlearn: 3.6421806\ttest: 3.6969237\tbest: 3.6969237 (200)\ttotal: 1m 2s\tremaining: 4m 8s\n",
      "300:\tlearn: 3.6283093\ttest: 3.6932532\tbest: 3.6932532 (300)\ttotal: 1m 34s\tremaining: 3m 38s\n",
      "400:\tlearn: 3.6139044\ttest: 3.6906872\tbest: 3.6906872 (400)\ttotal: 2m 6s\tremaining: 3m 9s\n",
      "500:\tlearn: 3.6016277\ttest: 3.6883597\tbest: 3.6883415 (496)\ttotal: 2m 38s\tremaining: 2m 38s\n",
      "600:\tlearn: 3.5909969\ttest: 3.6861752\tbest: 3.6861339 (599)\ttotal: 3m 11s\tremaining: 2m 6s\n",
      "700:\tlearn: 3.5803128\ttest: 3.6853434\tbest: 3.6853271 (695)\ttotal: 3m 43s\tremaining: 1m 35s\n",
      "800:\tlearn: 3.5700404\ttest: 3.6842451\tbest: 3.6841733 (773)\ttotal: 4m 16s\tremaining: 1m 3s\n",
      "900:\tlearn: 3.5601850\ttest: 3.6826913\tbest: 3.6826913 (900)\ttotal: 4m 49s\tremaining: 31.8s\n",
      "999:\tlearn: 3.5506781\ttest: 3.6822542\tbest: 3.6820906 (960)\ttotal: 5m 21s\tremaining: 0us\n",
      "\n",
      "bestTest = 3.682090558\n",
      "bestIteration = 960\n",
      "\n",
      "Shrink model to first 961 iterations.\n",
      "\n",
      "Fold 3.\n",
      "0:\tlearn: 3.8586555\ttest: 3.8544051\tbest: 3.8544051 (0)\ttotal: 321ms\tremaining: 5m 20s\n",
      "100:\tlearn: 3.6660935\ttest: 3.6941731\tbest: 3.6941731 (100)\ttotal: 31.3s\tremaining: 4m 38s\n",
      "200:\tlearn: 3.6465281\ttest: 3.6847787\tbest: 3.6847787 (200)\ttotal: 1m 2s\tremaining: 4m 7s\n",
      "300:\tlearn: 3.6328863\ttest: 3.6809412\tbest: 3.6809389 (299)\ttotal: 1m 33s\tremaining: 3m 37s\n",
      "400:\tlearn: 3.6192371\ttest: 3.6778441\tbest: 3.6778220 (393)\ttotal: 2m 5s\tremaining: 3m 7s\n",
      "500:\tlearn: 3.6049101\ttest: 3.6761147\tbest: 3.6761147 (500)\ttotal: 2m 37s\tremaining: 2m 36s\n",
      "600:\tlearn: 3.5940995\ttest: 3.6752487\tbest: 3.6752487 (600)\ttotal: 3m 9s\tremaining: 2m 5s\n",
      "700:\tlearn: 3.5841550\ttest: 3.6741347\tbest: 3.6740822 (698)\ttotal: 3m 42s\tremaining: 1m 34s\n",
      "Stopped by overfitting detector  (50 iterations wait)\n",
      "\n",
      "bestTest = 3.674082206\n",
      "bestIteration = 698\n",
      "\n",
      "Shrink model to first 699 iterations.\n",
      "\n",
      "Fold 4.\n",
      "0:\tlearn: 3.8615764\ttest: 3.8426330\tbest: 3.8426330 (0)\ttotal: 344ms\tremaining: 5m 43s\n",
      "100:\tlearn: 3.6768406\ttest: 3.6635035\tbest: 3.6635035 (100)\ttotal: 31.6s\tremaining: 4m 40s\n",
      "200:\tlearn: 3.6566311\ttest: 3.6525445\tbest: 3.6525445 (200)\ttotal: 1m 2s\tremaining: 4m 8s\n",
      "300:\tlearn: 3.6428282\ttest: 3.6471570\tbest: 3.6471570 (300)\ttotal: 1m 33s\tremaining: 3m 36s\n",
      "400:\tlearn: 3.6283529\ttest: 3.6436223\tbest: 3.6435721 (395)\ttotal: 2m 5s\tremaining: 3m 7s\n",
      "500:\tlearn: 3.6184585\ttest: 3.6411990\tbest: 3.6411577 (499)\ttotal: 2m 37s\tremaining: 2m 36s\n",
      "600:\tlearn: 3.6087817\ttest: 3.6396334\tbest: 3.6396181 (596)\ttotal: 3m 9s\tremaining: 2m 6s\n",
      "700:\tlearn: 3.6000037\ttest: 3.6382587\tbest: 3.6382587 (700)\ttotal: 3m 42s\tremaining: 1m 34s\n",
      "800:\tlearn: 3.5901731\ttest: 3.6365885\tbest: 3.6365885 (800)\ttotal: 4m 16s\tremaining: 1m 3s\n",
      "900:\tlearn: 3.5802670\ttest: 3.6360019\tbest: 3.6360019 (900)\ttotal: 4m 51s\tremaining: 32.1s\n",
      "999:\tlearn: 3.5703656\ttest: 3.6351182\tbest: 3.6351155 (998)\ttotal: 5m 24s\tremaining: 0us\n",
      "\n",
      "bestTest = 3.63511553\n",
      "bestIteration = 998\n",
      "\n",
      "Shrink model to first 999 iterations.\n",
      "\n",
      "Fold 5.\n",
      "0:\tlearn: 3.8559508\ttest: 3.8640686\tbest: 3.8640686 (0)\ttotal: 327ms\tremaining: 5m 26s\n",
      "100:\tlearn: 3.6709232\ttest: 3.6889292\tbest: 3.6889292 (100)\ttotal: 32.9s\tremaining: 4m 53s\n",
      "200:\tlearn: 3.6537134\ttest: 3.6803048\tbest: 3.6803048 (200)\ttotal: 1m 2s\tremaining: 4m 9s\n",
      "300:\tlearn: 3.6399412\ttest: 3.6741962\tbest: 3.6741872 (299)\ttotal: 1m 34s\tremaining: 3m 40s\n",
      "400:\tlearn: 3.6260474\ttest: 3.6699983\tbest: 3.6699983 (400)\ttotal: 2m 9s\tremaining: 3m 14s\n",
      "500:\tlearn: 3.6141565\ttest: 3.6667474\tbest: 3.6667474 (500)\ttotal: 2m 42s\tremaining: 2m 41s\n",
      "600:\tlearn: 3.6007618\ttest: 3.6630768\tbest: 3.6630389 (599)\ttotal: 3m 16s\tremaining: 2m 10s\n",
      "700:\tlearn: 3.5911344\ttest: 3.6624026\tbest: 3.6624026 (700)\ttotal: 3m 49s\tremaining: 1m 37s\n",
      "800:\tlearn: 3.5819393\ttest: 3.6614620\tbest: 3.6614620 (800)\ttotal: 4m 22s\tremaining: 1m 5s\n",
      "900:\tlearn: 3.5728402\ttest: 3.6605425\tbest: 3.6605425 (900)\ttotal: 4m 54s\tremaining: 32.4s\n",
      "999:\tlearn: 3.5648376\ttest: 3.6594793\tbest: 3.6593393 (986)\ttotal: 5m 57s\tremaining: 0us\n",
      "\n",
      "bestTest = 3.659339311\n",
      "bestIteration = 986\n",
      "\n",
      "Shrink model to first 987 iterations.\n",
      "CPU times: user 1h 29min 38s, sys: 5min 12s, total: 1h 34min 51s\n",
      "Wall time: 26min 50s\n"
     ]
    }
   ],
   "source": [
    "%%time\n",
    "folds = StratifiedKFold(n_splits=5, shuffle=True, random_state=1)\n",
    "oof_cat = np.zeros(len(df_train))\n",
    "predictions_cat = np.zeros(len(df_test))\n",
    "feature_importance_cat = pd.DataFrame()\n",
    "\n",
    "model_cat = CatBoostRegressor(\n",
    "    iterations=1000,\n",
    "    learning_rate=0.05,\n",
    "    depth=6,\n",
    "    eval_metric='RMSE',\n",
    "    bagging_temperature = 0.9,\n",
    "    od_type='Iter',\n",
    "    #metric_period = 100,\n",
    "    od_wait=50\n",
    ")\n",
    "\n",
    "for fold_, (trn_idx, val_idx) in enumerate(folds.split(df_train, df_train['possible_out'].values)):\n",
    "    print(\"\\nFold {}.\".format(fold_+1))\n",
    "    trn_data = df_train.iloc[trn_idx][df_train_columns]\n",
    "    trn_label = target.iloc[trn_idx]\n",
    "    val_data = df_train.iloc[val_idx][df_train_columns]\n",
    "    val_label = target.iloc[val_idx]\n",
    "\n",
    "    num_round = 10000\n",
    "    model_cat.fit(trn_data, trn_label, eval_set=(val_data, val_label), cat_features=np.array([3, 4, 7, 10, 11, 12, 15, 16, 18, 19, 29, 30, 31, 32, 35, 36, 37, 39, 76, 80, 81, 82]), use_best_model=True, verbose=100)\n",
    "    \n",
    "    oof_cat[val_idx] = model_cat.predict(df_train.iloc[val_idx][df_train_columns])\n",
    "    \n",
    "    fold_importance_df = pd.DataFrame()\n",
    "    fold_importance_df[\"feature\"] = df_train_columns\n",
    "    fold_importance_df[\"importance\"] = model_cat.feature_importances_\n",
    "    fold_importance_df[\"fold\"] = fold_ + 1\n",
    "    feature_importance_cat = pd.concat([feature_importance_cat, fold_importance_df], axis=0)\n",
    "    \n",
    "    predictions_cat += model_cat.predict(df_test[df_train_columns].fillna(0)) / folds.n_splits"
   ]
  },
  {
   "cell_type": "code",
   "execution_count": 19,
   "metadata": {},
   "outputs": [
    {
     "name": "stdout",
     "output_type": "stream",
     "text": [
      "CV score: 3.666148\n"
     ]
    }
   ],
   "source": [
    "cv_score_cat = np.sqrt(mean_squared_error(oof_cat, target))\n",
    "print(\"CV score: {:.6f}\".format(cv_score_cat))"
   ]
  },
  {
   "cell_type": "code",
   "execution_count": null,
   "metadata": {},
   "outputs": [],
   "source": [
    "cols = (feature_importance_cat[[\"feature\", \"importance\"]]\n",
    "        .groupby(\"feature\")\n",
    "        .mean()\n",
    "        .sort_values(by=\"importance\", ascending=False)[:1000].index)\n",
    "\n",
    "best_features_cat = feature_importance_cat.loc[feature_importance_cat.feature.isin(cols)]\n",
    "\n",
    "plt.figure(figsize=(14, 25))\n",
    "sns.barplot(x=\"importance\", y=\"feature\", data=best_features_cat.sort_values(by=\"importance\", ascending=False))\n",
    "plt.title('LightGBM Features (avg over folds)')\n",
    "plt.tight_layout()\n",
    "plt.savefig('catboost_importances.png')"
   ]
  },
  {
   "cell_type": "markdown",
   "metadata": {},
   "source": [
    "#### XGBoost"
   ]
  },
  {
   "cell_type": "code",
   "execution_count": 20,
   "metadata": {
    "scrolled": false
   },
   "outputs": [
    {
     "name": "stdout",
     "output_type": "stream",
     "text": [
      "\n",
      "Fold 1.\n",
      "[0]\ttrain-rmse:3.84006\tvalid-rmse:3.99095\n",
      "Multiple eval metrics have been passed: 'valid-rmse' will be used for early stopping.\n",
      "\n",
      "Will train until valid-rmse hasn't improved in 50 rounds.\n",
      "Stopping. Best iteration:\n",
      "[44]\ttrain-rmse:1.56151\tvalid-rmse:3.7648\n",
      "\n",
      "\n",
      "Fold 2.\n",
      "[0]\ttrain-rmse:3.86386\tvalid-rmse:3.87174\n",
      "Multiple eval metrics have been passed: 'valid-rmse' will be used for early stopping.\n",
      "\n",
      "Will train until valid-rmse hasn't improved in 50 rounds.\n",
      "Stopping. Best iteration:\n",
      "[38]\ttrain-rmse:1.71676\tvalid-rmse:3.64684\n",
      "\n",
      "\n",
      "Fold 3.\n",
      "[0]\ttrain-rmse:3.87073\tvalid-rmse:3.86278\n",
      "Multiple eval metrics have been passed: 'valid-rmse' will be used for early stopping.\n",
      "\n",
      "Will train until valid-rmse hasn't improved in 50 rounds.\n",
      "Stopping. Best iteration:\n",
      "[38]\ttrain-rmse:1.72847\tvalid-rmse:3.66376\n",
      "\n",
      "\n",
      "Fold 4.\n",
      "[0]\ttrain-rmse:3.85267\tvalid-rmse:3.93792\n",
      "Multiple eval metrics have been passed: 'valid-rmse' will be used for early stopping.\n",
      "\n",
      "Will train until valid-rmse hasn't improved in 50 rounds.\n",
      "Stopping. Best iteration:\n",
      "[41]\ttrain-rmse:1.65726\tvalid-rmse:3.70717\n",
      "\n",
      "\n",
      "Fold 5.\n",
      "[0]\ttrain-rmse:3.83874\tvalid-rmse:3.98503\n",
      "Multiple eval metrics have been passed: 'valid-rmse' will be used for early stopping.\n",
      "\n",
      "Will train until valid-rmse hasn't improved in 50 rounds.\n",
      "Stopping. Best iteration:\n",
      "[35]\ttrain-rmse:1.82125\tvalid-rmse:3.78443\n",
      "\n",
      "CPU times: user 1h 42min 5s, sys: 48.7 s, total: 1h 42min 54s\n",
      "Wall time: 27min 49s\n"
     ]
    }
   ],
   "source": [
    "%%time\n",
    "params = {\n",
    "    'colsample_bytree': 0.8,\n",
    "    'eta': 0.05, # 0.005\n",
    "    'eval_metric': 'rmse',\n",
    "    'max_depth': 20,\n",
    "    'objective': 'reg:linear',\n",
    "    'random_state': 1,\n",
    "    'silent': True,\n",
    "    'subsample': 0.8\n",
    "}\n",
    "\n",
    "folds = StratifiedKFold(n_splits=5, shuffle=True, random_state=402)\n",
    "oof_xgb = np.zeros(len(df_train))\n",
    "predictions_xgb = np.zeros(len(df_test))\n",
    "feature_importance_xgb = pd.DataFrame()\n",
    "\n",
    "for fold_, (trn_idx, val_idx) in enumerate(folds.split(df_train, df_train['possible_out'].values)):\n",
    "    print(\"\\nFold {}.\".format(fold_+1))\n",
    "    trn_data = xgb.DMatrix(data=df_train.iloc[trn_idx][df_train_columns], label=target.iloc[trn_idx])\n",
    "    val_data = xgb.DMatrix(data=df_train.iloc[val_idx][df_train_columns], label=target.iloc[val_idx])\n",
    "    watchlist = [(trn_data, 'train'), (val_data, 'valid')]\n",
    "\n",
    "    num_round = 10000\n",
    "    model_xgb = xgb.train(params, trn_data, num_round, watchlist, early_stopping_rounds=50, verbose_eval=1000)\n",
    "    oof_xgb[val_idx] = model_xgb.predict(xgb.DMatrix(df_train.iloc[val_idx][df_train_columns]), ntree_limit=model_xgb.best_ntree_limit+50)\n",
    "    \n",
    "    fold_importance_df = pd.DataFrame()\n",
    "    fold_importance_df[\"feature\"] = df_train_columns\n",
    "    fold_importance_df[\"fold\"] = fold_ + 1\n",
    "    feature_importance_lxgb = pd.concat([feature_importance_xgb, fold_importance_df], axis=0)\n",
    "    \n",
    "    predictions_xgb += model_xgb.predict(xgb.DMatrix(df_test[df_train_columns]), ntree_limit=model_xgb.best_ntree_limit+50) / folds.n_splits"
   ]
  },
  {
   "cell_type": "code",
   "execution_count": 21,
   "metadata": {},
   "outputs": [
    {
     "name": "stdout",
     "output_type": "stream",
     "text": [
      "CV score: 3.725494\n"
     ]
    }
   ],
   "source": [
    "cv_score_xgb = np.sqrt(mean_squared_error(oof_xgb, target))\n",
    "print(\"CV score: {:.6f}\".format(cv_score_xgb))"
   ]
  },
  {
   "cell_type": "code",
   "execution_count": 22,
   "metadata": {},
   "outputs": [
    {
     "data": {
      "text/plain": [
       "['models/xgboost_3.725494.pkl']"
      ]
     },
     "execution_count": 22,
     "metadata": {},
     "output_type": "execute_result"
    }
   ],
   "source": [
    "joblib.dump(model_xgb, \"models/xgboost_{:.6f}.pkl\".format(cv_score_xgb), compress=True)"
   ]
  },
  {
   "cell_type": "code",
   "execution_count": 23,
   "metadata": {},
   "outputs": [],
   "source": [
    "model_xgb = joblib.load('models/xgboost_3.657233.pkl')"
   ]
  },
  {
   "cell_type": "code",
   "execution_count": null,
   "metadata": {},
   "outputs": [],
   "source": [
    "sub_df = pd.DataFrame({\n",
    "    \"card_id\": df_test[\"card_id\"].values\n",
    "})\n",
    "\n",
    "sub_df[\"target\"] = predictions\n",
    "sub_df.to_csv(\"output/xgboost_{:.6f}.csv\".format(cv_score), index=False)"
   ]
  },
  {
   "cell_type": "markdown",
   "metadata": {},
   "source": [
    "#### Meta model"
   ]
  },
  {
   "cell_type": "code",
   "execution_count": 24,
   "metadata": {},
   "outputs": [
    {
     "name": "stdout",
     "output_type": "stream",
     "text": [
      "\n",
      "Fold 1.\n",
      "\n",
      "Fold 2.\n",
      "\n",
      "Fold 3.\n",
      "\n",
      "Fold 4.\n",
      "\n",
      "Fold 5.\n"
     ]
    }
   ],
   "source": [
    "train_stack = np.vstack([oof_lgbm, oof_xgb, oof_cat]).transpose()\n",
    "test_stack = np.vstack([predictions_lgbm, predictions_xgb, predictions_cat]).transpose()\n",
    "\n",
    "folds = KFold(n_splits=5, shuffle=True, random_state=15)\n",
    "oof_stack = np.zeros(train_stack.shape[0])\n",
    "predictions_stack = np.zeros(test_stack.shape[0])\n",
    "\n",
    "for fold_, (trn_idx, val_idx) in enumerate(folds.split(train_stack, target)):\n",
    "    print(\"\\nFold {}.\".format(fold_+1))\n",
    "    trn_data, trn_y = train_stack[trn_idx], target.iloc[trn_idx].values\n",
    "    val_data, val_y = train_stack[val_idx], target.iloc[val_idx].values\n",
    "\n",
    "    model_ridge = Ridge(alpha=100)\n",
    "    model_ridge.fit(trn_data, trn_y)\n",
    "    \n",
    "    oof_stack[val_idx] = model_ridge.predict(val_data)\n",
    "    predictions_stack += model_ridge.predict(test_stack) / 5"
   ]
  },
  {
   "cell_type": "code",
   "execution_count": 25,
   "metadata": {},
   "outputs": [
    {
     "name": "stdout",
     "output_type": "stream",
     "text": [
      "CV score: 3.652103\n"
     ]
    }
   ],
   "source": [
    "cv_score_stack = np.sqrt(mean_squared_error(oof_stack, target))\n",
    "print(\"CV score: {:.6f}\".format(cv_score_stack))"
   ]
  },
  {
   "cell_type": "code",
   "execution_count": 27,
   "metadata": {},
   "outputs": [],
   "source": [
    "sub_df = pd.DataFrame({\n",
    "    \"card_id\": df_test[\"card_id\"].values\n",
    "})\n",
    "\n",
    "sub_df[\"target\"] = predictions_stack\n",
    "sub_df.to_csv(\"output/stacked_{:.6f}.csv\".format(cv_score_stack), index=False)"
   ]
  },
  {
   "cell_type": "markdown",
   "metadata": {},
   "source": [
    "[Just Train Data - LGB & XGB & CatBoost w/ Blending](https://www.kaggle.com/silverstone1903/just-train-data-lgb-xgb-catboost-w-blending/data)<br/>\n",
    "[MultiModel + RIDGE + STACKING](https://www.kaggle.com/ashishpatel26/rmse-3-66-multimodel-ridge-stacking)\n",
    "https://www.kaggle.com/c/elo-merchant-category-recommendation/discussion/75935"
   ]
  }
 ],
 "metadata": {
  "kernelspec": {
   "display_name": "Python 3",
   "language": "python",
   "name": "python3"
  },
  "language_info": {
   "codemirror_mode": {
    "name": "ipython",
    "version": 3
   },
   "file_extension": ".py",
   "mimetype": "text/x-python",
   "name": "python",
   "nbconvert_exporter": "python",
   "pygments_lexer": "ipython3",
   "version": "3.6.0"
  },
  "toc": {
   "base_numbering": 1,
   "nav_menu": {},
   "number_sections": true,
   "sideBar": true,
   "skip_h1_title": true,
   "title_cell": "Table of Contents",
   "title_sidebar": "Contents",
   "toc_cell": false,
   "toc_position": {
    "height": "calc(100% - 180px)",
    "left": "10px",
    "top": "150px",
    "width": "189px"
   },
   "toc_section_display": true,
   "toc_window_display": true
  }
 },
 "nbformat": 4,
 "nbformat_minor": 2
}
