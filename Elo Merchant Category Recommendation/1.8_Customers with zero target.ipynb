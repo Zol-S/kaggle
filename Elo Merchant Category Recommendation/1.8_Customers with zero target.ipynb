{
 "cells": [
  {
   "cell_type": "markdown",
   "metadata": {},
   "source": [
    "# Elo Merchant Category Recommendation - Customers with zero target <a class=\"tocSkip\">\n",
    "*End date: 2019. february 19.*\n",
    "\n",
    "This tutorial notebook is the first part of a seriers for [Elo Mechant Category Recommendation](https://www.kaggle.com/c/elo-merchant-category-recommendation) contest organized by Elo, one of the largest payment brands in Brazil. It has built partnerships with merchants in order to offer promotions or discounts to cardholders. The objective of the competition is to identify and serve the most relevant opportunities to individuals, by uncovering signals in customer loyalty. The input files are available from the [download](https://www.kaggle.com/c/elo-merchant-category-recommendation/data) section of the contest:\n",
    "\n",
    "- **train.csv**,  **test.csv**: list of `card_ids` that can be used for training and testing\n",
    "- **historical_transactions.csv**: contains up to 3 months' worth of transactions for every card at any of the provided `merchant_ids`\n",
    "- **new_merchant_transactions.csv**: contains the transactions at new merchants (`merchant_ids` that this particular `card_id` \n",
    "has not yet visited) over a period of two months\n",
    "- **merchants.csv**: contains aggregate information for each `merchant_id` represented in the data set"
   ]
  },
  {
   "cell_type": "code",
   "execution_count": 1,
   "metadata": {},
   "outputs": [],
   "source": [
    "import os\n",
    "import gc\n",
    "import math\n",
    "import scipy\n",
    "import random\n",
    "import warnings\n",
    "import datetime\n",
    "import calendar\n",
    "import numpy as np\n",
    "import pandas as pd\n",
    "import seaborn as sns\n",
    "from scipy import stats\n",
    "from scipy.stats import norm\n",
    "import statsmodels.api as sm\n",
    "import matplotlib.pyplot as plt\n",
    "from matplotlib.mlab import normpdf\n",
    "from imblearn.over_sampling import SMOTE\n",
    "from IPython.core.display import display, HTML\n",
    "from statsmodels.graphics.gofplots import qqplot\n",
    "\n",
    "from sklearn.linear_model import LogisticRegression\n",
    "from sklearn import metrics\n",
    "from sklearn.model_selection import KFold\n",
    "from sklearn.feature_selection import RFE\n",
    "\n",
    "warnings.filterwarnings(\"ignore\")\n",
    "\n",
    "random.seed(1)"
   ]
  },
  {
   "cell_type": "code",
   "execution_count": 2,
   "metadata": {},
   "outputs": [],
   "source": [
    "def reduce_mem_usage(df, verbose=True):\n",
    "    numerics = ['int16', 'int32', 'int64', 'float16', 'float32', 'float64']\n",
    "    start_mem = df.memory_usage().sum() / 1024**2\n",
    "    if verbose: print('Starting memory usage: {:5.2f} MB'.format(start_mem))\n",
    "\n",
    "    for col in df.columns:\n",
    "        col_type = df[col].dtypes\n",
    "        if col_type in numerics:\n",
    "            c_min = df[col].min()\n",
    "            c_max = df[col].max()\n",
    "            if str(col_type)[:3] == 'int':\n",
    "                if c_min >= np.iinfo(np.int8).min and c_max <= np.iinfo(np.int8).max:\n",
    "                    df[col] = df[col].astype(np.int8)\n",
    "                elif c_min >= np.iinfo(np.int16).min and c_max <= np.iinfo(np.int16).max:\n",
    "                    df[col] = df[col].astype(np.int16)\n",
    "                elif c_min >= np.iinfo(np.int32).min and c_max <= np.iinfo(np.int32).max:\n",
    "                    df[col] = df[col].astype(np.int32)\n",
    "                elif c_min >= np.iinfo(np.int64).min and c_max <= np.iinfo(np.int64).max:\n",
    "                    df[col] = df[col].astype(np.int64)  \n",
    "            else:\n",
    "                if c_min >= np.finfo(np.float16).min and c_max <= np.finfo(np.float16).max:\n",
    "                    df[col] = df[col].astype(np.float16)\n",
    "                elif c_min >= np.finfo(np.float32).min and c_max <= np.finfo(np.float32).max:\n",
    "                    df[col] = df[col].astype(np.float32)\n",
    "                else:\n",
    "                    df[col] = df[col].astype(np.float64)    \n",
    "    end_mem = df.memory_usage().sum() / 1024**2\n",
    "    if verbose: print('Reduced memory usage: {:5.2f} MB ({:.1f}% reduction)'.format(end_mem, 100 * (start_mem - end_mem) / start_mem))\n",
    "    return df"
   ]
  },
  {
   "cell_type": "code",
   "execution_count": 3,
   "metadata": {},
   "outputs": [
    {
     "name": "stdout",
     "output_type": "stream",
     "text": [
      "Starting memory usage:  9.24 MB\n",
      "Reduced memory usage:  4.04 MB (56.2% reduction)\n"
     ]
    }
   ],
   "source": [
    "df = pd.read_csv(\"input/train.csv\")\n",
    "df = reduce_mem_usage(df)"
   ]
  },
  {
   "cell_type": "code",
   "execution_count": 4,
   "metadata": {},
   "outputs": [
    {
     "name": "stdout",
     "output_type": "stream",
     "text": [
      "Starting memory usage: 3109.54 MB\n",
      "Reduced memory usage: 1749.11 MB (43.7% reduction)\n",
      "Starting memory usage: 209.67 MB\n",
      "Reduced memory usage: 114.20 MB (45.5% reduction)\n"
     ]
    }
   ],
   "source": [
    "df_hist_trans = pd.read_csv(\"input/historical_transactions.csv\")\n",
    "df_hist_trans = reduce_mem_usage(df_hist_trans)\n",
    "df_new_trans = pd.read_csv(\"input/new_merchant_transactions.csv\")\n",
    "df_new_trans = reduce_mem_usage(df_new_trans)"
   ]
  },
  {
   "cell_type": "code",
   "execution_count": 5,
   "metadata": {},
   "outputs": [
    {
     "data": {
      "text/html": [
       "<div>\n",
       "<style scoped>\n",
       "    .dataframe tbody tr th:only-of-type {\n",
       "        vertical-align: middle;\n",
       "    }\n",
       "\n",
       "    .dataframe tbody tr th {\n",
       "        vertical-align: top;\n",
       "    }\n",
       "\n",
       "    .dataframe thead th {\n",
       "        text-align: right;\n",
       "    }\n",
       "</style>\n",
       "<table border=\"1\" class=\"dataframe\">\n",
       "  <thead>\n",
       "    <tr style=\"text-align: right;\">\n",
       "      <th></th>\n",
       "      <th>index</th>\n",
       "      <th>authorized_flag</th>\n",
       "      <th>card_id</th>\n",
       "      <th>city_id</th>\n",
       "      <th>category_1</th>\n",
       "      <th>installments</th>\n",
       "      <th>category_3</th>\n",
       "      <th>merchant_category_id</th>\n",
       "      <th>merchant_id</th>\n",
       "      <th>month_lag</th>\n",
       "      <th>purchase_amount</th>\n",
       "      <th>purchase_date</th>\n",
       "      <th>category_2</th>\n",
       "      <th>state_id</th>\n",
       "      <th>subsector_id</th>\n",
       "    </tr>\n",
       "  </thead>\n",
       "  <tbody>\n",
       "    <tr>\n",
       "      <th>0</th>\n",
       "      <td>400</td>\n",
       "      <td>N</td>\n",
       "      <td>C_ID_5037ff576e</td>\n",
       "      <td>322</td>\n",
       "      <td>N</td>\n",
       "      <td>1</td>\n",
       "      <td>B</td>\n",
       "      <td>278</td>\n",
       "      <td>M_ID_b61c7d1be0</td>\n",
       "      <td>-3</td>\n",
       "      <td>-0.595260</td>\n",
       "      <td>2017-09-07 20:57:19</td>\n",
       "      <td>3.0</td>\n",
       "      <td>11</td>\n",
       "      <td>37</td>\n",
       "    </tr>\n",
       "    <tr>\n",
       "      <th>1</th>\n",
       "      <td>401</td>\n",
       "      <td>Y</td>\n",
       "      <td>C_ID_5037ff576e</td>\n",
       "      <td>138</td>\n",
       "      <td>N</td>\n",
       "      <td>1</td>\n",
       "      <td>B</td>\n",
       "      <td>307</td>\n",
       "      <td>M_ID_fe69229f24</td>\n",
       "      <td>-4</td>\n",
       "      <td>1.189469</td>\n",
       "      <td>2017-08-14 15:46:08</td>\n",
       "      <td>1.0</td>\n",
       "      <td>15</td>\n",
       "      <td>19</td>\n",
       "    </tr>\n",
       "    <tr>\n",
       "      <th>2</th>\n",
       "      <td>402</td>\n",
       "      <td>Y</td>\n",
       "      <td>C_ID_5037ff576e</td>\n",
       "      <td>138</td>\n",
       "      <td>N</td>\n",
       "      <td>1</td>\n",
       "      <td>B</td>\n",
       "      <td>705</td>\n",
       "      <td>M_ID_efc106141c</td>\n",
       "      <td>-9</td>\n",
       "      <td>-0.640069</td>\n",
       "      <td>2017-03-05 14:57:51</td>\n",
       "      <td>1.0</td>\n",
       "      <td>15</td>\n",
       "      <td>33</td>\n",
       "    </tr>\n",
       "  </tbody>\n",
       "</table>\n",
       "</div>"
      ],
      "text/plain": [
       "   index authorized_flag          card_id  city_id category_1  installments  \\\n",
       "0    400               N  C_ID_5037ff576e      322          N             1   \n",
       "1    401               Y  C_ID_5037ff576e      138          N             1   \n",
       "2    402               Y  C_ID_5037ff576e      138          N             1   \n",
       "\n",
       "  category_3  merchant_category_id      merchant_id  month_lag  \\\n",
       "0          B                   278  M_ID_b61c7d1be0         -3   \n",
       "1          B                   307  M_ID_fe69229f24         -4   \n",
       "2          B                   705  M_ID_efc106141c         -9   \n",
       "\n",
       "   purchase_amount        purchase_date  category_2  state_id  subsector_id  \n",
       "0        -0.595260  2017-09-07 20:57:19         3.0        11            37  \n",
       "1         1.189469  2017-08-14 15:46:08         1.0        15            19  \n",
       "2        -0.640069  2017-03-05 14:57:51         1.0        15            33  "
      ]
     },
     "execution_count": 5,
     "metadata": {},
     "output_type": "execute_result"
    }
   ],
   "source": [
    "df_trans = pd.concat([df_hist_trans, df_new_trans])\n",
    "df_trans = df_trans[df_trans['card_id'].isin(df['card_id'].unique())].reset_index()\n",
    "df_trans.head(3)"
   ]
  },
  {
   "cell_type": "markdown",
   "metadata": {},
   "source": [
    "According to [this kernel](https://www.kaggle.com/raddar/target-true-meaning-revealed), the true target is $2^{loyalty}$, and it corresponds to a quotient between the past purchased amount and the future amount. Then the users which only purchase a fixed amount (maybe monthly subscriptions) would have a quotient equal to 1, which translates to a 0 loyalty score. <br>\n",
    "Taking this into account, maybe the high bar that we can see (below) at zero in the targets histogram is due to a big amount of monthly users."
   ]
  },
  {
   "cell_type": "code",
   "execution_count": 14,
   "metadata": {},
   "outputs": [
    {
     "data": {
      "image/png": "[encoded data removed]",
      "text/plain": [
       "<Figure size 432x288 with 1 Axes>"
      ]
     },
     "metadata": {
      "needs_background": "light"
     },
     "output_type": "display_data"
    }
   ],
   "source": [
    "plt.hist(df[(df['target']>(-6)) & (df['target']<6)]['target'], bins=100)\n",
    "plt.title(\"Histogram of target values between -6 and 6\")\n",
    "plt.show()"
   ]
  },
  {
   "cell_type": "code",
   "execution_count": 23,
   "metadata": {},
   "outputs": [],
   "source": [
    "df_trans['purchase_amount_raw'] = df_trans['purchase_amount']/0.00150265118 + 497.06\n",
    "df_trans = df_trans[df_trans['authorized_flag']=='Y'] #We will only use authorized transactions\n",
    "df['target_raw'] = 2**df['target']"
   ]
  },
  {
   "cell_type": "code",
   "execution_count": 26,
   "metadata": {},
   "outputs": [
    {
     "data": {
      "image/png": "[encoded data removed]",
      "text/plain": [
       "<Figure size 432x288 with 1 Axes>"
      ]
     },
     "metadata": {
      "needs_background": "light"
     },
     "output_type": "display_data"
    }
   ],
   "source": [
    "plt.hist(df[df['target_raw']<8]['target_raw'], bins=100)\n",
    "plt.title(\"Histogram of the raw target\")\n",
    "plt.show()"
   ]
  },
  {
   "cell_type": "markdown",
   "metadata": {},
   "source": [
    "For the raw target we can see that the outliers bar has transformed to a higher bar in zero, and the bar that concerns us is now at 1. <br>\n",
    "Let's isolate the transactions of these users and derive some \"uniqueness\" measure."
   ]
  },
  {
   "cell_type": "markdown",
   "metadata": {},
   "source": [
    "# First approach to a \"uniqueness\" measure"
   ]
  },
  {
   "cell_type": "code",
   "execution_count": 30,
   "metadata": {},
   "outputs": [],
   "source": [
    "df_trans_zeros = df_trans[df_trans['card_id'].isin(df[df['target']==0]['card_id'].values)]"
   ]
  },
  {
   "cell_type": "code",
   "execution_count": 37,
   "metadata": {},
   "outputs": [
    {
     "data": {
      "text/html": [
       "<div>\n",
       "<style scoped>\n",
       "    .dataframe tbody tr th:only-of-type {\n",
       "        vertical-align: middle;\n",
       "    }\n",
       "\n",
       "    .dataframe tbody tr th {\n",
       "        vertical-align: top;\n",
       "    }\n",
       "\n",
       "    .dataframe thead th {\n",
       "        text-align: right;\n",
       "    }\n",
       "</style>\n",
       "<table border=\"1\" class=\"dataframe\">\n",
       "  <thead>\n",
       "    <tr style=\"text-align: right;\">\n",
       "      <th></th>\n",
       "      <th>card_id</th>\n",
       "      <th>merchant_id</th>\n",
       "      <th>unique_amounts</th>\n",
       "    </tr>\n",
       "  </thead>\n",
       "  <tbody>\n",
       "    <tr>\n",
       "      <th>0</th>\n",
       "      <td>C_ID_0015cb7ed9</td>\n",
       "      <td>M_ID_00a6ca8a8a</td>\n",
       "      <td>2</td>\n",
       "    </tr>\n",
       "    <tr>\n",
       "      <th>1</th>\n",
       "      <td>C_ID_0015cb7ed9</td>\n",
       "      <td>M_ID_08852c20d5</td>\n",
       "      <td>1</td>\n",
       "    </tr>\n",
       "    <tr>\n",
       "      <th>2</th>\n",
       "      <td>C_ID_0015cb7ed9</td>\n",
       "      <td>M_ID_1570421660</td>\n",
       "      <td>1</td>\n",
       "    </tr>\n",
       "    <tr>\n",
       "      <th>3</th>\n",
       "      <td>C_ID_0015cb7ed9</td>\n",
       "      <td>M_ID_16ecc67fdc</td>\n",
       "      <td>1</td>\n",
       "    </tr>\n",
       "    <tr>\n",
       "      <th>4</th>\n",
       "      <td>C_ID_0015cb7ed9</td>\n",
       "      <td>M_ID_21a5a5729c</td>\n",
       "      <td>1</td>\n",
       "    </tr>\n",
       "  </tbody>\n",
       "</table>\n",
       "</div>"
      ],
      "text/plain": [
       "           card_id      merchant_id  unique_amounts\n",
       "0  C_ID_0015cb7ed9  M_ID_00a6ca8a8a               2\n",
       "1  C_ID_0015cb7ed9  M_ID_08852c20d5               1\n",
       "2  C_ID_0015cb7ed9  M_ID_1570421660               1\n",
       "3  C_ID_0015cb7ed9  M_ID_16ecc67fdc               1\n",
       "4  C_ID_0015cb7ed9  M_ID_21a5a5729c               1"
      ]
     },
     "execution_count": 37,
     "metadata": {},
     "output_type": "execute_result"
    }
   ],
   "source": [
    "df_unique_amounts = df_trans_zeros.groupby(['card_id', 'merchant_id'])['purchase_amount_raw'].nunique().reset_index().rename(columns={'purchase_amount_raw': 'unique_amounts'})\n",
    "df_unique_amounts.head()"
   ]
  },
  {
   "cell_type": "code",
   "execution_count": 42,
   "metadata": {},
   "outputs": [
    {
     "data": {
      "text/html": [
       "<div>\n",
       "<style scoped>\n",
       "    .dataframe tbody tr th:only-of-type {\n",
       "        vertical-align: middle;\n",
       "    }\n",
       "\n",
       "    .dataframe tbody tr th {\n",
       "        vertical-align: top;\n",
       "    }\n",
       "\n",
       "    .dataframe thead th {\n",
       "        text-align: right;\n",
       "    }\n",
       "</style>\n",
       "<table border=\"1\" class=\"dataframe\">\n",
       "  <thead>\n",
       "    <tr style=\"text-align: right;\">\n",
       "      <th></th>\n",
       "      <th>card_id</th>\n",
       "      <th>merchant_id</th>\n",
       "      <th>n_trans</th>\n",
       "    </tr>\n",
       "  </thead>\n",
       "  <tbody>\n",
       "    <tr>\n",
       "      <th>0</th>\n",
       "      <td>C_ID_0015cb7ed9</td>\n",
       "      <td>M_ID_00a6ca8a8a</td>\n",
       "      <td>2</td>\n",
       "    </tr>\n",
       "    <tr>\n",
       "      <th>1</th>\n",
       "      <td>C_ID_0015cb7ed9</td>\n",
       "      <td>M_ID_08852c20d5</td>\n",
       "      <td>1</td>\n",
       "    </tr>\n",
       "    <tr>\n",
       "      <th>2</th>\n",
       "      <td>C_ID_0015cb7ed9</td>\n",
       "      <td>M_ID_1570421660</td>\n",
       "      <td>1</td>\n",
       "    </tr>\n",
       "    <tr>\n",
       "      <th>3</th>\n",
       "      <td>C_ID_0015cb7ed9</td>\n",
       "      <td>M_ID_16ecc67fdc</td>\n",
       "      <td>1</td>\n",
       "    </tr>\n",
       "    <tr>\n",
       "      <th>4</th>\n",
       "      <td>C_ID_0015cb7ed9</td>\n",
       "      <td>M_ID_21a5a5729c</td>\n",
       "      <td>1</td>\n",
       "    </tr>\n",
       "  </tbody>\n",
       "</table>\n",
       "</div>"
      ],
      "text/plain": [
       "           card_id      merchant_id  n_trans\n",
       "0  C_ID_0015cb7ed9  M_ID_00a6ca8a8a        2\n",
       "1  C_ID_0015cb7ed9  M_ID_08852c20d5        1\n",
       "2  C_ID_0015cb7ed9  M_ID_1570421660        1\n",
       "3  C_ID_0015cb7ed9  M_ID_16ecc67fdc        1\n",
       "4  C_ID_0015cb7ed9  M_ID_21a5a5729c        1"
      ]
     },
     "execution_count": 42,
     "metadata": {},
     "output_type": "execute_result"
    }
   ],
   "source": [
    "df_n_trans = df_trans_zeros.groupby(['card_id', 'merchant_id']).size().reset_index().rename(columns={0: 'n_trans'})\n",
    "df_n_trans.head()"
   ]
  },
  {
   "cell_type": "markdown",
   "metadata": {},
   "source": [
    "We want to measure if, for the merchants used by the customer, all the purchased amounts are the same. <br> \n",
    "We will take the mean of $\\frac{\\text{unique_amounts}-1}{\\text{n_trans}}$. Then, if a user has exactly a zero value for this measure, it means that she/he only performed transactions with unique values."
   ]
  },
  {
   "cell_type": "code",
   "execution_count": 44,
   "metadata": {},
   "outputs": [
    {
     "data": {
      "text/html": [
       "<div>\n",
       "<style scoped>\n",
       "    .dataframe tbody tr th:only-of-type {\n",
       "        vertical-align: middle;\n",
       "    }\n",
       "\n",
       "    .dataframe tbody tr th {\n",
       "        vertical-align: top;\n",
       "    }\n",
       "\n",
       "    .dataframe thead th {\n",
       "        text-align: right;\n",
       "    }\n",
       "</style>\n",
       "<table border=\"1\" class=\"dataframe\">\n",
       "  <thead>\n",
       "    <tr style=\"text-align: right;\">\n",
       "      <th></th>\n",
       "      <th>card_id</th>\n",
       "      <th>merchant_id</th>\n",
       "      <th>unique_amounts</th>\n",
       "      <th>n_trans</th>\n",
       "      <th>quotient</th>\n",
       "    </tr>\n",
       "  </thead>\n",
       "  <tbody>\n",
       "    <tr>\n",
       "      <th>0</th>\n",
       "      <td>C_ID_0015cb7ed9</td>\n",
       "      <td>M_ID_00a6ca8a8a</td>\n",
       "      <td>2</td>\n",
       "      <td>2</td>\n",
       "      <td>0.5</td>\n",
       "    </tr>\n",
       "    <tr>\n",
       "      <th>1</th>\n",
       "      <td>C_ID_0015cb7ed9</td>\n",
       "      <td>M_ID_08852c20d5</td>\n",
       "      <td>1</td>\n",
       "      <td>1</td>\n",
       "      <td>0.0</td>\n",
       "    </tr>\n",
       "    <tr>\n",
       "      <th>2</th>\n",
       "      <td>C_ID_0015cb7ed9</td>\n",
       "      <td>M_ID_1570421660</td>\n",
       "      <td>1</td>\n",
       "      <td>1</td>\n",
       "      <td>0.0</td>\n",
       "    </tr>\n",
       "    <tr>\n",
       "      <th>3</th>\n",
       "      <td>C_ID_0015cb7ed9</td>\n",
       "      <td>M_ID_16ecc67fdc</td>\n",
       "      <td>1</td>\n",
       "      <td>1</td>\n",
       "      <td>0.0</td>\n",
       "    </tr>\n",
       "    <tr>\n",
       "      <th>4</th>\n",
       "      <td>C_ID_0015cb7ed9</td>\n",
       "      <td>M_ID_21a5a5729c</td>\n",
       "      <td>1</td>\n",
       "      <td>1</td>\n",
       "      <td>0.0</td>\n",
       "    </tr>\n",
       "  </tbody>\n",
       "</table>\n",
       "</div>"
      ],
      "text/plain": [
       "           card_id      merchant_id  unique_amounts  n_trans  quotient\n",
       "0  C_ID_0015cb7ed9  M_ID_00a6ca8a8a               2        2       0.5\n",
       "1  C_ID_0015cb7ed9  M_ID_08852c20d5               1        1       0.0\n",
       "2  C_ID_0015cb7ed9  M_ID_1570421660               1        1       0.0\n",
       "3  C_ID_0015cb7ed9  M_ID_16ecc67fdc               1        1       0.0\n",
       "4  C_ID_0015cb7ed9  M_ID_21a5a5729c               1        1       0.0"
      ]
     },
     "execution_count": 44,
     "metadata": {},
     "output_type": "execute_result"
    }
   ],
   "source": [
    "df_unique_temp = df_unique_amounts.merge(df_n_trans, on=['card_id','merchant_id'])\n",
    "df_unique_temp['quotient'] = (df_unique_temp['unique_amounts']-1)/df_unique_temp['n_trans']\n",
    "df_unique_temp.head()"
   ]
  },
  {
   "cell_type": "code",
   "execution_count": 48,
   "metadata": {},
   "outputs": [
    {
     "data": {
      "text/html": [
       "<div>\n",
       "<style scoped>\n",
       "    .dataframe tbody tr th:only-of-type {\n",
       "        vertical-align: middle;\n",
       "    }\n",
       "\n",
       "    .dataframe tbody tr th {\n",
       "        vertical-align: top;\n",
       "    }\n",
       "\n",
       "    .dataframe thead th {\n",
       "        text-align: right;\n",
       "    }\n",
       "</style>\n",
       "<table border=\"1\" class=\"dataframe\">\n",
       "  <thead>\n",
       "    <tr style=\"text-align: right;\">\n",
       "      <th></th>\n",
       "      <th>card_id</th>\n",
       "      <th>uniqueness</th>\n",
       "    </tr>\n",
       "  </thead>\n",
       "  <tbody>\n",
       "    <tr>\n",
       "      <th>0</th>\n",
       "      <td>C_ID_0015cb7ed9</td>\n",
       "      <td>0.170290</td>\n",
       "    </tr>\n",
       "    <tr>\n",
       "      <th>1</th>\n",
       "      <td>C_ID_00167ca6d8</td>\n",
       "      <td>0.218750</td>\n",
       "    </tr>\n",
       "    <tr>\n",
       "      <th>2</th>\n",
       "      <td>C_ID_001de6764b</td>\n",
       "      <td>0.240278</td>\n",
       "    </tr>\n",
       "    <tr>\n",
       "      <th>3</th>\n",
       "      <td>C_ID_00699c00e4</td>\n",
       "      <td>0.352273</td>\n",
       "    </tr>\n",
       "    <tr>\n",
       "      <th>4</th>\n",
       "      <td>C_ID_00702986e6</td>\n",
       "      <td>0.214286</td>\n",
       "    </tr>\n",
       "  </tbody>\n",
       "</table>\n",
       "</div>"
      ],
      "text/plain": [
       "           card_id  uniqueness\n",
       "0  C_ID_0015cb7ed9    0.170290\n",
       "1  C_ID_00167ca6d8    0.218750\n",
       "2  C_ID_001de6764b    0.240278\n",
       "3  C_ID_00699c00e4    0.352273\n",
       "4  C_ID_00702986e6    0.214286"
      ]
     },
     "execution_count": 48,
     "metadata": {},
     "output_type": "execute_result"
    }
   ],
   "source": [
    "df_unique = df_unique_temp.groupby('card_id')['quotient'].mean().reset_index().rename(columns={'quotient': 'uniqueness'})\n",
    "df_unique.head()"
   ]
  },
  {
   "cell_type": "markdown",
   "metadata": {},
   "source": [
    "We see that there are users with \"uniqueness\" measure greater than zero (us expected), but there are also some of them with exactly zero measure."
   ]
  },
  {
   "cell_type": "code",
   "execution_count": 55,
   "metadata": {},
   "outputs": [
    {
     "data": {
      "image/png": "[encoded data removed]",
      "text/plain": [
       "<Figure size 432x288 with 1 Axes>"
      ]
     },
     "metadata": {
      "needs_background": "light"
     },
     "output_type": "display_data"
    }
   ],
   "source": [
    "plt.hist(df_unique['uniqueness'], bins=50)\n",
    "plt.show()"
   ]
  },
  {
   "cell_type": "markdown",
   "metadata": {},
   "source": [
    "We can see that, in fact, a good part of the users with zero target have also zero \"uniqueness\" measure."
   ]
  },
  {
   "cell_type": "markdown",
   "metadata": {},
   "source": [
    "Let's check the opossite: if all users with zero \"uniqueness\" measure have zero target."
   ]
  },
  {
   "cell_type": "code",
   "execution_count": 56,
   "metadata": {},
   "outputs": [],
   "source": [
    "df_unique_amounts_all = df_trans.groupby(['card_id', 'merchant_id'])['purchase_amount_raw'].nunique().reset_index().rename(columns={'purchase_amount_raw': 'unique_amounts'})\n",
    "df_n_trans_all = df_trans.groupby(['card_id', 'merchant_id']).size().reset_index().rename(columns={0: 'n_trans'})\n",
    "df_unique_temp_all = df_unique_amounts_all.merge(df_n_trans_all, on=['card_id','merchant_id'])\n",
    "df_unique_temp_all['quotient'] = (df_unique_temp_all['unique_amounts']-1)/df_unique_temp_all['n_trans']\n",
    "df_unique_all = df_unique_temp_all.groupby('card_id')['quotient'].mean().reset_index().rename(columns={'quotient': 'uniqueness'})"
   ]
  },
  {
   "cell_type": "code",
   "execution_count": 69,
   "metadata": {},
   "outputs": [
    {
     "data": {
      "image/png": "[encoded data removed]",
      "text/plain": [
       "<Figure size 1080x360 with 2 Axes>"
      ]
     },
     "metadata": {
      "needs_background": "light"
     },
     "output_type": "display_data"
    }
   ],
   "source": [
    "plt.figure(figsize=(15, 5))\n",
    "plt.subplot(1,2,1)\n",
    "plt.hist(df[df['card_id'].isin(df_unique_all[df_unique_all['uniqueness']==0]['card_id'].values)]['target'], bins=100)\n",
    "plt.subplot(1,2,2)\n",
    "plt.hist(df[(df['card_id'].isin(df_unique_all[df_unique_all['uniqueness']==0]['card_id'].values)) & (df['target']>(-6)) & (df['target']<6)]['target'], bins=100)\n",
    "plt.suptitle(\"Histograms of targets for users with 'uniqueness' measure equal to zero\")\n",
    "plt.show()"
   ]
  },
  {
   "cell_type": "markdown",
   "metadata": {},
   "source": [
    "We can see that with this \"uniqueness\" measure we can, more or less, detect the users with zero target. But we have to refine it more since we still can not isolate them."
   ]
  },
  {
   "cell_type": "markdown",
   "metadata": {},
   "source": [
    "# Refine the uniqueness measure\n",
    "Let's divide the users with zero \"uniqueness\" into the ones that have zero target and the ones that not, to see if we can identify some pattern to refine our measure."
   ]
  },
  {
   "cell_type": "code",
   "execution_count": 73,
   "metadata": {},
   "outputs": [],
   "source": [
    "df = df.merge(df_unique_all, on='card_id')"
   ]
  },
  {
   "cell_type": "code",
   "execution_count": 75,
   "metadata": {},
   "outputs": [],
   "source": [
    "zero_u = df[(df['uniqueness']==0) & (df['target']==0)]['card_id'].values\n",
    "nonzero_u = df[(df['uniqueness']==0) & (df['target']!=0)]['card_id'].values"
   ]
  },
  {
   "cell_type": "markdown",
   "metadata": {},
   "source": [
    "## Only merchants with more than one tracsaction\n",
    "Maybe, in order to be a valid uniqueness measure, we need to have more than one transaction per merchant. So let's compute the number of different merchants for the \"nonzero_u\" group, compared with the number of total transactions of the customer."
   ]
  },
  {
   "cell_type": "code",
   "execution_count": 82,
   "metadata": {},
   "outputs": [],
   "source": [
    "df_nonzero_u_temp1 = df_trans[df_trans['card_id'].isin(nonzero_u)].groupby('card_id')['merchant_id'].nunique().reset_index().rename(columns={'merchant_id': 'n_merch'})\n",
    "df_nonzero_u_temp2 = df_n_trans_all.groupby('card_id')['n_trans'].sum().reset_index()"
   ]
  },
  {
   "cell_type": "code",
   "execution_count": 87,
   "metadata": {},
   "outputs": [
    {
     "data": {
      "text/html": [
       "<div>\n",
       "<style scoped>\n",
       "    .dataframe tbody tr th:only-of-type {\n",
       "        vertical-align: middle;\n",
       "    }\n",
       "\n",
       "    .dataframe tbody tr th {\n",
       "        vertical-align: top;\n",
       "    }\n",
       "\n",
       "    .dataframe thead th {\n",
       "        text-align: right;\n",
       "    }\n",
       "</style>\n",
       "<table border=\"1\" class=\"dataframe\">\n",
       "  <thead>\n",
       "    <tr style=\"text-align: right;\">\n",
       "      <th></th>\n",
       "      <th>card_id</th>\n",
       "      <th>n_merch</th>\n",
       "      <th>n_trans</th>\n",
       "      <th>prop_unique_merch</th>\n",
       "    </tr>\n",
       "  </thead>\n",
       "  <tbody>\n",
       "    <tr>\n",
       "      <th>0</th>\n",
       "      <td>C_ID_0004b68c49</td>\n",
       "      <td>7</td>\n",
       "      <td>7</td>\n",
       "      <td>1.0</td>\n",
       "    </tr>\n",
       "    <tr>\n",
       "      <th>1</th>\n",
       "      <td>C_ID_0011c836e7</td>\n",
       "      <td>14</td>\n",
       "      <td>14</td>\n",
       "      <td>1.0</td>\n",
       "    </tr>\n",
       "    <tr>\n",
       "      <th>2</th>\n",
       "      <td>C_ID_003904d29f</td>\n",
       "      <td>24</td>\n",
       "      <td>24</td>\n",
       "      <td>1.0</td>\n",
       "    </tr>\n",
       "    <tr>\n",
       "      <th>3</th>\n",
       "      <td>C_ID_0048a85a3f</td>\n",
       "      <td>6</td>\n",
       "      <td>6</td>\n",
       "      <td>1.0</td>\n",
       "    </tr>\n",
       "    <tr>\n",
       "      <th>4</th>\n",
       "      <td>C_ID_00497a9040</td>\n",
       "      <td>8</td>\n",
       "      <td>8</td>\n",
       "      <td>1.0</td>\n",
       "    </tr>\n",
       "  </tbody>\n",
       "</table>\n",
       "</div>"
      ],
      "text/plain": [
       "           card_id  n_merch  n_trans  prop_unique_merch\n",
       "0  C_ID_0004b68c49        7        7                1.0\n",
       "1  C_ID_0011c836e7       14       14                1.0\n",
       "2  C_ID_003904d29f       24       24                1.0\n",
       "3  C_ID_0048a85a3f        6        6                1.0\n",
       "4  C_ID_00497a9040        8        8                1.0"
      ]
     },
     "execution_count": 87,
     "metadata": {},
     "output_type": "execute_result"
    }
   ],
   "source": [
    "df_nonzero_u_merch = df_nonzero_u_temp1.merge(df_nonzero_u_temp2, on=\"card_id\")\n",
    "df_nonzero_u_merch['prop_unique_merch'] = df_nonzero_u_merch['n_merch']/df_nonzero_u_merch['n_trans']\n",
    "df_nonzero_u_merch.head()"
   ]
  },
  {
   "cell_type": "code",
   "execution_count": 92,
   "metadata": {},
   "outputs": [
    {
     "data": {
      "image/png": "[encoded data removed]",
      "text/plain": [
       "<Figure size 432x288 with 1 Axes>"
      ]
     },
     "metadata": {
      "needs_background": "light"
     },
     "output_type": "display_data"
    }
   ],
   "source": [
    "plt.hist(df_nonzero_u_merch['prop_unique_merch'], bins=50)\n",
    "plt.title(\"Proportion of merchants with just one transaction (users with 0 uniqueness but target different from 0)\")\n",
    "plt.show()"
   ]
  },
  {
   "cell_type": "markdown",
   "metadata": {},
   "source": [
    "In view of this histogram it seems clear that, in order to get a good \"uniqueness\" measure we have to first remove the merchants with just one trasaction. So let's repeat the analysis of the previous section but removing such transactions from the computation."
   ]
  },
  {
   "cell_type": "code",
   "execution_count": 133,
   "metadata": {},
   "outputs": [
    {
     "data": {
      "text/html": [
       "<div>\n",
       "<style scoped>\n",
       "    .dataframe tbody tr th:only-of-type {\n",
       "        vertical-align: middle;\n",
       "    }\n",
       "\n",
       "    .dataframe tbody tr th {\n",
       "        vertical-align: top;\n",
       "    }\n",
       "\n",
       "    .dataframe thead th {\n",
       "        text-align: right;\n",
       "    }\n",
       "</style>\n",
       "<table border=\"1\" class=\"dataframe\">\n",
       "  <thead>\n",
       "    <tr style=\"text-align: right;\">\n",
       "      <th></th>\n",
       "      <th>card_id</th>\n",
       "      <th>uniqueness</th>\n",
       "    </tr>\n",
       "  </thead>\n",
       "  <tbody>\n",
       "    <tr>\n",
       "      <th>0</th>\n",
       "      <td>C_ID_00007093c1</td>\n",
       "      <td>0.601541</td>\n",
       "    </tr>\n",
       "    <tr>\n",
       "      <th>1</th>\n",
       "      <td>C_ID_0001506ef0</td>\n",
       "      <td>0.563696</td>\n",
       "    </tr>\n",
       "    <tr>\n",
       "      <th>2</th>\n",
       "      <td>C_ID_000183fdda</td>\n",
       "      <td>0.547236</td>\n",
       "    </tr>\n",
       "    <tr>\n",
       "      <th>3</th>\n",
       "      <td>C_ID_00027503e2</td>\n",
       "      <td>0.579545</td>\n",
       "    </tr>\n",
       "    <tr>\n",
       "      <th>4</th>\n",
       "      <td>C_ID_0002c7c2c1</td>\n",
       "      <td>0.615741</td>\n",
       "    </tr>\n",
       "  </tbody>\n",
       "</table>\n",
       "</div>"
      ],
      "text/plain": [
       "           card_id  uniqueness\n",
       "0  C_ID_00007093c1    0.601541\n",
       "1  C_ID_0001506ef0    0.563696\n",
       "2  C_ID_000183fdda    0.547236\n",
       "3  C_ID_00027503e2    0.579545\n",
       "4  C_ID_0002c7c2c1    0.615741"
      ]
     },
     "execution_count": 133,
     "metadata": {},
     "output_type": "execute_result"
    }
   ],
   "source": [
    "df_unique_all_refined = df_unique_temp_all[df_unique_temp_all['n_trans']>1].groupby('card_id')['quotient'].mean().reset_index().rename(columns={'quotient': 'uniqueness'})\n",
    "df_unique_all_refined.head()"
   ]
  },
  {
   "cell_type": "code",
   "execution_count": 110,
   "metadata": {},
   "outputs": [
    {
     "data": {
      "image/png": "[encoded data removed]",
      "text/plain": [
       "<Figure size 1080x360 with 2 Axes>"
      ]
     },
     "metadata": {
      "needs_background": "light"
     },
     "output_type": "display_data"
    }
   ],
   "source": [
    "plt.figure(figsize=(15, 5))\n",
    "plt.subplot(1,2,1)\n",
    "plt.hist(df[df['card_id'].isin(df_unique_all_refined[df_unique_all_refined['uniqueness']==0]['card_id'].values)]['target'], bins=100)\n",
    "plt.subplot(1,2,2)\n",
    "plt.hist(df[(df['card_id'].isin(df_unique_all_refined[df_unique_all_refined['uniqueness']==0]['card_id'].values)) & (df['target']>(-6)) & (df['target']<6)]['target'], bins=100)\n",
    "plt.suptitle(\"Histograms of targets for users with zero 'refined uniqueness' measure\")\n",
    "plt.show()"
   ]
  },
  {
   "cell_type": "markdown",
   "metadata": {},
   "source": [
    "We are now able to much better isolate the customers with exactly zero target, but there is still something missing. The bound (now 1) on the number of transaction does not influence the meassure any more, since the histogram does not improve when increasing it. <br> \n",
    "However we have to take into account that we are not seeing the whole data set, so maybe these customers have zero uniquenes measure according to our portion of the data set, but not if we could see the whole data set of transactions."
   ]
  },
  {
   "cell_type": "markdown",
   "metadata": {},
   "source": [
    "## Weight the mean with the number of transactions\n",
    "We see that when increasing a little bit the \"uniqueness\" cut-off we detect more users with zero target:"
   ]
  },
  {
   "cell_type": "code",
   "execution_count": 149,
   "metadata": {},
   "outputs": [
    {
     "data": {
      "image/png": "[encoded data removed]",
      "text/plain": [
       "<Figure size 1080x360 with 2 Axes>"
      ]
     },
     "metadata": {
      "needs_background": "light"
     },
     "output_type": "display_data"
    }
   ],
   "source": [
    "plt.figure(figsize=(15, 5))\n",
    "plt.subplot(1,2,1)\n",
    "plt.hist(df[df['card_id'].isin(df_unique_all_refined[df_unique_all_refined['uniqueness']<=0.15]['card_id'].values)]['target'], bins=100)\n",
    "plt.subplot(1,2,2)\n",
    "plt.hist(df[(df['card_id'].isin(df_unique_all_refined[df_unique_all_refined['uniqueness']<=0.15]['card_id'].values)) & (df['target']>(-6)) & (df['target']<6)]['target'], bins=100)\n",
    "plt.suptitle(\"Histograms of targets for users with 'refined uniqueness' measure less than 0.15\")\n",
    "plt.show()"
   ]
  },
  {
   "cell_type": "markdown",
   "metadata": {},
   "source": [
    "This may indicate that the uniqueness measure is computed only for relevant merchants, or maybe that the mean among merchants should be weighted according with the number of transactions. \n",
    "But since the quotient is computed as $\\frac{\\text{unique_amounts}-1}{\\text{n_trans}}$, if we weight the mean with n_trans we are basically taking the sum of unique_amounts-1 and dividing it by the total number of transactions of the user."
   ]
  },
  {
   "cell_type": "code",
   "execution_count": 158,
   "metadata": {},
   "outputs": [],
   "source": [
    "df_unique_all_refinedW = df_unique_temp_all[df_unique_temp_all['n_trans']>1].groupby('card_id').apply(lambda dfx: (dfx['unique_amounts']-1).sum() / dfx['n_trans'].sum())"
   ]
  },
  {
   "cell_type": "code",
   "execution_count": 159,
   "metadata": {},
   "outputs": [
    {
     "data": {
      "text/html": [
       "<div>\n",
       "<style scoped>\n",
       "    .dataframe tbody tr th:only-of-type {\n",
       "        vertical-align: middle;\n",
       "    }\n",
       "\n",
       "    .dataframe tbody tr th {\n",
       "        vertical-align: top;\n",
       "    }\n",
       "\n",
       "    .dataframe thead th {\n",
       "        text-align: right;\n",
       "    }\n",
       "</style>\n",
       "<table border=\"1\" class=\"dataframe\">\n",
       "  <thead>\n",
       "    <tr style=\"text-align: right;\">\n",
       "      <th></th>\n",
       "      <th>card_id</th>\n",
       "      <th>uniqueness</th>\n",
       "    </tr>\n",
       "  </thead>\n",
       "  <tbody>\n",
       "    <tr>\n",
       "      <th>0</th>\n",
       "      <td>C_ID_00007093c1</td>\n",
       "      <td>0.574257</td>\n",
       "    </tr>\n",
       "    <tr>\n",
       "      <th>1</th>\n",
       "      <td>C_ID_0001506ef0</td>\n",
       "      <td>0.674419</td>\n",
       "    </tr>\n",
       "    <tr>\n",
       "      <th>2</th>\n",
       "      <td>C_ID_000183fdda</td>\n",
       "      <td>0.627660</td>\n",
       "    </tr>\n",
       "    <tr>\n",
       "      <th>3</th>\n",
       "      <td>C_ID_00027503e2</td>\n",
       "      <td>0.705882</td>\n",
       "    </tr>\n",
       "    <tr>\n",
       "      <th>4</th>\n",
       "      <td>C_ID_0002c7c2c1</td>\n",
       "      <td>0.689655</td>\n",
       "    </tr>\n",
       "  </tbody>\n",
       "</table>\n",
       "</div>"
      ],
      "text/plain": [
       "           card_id  uniqueness\n",
       "0  C_ID_00007093c1    0.574257\n",
       "1  C_ID_0001506ef0    0.674419\n",
       "2  C_ID_000183fdda    0.627660\n",
       "3  C_ID_00027503e2    0.705882\n",
       "4  C_ID_0002c7c2c1    0.689655"
      ]
     },
     "execution_count": 159,
     "metadata": {},
     "output_type": "execute_result"
    }
   ],
   "source": [
    "df_unique_all_refinedW = df_unique_all_refinedW.reset_index().rename(columns={0: 'uniqueness'})\n",
    "df_unique_all_refinedW.head()"
   ]
  },
  {
   "cell_type": "code",
   "execution_count": 170,
   "metadata": {},
   "outputs": [
    {
     "data": {
      "image/png": "[encoded data removed]",
      "text/plain": [
       "<Figure size 1080x360 with 2 Axes>"
      ]
     },
     "metadata": {
      "needs_background": "light"
     },
     "output_type": "display_data"
    }
   ],
   "source": [
    "plt.figure(figsize=(15, 5))\n",
    "plt.subplot(1,2,1)\n",
    "plt.hist(df[df['card_id'].isin(df_unique_all_refinedW[df_unique_all_refinedW['uniqueness']<=0.15]['card_id'].values)]['target'], bins=100)\n",
    "plt.subplot(1,2,2)\n",
    "plt.hist(df[(df['card_id'].isin(df_unique_all_refinedW[df_unique_all_refinedW['uniqueness']<=0.15]['card_id'].values)) & (df['target']>(-6)) & (df['target']<6)]['target'], bins=100)\n",
    "plt.suptitle(\"Histograms of targets for users with 'refined-weighted uniqueness' measure less than 0.15\")\n",
    "plt.show()"
   ]
  },
  {
   "cell_type": "markdown",
   "metadata": {},
   "source": [
    "It seems that we have improved a little bit, since we are able to detect more users with zero target."
   ]
  },
  {
   "cell_type": "code",
   "execution_count": 171,
   "metadata": {},
   "outputs": [
    {
     "data": {
      "image/png": "[encoded data removed]",
      "text/plain": [
       "<Figure size 1080x360 with 2 Axes>"
      ]
     },
     "metadata": {
      "needs_background": "light"
     },
     "output_type": "display_data"
    }
   ],
   "source": [
    "plt.figure(figsize=(15, 5))\n",
    "plt.subplot(1,2,1)\n",
    "plt.hist(df_unique_all_refinedW['uniqueness'], bins=100)\n",
    "plt.title('Weigthed')\n",
    "plt.subplot(1,2,2)\n",
    "plt.hist(df_unique_all_refined['uniqueness'], bins=100)\n",
    "plt.title('No-weighted')\n",
    "plt.suptitle(\"Histograms of 'refined uniqueness' measures\")\n",
    "plt.show()"
   ]
  },
  {
   "cell_type": "markdown",
   "metadata": {},
   "source": [
    "The measure without weights seems to have a \"smoother\" histogram. Besides I don't know what the bar in 0.5 means. Maybe there are a lot of users with just two transactions per merchant (due to the 3-months restriction)."
   ]
  },
  {
   "cell_type": "markdown",
   "metadata": {},
   "source": [
    "## Only for favourite merchant"
   ]
  },
  {
   "cell_type": "code",
   "execution_count": 173,
   "metadata": {},
   "outputs": [
    {
     "data": {
      "text/plain": [
       "card_id\n",
       "C_ID_00007093c1    0.806452\n",
       "C_ID_0001506ef0    0.692308\n",
       "C_ID_000183fdda    0.916667\n",
       "C_ID_00027503e2    0.818182\n",
       "C_ID_0002c7c2c1    0.875000\n",
       "dtype: float64"
      ]
     },
     "execution_count": 173,
     "metadata": {},
     "output_type": "execute_result"
    }
   ],
   "source": [
    "df_unique_all_refinedF = df_unique_temp_all[df_unique_temp_all['n_trans']>1].groupby('card_id').apply(lambda dfx: dfx.ix[dfx['n_trans'].idxmax()]['quotient'])\n",
    "df_unique_all_refinedF.head()"
   ]
  },
  {
   "cell_type": "code",
   "execution_count": 174,
   "metadata": {},
   "outputs": [
    {
     "data": {
      "text/html": [
       "<div>\n",
       "<style scoped>\n",
       "    .dataframe tbody tr th:only-of-type {\n",
       "        vertical-align: middle;\n",
       "    }\n",
       "\n",
       "    .dataframe tbody tr th {\n",
       "        vertical-align: top;\n",
       "    }\n",
       "\n",
       "    .dataframe thead th {\n",
       "        text-align: right;\n",
       "    }\n",
       "</style>\n",
       "<table border=\"1\" class=\"dataframe\">\n",
       "  <thead>\n",
       "    <tr style=\"text-align: right;\">\n",
       "      <th></th>\n",
       "      <th>card_id</th>\n",
       "      <th>uniqueness</th>\n",
       "    </tr>\n",
       "  </thead>\n",
       "  <tbody>\n",
       "    <tr>\n",
       "      <th>0</th>\n",
       "      <td>C_ID_00007093c1</td>\n",
       "      <td>0.806452</td>\n",
       "    </tr>\n",
       "    <tr>\n",
       "      <th>1</th>\n",
       "      <td>C_ID_0001506ef0</td>\n",
       "      <td>0.692308</td>\n",
       "    </tr>\n",
       "    <tr>\n",
       "      <th>2</th>\n",
       "      <td>C_ID_000183fdda</td>\n",
       "      <td>0.916667</td>\n",
       "    </tr>\n",
       "    <tr>\n",
       "      <th>3</th>\n",
       "      <td>C_ID_00027503e2</td>\n",
       "      <td>0.818182</td>\n",
       "    </tr>\n",
       "    <tr>\n",
       "      <th>4</th>\n",
       "      <td>C_ID_0002c7c2c1</td>\n",
       "      <td>0.875000</td>\n",
       "    </tr>\n",
       "  </tbody>\n",
       "</table>\n",
       "</div>"
      ],
      "text/plain": [
       "           card_id  uniqueness\n",
       "0  C_ID_00007093c1    0.806452\n",
       "1  C_ID_0001506ef0    0.692308\n",
       "2  C_ID_000183fdda    0.916667\n",
       "3  C_ID_00027503e2    0.818182\n",
       "4  C_ID_0002c7c2c1    0.875000"
      ]
     },
     "execution_count": 174,
     "metadata": {},
     "output_type": "execute_result"
    }
   ],
   "source": [
    "df_unique_all_refinedF = df_unique_all_refinedF.reset_index().rename(columns={0: 'uniqueness'})\n",
    "df_unique_all_refinedF.head()"
   ]
  },
  {
   "cell_type": "code",
   "execution_count": 177,
   "metadata": {},
   "outputs": [
    {
     "data": {
      "image/png": "[encoded data removed]",
      "text/plain": [
       "<Figure size 1080x360 with 2 Axes>"
      ]
     },
     "metadata": {
      "needs_background": "light"
     },
     "output_type": "display_data"
    }
   ],
   "source": [
    "plt.figure(figsize=(15, 5))\n",
    "plt.subplot(1,2,1)\n",
    "plt.hist(df[df['card_id'].isin(df_unique_all_refinedF[df_unique_all_refinedF['uniqueness']==0]['card_id'].values)]['target'], bins=100)\n",
    "plt.subplot(1,2,2)\n",
    "plt.hist(df[(df['card_id'].isin(df_unique_all_refinedF[df_unique_all_refinedF['uniqueness']==0]['card_id'].values)) & (df['target']>(-6)) & (df['target']<6)]['target'], bins=100)\n",
    "plt.suptitle(\"Histograms of targets for users with 'favourite uniqueness' measure equal zero\")\n",
    "plt.show()"
   ]
  },
  {
   "cell_type": "markdown",
   "metadata": {},
   "source": [
    "It got worst, so we discard this approach."
   ]
  },
  {
   "cell_type": "markdown",
   "metadata": {},
   "source": [
    "# Standard deviation to meassure uniqueness\n",
    "We could also use the standard deviation of the purchased amount to measure the \"uniqueness\" of these quantities."
   ]
  },
  {
   "cell_type": "code",
   "execution_count": 180,
   "metadata": {},
   "outputs": [],
   "source": [
    "df_trans_std = df_trans.groupby(['card_id','merchant_id'])['purchase_amount'].std().reset_index()"
   ]
  },
  {
   "cell_type": "code",
   "execution_count": 182,
   "metadata": {},
   "outputs": [
    {
     "data": {
      "text/html": [
       "<div>\n",
       "<style scoped>\n",
       "    .dataframe tbody tr th:only-of-type {\n",
       "        vertical-align: middle;\n",
       "    }\n",
       "\n",
       "    .dataframe tbody tr th {\n",
       "        vertical-align: top;\n",
       "    }\n",
       "\n",
       "    .dataframe thead th {\n",
       "        text-align: right;\n",
       "    }\n",
       "</style>\n",
       "<table border=\"1\" class=\"dataframe\">\n",
       "  <thead>\n",
       "    <tr style=\"text-align: right;\">\n",
       "      <th></th>\n",
       "      <th>card_id</th>\n",
       "      <th>merchant_id</th>\n",
       "      <th>amount_std</th>\n",
       "    </tr>\n",
       "  </thead>\n",
       "  <tbody>\n",
       "    <tr>\n",
       "      <th>0</th>\n",
       "      <td>C_ID_00007093c1</td>\n",
       "      <td>M_ID_00a6ca8a8a</td>\n",
       "      <td>NaN</td>\n",
       "    </tr>\n",
       "    <tr>\n",
       "      <th>1</th>\n",
       "      <td>C_ID_00007093c1</td>\n",
       "      <td>M_ID_0379adb435</td>\n",
       "      <td>0.116543</td>\n",
       "    </tr>\n",
       "    <tr>\n",
       "      <th>2</th>\n",
       "      <td>C_ID_00007093c1</td>\n",
       "      <td>M_ID_06a8d84366</td>\n",
       "      <td>NaN</td>\n",
       "    </tr>\n",
       "    <tr>\n",
       "      <th>3</th>\n",
       "      <td>C_ID_00007093c1</td>\n",
       "      <td>M_ID_08f01305af</td>\n",
       "      <td>NaN</td>\n",
       "    </tr>\n",
       "    <tr>\n",
       "      <th>4</th>\n",
       "      <td>C_ID_00007093c1</td>\n",
       "      <td>M_ID_0dabc5a70c</td>\n",
       "      <td>0.054721</td>\n",
       "    </tr>\n",
       "  </tbody>\n",
       "</table>\n",
       "</div>"
      ],
      "text/plain": [
       "           card_id      merchant_id  amount_std\n",
       "0  C_ID_00007093c1  M_ID_00a6ca8a8a         NaN\n",
       "1  C_ID_00007093c1  M_ID_0379adb435    0.116543\n",
       "2  C_ID_00007093c1  M_ID_06a8d84366         NaN\n",
       "3  C_ID_00007093c1  M_ID_08f01305af         NaN\n",
       "4  C_ID_00007093c1  M_ID_0dabc5a70c    0.054721"
      ]
     },
     "execution_count": 182,
     "metadata": {},
     "output_type": "execute_result"
    }
   ],
   "source": [
    "df_trans_std = df_trans_std.rename(columns={'purchase_amount':'amount_std'})\n",
    "df_trans_std.head()"
   ]
  },
  {
   "cell_type": "code",
   "execution_count": 186,
   "metadata": {},
   "outputs": [
    {
     "data": {
      "text/html": [
       "<div>\n",
       "<style scoped>\n",
       "    .dataframe tbody tr th:only-of-type {\n",
       "        vertical-align: middle;\n",
       "    }\n",
       "\n",
       "    .dataframe tbody tr th {\n",
       "        vertical-align: top;\n",
       "    }\n",
       "\n",
       "    .dataframe thead th {\n",
       "        text-align: right;\n",
       "    }\n",
       "</style>\n",
       "<table border=\"1\" class=\"dataframe\">\n",
       "  <thead>\n",
       "    <tr style=\"text-align: right;\">\n",
       "      <th></th>\n",
       "      <th>card_id</th>\n",
       "      <th>merchant_id</th>\n",
       "      <th>amount_std</th>\n",
       "      <th>n_trans</th>\n",
       "    </tr>\n",
       "  </thead>\n",
       "  <tbody>\n",
       "    <tr>\n",
       "      <th>0</th>\n",
       "      <td>C_ID_00007093c1</td>\n",
       "      <td>M_ID_00a6ca8a8a</td>\n",
       "      <td>NaN</td>\n",
       "      <td>1</td>\n",
       "    </tr>\n",
       "    <tr>\n",
       "      <th>1</th>\n",
       "      <td>C_ID_00007093c1</td>\n",
       "      <td>M_ID_0379adb435</td>\n",
       "      <td>0.116543</td>\n",
       "      <td>4</td>\n",
       "    </tr>\n",
       "    <tr>\n",
       "      <th>2</th>\n",
       "      <td>C_ID_00007093c1</td>\n",
       "      <td>M_ID_06a8d84366</td>\n",
       "      <td>NaN</td>\n",
       "      <td>1</td>\n",
       "    </tr>\n",
       "    <tr>\n",
       "      <th>3</th>\n",
       "      <td>C_ID_00007093c1</td>\n",
       "      <td>M_ID_08f01305af</td>\n",
       "      <td>NaN</td>\n",
       "      <td>1</td>\n",
       "    </tr>\n",
       "    <tr>\n",
       "      <th>4</th>\n",
       "      <td>C_ID_00007093c1</td>\n",
       "      <td>M_ID_0dabc5a70c</td>\n",
       "      <td>0.054721</td>\n",
       "      <td>2</td>\n",
       "    </tr>\n",
       "  </tbody>\n",
       "</table>\n",
       "</div>"
      ],
      "text/plain": [
       "           card_id      merchant_id  amount_std  n_trans\n",
       "0  C_ID_00007093c1  M_ID_00a6ca8a8a         NaN        1\n",
       "1  C_ID_00007093c1  M_ID_0379adb435    0.116543        4\n",
       "2  C_ID_00007093c1  M_ID_06a8d84366         NaN        1\n",
       "3  C_ID_00007093c1  M_ID_08f01305af         NaN        1\n",
       "4  C_ID_00007093c1  M_ID_0dabc5a70c    0.054721        2"
      ]
     },
     "execution_count": 186,
     "metadata": {},
     "output_type": "execute_result"
    }
   ],
   "source": [
    "df_trans_std = df_trans_std.merge(df_unique_temp_all[['card_id','merchant_id','n_trans']], on=['card_id','merchant_id'])\n",
    "df_trans_std.head()"
   ]
  },
  {
   "cell_type": "markdown",
   "metadata": {},
   "source": [
    "As before, we will weight the std with the number of transaction performed for each merchant."
   ]
  },
  {
   "cell_type": "code",
   "execution_count": 191,
   "metadata": {},
   "outputs": [],
   "source": [
    "df_stdW = df_trans_std[df_trans_std['n_trans']>1].groupby('card_id').apply(lambda dfx: (dfx['amount_std']*dfx['n_trans']).sum() / dfx['n_trans'].sum())"
   ]
  },
  {
   "cell_type": "code",
   "execution_count": 195,
   "metadata": {},
   "outputs": [
    {
     "data": {
      "text/html": [
       "<div>\n",
       "<style scoped>\n",
       "    .dataframe tbody tr th:only-of-type {\n",
       "        vertical-align: middle;\n",
       "    }\n",
       "\n",
       "    .dataframe tbody tr th {\n",
       "        vertical-align: top;\n",
       "    }\n",
       "\n",
       "    .dataframe thead th {\n",
       "        text-align: right;\n",
       "    }\n",
       "</style>\n",
       "<table border=\"1\" class=\"dataframe\">\n",
       "  <thead>\n",
       "    <tr style=\"text-align: right;\">\n",
       "      <th></th>\n",
       "      <th>card_id</th>\n",
       "      <th>std_weighted</th>\n",
       "    </tr>\n",
       "  </thead>\n",
       "  <tbody>\n",
       "    <tr>\n",
       "      <th>0</th>\n",
       "      <td>C_ID_00007093c1</td>\n",
       "      <td>0.090292</td>\n",
       "    </tr>\n",
       "    <tr>\n",
       "      <th>1</th>\n",
       "      <td>C_ID_0001506ef0</td>\n",
       "      <td>0.259731</td>\n",
       "    </tr>\n",
       "    <tr>\n",
       "      <th>2</th>\n",
       "      <td>C_ID_000183fdda</td>\n",
       "      <td>0.182957</td>\n",
       "    </tr>\n",
       "    <tr>\n",
       "      <th>3</th>\n",
       "      <td>C_ID_00027503e2</td>\n",
       "      <td>0.002251</td>\n",
       "    </tr>\n",
       "    <tr>\n",
       "      <th>4</th>\n",
       "      <td>C_ID_0002c7c2c1</td>\n",
       "      <td>0.025889</td>\n",
       "    </tr>\n",
       "  </tbody>\n",
       "</table>\n",
       "</div>"
      ],
      "text/plain": [
       "           card_id  std_weighted\n",
       "0  C_ID_00007093c1      0.090292\n",
       "1  C_ID_0001506ef0      0.259731\n",
       "2  C_ID_000183fdda      0.182957\n",
       "3  C_ID_00027503e2      0.002251\n",
       "4  C_ID_0002c7c2c1      0.025889"
      ]
     },
     "execution_count": 195,
     "metadata": {},
     "output_type": "execute_result"
    }
   ],
   "source": [
    "df_stdW = df_stdW.reset_index().rename(columns={0:'std_weighted'})\n",
    "df_stdW.head()"
   ]
  },
  {
   "cell_type": "code",
   "execution_count": 209,
   "metadata": {},
   "outputs": [
    {
     "data": {
      "image/png": "[encoded data removed]",
      "text/plain": [
       "<Figure size 1080x360 with 2 Axes>"
      ]
     },
     "metadata": {
      "needs_background": "light"
     },
     "output_type": "display_data"
    }
   ],
   "source": [
    "plt.figure(figsize=(15, 5))\n",
    "plt.subplot(1,2,1)\n",
    "plt.hist(df[df['card_id'].isin(df_stdW[df_stdW['std_weighted']<=0.005]['card_id'].values)]['target'], bins=100)\n",
    "plt.subplot(1,2,2)\n",
    "plt.hist(df[(df['card_id'].isin(df_stdW[df_stdW['std_weighted']<=0.005]['card_id'].values)) & (df['target']>(-6)) & (df['target']<6)]['target'], bins=100)\n",
    "plt.suptitle(\"Histograms of targets for users with 'favourite uniqueness' measure equal zero\")\n",
    "plt.show()"
   ]
  },
  {
   "cell_type": "markdown",
   "metadata": {},
   "source": [
    "From this histogram we can see that this approach is worst than the weighted mean of the uniqueness measure."
   ]
  },
  {
   "cell_type": "markdown",
   "metadata": {},
   "source": [
    "# Get optimal cut-off for the weighted mean of uniqueness measure\n",
    "The best approach among the tested ones was to take the wieghted mean of quotients. But then the uniqueness measure is not exactly zero, so let's try to find the best cut-off point that allows us to find the higher number os users with zero value without adding too many of the rest."
   ]
  },
  {
   "cell_type": "code",
   "execution_count": 219,
   "metadata": {},
   "outputs": [
    {
     "data": {
      "text/html": [
       "<div>\n",
       "<style scoped>\n",
       "    .dataframe tbody tr th:only-of-type {\n",
       "        vertical-align: middle;\n",
       "    }\n",
       "\n",
       "    .dataframe tbody tr th {\n",
       "        vertical-align: top;\n",
       "    }\n",
       "\n",
       "    .dataframe thead th {\n",
       "        text-align: right;\n",
       "    }\n",
       "</style>\n",
       "<table border=\"1\" class=\"dataframe\">\n",
       "  <thead>\n",
       "    <tr style=\"text-align: right;\">\n",
       "      <th></th>\n",
       "      <th>first_active_month</th>\n",
       "      <th>card_id</th>\n",
       "      <th>feature_1</th>\n",
       "      <th>feature_2</th>\n",
       "      <th>feature_3</th>\n",
       "      <th>target</th>\n",
       "      <th>target_raw</th>\n",
       "      <th>uniqueness</th>\n",
       "      <th>uniquenessW</th>\n",
       "    </tr>\n",
       "  </thead>\n",
       "  <tbody>\n",
       "    <tr>\n",
       "      <th>0</th>\n",
       "      <td>2017-06</td>\n",
       "      <td>C_ID_92a2005557</td>\n",
       "      <td>5</td>\n",
       "      <td>2</td>\n",
       "      <td>1</td>\n",
       "      <td>-0.820312</td>\n",
       "      <td>0.566406</td>\n",
       "      <td>0.175408</td>\n",
       "      <td>0.737705</td>\n",
       "    </tr>\n",
       "    <tr>\n",
       "      <th>1</th>\n",
       "      <td>2017-01</td>\n",
       "      <td>C_ID_3d0044924f</td>\n",
       "      <td>4</td>\n",
       "      <td>1</td>\n",
       "      <td>0</td>\n",
       "      <td>0.392822</td>\n",
       "      <td>1.312500</td>\n",
       "      <td>0.191013</td>\n",
       "      <td>0.672065</td>\n",
       "    </tr>\n",
       "    <tr>\n",
       "      <th>2</th>\n",
       "      <td>2016-08</td>\n",
       "      <td>C_ID_d639edf6cd</td>\n",
       "      <td>2</td>\n",
       "      <td>2</td>\n",
       "      <td>0</td>\n",
       "      <td>0.687988</td>\n",
       "      <td>1.611328</td>\n",
       "      <td>0.152015</td>\n",
       "      <td>0.903226</td>\n",
       "    </tr>\n",
       "    <tr>\n",
       "      <th>3</th>\n",
       "      <td>2017-09</td>\n",
       "      <td>C_ID_186d6a6901</td>\n",
       "      <td>4</td>\n",
       "      <td>3</td>\n",
       "      <td>0</td>\n",
       "      <td>0.142456</td>\n",
       "      <td>1.103516</td>\n",
       "      <td>0.108118</td>\n",
       "      <td>0.615385</td>\n",
       "    </tr>\n",
       "    <tr>\n",
       "      <th>4</th>\n",
       "      <td>2017-11</td>\n",
       "      <td>C_ID_cdbd2c0db2</td>\n",
       "      <td>1</td>\n",
       "      <td>3</td>\n",
       "      <td>0</td>\n",
       "      <td>-0.159790</td>\n",
       "      <td>0.895020</td>\n",
       "      <td>0.084748</td>\n",
       "      <td>0.721519</td>\n",
       "    </tr>\n",
       "  </tbody>\n",
       "</table>\n",
       "</div>"
      ],
      "text/plain": [
       "  first_active_month          card_id  feature_1  feature_2  feature_3  \\\n",
       "0            2017-06  C_ID_92a2005557          5          2          1   \n",
       "1            2017-01  C_ID_3d0044924f          4          1          0   \n",
       "2            2016-08  C_ID_d639edf6cd          2          2          0   \n",
       "3            2017-09  C_ID_186d6a6901          4          3          0   \n",
       "4            2017-11  C_ID_cdbd2c0db2          1          3          0   \n",
       "\n",
       "     target  target_raw  uniqueness  uniquenessW  \n",
       "0 -0.820312    0.566406    0.175408     0.737705  \n",
       "1  0.392822    1.312500    0.191013     0.672065  \n",
       "2  0.687988    1.611328    0.152015     0.903226  \n",
       "3  0.142456    1.103516    0.108118     0.615385  \n",
       "4 -0.159790    0.895020    0.084748     0.721519  "
      ]
     },
     "execution_count": 219,
     "metadata": {},
     "output_type": "execute_result"
    }
   ],
   "source": [
    "df_unique_all_refinedW.rename(columns={'uniqueness':'uniquenessW'}, inplace=True)\n",
    "df = df.merge(df_unique_all_refinedW, on='card_id', how='left')\n",
    "df.head()"
   ]
  },
  {
   "cell_type": "code",
   "execution_count": 253,
   "metadata": {},
   "outputs": [],
   "source": [
    "cuts = np.linspace(1/101,0.2,101)\n",
    "props = [0]*len(cuts)\n",
    "for i in range(len(cuts)):\n",
    "    cut = cuts[i]\n",
    "    props[i] = df[(df['uniquenessW']<cut) & (df['target']==0)].shape[0]/df[(df['uniquenessW']<cut) & (df['target']!=0)].shape[0]"
   ]
  },
  {
   "cell_type": "code",
   "execution_count": 254,
   "metadata": {},
   "outputs": [
    {
     "data": {
      "image/png": "[encoded data removed]",
      "text/plain": [
       "<Figure size 432x288 with 1 Axes>"
      ]
     },
     "metadata": {
      "needs_background": "light"
     },
     "output_type": "display_data"
    }
   ],
   "source": [
    "plt.plot(cuts,props)\n",
    "plt.title(\"Proportion of correctly identified users with zero target for different cutting points\")\n",
    "plt.show()"
   ]
  },
  {
   "cell_type": "code",
   "execution_count": 259,
   "metadata": {},
   "outputs": [
    {
     "name": "stdout",
     "output_type": "stream",
     "text": [
      "Optimal cutting point for the weighted uniqueness measure: 0.08\n"
     ]
    }
   ],
   "source": [
    "cut_opt = cuts[props.index(max(props))].round(3)\n",
    "print(\"Optimal cutting point for the weighted uniqueness measure: {}\".format(cut_opt))"
   ]
  },
  {
   "cell_type": "markdown",
   "metadata": {},
   "source": [
    "# Store the results\n",
    "So let's now mark the users with uniqueness measure less than 0.08 also for the test set and store the results."
   ]
  },
  {
   "cell_type": "code",
   "execution_count": 280,
   "metadata": {},
   "outputs": [
    {
     "data": {
      "text/html": [
       "<div>\n",
       "<style scoped>\n",
       "    .dataframe tbody tr th:only-of-type {\n",
       "        vertical-align: middle;\n",
       "    }\n",
       "\n",
       "    .dataframe tbody tr th {\n",
       "        vertical-align: top;\n",
       "    }\n",
       "\n",
       "    .dataframe thead th {\n",
       "        text-align: right;\n",
       "    }\n",
       "</style>\n",
       "<table border=\"1\" class=\"dataframe\">\n",
       "  <thead>\n",
       "    <tr style=\"text-align: right;\">\n",
       "      <th></th>\n",
       "      <th>first_active_month</th>\n",
       "      <th>card_id</th>\n",
       "      <th>feature_1</th>\n",
       "      <th>feature_2</th>\n",
       "      <th>feature_3</th>\n",
       "      <th>target</th>\n",
       "      <th>target_raw</th>\n",
       "      <th>uniqueness</th>\n",
       "      <th>uniquenessW</th>\n",
       "      <th>subscriber</th>\n",
       "    </tr>\n",
       "  </thead>\n",
       "  <tbody>\n",
       "    <tr>\n",
       "      <th>0</th>\n",
       "      <td>2017-06</td>\n",
       "      <td>C_ID_92a2005557</td>\n",
       "      <td>5</td>\n",
       "      <td>2</td>\n",
       "      <td>1</td>\n",
       "      <td>-0.820312</td>\n",
       "      <td>0.566406</td>\n",
       "      <td>0.175408</td>\n",
       "      <td>0.737705</td>\n",
       "      <td>0</td>\n",
       "    </tr>\n",
       "    <tr>\n",
       "      <th>1</th>\n",
       "      <td>2017-01</td>\n",
       "      <td>C_ID_3d0044924f</td>\n",
       "      <td>4</td>\n",
       "      <td>1</td>\n",
       "      <td>0</td>\n",
       "      <td>0.392822</td>\n",
       "      <td>1.312500</td>\n",
       "      <td>0.191013</td>\n",
       "      <td>0.672065</td>\n",
       "      <td>0</td>\n",
       "    </tr>\n",
       "    <tr>\n",
       "      <th>2</th>\n",
       "      <td>2016-08</td>\n",
       "      <td>C_ID_d639edf6cd</td>\n",
       "      <td>2</td>\n",
       "      <td>2</td>\n",
       "      <td>0</td>\n",
       "      <td>0.687988</td>\n",
       "      <td>1.611328</td>\n",
       "      <td>0.152015</td>\n",
       "      <td>0.903226</td>\n",
       "      <td>0</td>\n",
       "    </tr>\n",
       "    <tr>\n",
       "      <th>3</th>\n",
       "      <td>2017-09</td>\n",
       "      <td>C_ID_186d6a6901</td>\n",
       "      <td>4</td>\n",
       "      <td>3</td>\n",
       "      <td>0</td>\n",
       "      <td>0.142456</td>\n",
       "      <td>1.103516</td>\n",
       "      <td>0.108118</td>\n",
       "      <td>0.615385</td>\n",
       "      <td>0</td>\n",
       "    </tr>\n",
       "    <tr>\n",
       "      <th>4</th>\n",
       "      <td>2017-11</td>\n",
       "      <td>C_ID_cdbd2c0db2</td>\n",
       "      <td>1</td>\n",
       "      <td>3</td>\n",
       "      <td>0</td>\n",
       "      <td>-0.159790</td>\n",
       "      <td>0.895020</td>\n",
       "      <td>0.084748</td>\n",
       "      <td>0.721519</td>\n",
       "      <td>0</td>\n",
       "    </tr>\n",
       "  </tbody>\n",
       "</table>\n",
       "</div>"
      ],
      "text/plain": [
       "  first_active_month          card_id  feature_1  feature_2  feature_3  \\\n",
       "0            2017-06  C_ID_92a2005557          5          2          1   \n",
       "1            2017-01  C_ID_3d0044924f          4          1          0   \n",
       "2            2016-08  C_ID_d639edf6cd          2          2          0   \n",
       "3            2017-09  C_ID_186d6a6901          4          3          0   \n",
       "4            2017-11  C_ID_cdbd2c0db2          1          3          0   \n",
       "\n",
       "     target  target_raw  uniqueness  uniquenessW  subscriber  \n",
       "0 -0.820312    0.566406    0.175408     0.737705           0  \n",
       "1  0.392822    1.312500    0.191013     0.672065           0  \n",
       "2  0.687988    1.611328    0.152015     0.903226           0  \n",
       "3  0.142456    1.103516    0.108118     0.615385           0  \n",
       "4 -0.159790    0.895020    0.084748     0.721519           0  "
      ]
     },
     "execution_count": 280,
     "metadata": {},
     "output_type": "execute_result"
    }
   ],
   "source": [
    "df['subscriber'] = 1*(df['uniquenessW']<cut_opt)\n",
    "df.head()"
   ]
  },
  {
   "cell_type": "code",
   "execution_count": 264,
   "metadata": {},
   "outputs": [
    {
     "name": "stdout",
     "output_type": "stream",
     "text": [
      "Starting memory usage:  4.72 MB\n",
      "Reduced memory usage:  2.24 MB (52.5% reduction)\n"
     ]
    }
   ],
   "source": [
    "df_test = pd.read_csv(\"input/test.csv\")\n",
    "df_test = reduce_mem_usage(df_test)"
   ]
  },
  {
   "cell_type": "code",
   "execution_count": 265,
   "metadata": {},
   "outputs": [],
   "source": [
    "df_trans_test = pd.concat([df_hist_trans, df_new_trans])\n",
    "df_trans_test = df_trans_test[df_trans_test['card_id'].isin(df_test['card_id'].unique())].reset_index()\n",
    "df_trans_test = df_trans_test[df_trans_test['authorized_flag']=='Y'] #We will only use authorized transactions"
   ]
  },
  {
   "cell_type": "code",
   "execution_count": 266,
   "metadata": {},
   "outputs": [],
   "source": [
    "df_unique_amounts_all_test = df_trans_test.groupby(['card_id', 'merchant_id'])['purchase_amount'].nunique().reset_index().rename(columns={'purchase_amount': 'unique_amounts'})\n",
    "df_n_trans_all_test = df_trans_test.groupby(['card_id', 'merchant_id']).size().reset_index().rename(columns={0: 'n_trans'})\n",
    "df_unique_test = df_unique_amounts_all_test.merge(df_n_trans_all_test, on=['card_id','merchant_id'])"
   ]
  },
  {
   "cell_type": "code",
   "execution_count": 268,
   "metadata": {},
   "outputs": [
    {
     "data": {
      "text/html": [
       "<div>\n",
       "<style scoped>\n",
       "    .dataframe tbody tr th:only-of-type {\n",
       "        vertical-align: middle;\n",
       "    }\n",
       "\n",
       "    .dataframe tbody tr th {\n",
       "        vertical-align: top;\n",
       "    }\n",
       "\n",
       "    .dataframe thead th {\n",
       "        text-align: right;\n",
       "    }\n",
       "</style>\n",
       "<table border=\"1\" class=\"dataframe\">\n",
       "  <thead>\n",
       "    <tr style=\"text-align: right;\">\n",
       "      <th></th>\n",
       "      <th>card_id</th>\n",
       "      <th>uniqueness</th>\n",
       "    </tr>\n",
       "  </thead>\n",
       "  <tbody>\n",
       "    <tr>\n",
       "      <th>0</th>\n",
       "      <td>C_ID_0001238066</td>\n",
       "      <td>0.746269</td>\n",
       "    </tr>\n",
       "    <tr>\n",
       "      <th>1</th>\n",
       "      <td>C_ID_0001793786</td>\n",
       "      <td>0.696078</td>\n",
       "    </tr>\n",
       "    <tr>\n",
       "      <th>2</th>\n",
       "      <td>C_ID_00024e244b</td>\n",
       "      <td>0.687500</td>\n",
       "    </tr>\n",
       "    <tr>\n",
       "      <th>3</th>\n",
       "      <td>C_ID_0002709b5a</td>\n",
       "      <td>0.711111</td>\n",
       "    </tr>\n",
       "    <tr>\n",
       "      <th>4</th>\n",
       "      <td>C_ID_000298032a</td>\n",
       "      <td>0.538462</td>\n",
       "    </tr>\n",
       "  </tbody>\n",
       "</table>\n",
       "</div>"
      ],
      "text/plain": [
       "           card_id  uniqueness\n",
       "0  C_ID_0001238066    0.746269\n",
       "1  C_ID_0001793786    0.696078\n",
       "2  C_ID_00024e244b    0.687500\n",
       "3  C_ID_0002709b5a    0.711111\n",
       "4  C_ID_000298032a    0.538462"
      ]
     },
     "execution_count": 268,
     "metadata": {},
     "output_type": "execute_result"
    }
   ],
   "source": [
    "df_unique_testW = df_unique_test[df_unique_test['n_trans']>1].groupby('card_id').apply(lambda dfx: (dfx['unique_amounts']-1).sum() / dfx['n_trans'].sum())\n",
    "df_unique_testW = df_unique_testW.reset_index().rename(columns={0: 'uniqueness'})\n",
    "df_unique_testW.head()"
   ]
  },
  {
   "cell_type": "code",
   "execution_count": 269,
   "metadata": {},
   "outputs": [
    {
     "data": {
      "text/html": [
       "<div>\n",
       "<style scoped>\n",
       "    .dataframe tbody tr th:only-of-type {\n",
       "        vertical-align: middle;\n",
       "    }\n",
       "\n",
       "    .dataframe tbody tr th {\n",
       "        vertical-align: top;\n",
       "    }\n",
       "\n",
       "    .dataframe thead th {\n",
       "        text-align: right;\n",
       "    }\n",
       "</style>\n",
       "<table border=\"1\" class=\"dataframe\">\n",
       "  <thead>\n",
       "    <tr style=\"text-align: right;\">\n",
       "      <th></th>\n",
       "      <th>first_active_month</th>\n",
       "      <th>card_id</th>\n",
       "      <th>feature_1</th>\n",
       "      <th>feature_2</th>\n",
       "      <th>feature_3</th>\n",
       "      <th>uniquenessW</th>\n",
       "    </tr>\n",
       "  </thead>\n",
       "  <tbody>\n",
       "    <tr>\n",
       "      <th>0</th>\n",
       "      <td>2017-04</td>\n",
       "      <td>C_ID_0ab67a22ab</td>\n",
       "      <td>3</td>\n",
       "      <td>3</td>\n",
       "      <td>1</td>\n",
       "      <td>0.586207</td>\n",
       "    </tr>\n",
       "    <tr>\n",
       "      <th>1</th>\n",
       "      <td>2017-01</td>\n",
       "      <td>C_ID_130fd0cbdd</td>\n",
       "      <td>2</td>\n",
       "      <td>3</td>\n",
       "      <td>0</td>\n",
       "      <td>0.676923</td>\n",
       "    </tr>\n",
       "    <tr>\n",
       "      <th>2</th>\n",
       "      <td>2017-08</td>\n",
       "      <td>C_ID_b709037bc5</td>\n",
       "      <td>5</td>\n",
       "      <td>1</td>\n",
       "      <td>1</td>\n",
       "      <td>0.666667</td>\n",
       "    </tr>\n",
       "    <tr>\n",
       "      <th>3</th>\n",
       "      <td>2017-12</td>\n",
       "      <td>C_ID_d27d835a9f</td>\n",
       "      <td>2</td>\n",
       "      <td>1</td>\n",
       "      <td>0</td>\n",
       "      <td>0.600000</td>\n",
       "    </tr>\n",
       "    <tr>\n",
       "      <th>4</th>\n",
       "      <td>2015-12</td>\n",
       "      <td>C_ID_2b5e3df5c2</td>\n",
       "      <td>5</td>\n",
       "      <td>1</td>\n",
       "      <td>1</td>\n",
       "      <td>0.586207</td>\n",
       "    </tr>\n",
       "  </tbody>\n",
       "</table>\n",
       "</div>"
      ],
      "text/plain": [
       "  first_active_month          card_id  feature_1  feature_2  feature_3  \\\n",
       "0            2017-04  C_ID_0ab67a22ab          3          3          1   \n",
       "1            2017-01  C_ID_130fd0cbdd          2          3          0   \n",
       "2            2017-08  C_ID_b709037bc5          5          1          1   \n",
       "3            2017-12  C_ID_d27d835a9f          2          1          0   \n",
       "4            2015-12  C_ID_2b5e3df5c2          5          1          1   \n",
       "\n",
       "   uniquenessW  \n",
       "0     0.586207  \n",
       "1     0.676923  \n",
       "2     0.666667  \n",
       "3     0.600000  \n",
       "4     0.586207  "
      ]
     },
     "execution_count": 269,
     "metadata": {},
     "output_type": "execute_result"
    }
   ],
   "source": [
    "df_unique_testW.rename(columns={'uniqueness':'uniquenessW'}, inplace=True)\n",
    "df_test = df_test.merge(df_unique_testW, on='card_id', how='left')\n",
    "df_test.head()"
   ]
  },
  {
   "cell_type": "code",
   "execution_count": 283,
   "metadata": {},
   "outputs": [
    {
     "data": {
      "text/html": [
       "<div>\n",
       "<style scoped>\n",
       "    .dataframe tbody tr th:only-of-type {\n",
       "        vertical-align: middle;\n",
       "    }\n",
       "\n",
       "    .dataframe tbody tr th {\n",
       "        vertical-align: top;\n",
       "    }\n",
       "\n",
       "    .dataframe thead th {\n",
       "        text-align: right;\n",
       "    }\n",
       "</style>\n",
       "<table border=\"1\" class=\"dataframe\">\n",
       "  <thead>\n",
       "    <tr style=\"text-align: right;\">\n",
       "      <th></th>\n",
       "      <th>first_active_month</th>\n",
       "      <th>card_id</th>\n",
       "      <th>feature_1</th>\n",
       "      <th>feature_2</th>\n",
       "      <th>feature_3</th>\n",
       "      <th>uniquenessW</th>\n",
       "      <th>subscriber</th>\n",
       "    </tr>\n",
       "  </thead>\n",
       "  <tbody>\n",
       "    <tr>\n",
       "      <th>0</th>\n",
       "      <td>2017-04</td>\n",
       "      <td>C_ID_0ab67a22ab</td>\n",
       "      <td>3</td>\n",
       "      <td>3</td>\n",
       "      <td>1</td>\n",
       "      <td>0.586207</td>\n",
       "      <td>0</td>\n",
       "    </tr>\n",
       "    <tr>\n",
       "      <th>1</th>\n",
       "      <td>2017-01</td>\n",
       "      <td>C_ID_130fd0cbdd</td>\n",
       "      <td>2</td>\n",
       "      <td>3</td>\n",
       "      <td>0</td>\n",
       "      <td>0.676923</td>\n",
       "      <td>0</td>\n",
       "    </tr>\n",
       "    <tr>\n",
       "      <th>2</th>\n",
       "      <td>2017-08</td>\n",
       "      <td>C_ID_b709037bc5</td>\n",
       "      <td>5</td>\n",
       "      <td>1</td>\n",
       "      <td>1</td>\n",
       "      <td>0.666667</td>\n",
       "      <td>0</td>\n",
       "    </tr>\n",
       "    <tr>\n",
       "      <th>3</th>\n",
       "      <td>2017-12</td>\n",
       "      <td>C_ID_d27d835a9f</td>\n",
       "      <td>2</td>\n",
       "      <td>1</td>\n",
       "      <td>0</td>\n",
       "      <td>0.600000</td>\n",
       "      <td>0</td>\n",
       "    </tr>\n",
       "    <tr>\n",
       "      <th>4</th>\n",
       "      <td>2015-12</td>\n",
       "      <td>C_ID_2b5e3df5c2</td>\n",
       "      <td>5</td>\n",
       "      <td>1</td>\n",
       "      <td>1</td>\n",
       "      <td>0.586207</td>\n",
       "      <td>0</td>\n",
       "    </tr>\n",
       "  </tbody>\n",
       "</table>\n",
       "</div>"
      ],
      "text/plain": [
       "  first_active_month          card_id  feature_1  feature_2  feature_3  \\\n",
       "0            2017-04  C_ID_0ab67a22ab          3          3          1   \n",
       "1            2017-01  C_ID_130fd0cbdd          2          3          0   \n",
       "2            2017-08  C_ID_b709037bc5          5          1          1   \n",
       "3            2017-12  C_ID_d27d835a9f          2          1          0   \n",
       "4            2015-12  C_ID_2b5e3df5c2          5          1          1   \n",
       "\n",
       "   uniquenessW  subscriber  \n",
       "0     0.586207           0  \n",
       "1     0.676923           0  \n",
       "2     0.666667           0  \n",
       "3     0.600000           0  \n",
       "4     0.586207           0  "
      ]
     },
     "execution_count": 283,
     "metadata": {},
     "output_type": "execute_result"
    }
   ],
   "source": [
    "df_test['subscriber'] = 1*(df_test['uniquenessW']<cut_opt)\n",
    "df_test.head()"
   ]
  },
  {
   "cell_type": "markdown",
   "metadata": {},
   "source": [
    "Store the results as csv files."
   ]
  },
  {
   "cell_type": "code",
   "execution_count": 285,
   "metadata": {},
   "outputs": [],
   "source": [
    "sub_df = pd.DataFrame({\n",
    "    \"card_id\": df[\"card_id\"].values\n",
    "})\n",
    "\n",
    "sub_df['subscriber'] = df['subscriber']\n",
    "sub_df.to_csv(\"output/subscribers_train.csv\", index=False)"
   ]
  },
  {
   "cell_type": "code",
   "execution_count": 286,
   "metadata": {},
   "outputs": [],
   "source": [
    "sub_df = pd.DataFrame({\n",
    "    \"card_id\": df_test[\"card_id\"].values\n",
    "})\n",
    "\n",
    "sub_df['subscriber'] = df_test['subscriber']\n",
    "sub_df.to_csv(\"output/subscribers_test.csv\", index=False)"
   ]
  }
 ],
 "metadata": {
  "kernelspec": {
   "display_name": "Python 3",
   "language": "python",
   "name": "python3"
  },
  "language_info": {
   "codemirror_mode": {
    "name": "ipython",
    "version": 3
   },
   "file_extension": ".py",
   "mimetype": "text/x-python",
   "name": "python",
   "nbconvert_exporter": "python",
   "pygments_lexer": "ipython3",
   "version": "3.6.7"
  },
  "toc": {
   "base_numbering": 1,
   "nav_menu": {},
   "number_sections": true,
   "sideBar": true,
   "skip_h1_title": false,
   "title_cell": "Table of Contents",
   "title_sidebar": "Contents",
   "toc_cell": false,
   "toc_position": {
    "height": "calc(100% - 180px)",
    "left": "10px",
    "top": "150px",
    "width": "207.273px"
   },
   "toc_section_display": true,
   "toc_window_display": true
  }
 },
 "nbformat": 4,
 "nbformat_minor": 2
}
