{
 "cells": [
  {
   "cell_type": "markdown",
   "metadata": {
    "toc": true
   },
   "source": [
    "<h1>Table of Contents<span class=\"tocSkip\"></span></h1>\n",
    "<div class=\"toc\"><ul class=\"toc-item\"><li><span><a href=\"#Loading-the-input-data\" data-toc-modified-id=\"Loading-the-input-data-1\"><span class=\"toc-item-num\">1&nbsp;&nbsp;</span>Loading the input data</a></span><ul class=\"toc-item\"><li><span><a href=\"#Marking-outliers\" data-toc-modified-id=\"Marking-outliers-1.1\"><span class=\"toc-item-num\">1.1&nbsp;&nbsp;</span>Marking outliers</a></span></li></ul></li><li><span><a href=\"#Autoencoder\" data-toc-modified-id=\"Autoencoder-2\"><span class=\"toc-item-num\">2&nbsp;&nbsp;</span>Autoencoder</a></span></li></ul></div>"
   ]
  },
  {
   "cell_type": "markdown",
   "metadata": {},
   "source": [
    "# Elo Merchant Category Recommendation - Autoencoder\n",
    "End date: _2019. february 19._<br/>\n",
    "\n",
    "This tutorial notebook is the second part of a seriers for [Elo Mechant Category Recommendation](https://www.kaggle.com/c/elo-merchant-category-recommendation) contest organized by Elo, one of the largest payment brands in Brazil. It has built partnerships with merchants in order to offer promotions or discounts to cardholders. The objective of the competition is to identify and serve the most relevant opportunities to individuals, by uncovering signals in customer loyalty. The input files are available from the [download](https://www.kaggle.com/c/elo-merchant-category-recommendation/data) section of the contest:\n",
    "\n",
    "- **train.csv**,  **test.csv**: list of `card_ids` that can be used for training and testing\n",
    "- **historical_transactions.csv**: contains up to 3 months' worth of transactions for every card at any of the provided `merchant_ids`\n",
    "- **new_merchant_transactions.csv**: contains the transactions at new merchants (`merchant_ids` that this particular `card_id` \n",
    "has not yet visited) over a period of two months\n",
    "- **merchants.csv**: contains aggregate information for each `merchant_id` represented in the data set"
   ]
  },
  {
   "cell_type": "code",
   "execution_count": 1,
   "metadata": {},
   "outputs": [
    {
     "name": "stderr",
     "output_type": "stream",
     "text": [
      "Using TensorFlow backend.\n"
     ]
    }
   ],
   "source": [
    "import gc\n",
    "import math\n",
    "import pickle\n",
    "import numpy as np\n",
    "import pandas as pd\n",
    "import seaborn as sns\n",
    "from scipy import stats\n",
    "import tensorflow as tf\n",
    "from pylab import rcParams\n",
    "from keras import regularizers\n",
    "import matplotlib.pyplot as plt\n",
    "from keras.layers import Input, Dense\n",
    "from keras.models import Model, load_model\n",
    "from sklearn.preprocessing import StandardScaler\n",
    "from sklearn.model_selection import train_test_split\n",
    "from keras.callbacks import ModelCheckpoint, TensorBoard, EarlyStopping\n",
    "from sklearn.metrics import (confusion_matrix, precision_recall_curve, auc,\n",
    "                             roc_curve, recall_score, classification_report, f1_score,\n",
    "                             precision_recall_fscore_support)\n",
    "\n",
    "%matplotlib inline\n",
    "\n",
    "sns.set(style='whitegrid', palette='muted', font_scale=1.5)\n",
    "rcParams['figure.figsize'] = 14, 8"
   ]
  },
  {
   "cell_type": "code",
   "execution_count": 2,
   "metadata": {},
   "outputs": [],
   "source": [
    "def reduce_mem_usage(df, verbose=True):\n",
    "    numerics = ['int16', 'int32', 'int64', 'float16', 'float32', 'float64']\n",
    "    start_mem = df.memory_usage().sum() / 1024**2\n",
    "    if verbose: print('Starting memory usage: {:5.2f} MB'.format(start_mem))\n",
    "\n",
    "    for col in df.columns:\n",
    "        col_type = df[col].dtypes\n",
    "        if col_type in numerics:\n",
    "            c_min = df[col].min()\n",
    "            c_max = df[col].max()\n",
    "            if str(col_type)[:3] == 'int':\n",
    "                if c_min >= np.iinfo(np.int8).min and c_max <= np.iinfo(np.int8).max:\n",
    "                    df[col] = df[col].astype(np.int8)\n",
    "                elif c_min >= np.iinfo(np.int16).min and c_max <= np.iinfo(np.int16).max:\n",
    "                    df[col] = df[col].astype(np.int16)\n",
    "                elif c_min >= np.iinfo(np.int32).min and c_max <= np.iinfo(np.int32).max:\n",
    "                    df[col] = df[col].astype(np.int32)\n",
    "                elif c_min >= np.iinfo(np.int64).min and c_max <= np.iinfo(np.int64).max:\n",
    "                    df[col] = df[col].astype(np.int64)  \n",
    "            else:\n",
    "                if c_min >= np.finfo(np.float16).min and c_max <= np.finfo(np.float16).max:\n",
    "                    df[col] = df[col].astype(np.float16)\n",
    "                elif c_min >= np.finfo(np.float32).min and c_max <= np.finfo(np.float32).max:\n",
    "                    df[col] = df[col].astype(np.float32)\n",
    "                else:\n",
    "                    df[col] = df[col].astype(np.float64)    \n",
    "    end_mem = df.memory_usage().sum() / 1024**2\n",
    "    if verbose: print('Reduced memory usage: {:5.2f} MB ({:.1f}% reduction)'.format(end_mem, 100 * (start_mem - end_mem) / start_mem))\n",
    "    return df"
   ]
  },
  {
   "cell_type": "markdown",
   "metadata": {},
   "source": [
    "## Loading the input data"
   ]
  },
  {
   "cell_type": "code",
   "execution_count": 3,
   "metadata": {},
   "outputs": [
    {
     "name": "stdout",
     "output_type": "stream",
     "text": [
      "334,696 records and 22 features in merchant set.\n"
     ]
    }
   ],
   "source": [
    "df_merch = pd.read_csv(\"input/merchants.csv\")\n",
    "print(\"{:,} records and {} features in merchant set.\".format(df_merch.shape[0], df_merch.shape[1]))"
   ]
  },
  {
   "cell_type": "code",
   "execution_count": 4,
   "metadata": {},
   "outputs": [],
   "source": [
    "df_merch['category_1'] = df_merch['category_1'].map({'N': 0, 'Y': 1})\n",
    "df_merch['category_2'] = pd.to_numeric(df_merch['category_2'])\n",
    "df_merch['category_4'] = df_merch['category_4'].map({'N': 0, 'Y': 1})\n",
    "df_merch['most_recent_sales_range'] = df_merch['most_recent_sales_range'].map({'E': 0, 'D': 1, 'C': 2, 'B': 3, 'A': 4})\n",
    "df_merch['most_recent_purchases_range'] = df_merch['most_recent_purchases_range'].map({'E': 0, 'D': 1, 'C': 2, 'B': 3, 'A': 4})"
   ]
  },
  {
   "cell_type": "code",
   "execution_count": 5,
   "metadata": {},
   "outputs": [],
   "source": [
    "dropping = ['city_id', 'state_id']\n",
    "for var in dropping:\n",
    "    df_merch = df_merch.drop(var, axis=1)"
   ]
  },
  {
   "cell_type": "code",
   "execution_count": 6,
   "metadata": {},
   "outputs": [
    {
     "name": "stdout",
     "output_type": "stream",
     "text": [
      "Starting memory usage: 51.07 MB\n",
      "Reduced memory usage: 20.43 MB (60.0% reduction)\n"
     ]
    }
   ],
   "source": [
    "df_merch = reduce_mem_usage(df_merch)"
   ]
  },
  {
   "cell_type": "code",
   "execution_count": 7,
   "metadata": {},
   "outputs": [
    {
     "name": "stdout",
     "output_type": "stream",
     "text": [
      "Starting memory usage: 354.01 MB\n",
      "Reduced memory usage: 84.35 MB (76.2% reduction)\n",
      "Starting memory usage: 397.39 MB\n",
      "Reduced memory usage: 112.08 MB (71.8% reduction)\n"
     ]
    }
   ],
   "source": [
    "df_new_trans = pd.read_csv(\"input/trans_merch_new_agg.csv\", index_col=0)\n",
    "df_new_trans = reduce_mem_usage(df_new_trans)\n",
    "\n",
    "df_hist_trans = pd.read_csv(\"input/trans_merch_hist_agg.csv\", index_col=0)\n",
    "df_hist_trans = reduce_mem_usage(df_hist_trans)"
   ]
  },
  {
   "cell_type": "code",
   "execution_count": 8,
   "metadata": {},
   "outputs": [
    {
     "name": "stdout",
     "output_type": "stream",
     "text": [
      "Starting memory usage:  9.24 MB\n",
      "Reduced memory usage:  4.04 MB (56.2% reduction)\n",
      "Starting memory usage:  4.72 MB\n",
      "Reduced memory usage:  2.24 MB (52.5% reduction)\n",
      "201,917 records and 6 features in train set.\n",
      "123,623 records and 5 features in test set.\n"
     ]
    }
   ],
   "source": [
    "df_train = pd.read_csv(\"input/train.csv\")\n",
    "df_train = reduce_mem_usage(df_train)\n",
    "\n",
    "df_test = pd.read_csv(\"input/test.csv\")\n",
    "df_test = reduce_mem_usage(df_test)\n",
    "\n",
    "print(\"{:,} records and {} features in train set.\".format(df_train.shape[0], df_train.shape[1]))\n",
    "print(\"{:,} records and {} features in test set.\".format(df_test.shape[0], df_test.shape[1]))"
   ]
  },
  {
   "cell_type": "code",
   "execution_count": 9,
   "metadata": {},
   "outputs": [],
   "source": [
    "df_train = pd.merge(df_train, df_hist_trans, on='card_id',how='left')\n",
    "df_test = pd.merge(df_test, df_hist_trans, on='card_id',how='left')\n",
    "\n",
    "df_train = pd.merge(df_train, df_new_trans, on='card_id', how='left')\n",
    "df_test = pd.merge(df_test, df_new_trans, on='card_id', how='left')"
   ]
  },
  {
   "cell_type": "code",
   "execution_count": 10,
   "metadata": {},
   "outputs": [
    {
     "data": {
      "text/plain": [
       "67"
      ]
     },
     "execution_count": 10,
     "metadata": {},
     "output_type": "execute_result"
    }
   ],
   "source": [
    "del df_hist_trans\n",
    "del df_new_trans\n",
    "gc.collect()"
   ]
  },
  {
   "cell_type": "code",
   "execution_count": 11,
   "metadata": {},
   "outputs": [
    {
     "data": {
      "text/html": [
       "<div>\n",
       "<style scoped>\n",
       "    .dataframe tbody tr th:only-of-type {\n",
       "        vertical-align: middle;\n",
       "    }\n",
       "\n",
       "    .dataframe tbody tr th {\n",
       "        vertical-align: top;\n",
       "    }\n",
       "\n",
       "    .dataframe thead th {\n",
       "        text-align: right;\n",
       "    }\n",
       "</style>\n",
       "<table border=\"1\" class=\"dataframe\">\n",
       "  <thead>\n",
       "    <tr style=\"text-align: right;\">\n",
       "      <th></th>\n",
       "      <th>first_active_month</th>\n",
       "      <th>card_id</th>\n",
       "      <th>feature_1</th>\n",
       "      <th>feature_2</th>\n",
       "      <th>feature_3</th>\n",
       "      <th>target</th>\n",
       "      <th>hist_transactions_count</th>\n",
       "      <th>hist_authorized_flag_sum</th>\n",
       "      <th>hist_authorized_flag_mean</th>\n",
       "      <th>hist_active_months_lag3_sum</th>\n",
       "      <th>...</th>\n",
       "      <th>new_purchase_dayofweek_max</th>\n",
       "      <th>new_purchase_dayofweek_min</th>\n",
       "      <th>new_purchase_dayofweek_std</th>\n",
       "      <th>new_purchase_dayofweek_mode</th>\n",
       "      <th>new_purchase_quarter_mean</th>\n",
       "      <th>new_purchase_quarter_median</th>\n",
       "      <th>new_purchase_quarter_max</th>\n",
       "      <th>new_purchase_quarter_min</th>\n",
       "      <th>new_purchase_quarter_std</th>\n",
       "      <th>new_purchase_quarter_mode</th>\n",
       "    </tr>\n",
       "  </thead>\n",
       "  <tbody>\n",
       "    <tr>\n",
       "      <th>0</th>\n",
       "      <td>2017-06</td>\n",
       "      <td>C_ID_92a2005557</td>\n",
       "      <td>5</td>\n",
       "      <td>2</td>\n",
       "      <td>1</td>\n",
       "      <td>-0.820312</td>\n",
       "      <td>1</td>\n",
       "      <td>252.0</td>\n",
       "      <td>0.951172</td>\n",
       "      <td>777.0</td>\n",
       "      <td>...</td>\n",
       "      <td>6.0</td>\n",
       "      <td>0.0</td>\n",
       "      <td>2.029297</td>\n",
       "      <td>4.0</td>\n",
       "      <td>1.478516</td>\n",
       "      <td>1.0</td>\n",
       "      <td>2.0</td>\n",
       "      <td>1.0</td>\n",
       "      <td>0.510742</td>\n",
       "      <td>1.0</td>\n",
       "    </tr>\n",
       "    <tr>\n",
       "      <th>1</th>\n",
       "      <td>2017-01</td>\n",
       "      <td>C_ID_3d0044924f</td>\n",
       "      <td>4</td>\n",
       "      <td>1</td>\n",
       "      <td>0</td>\n",
       "      <td>0.392822</td>\n",
       "      <td>1</td>\n",
       "      <td>354.0</td>\n",
       "      <td>0.969727</td>\n",
       "      <td>1095.0</td>\n",
       "      <td>...</td>\n",
       "      <td>4.0</td>\n",
       "      <td>0.0</td>\n",
       "      <td>1.643555</td>\n",
       "      <td>0.0</td>\n",
       "      <td>1.000000</td>\n",
       "      <td>1.0</td>\n",
       "      <td>1.0</td>\n",
       "      <td>1.0</td>\n",
       "      <td>0.000000</td>\n",
       "      <td>1.0</td>\n",
       "    </tr>\n",
       "    <tr>\n",
       "      <th>2</th>\n",
       "      <td>2016-08</td>\n",
       "      <td>C_ID_d639edf6cd</td>\n",
       "      <td>2</td>\n",
       "      <td>2</td>\n",
       "      <td>0</td>\n",
       "      <td>0.687988</td>\n",
       "      <td>1</td>\n",
       "      <td>42.0</td>\n",
       "      <td>0.954590</td>\n",
       "      <td>132.0</td>\n",
       "      <td>...</td>\n",
       "      <td>5.0</td>\n",
       "      <td>5.0</td>\n",
       "      <td>NaN</td>\n",
       "      <td>5.0</td>\n",
       "      <td>2.000000</td>\n",
       "      <td>2.0</td>\n",
       "      <td>2.0</td>\n",
       "      <td>2.0</td>\n",
       "      <td>NaN</td>\n",
       "      <td>2.0</td>\n",
       "    </tr>\n",
       "  </tbody>\n",
       "</table>\n",
       "<p>3 rows × 322 columns</p>\n",
       "</div>"
      ],
      "text/plain": [
       "  first_active_month          card_id  feature_1  feature_2  feature_3  \\\n",
       "0            2017-06  C_ID_92a2005557          5          2          1   \n",
       "1            2017-01  C_ID_3d0044924f          4          1          0   \n",
       "2            2016-08  C_ID_d639edf6cd          2          2          0   \n",
       "\n",
       "     target  hist_transactions_count  hist_authorized_flag_sum  \\\n",
       "0 -0.820312                        1                     252.0   \n",
       "1  0.392822                        1                     354.0   \n",
       "2  0.687988                        1                      42.0   \n",
       "\n",
       "   hist_authorized_flag_mean  hist_active_months_lag3_sum  \\\n",
       "0                   0.951172                        777.0   \n",
       "1                   0.969727                       1095.0   \n",
       "2                   0.954590                        132.0   \n",
       "\n",
       "             ...              new_purchase_dayofweek_max  \\\n",
       "0            ...                                     6.0   \n",
       "1            ...                                     4.0   \n",
       "2            ...                                     5.0   \n",
       "\n",
       "   new_purchase_dayofweek_min  new_purchase_dayofweek_std  \\\n",
       "0                         0.0                    2.029297   \n",
       "1                         0.0                    1.643555   \n",
       "2                         5.0                         NaN   \n",
       "\n",
       "   new_purchase_dayofweek_mode  new_purchase_quarter_mean  \\\n",
       "0                          4.0                   1.478516   \n",
       "1                          0.0                   1.000000   \n",
       "2                          5.0                   2.000000   \n",
       "\n",
       "   new_purchase_quarter_median  new_purchase_quarter_max  \\\n",
       "0                          1.0                       2.0   \n",
       "1                          1.0                       1.0   \n",
       "2                          2.0                       2.0   \n",
       "\n",
       "   new_purchase_quarter_min  new_purchase_quarter_std  \\\n",
       "0                       1.0                  0.510742   \n",
       "1                       1.0                  0.000000   \n",
       "2                       2.0                       NaN   \n",
       "\n",
       "   new_purchase_quarter_mode  \n",
       "0                        1.0  \n",
       "1                        1.0  \n",
       "2                        2.0  \n",
       "\n",
       "[3 rows x 322 columns]"
      ]
     },
     "execution_count": 11,
     "metadata": {},
     "output_type": "execute_result"
    }
   ],
   "source": [
    "df_train[:3]"
   ]
  },
  {
   "cell_type": "code",
   "execution_count": 12,
   "metadata": {},
   "outputs": [
    {
     "data": {
      "text/html": [
       "<div>\n",
       "<style scoped>\n",
       "    .dataframe tbody tr th:only-of-type {\n",
       "        vertical-align: middle;\n",
       "    }\n",
       "\n",
       "    .dataframe tbody tr th {\n",
       "        vertical-align: top;\n",
       "    }\n",
       "\n",
       "    .dataframe thead th {\n",
       "        text-align: right;\n",
       "    }\n",
       "</style>\n",
       "<table border=\"1\" class=\"dataframe\">\n",
       "  <thead>\n",
       "    <tr style=\"text-align: right;\">\n",
       "      <th></th>\n",
       "      <th>first_active_month</th>\n",
       "      <th>card_id</th>\n",
       "      <th>feature_1</th>\n",
       "      <th>feature_2</th>\n",
       "      <th>feature_3</th>\n",
       "      <th>hist_transactions_count</th>\n",
       "      <th>hist_authorized_flag_sum</th>\n",
       "      <th>hist_authorized_flag_mean</th>\n",
       "      <th>hist_active_months_lag3_sum</th>\n",
       "      <th>hist_active_months_lag3_mean</th>\n",
       "      <th>...</th>\n",
       "      <th>new_purchase_dayofweek_max</th>\n",
       "      <th>new_purchase_dayofweek_min</th>\n",
       "      <th>new_purchase_dayofweek_std</th>\n",
       "      <th>new_purchase_dayofweek_mode</th>\n",
       "      <th>new_purchase_quarter_mean</th>\n",
       "      <th>new_purchase_quarter_median</th>\n",
       "      <th>new_purchase_quarter_max</th>\n",
       "      <th>new_purchase_quarter_min</th>\n",
       "      <th>new_purchase_quarter_std</th>\n",
       "      <th>new_purchase_quarter_mode</th>\n",
       "    </tr>\n",
       "  </thead>\n",
       "  <tbody>\n",
       "    <tr>\n",
       "      <th>0</th>\n",
       "      <td>2017-04</td>\n",
       "      <td>C_ID_0ab67a22ab</td>\n",
       "      <td>3</td>\n",
       "      <td>3</td>\n",
       "      <td>1</td>\n",
       "      <td>1</td>\n",
       "      <td>47.0</td>\n",
       "      <td>0.662109</td>\n",
       "      <td>213.0</td>\n",
       "      <td>3.0</td>\n",
       "      <td>...</td>\n",
       "      <td>5.0</td>\n",
       "      <td>2.0</td>\n",
       "      <td>1.527344</td>\n",
       "      <td>2.0</td>\n",
       "      <td>1.000000</td>\n",
       "      <td>1.0</td>\n",
       "      <td>1.0</td>\n",
       "      <td>1.0</td>\n",
       "      <td>0.000000</td>\n",
       "      <td>1.0</td>\n",
       "    </tr>\n",
       "    <tr>\n",
       "      <th>1</th>\n",
       "      <td>2017-01</td>\n",
       "      <td>C_ID_130fd0cbdd</td>\n",
       "      <td>2</td>\n",
       "      <td>3</td>\n",
       "      <td>0</td>\n",
       "      <td>1</td>\n",
       "      <td>77.0</td>\n",
       "      <td>0.987305</td>\n",
       "      <td>234.0</td>\n",
       "      <td>3.0</td>\n",
       "      <td>...</td>\n",
       "      <td>6.0</td>\n",
       "      <td>0.0</td>\n",
       "      <td>2.359375</td>\n",
       "      <td>0.0</td>\n",
       "      <td>1.400391</td>\n",
       "      <td>1.0</td>\n",
       "      <td>2.0</td>\n",
       "      <td>1.0</td>\n",
       "      <td>0.516602</td>\n",
       "      <td>1.0</td>\n",
       "    </tr>\n",
       "    <tr>\n",
       "      <th>2</th>\n",
       "      <td>2017-08</td>\n",
       "      <td>C_ID_b709037bc5</td>\n",
       "      <td>5</td>\n",
       "      <td>1</td>\n",
       "      <td>1</td>\n",
       "      <td>1</td>\n",
       "      <td>9.0</td>\n",
       "      <td>0.692383</td>\n",
       "      <td>39.0</td>\n",
       "      <td>3.0</td>\n",
       "      <td>...</td>\n",
       "      <td>3.0</td>\n",
       "      <td>1.0</td>\n",
       "      <td>1.414062</td>\n",
       "      <td>1.0</td>\n",
       "      <td>1.000000</td>\n",
       "      <td>1.0</td>\n",
       "      <td>1.0</td>\n",
       "      <td>1.0</td>\n",
       "      <td>0.000000</td>\n",
       "      <td>1.0</td>\n",
       "    </tr>\n",
       "  </tbody>\n",
       "</table>\n",
       "<p>3 rows × 321 columns</p>\n",
       "</div>"
      ],
      "text/plain": [
       "  first_active_month          card_id  feature_1  feature_2  feature_3  \\\n",
       "0            2017-04  C_ID_0ab67a22ab          3          3          1   \n",
       "1            2017-01  C_ID_130fd0cbdd          2          3          0   \n",
       "2            2017-08  C_ID_b709037bc5          5          1          1   \n",
       "\n",
       "   hist_transactions_count  hist_authorized_flag_sum  \\\n",
       "0                        1                      47.0   \n",
       "1                        1                      77.0   \n",
       "2                        1                       9.0   \n",
       "\n",
       "   hist_authorized_flag_mean  hist_active_months_lag3_sum  \\\n",
       "0                   0.662109                        213.0   \n",
       "1                   0.987305                        234.0   \n",
       "2                   0.692383                         39.0   \n",
       "\n",
       "   hist_active_months_lag3_mean            ...              \\\n",
       "0                           3.0            ...               \n",
       "1                           3.0            ...               \n",
       "2                           3.0            ...               \n",
       "\n",
       "   new_purchase_dayofweek_max  new_purchase_dayofweek_min  \\\n",
       "0                         5.0                         2.0   \n",
       "1                         6.0                         0.0   \n",
       "2                         3.0                         1.0   \n",
       "\n",
       "   new_purchase_dayofweek_std  new_purchase_dayofweek_mode  \\\n",
       "0                    1.527344                          2.0   \n",
       "1                    2.359375                          0.0   \n",
       "2                    1.414062                          1.0   \n",
       "\n",
       "   new_purchase_quarter_mean  new_purchase_quarter_median  \\\n",
       "0                   1.000000                          1.0   \n",
       "1                   1.400391                          1.0   \n",
       "2                   1.000000                          1.0   \n",
       "\n",
       "   new_purchase_quarter_max  new_purchase_quarter_min  \\\n",
       "0                       1.0                       1.0   \n",
       "1                       2.0                       1.0   \n",
       "2                       1.0                       1.0   \n",
       "\n",
       "   new_purchase_quarter_std  new_purchase_quarter_mode  \n",
       "0                  0.000000                        1.0  \n",
       "1                  0.516602                        1.0  \n",
       "2                  0.000000                        1.0  \n",
       "\n",
       "[3 rows x 321 columns]"
      ]
     },
     "execution_count": 12,
     "metadata": {},
     "output_type": "execute_result"
    }
   ],
   "source": [
    "df_test[:3]"
   ]
  },
  {
   "cell_type": "code",
   "execution_count": 13,
   "metadata": {},
   "outputs": [
    {
     "data": {
      "text/plain": [
       "<matplotlib.axes._subplots.AxesSubplot at 0x7f960e2fcf28>"
      ]
     },
     "execution_count": 13,
     "metadata": {},
     "output_type": "execute_result"
    },
    {
     "data": {
      "image/png": "[encoded data removed]",
      "text/plain": [
       "<Figure size 1080x432 with 1 Axes>"
      ]
     },
     "metadata": {},
     "output_type": "display_data"
    }
   ],
   "source": [
    "sns.set(rc={'figure.figsize':(15, 6)})\n",
    "\n",
    "df_train['target'].hist(bins=100)"
   ]
  },
  {
   "cell_type": "markdown",
   "metadata": {},
   "source": [
    "### Marking outliers"
   ]
  },
  {
   "cell_type": "code",
   "execution_count": 14,
   "metadata": {},
   "outputs": [],
   "source": [
    "df_train['is_outlier'] = df_train['target'].apply(lambda x: True if x < -30 else False)"
   ]
  },
  {
   "cell_type": "code",
   "execution_count": 15,
   "metadata": {},
   "outputs": [
    {
     "data": {
      "text/plain": [
       "2207"
      ]
     },
     "execution_count": 15,
     "metadata": {},
     "output_type": "execute_result"
    }
   ],
   "source": [
    "len(df_train[df_train['is_outlier'] == True]['is_outlier'])"
   ]
  },
  {
   "cell_type": "markdown",
   "metadata": {},
   "source": [
    "https://medium.com/@curiousily/credit-card-fraud-detection-using-autoencoders-in-keras-tensorflow-for-hackers-part-vii-20e0c85301bd"
   ]
  },
  {
   "cell_type": "code",
   "execution_count": 16,
   "metadata": {},
   "outputs": [
    {
     "data": {
      "text/plain": [
       "Text(0, 0.5, 'Frequency')"
      ]
     },
     "execution_count": 16,
     "metadata": {},
     "output_type": "execute_result"
    },
    {
     "data": {
      "image/png": "[encoded data removed]",
      "text/plain": [
       "<Figure size 1080x432 with 1 Axes>"
      ]
     },
     "metadata": {},
     "output_type": "display_data"
    }
   ],
   "source": [
    "count_classes = pd.value_counts(df_train['is_outlier'], sort = True)\n",
    "count_classes.plot(kind = 'bar', rot=0)\n",
    "plt.title(\"Transaction class distribution\")\n",
    "plt.xticks(range(2), [\"Normal\", \"Outlier\"])\n",
    "plt.ylabel(\"Frequency\")"
   ]
  },
  {
   "cell_type": "markdown",
   "metadata": {},
   "source": [
    "## Filtering"
   ]
  },
  {
   "cell_type": "code",
   "execution_count": 17,
   "metadata": {},
   "outputs": [],
   "source": [
    "df_train.drop(columns=['card_id', 'first_active_month', 'hist_merchant_id_mode', 'new_merchant_id_mode'], inplace=True, axis=1)\n",
    "df_test.drop(columns=['card_id', 'first_active_month', 'hist_merchant_id_mode', 'new_merchant_id_mode'], inplace=True, axis=1)"
   ]
  },
  {
   "cell_type": "code",
   "execution_count": 18,
   "metadata": {},
   "outputs": [
    {
     "data": {
      "text/plain": [
       "(201917, 123623)"
      ]
     },
     "execution_count": 18,
     "metadata": {},
     "output_type": "execute_result"
    }
   ],
   "source": [
    "len(df_train), len(df_test)"
   ]
  },
  {
   "cell_type": "code",
   "execution_count": 19,
   "metadata": {},
   "outputs": [],
   "source": [
    "df_train.dropna(how='any', axis=0, inplace=True)\n",
    "df_test.dropna(how='any', axis=0, inplace=True)"
   ]
  },
  {
   "cell_type": "code",
   "execution_count": 20,
   "metadata": {},
   "outputs": [
    {
     "data": {
      "text/plain": [
       "(147718, 90384)"
      ]
     },
     "execution_count": 20,
     "metadata": {},
     "output_type": "execute_result"
    }
   ],
   "source": [
    "len(df_train), len(df_test)"
   ]
  },
  {
   "cell_type": "code",
   "execution_count": 22,
   "metadata": {},
   "outputs": [
    {
     "name": "stdout",
     "output_type": "stream",
     "text": [
      "feature_1: 3.0877 (1.1951)\n",
      "feature_2: 1.7326 (0.7500)\n",
      "feature_3: 0.5543 (0.4970)\n",
      "target: -0.4637 (3.0914)\n",
      "hist_transactions_count: 1.0000 (0.0000)\n",
      "hist_authorized_flag_sum: 96.7168 (111.3211)\n",
      "hist_authorized_flag_mean: 0.1419 (0.3490)\n",
      "hist_active_months_lag3_sum: 313.4754 (349.7907)\n",
      "hist_active_months_lag3_mean: 2.9866 (0.1149)\n",
      "hist_active_months_lag6_sum: 626.7824 (699.3774)\n",
      "hist_active_months_lag6_mean: 5.9466 (0.2249)\n",
      "hist_active_months_lag12_sum: 1229.6961 (1374.6195)\n",
      "hist_active_months_lag12_mean: 11.1854 (0.4336)\n",
      "hist_avg_sales_lag3_sum: 13026.3418 (150941.2031)\n",
      "hist_avg_sales_lag3_mean: 130.5023 (1961.9861)\n",
      "hist_avg_sales_lag6_sum: 12329.6572 (141868.8281)\n",
      "hist_avg_sales_lag6_mean: 123.9150 (1847.1615)\n",
      "hist_avg_sales_lag12_sum: 11424.0674 (138272.3594)\n",
      "hist_avg_sales_lag12_mean: 114.8046 (1782.2146)\n",
      "hist_avg_purchases_lag3_sum: inf (nan)\n",
      "hist_avg_purchases_lag3_mean: inf (nan)\n",
      "hist_avg_purchases_lag6_sum: inf (nan)\n",
      "hist_avg_purchases_lag6_mean: inf (nan)\n",
      "hist_avg_purchases_lag12_sum: inf (nan)\n",
      "hist_avg_purchases_lag12_mean: inf (nan)\n",
      "hist_category_1_trans_sum: 6.1011 (18.6061)\n",
      "hist_category_1_trans_mean: 0.0000 (0.0000)\n",
      "hist_category_1_merch_sum: 16.6153 (25.4355)\n",
      "hist_category_1_merch_mean: 0.0000 (0.0000)\n",
      "hist_category_2_trans_sum: 208.9516 (318.0031)\n",
      "hist_category_2_trans_mean: 1.8578 (1.1558)\n",
      "hist_category_2_trans_mode: 2.2107 (1.5159)\n",
      "hist_category_2_trans_nancnt: 7.2018 (21.9816)\n",
      "hist_category_2_trans_nanperc: 8.0301 (15.8880)\n",
      "hist_category_2_merch_sum: 197.3885 (308.6681)\n",
      "hist_category_2_merch_mean: 2.1114 (1.3998)\n",
      "hist_category_2_merch_mode: 2.2564 (1.5297)\n",
      "hist_category_2_merch_nancnt: 17.5494 (27.3753)\n",
      "hist_category_2_merch_nanperc: 17.9430 (17.2910)\n",
      "hist_category_3_sum: 54.4710 (93.6685)\n",
      "hist_category_3_mean: 0.5158 (0.5035)\n",
      "hist_category_3_mode: 0.5605 (0.5764)\n",
      "hist_category_3_nancnt: 0.6290 (1.5281)\n",
      "hist_category_3_nanperc: 1.0749 (3.4280)\n",
      "hist_category_4_sum: 55.8960 (88.3042)\n",
      "hist_category_4_mean: 0.0933 (0.2909)\n",
      "hist_city_id_nunique: 5.3800 (3.7099)\n",
      "hist_city_id_mode: 135.6271 (104.1336)\n",
      "hist_city_id_nancnt: 0.0000 (0.0000)\n",
      "hist_city_id_nanperc: 0.0000 (0.0000)\n",
      "hist_installments_sum: 65.8095 (112.7410)\n",
      "hist_installments_median: 0.5841 (0.7106)\n",
      "hist_installments_mean: 0.6294 (0.9257)\n",
      "hist_installments_max: 4.3069 (23.9259)\n",
      "hist_installments_min: -0.0019 (0.7147)\n",
      "hist_installments_std: 0.4733 (2.9919)\n",
      "hist_installments_mode: 0.5567 (0.7257)\n",
      "hist_installments_nancnt: 0.0000 (0.0000)\n",
      "hist_installments_nanperc: 0.0000 (0.0000)\n",
      "hist_merchant_id_nunique: 38.5399 (32.6949)\n",
      "hist_merchant_id_nancnt: 0.5106 (1.4118)\n",
      "hist_merchant_id_nanperc: 0.4379 (1.6262)\n",
      "hist_merchant_category_id_trans_nunique: 20.2509 (11.7008)\n",
      "hist_merchant_category_id_trans_mode: 536.3420 (249.4129)\n",
      "hist_merchant_category_id_trans_nancnt: 0.0000 (0.0000)\n",
      "hist_merchant_category_id_trans_nanperc: 0.0000 (0.0000)\n",
      "hist_merchant_group_id_nunique: 26.4158 (22.4729)\n",
      "hist_merchant_group_id_mode: 5873.2651 (19187.6523)\n",
      "hist_merchant_group_id_nancnt: 0.5106 (1.4118)\n",
      "hist_merchant_group_id_nanperc: 0.4379 (1.6262)\n",
      "hist_merchant_category_id_merch_nunique: 19.4257 (11.0796)\n",
      "hist_merchant_category_id_merch_mode: 494.3967 (220.8925)\n",
      "hist_merchant_category_id_merch_nancnt: 0.5106 (1.4118)\n",
      "hist_merchant_category_id_merch_nanperc: 0.4379 (1.6262)\n",
      "hist_month_lag_min: -7.5715 (3.8857)\n",
      "hist_month_lag_max: -0.1274 (0.5697)\n",
      "hist_month_lag_mean: -3.1215 (2.0904)\n",
      "hist_most_recent_sales_range_sum: 246.2816 (281.8642)\n",
      "hist_most_recent_sales_range_mean: 1.8776 (0.5640)\n",
      "hist_most_recent_sales_range_max: 3.9634 (0.2189)\n",
      "hist_most_recent_sales_range_min: 0.0000 (0.0000)\n",
      "hist_most_recent_sales_range_std: 0.8894 (0.3157)\n",
      "hist_most_recent_sales_range_mode: 2.7722 (1.2147)\n",
      "hist_most_recent_purchases_range_sum: 254.1958 (295.4684)\n",
      "hist_most_recent_purchases_range_mean: 1.9122 (0.5602)\n",
      "hist_most_recent_purchases_range_max: 3.9601 (0.2333)\n",
      "hist_most_recent_purchases_range_min: 0.0000 (0.0000)\n",
      "hist_most_recent_purchases_range_std: 0.8797 (0.3275)\n",
      "hist_most_recent_purchases_range_mode: 2.7985 (1.2246)\n",
      "hist_numerical_1_mean: 4.5395 (8.2045)\n",
      "hist_numerical_1_median: 0.0000 (0.0000)\n",
      "hist_numerical_1_max: 57.5656 (65.2554)\n",
      "hist_numerical_1_min: -0.0000 (0.0000)\n",
      "hist_numerical_1_std: 11.9085 (15.5031)\n",
      "hist_numerical_1_mode: 1.0972 (10.4323)\n",
      "hist_numerical_2_mean: 4.4279 (8.0728)\n",
      "hist_numerical_2_median: 0.0000 (0.0000)\n",
      "hist_numerical_2_max: 56.9293 (64.6059)\n",
      "hist_numerical_2_min: -0.0000 (0.0000)\n",
      "hist_numerical_2_std: 11.7682 (15.3240)\n",
      "hist_numerical_2_mode: 0.4961 (6.8764)\n",
      "hist_state_id_nunique: 2.8778 (1.5831)\n",
      "hist_state_id_mode: 11.1763 (6.0483)\n",
      "hist_state_id_nancnt: 0.0000 (0.0000)\n",
      "hist_state_id_nanperc: 0.0000 (0.0000)\n",
      "hist_subsector_id_trans_nunique: 12.4010 (5.0646)\n",
      "hist_subsector_id_trans_mode: 28.4719 (8.2286)\n",
      "hist_subsector_id_trans_nancnt: 0.0000 (0.0000)\n",
      "hist_subsector_id_trans_nanperc: 0.0000 (0.0000)\n",
      "hist_subsector_id_merch_nunique: 12.4192 (5.0453)\n",
      "hist_subsector_id_merch_mode: 25.8324 (10.8462)\n",
      "hist_subsector_id_merch_nancnt: 0.5106 (1.4118)\n",
      "hist_subsector_id_merch_nanperc: 0.4379 (1.6262)\n",
      "hist_purchase_amount_sum: 14.7370 (15694.1895)\n",
      "hist_purchase_amount_mean: 3.2138 (1303.3660)\n",
      "hist_purchase_amount_max: 76.5675 (15693.4443)\n",
      "hist_purchase_amount_min: 0.0001 (0.0286)\n",
      "hist_purchase_amount_std: 15.1825 (4516.1724)\n",
      "hist_purchase_amount_mode: 0.0396 (0.6728)\n",
      "hist_purchase_year_mean: 2017.1323 (0.3388)\n",
      "hist_purchase_year_median: 2017.1323 (0.3388)\n",
      "hist_purchase_year_max: 2017.7621 (0.4258)\n",
      "hist_purchase_year_min: 2017.0000 (0.0000)\n",
      "hist_purchase_year_std: 0.0000 (0.0000)\n",
      "hist_purchase_year_mode: 2017.1233 (0.3288)\n",
      "hist_purchase_month_mean: 6.0358 (1.8745)\n",
      "hist_purchase_month_median: 6.7042 (3.0091)\n",
      "hist_purchase_month_max: 11.2197 (1.8810)\n",
      "hist_purchase_month_min: 1.5522 (1.6546)\n",
      "hist_purchase_month_std: 2.9479 (1.2295)\n",
      "hist_purchase_month_mode: 5.9929 (4.2838)\n",
      "hist_purchase_day_mean: 15.4829 (2.5959)\n",
      "hist_purchase_day_median: 15.9705 (3.9969)\n",
      "hist_purchase_day_max: 29.8766 (2.1990)\n",
      "hist_purchase_day_min: 2.0149 (2.2551)\n",
      "hist_purchase_day_std: 7.7680 (1.4399)\n",
      "hist_purchase_day_mode: 14.4757 (8.4881)\n",
      "hist_purchase_hour_mean: 13.6206 (1.5233)\n",
      "hist_purchase_hour_median: 14.5650 (1.9822)\n",
      "hist_purchase_hour_max: 22.0736 (1.5069)\n",
      "hist_purchase_hour_min: 1.9198 (3.5179)\n",
      "hist_purchase_hour_std: 4.5809 (1.3426)\n",
      "hist_purchase_hour_mode: 13.5907 (5.0923)\n",
      "hist_purchase_weekofyear_mean: 26.0538 (8.0398)\n",
      "hist_purchase_weekofyear_median: 27.3152 (12.9418)\n",
      "hist_purchase_weekofyear_max: 48.2151 (8.0601)\n",
      "hist_purchase_weekofyear_min: 4.0553 (7.4979)\n",
      "hist_purchase_weekofyear_std: 14.5538 (5.1418)\n",
      "hist_purchase_weekofyear_mode: 23.6583 (18.3511)\n",
      "hist_purchase_dayofweek_mean: 2.5422 (0.6283)\n",
      "hist_purchase_dayofweek_median: 3.1057 (0.8782)\n",
      "hist_purchase_dayofweek_max: 5.8632 (0.4298)\n",
      "hist_purchase_dayofweek_min: 0.0715 (0.3348)\n",
      "hist_purchase_dayofweek_std: 1.2151 (0.4272)\n",
      "hist_purchase_dayofweek_mode: 3.2068 (1.8238)\n",
      "hist_purchase_quarter_mean: 2.0397 (0.6242)\n",
      "hist_purchase_quarter_median: 2.5708 (1.0320)\n",
      "hist_purchase_quarter_max: 3.8184 (0.5431)\n",
      "hist_purchase_quarter_min: 1.1323 (0.4740)\n",
      "hist_purchase_quarter_std: 0.6974 (0.4594)\n",
      "hist_purchase_quarter_mode: 2.4960 (1.3170)\n",
      "new_transactions_count: 1.0000 (0.0000)\n",
      "new_authorized_flag_sum: 8.0499 (6.8662)\n",
      "new_authorized_flag_mean: 1.0000 (0.0000)\n",
      "new_active_months_lag3_sum: 23.8549 (20.4714)\n",
      "new_active_months_lag3_mean: 2.9988 (0.0344)\n",
      "new_active_months_lag6_sum: 47.6413 (40.8818)\n",
      "new_active_months_lag6_mean: 5.9636 (0.1893)\n",
      "new_active_months_lag12_sum: 93.7455 (80.7951)\n",
      "new_active_months_lag12_mean: 11.5963 (0.6313)\n",
      "new_avg_sales_lag3_sum: 362.6921 (17190.4805)\n",
      "new_avg_sales_lag3_mean: 40.3760 (2396.4983)\n",
      "new_avg_sales_lag6_sum: 360.8368 (16685.2578)\n",
      "new_avg_sales_lag6_mean: 38.8400 (2189.4004)\n",
      "new_avg_sales_lag12_sum: 343.6239 (16961.4590)\n",
      "new_avg_sales_lag12_mean: 35.7340 (1974.2880)\n",
      "new_avg_purchases_lag3_sum: 36.3451 (1236.6488)\n",
      "new_avg_purchases_lag3_mean: 3.9841 (172.9089)\n",
      "new_avg_purchases_lag6_sum: 65.2337 (1132.6649)\n",
      "new_avg_purchases_lag6_mean: 8.1225 (159.2151)\n",
      "new_avg_purchases_lag12_sum: 68.1853 (1026.9635)\n",
      "new_avg_purchases_lag12_mean: 8.5860 (145.2153)\n",
      "new_category_1_trans_sum: 0.2313 (0.6441)\n",
      "new_category_1_trans_mean: 0.0000 (0.0000)\n",
      "new_category_1_merch_sum: 0.7701 (1.1499)\n",
      "new_category_1_merch_mean: 0.0000 (0.0000)\n",
      "new_category_2_trans_sum: 16.7172 (20.2138)\n"
     ]
    },
    {
     "name": "stdout",
     "output_type": "stream",
     "text": [
      "new_category_2_trans_mean: 2.0526 (1.3542)\n",
      "new_category_2_trans_mode: 2.1699 (1.5054)\n",
      "new_category_2_trans_nancnt: 0.0000 (0.0000)\n",
      "new_category_2_trans_nanperc: 4.6427 (12.1898)\n",
      "new_category_2_merch_sum: 15.9339 (19.8446)\n",
      "new_category_2_merch_mean: 2.1792 (1.4587)\n",
      "new_category_2_merch_mode: 2.2388 (1.5272)\n",
      "new_category_2_merch_nancnt: 0.9026 (1.3522)\n",
      "new_category_2_merch_nanperc: 11.9043 (16.9196)\n",
      "new_category_3_sum: 4.6446 (7.0415)\n",
      "new_category_3_mean: 0.5316 (0.5310)\n",
      "new_category_3_mode: 0.5587 (0.5738)\n",
      "new_category_3_nancnt: 0.0000 (0.0000)\n",
      "new_category_3_nanperc: 3.1530 (9.2390)\n",
      "new_category_4_sum: 4.0277 (5.1978)\n",
      "new_category_4_mean: 0.2198 (0.4141)\n",
      "new_city_id_nunique: 2.5745 (1.7250)\n",
      "new_city_id_mode: 129.5956 (99.5631)\n",
      "new_city_id_nancnt: 0.0000 (0.0000)\n",
      "new_city_id_nanperc: 0.0000 (0.0000)\n",
      "new_installments_sum: 5.4636 (9.0421)\n",
      "new_installments_median: 0.5913 (0.7818)\n",
      "new_installments_mean: 0.5650 (0.8297)\n",
      "new_installments_max: 1.5609 (3.5678)\n",
      "new_installments_min: 0.2161 (0.7393)\n",
      "new_installments_std: 0.3332 (0.9593)\n",
      "new_installments_mode: 0.5047 (0.7122)\n",
      "new_installments_nancnt: 0.0000 (0.0000)\n",
      "new_installments_nanperc: 0.0000 (0.0000)\n",
      "new_merchant_id_nunique: 7.8263 (6.7674)\n",
      "new_merchant_id_nancnt: 0.0976 (0.2971)\n",
      "new_merchant_id_nanperc: 1.2555 (4.6164)\n",
      "new_merchant_category_id_trans_nunique: 6.1938 (4.1845)\n",
      "new_merchant_category_id_trans_mode: 310.2593 (237.9681)\n",
      "new_merchant_category_id_trans_nancnt: 0.0000 (0.0000)\n",
      "new_merchant_category_id_trans_nanperc: 0.0000 (0.0000)\n",
      "new_merchant_group_id_nunique: 6.2513 (5.2096)\n",
      "new_merchant_group_id_mode: 1775.9818 (7943.8931)\n",
      "new_merchant_group_id_nancnt: 0.0000 (0.0000)\n",
      "new_merchant_group_id_nanperc: 1.2555 (4.6164)\n",
      "new_merchant_category_id_merch_nunique: 6.1100 (4.1476)\n",
      "new_merchant_category_id_merch_mode: 293.4166 (211.0457)\n",
      "new_merchant_category_id_merch_nancnt: 0.0000 (0.0000)\n",
      "new_merchant_category_id_merch_nanperc: 1.2555 (4.6164)\n",
      "new_month_lag_min: 1.0996 (0.2994)\n",
      "new_month_lag_max: 1.8781 (0.3272)\n",
      "new_month_lag_mean: 1.0996 (0.2994)\n",
      "new_most_recent_sales_range_sum: 16.3429 (14.1091)\n",
      "new_most_recent_sales_range_mean: 1.7041 (0.7297)\n",
      "new_most_recent_sales_range_max: 3.5157 (0.8032)\n",
      "new_most_recent_sales_range_min: 0.6629 (0.8597)\n",
      "new_most_recent_sales_range_std: 0.7619 (0.5306)\n",
      "new_most_recent_sales_range_mode: 1.7658 (1.2211)\n",
      "new_most_recent_purchases_range_sum: 16.6592 (14.5083)\n",
      "new_most_recent_purchases_range_mean: 1.7306 (0.7267)\n",
      "new_most_recent_purchases_range_max: 3.5220 (0.8126)\n",
      "new_most_recent_purchases_range_min: 0.7308 (0.8441)\n",
      "new_most_recent_purchases_range_std: 0.7403 (0.5328)\n",
      "new_most_recent_purchases_range_mode: 1.7828 (1.1960)\n",
      "new_numerical_1_mean: 3.3802 (8.3829)\n",
      "new_numerical_1_median: 0.8369 (5.5778)\n",
      "new_numerical_1_max: 19.9888 (39.7693)\n",
      "new_numerical_1_min: 0.0000 (0.0000)\n",
      "new_numerical_1_std: 7.0454 (14.8150)\n",
      "new_numerical_1_mode: 0.0000 (0.0000)\n",
      "new_numerical_2_mean: 3.2998 (8.2453)\n",
      "new_numerical_2_median: 0.8136 (5.5024)\n",
      "new_numerical_2_max: 19.6369 (39.1573)\n",
      "new_numerical_2_min: 0.0000 (0.0000)\n",
      "new_numerical_2_std: 6.9342 (14.5914)\n",
      "new_numerical_2_mode: 0.0000 (0.0000)\n",
      "new_state_id_nunique: 1.6928 (0.9170)\n",
      "new_state_id_mode: 11.1739 (5.8385)\n",
      "new_state_id_nancnt: 0.0000 (0.0000)\n",
      "new_state_id_nanperc: 0.0000 (0.0000)\n",
      "new_subsector_id_trans_nunique: 5.1302 (2.9233)\n",
      "new_subsector_id_trans_mode: 23.2761 (10.7747)\n",
      "new_subsector_id_trans_nancnt: 0.0000 (0.0000)\n",
      "new_subsector_id_trans_nanperc: 0.0000 (0.0000)\n",
      "new_subsector_id_merch_nunique: 5.0942 (2.9247)\n",
      "new_subsector_id_merch_mode: 21.8923 (11.3851)\n",
      "new_subsector_id_merch_nancnt: 0.0000 (0.0000)\n",
      "new_subsector_id_merch_nanperc: 1.2555 (4.6164)\n",
      "new_purchase_amount_sum: -4.0204 (4.5259)\n",
      "new_purchase_amount_mean: 0.0155 (0.2612)\n",
      "new_purchase_amount_max: -0.0000 (0.0000)\n",
      "new_purchase_amount_min: 0.0010 (0.0549)\n",
      "new_purchase_amount_std: 0.0000 (0.0000)\n",
      "new_purchase_amount_mode: 0.0063 (0.1721)\n",
      "new_purchase_year_mean: 2017.8530 (0.3541)\n",
      "new_purchase_year_median: 2017.8530 (0.3541)\n",
      "new_purchase_year_max: 2017.8661 (0.3405)\n",
      "new_purchase_year_min: 2017.8407 (0.3659)\n",
      "new_purchase_year_std: 0.0000 (0.0000)\n",
      "new_purchase_year_mode: 2017.8491 (0.3579)\n",
      "new_purchase_month_mean: 3.7225 (2.2438)\n",
      "new_purchase_month_median: 4.0328 (2.4088)\n",
      "new_purchase_month_max: 4.6145 (2.4662)\n",
      "new_purchase_month_min: 3.5817 (2.2083)\n",
      "new_purchase_month_std: 0.1273 (0.8025)\n",
      "new_purchase_month_mode: 4.0134 (2.4130)\n",
      "new_purchase_day_mean: 15.2940 (5.1409)\n",
      "new_purchase_day_median: 15.5548 (6.4633)\n",
      "new_purchase_day_max: 24.5428 (6.5132)\n",
      "new_purchase_day_min: 6.8562 (6.2037)\n",
      "new_purchase_day_std: 6.7238 (3.5083)\n",
      "new_purchase_day_mode: 12.2568 (8.5738)\n",
      "new_purchase_hour_mean: 13.1184 (2.4657)\n",
      "new_purchase_hour_median: 13.4998 (2.9126)\n",
      "new_purchase_hour_max: 18.4818 (3.3353)\n",
      "new_purchase_hour_min: 8.0627 (4.0775)\n",
      "new_purchase_hour_std: 3.5229 (1.9262)\n",
      "new_purchase_hour_mode: 11.5967 (4.5305)\n",
      "new_purchase_weekofyear_mean: 15.5348 (9.7552)\n",
      "new_purchase_weekofyear_median: 15.8606 (10.3443)\n",
      "new_purchase_weekofyear_max: 18.9434 (10.7746)\n",
      "new_purchase_weekofyear_min: 12.8340 (9.6456)\n",
      "new_purchase_weekofyear_std: 2.1608 (3.6340)\n",
      "new_purchase_weekofyear_mode: 15.1273 (10.4693)\n",
      "new_purchase_dayofweek_mean: 2.7069 (1.0690)\n",
      "new_purchase_dayofweek_median: 3.0863 (1.3617)\n",
      "new_purchase_dayofweek_max: 5.0258 (1.2107)\n",
      "new_purchase_dayofweek_min: 0.9793 (1.3379)\n",
      "new_purchase_dayofweek_std: 1.2004 (0.7331)\n",
      "new_purchase_dayofweek_mode: 2.6647 (1.9298)\n",
      "new_purchase_quarter_mean: 1.3863 (0.8248)\n",
      "new_purchase_quarter_median: 1.6176 (0.8775)\n",
      "new_purchase_quarter_max: 2.0183 (0.7954)\n",
      "new_purchase_quarter_min: 1.3555 (0.8090)\n",
      "new_purchase_quarter_std: 0.0000 (0.0000)\n",
      "new_purchase_quarter_mode: 1.6137 (0.8780)\n"
     ]
    }
   ],
   "source": [
    "for f in df_train.columns:\n",
    "    if f != 'is_outlier':\n",
    "        mean = df_train[f].mean()\n",
    "        std = df_train[f].std()\n",
    "        if math.isnan(mean):\n",
    "            mean = df_train[f].astype(int).mean()\n",
    "            std = df_train[f].astype(int).std()\n",
    "    \n",
    "        df_train[f] = (df_train[f] - mean)/std\n",
    "        print('{}: {:.4f} ({:.4f})'.format(f, mean, std))"
   ]
  },
  {
   "cell_type": "markdown",
   "metadata": {},
   "source": [
    "## Autoencoder"
   ]
  },
  {
   "cell_type": "code",
   "execution_count": 23,
   "metadata": {},
   "outputs": [
    {
     "data": {
      "text/plain": [
       "(117289, 210)"
      ]
     },
     "execution_count": 23,
     "metadata": {},
     "output_type": "execute_result"
    }
   ],
   "source": [
    "cols = ['feature_1',\n",
    " 'feature_2',\n",
    " 'feature_3',\n",
    " 'hist_authorized_flag_sum',\n",
    " 'hist_active_months_lag3_sum',\n",
    " 'hist_active_months_lag6_sum',\n",
    " 'hist_active_months_lag12_sum',\n",
    " 'hist_avg_sales_lag3_sum',\n",
    " 'hist_avg_sales_lag3_mean',\n",
    " 'hist_avg_sales_lag6_sum',\n",
    " 'hist_avg_sales_lag6_mean',\n",
    " 'hist_avg_sales_lag12_sum',\n",
    " 'hist_avg_sales_lag12_mean',\n",
    " 'hist_category_1_trans_sum',\n",
    " 'hist_category_1_merch_sum',\n",
    " 'hist_category_2_trans_sum',\n",
    " 'hist_category_2_trans_mean',\n",
    " 'hist_category_2_trans_nancnt',\n",
    " 'hist_category_2_trans_nanperc',\n",
    " 'hist_category_2_merch_sum',\n",
    " 'hist_category_2_merch_mean',\n",
    " 'hist_category_2_merch_nancnt',\n",
    " 'hist_category_2_merch_nanperc',\n",
    " 'hist_category_3_sum',\n",
    " 'hist_category_3_nanperc',\n",
    " 'hist_category_4_sum',\n",
    " 'hist_city_id_nunique',\n",
    " 'hist_city_id_mode',\n",
    " 'hist_installments_sum',\n",
    " 'hist_installments_mean',\n",
    " 'hist_installments_max',\n",
    " 'hist_installments_min',\n",
    " 'hist_installments_std',\n",
    " 'hist_installments_mode',\n",
    " 'hist_merchant_id_nunique',\n",
    " 'hist_merchant_id_nancnt',\n",
    " 'hist_merchant_category_id_trans_nunique',\n",
    " 'hist_merchant_category_id_trans_mode',\n",
    " 'hist_merchant_group_id_nunique',\n",
    " 'hist_merchant_group_id_mode',\n",
    " 'hist_merchant_category_id_merch_nunique',\n",
    " 'hist_merchant_category_id_merch_mode',\n",
    " 'hist_month_lag_min',\n",
    " 'hist_month_lag_max',\n",
    " 'hist_month_lag_mean',\n",
    " 'hist_most_recent_sales_range_sum',\n",
    " 'hist_most_recent_sales_range_max',\n",
    " 'hist_most_recent_sales_range_mode',\n",
    " 'hist_most_recent_purchases_range_sum',\n",
    " 'hist_most_recent_purchases_range_max',\n",
    " 'hist_most_recent_purchases_range_mode',\n",
    " 'hist_numerical_1_mean',\n",
    " 'hist_numerical_1_std',\n",
    " 'hist_numerical_1_mode',\n",
    " 'hist_numerical_2_mean',\n",
    " 'hist_numerical_2_std',\n",
    " 'hist_state_id_nunique',\n",
    " 'hist_state_id_mode',\n",
    " 'hist_subsector_id_trans_nunique',\n",
    " 'hist_subsector_id_trans_mode',\n",
    " 'hist_subsector_id_merch_nunique',\n",
    " 'hist_subsector_id_merch_mode',\n",
    " 'hist_purchase_amount_sum',\n",
    " 'hist_purchase_amount_mean',\n",
    " 'hist_purchase_amount_max',\n",
    " 'hist_purchase_amount_std',\n",
    " 'hist_purchase_year_mean',\n",
    " 'hist_purchase_year_median',\n",
    " 'hist_purchase_year_max',\n",
    " 'hist_purchase_year_mode',\n",
    " 'hist_purchase_month_mean',\n",
    " 'hist_purchase_month_median',\n",
    " 'hist_purchase_month_max',\n",
    " 'hist_purchase_month_min',\n",
    " 'hist_purchase_month_std',\n",
    " 'hist_purchase_month_mode',\n",
    " 'hist_purchase_day_mean',\n",
    " 'hist_purchase_day_median',\n",
    " 'hist_purchase_day_max',\n",
    " 'hist_purchase_day_min',\n",
    " 'hist_purchase_day_std',\n",
    " 'hist_purchase_day_mode',\n",
    " 'hist_purchase_hour_mean',\n",
    " 'hist_purchase_hour_median',\n",
    " 'hist_purchase_hour_max',\n",
    " 'hist_purchase_hour_min',\n",
    " 'hist_purchase_hour_std',\n",
    " 'hist_purchase_hour_mode',\n",
    " 'hist_purchase_weekofyear_mean',\n",
    " 'hist_purchase_weekofyear_median',\n",
    " 'hist_purchase_weekofyear_max',\n",
    " 'hist_purchase_weekofyear_min',\n",
    " 'hist_purchase_weekofyear_std',\n",
    " 'hist_purchase_weekofyear_mode',\n",
    " 'hist_purchase_dayofweek_median',\n",
    " 'hist_purchase_dayofweek_max',\n",
    " 'hist_purchase_dayofweek_min',\n",
    " 'hist_purchase_dayofweek_mode',\n",
    " 'hist_purchase_quarter_median',\n",
    " 'hist_purchase_quarter_max',\n",
    " 'hist_purchase_quarter_min',\n",
    " 'hist_purchase_quarter_mode',\n",
    " 'new_authorized_flag_sum',\n",
    " 'new_active_months_lag3_sum',\n",
    " 'new_active_months_lag3_mean',\n",
    " 'new_active_months_lag6_sum',\n",
    " 'new_active_months_lag12_sum',\n",
    " 'new_avg_sales_lag3_sum',\n",
    " 'new_avg_sales_lag3_mean',\n",
    " 'new_avg_sales_lag6_sum',\n",
    " 'new_avg_sales_lag6_mean',\n",
    " 'new_avg_sales_lag12_sum',\n",
    " 'new_avg_sales_lag12_mean',\n",
    " 'new_avg_purchases_lag3_sum',\n",
    " 'new_avg_purchases_lag3_mean',\n",
    " 'new_avg_purchases_lag6_sum',\n",
    " 'new_avg_purchases_lag6_mean',\n",
    " 'new_avg_purchases_lag12_sum',\n",
    " 'new_avg_purchases_lag12_mean',\n",
    " 'new_category_1_trans_sum',\n",
    " 'new_category_1_merch_sum',\n",
    " 'new_category_2_trans_sum',\n",
    " 'new_category_2_trans_mean',\n",
    " 'new_category_2_trans_nanperc',\n",
    " 'new_category_2_merch_sum',\n",
    " 'new_category_2_merch_nancnt',\n",
    " 'new_category_2_merch_nanperc',\n",
    " 'new_category_3_sum',\n",
    " 'new_category_3_nanperc',\n",
    " 'new_category_4_sum',\n",
    " 'new_city_id_nunique',\n",
    " 'new_city_id_mode',\n",
    " 'new_installments_sum',\n",
    " 'new_installments_max',\n",
    " 'new_installments_min',\n",
    " 'new_installments_mode',\n",
    " 'new_merchant_id_nunique',\n",
    " 'new_merchant_id_nancnt',\n",
    " 'new_merchant_id_nanperc',\n",
    " 'new_merchant_category_id_trans_nunique',\n",
    " 'new_merchant_category_id_trans_mode',\n",
    " 'new_merchant_group_id_nunique',\n",
    " 'new_merchant_group_id_mode',\n",
    " 'new_merchant_group_id_nanperc',\n",
    " 'new_merchant_category_id_merch_nunique',\n",
    " 'new_merchant_category_id_merch_mode',\n",
    " 'new_merchant_category_id_merch_nanperc',\n",
    " 'new_month_lag_min',\n",
    " 'new_month_lag_max',\n",
    " 'new_most_recent_sales_range_sum',\n",
    " 'new_most_recent_sales_range_max',\n",
    " 'new_most_recent_sales_range_mode',\n",
    " 'new_most_recent_purchases_range_sum',\n",
    " 'new_most_recent_purchases_range_max',\n",
    " 'new_most_recent_purchases_range_min',\n",
    " 'new_most_recent_purchases_range_mode',\n",
    " 'new_numerical_1_mean',\n",
    " 'new_numerical_1_median',\n",
    " 'new_numerical_1_max',\n",
    " 'new_numerical_1_std',\n",
    " 'new_numerical_2_mean',\n",
    " 'new_numerical_2_median',\n",
    " 'new_numerical_2_max',\n",
    " 'new_numerical_2_std',\n",
    " 'new_state_id_nunique',\n",
    " 'new_state_id_mode',\n",
    " 'new_subsector_id_trans_nunique',\n",
    " 'new_subsector_id_trans_mode',\n",
    " 'new_subsector_id_merch_nunique',\n",
    " 'new_subsector_id_merch_mode',\n",
    " 'new_subsector_id_merch_nanperc',\n",
    " 'new_purchase_amount_sum',\n",
    " 'new_purchase_year_mean',\n",
    " 'new_purchase_year_median',\n",
    " 'new_purchase_year_max',\n",
    " 'new_purchase_year_min',\n",
    " 'new_purchase_year_mode',\n",
    " 'new_purchase_month_mean',\n",
    " 'new_purchase_month_median',\n",
    " 'new_purchase_month_max',\n",
    " 'new_purchase_month_min',\n",
    " 'new_purchase_month_mode',\n",
    " 'new_purchase_day_mean',\n",
    " 'new_purchase_day_median',\n",
    " 'new_purchase_day_max',\n",
    " 'new_purchase_day_min',\n",
    " 'new_purchase_day_std',\n",
    " 'new_purchase_day_mode',\n",
    " 'new_purchase_hour_mean',\n",
    " 'new_purchase_hour_median',\n",
    " 'new_purchase_hour_max',\n",
    " 'new_purchase_hour_min',\n",
    " 'new_purchase_hour_std',\n",
    " 'new_purchase_hour_mode',\n",
    " 'new_purchase_weekofyear_mean',\n",
    " 'new_purchase_weekofyear_median',\n",
    " 'new_purchase_weekofyear_max',\n",
    " 'new_purchase_weekofyear_min',\n",
    " 'new_purchase_weekofyear_std',\n",
    " 'new_purchase_weekofyear_mode',\n",
    " 'new_purchase_dayofweek_mean',\n",
    " 'new_purchase_dayofweek_median',\n",
    " 'new_purchase_dayofweek_max',\n",
    " 'new_purchase_dayofweek_min',\n",
    " 'new_purchase_dayofweek_mode',\n",
    " 'new_purchase_quarter_mean',\n",
    " 'new_purchase_quarter_median',\n",
    " 'new_purchase_quarter_max',\n",
    " 'new_purchase_quarter_min',\n",
    " 'new_purchase_quarter_mode',\n",
    " 'is_outlier']\n",
    "X_train, X_test = train_test_split(df_train[cols], test_size=0.2, random_state=42)\n",
    "X_train = X_train[X_train['is_outlier'] == 0]\n",
    "X_train = X_train.drop(['is_outlier'], axis=1)\n",
    "\n",
    "y_test = X_test['is_outlier']\n",
    "\n",
    "X_test = X_test.drop(['is_outlier'], axis=1)\n",
    "X_train = X_train.values\n",
    "X_test = X_test.values\n",
    "X_train.shape"
   ]
  },
  {
   "cell_type": "code",
   "execution_count": 24,
   "metadata": {},
   "outputs": [],
   "source": [
    "input_dim = X_train.shape[1]\n",
    "encoding_dim = 10\n",
    "\n",
    "input_layer = Input(shape=(input_dim, ))\n",
    "encoder = Dense(encoding_dim, activation=\"tanh\", activity_regularizer=regularizers.l1(10e-2))(input_layer)\n",
    "encoder = Dense(int(encoding_dim / 2), activation=\"relu\")(encoder)\n",
    "decoder = Dense(int(encoding_dim / 2), activation='tanh')(encoder)\n",
    "decoder = Dense(input_dim, activation='relu')(decoder)\n",
    "autoencoder = Model(inputs=input_layer, outputs=decoder)"
   ]
  },
  {
   "cell_type": "code",
   "execution_count": 25,
   "metadata": {},
   "outputs": [
    {
     "name": "stdout",
     "output_type": "stream",
     "text": [
      "Train on 117289 samples, validate on 29544 samples\n",
      "Epoch 1/100\n",
      "117289/117289 [==============================] - 7s 58us/step - loss: 2.8315 - acc: 0.0041 - val_loss: 1.6591 - val_acc: 0.0028\n",
      "Epoch 2/100\n",
      "117289/117289 [==============================] - 7s 55us/step - loss: 1.5027 - acc: 0.0037 - val_loss: 1.6220 - val_acc: 0.0047\n",
      "Epoch 3/100\n",
      "117289/117289 [==============================] - 6s 54us/step - loss: 1.4705 - acc: 0.0083 - val_loss: 1.5709 - val_acc: 0.0117\n",
      "Epoch 4/100\n",
      "117289/117289 [==============================] - 7s 56us/step - loss: 1.4470 - acc: 0.0128 - val_loss: 1.5616 - val_acc: 0.0155\n",
      "Epoch 5/100\n",
      "117289/117289 [==============================] - 7s 59us/step - loss: 1.4357 - acc: 0.0136 - val_loss: 1.5427 - val_acc: 0.0100\n",
      "Epoch 6/100\n",
      "117289/117289 [==============================] - 9s 74us/step - loss: 1.4296 - acc: 0.0133 - val_loss: 1.4950 - val_acc: 0.0136\n",
      "Epoch 7/100\n",
      "117289/117289 [==============================] - 7s 63us/step - loss: 1.4284 - acc: 0.0136 - val_loss: 1.4725 - val_acc: 0.0124\n",
      "Epoch 8/100\n",
      "117289/117289 [==============================] - 6s 55us/step - loss: 1.4266 - acc: 0.0136 - val_loss: 1.5106 - val_acc: 0.0123\n",
      "Epoch 9/100\n",
      "117289/117289 [==============================] - 7s 59us/step - loss: 1.4290 - acc: 0.0134 - val_loss: 1.5406 - val_acc: 0.0133\n",
      "Epoch 10/100\n",
      "117289/117289 [==============================] - 6s 54us/step - loss: 1.4234 - acc: 0.0136 - val_loss: 1.4908 - val_acc: 0.0136\n",
      "Epoch 11/100\n",
      "117289/117289 [==============================] - 7s 56us/step - loss: 1.4236 - acc: 0.0133 - val_loss: 1.4853 - val_acc: 0.0128\n",
      "Epoch 12/100\n",
      "117289/117289 [==============================] - 6s 55us/step - loss: 1.4262 - acc: 0.0139 - val_loss: 1.4948 - val_acc: 0.0085\n",
      "Epoch 13/100\n",
      "117289/117289 [==============================] - 6s 55us/step - loss: 1.4358 - acc: 0.0142 - val_loss: 1.4635 - val_acc: 0.0145\n",
      "Epoch 14/100\n",
      "117289/117289 [==============================] - 7s 56us/step - loss: 1.4179 - acc: 0.0150 - val_loss: 1.4460 - val_acc: 0.0155\n",
      "Epoch 15/100\n",
      "117289/117289 [==============================] - 7s 56us/step - loss: 1.4262 - acc: 0.0141 - val_loss: 1.4682 - val_acc: 0.0109\n",
      "Epoch 16/100\n",
      "117289/117289 [==============================] - 7s 56us/step - loss: 1.4216 - acc: 0.0141 - val_loss: 1.4867 - val_acc: 0.0190\n",
      "Epoch 17/100\n",
      "117289/117289 [==============================] - 6s 55us/step - loss: 1.4224 - acc: 0.0153 - val_loss: 1.5035 - val_acc: 0.0127\n",
      "Epoch 18/100\n",
      "117289/117289 [==============================] - 7s 56us/step - loss: 1.4232 - acc: 0.0152 - val_loss: 1.4507 - val_acc: 0.0154\n",
      "Epoch 19/100\n",
      "117289/117289 [==============================] - 7s 56us/step - loss: 1.4213 - acc: 0.0158 - val_loss: 1.5525 - val_acc: 0.0064\n",
      "Epoch 20/100\n",
      "117289/117289 [==============================] - 7s 56us/step - loss: 1.4210 - acc: 0.0165 - val_loss: 1.5380 - val_acc: 0.0225\n",
      "Epoch 21/100\n",
      "117289/117289 [==============================] - 7s 59us/step - loss: 1.4192 - acc: 0.0165 - val_loss: 1.4262 - val_acc: 0.0128\n",
      "Epoch 22/100\n",
      "117289/117289 [==============================] - 8s 64us/step - loss: 1.4191 - acc: 0.0172 - val_loss: 1.4364 - val_acc: 0.0155\n",
      "Epoch 23/100\n",
      "117289/117289 [==============================] - 7s 58us/step - loss: 1.4206 - acc: 0.0169 - val_loss: 1.4438 - val_acc: 0.0153\n",
      "Epoch 24/100\n",
      "117289/117289 [==============================] - 7s 56us/step - loss: 1.4056 - acc: 0.0173 - val_loss: 1.4907 - val_acc: 0.0127\n",
      "Epoch 25/100\n",
      "117289/117289 [==============================] - 7s 56us/step - loss: 1.4092 - acc: 0.0174 - val_loss: 1.4627 - val_acc: 0.0267\n",
      "Epoch 26/100\n",
      "117289/117289 [==============================] - 7s 57us/step - loss: 1.4165 - acc: 0.0174 - val_loss: 1.4397 - val_acc: 0.0178\n",
      "Epoch 27/100\n",
      "117289/117289 [==============================] - 7s 56us/step - loss: 1.4121 - acc: 0.0179 - val_loss: 1.4785 - val_acc: 0.0162\n",
      "Epoch 28/100\n",
      "117289/117289 [==============================] - 7s 57us/step - loss: 1.4034 - acc: 0.0167 - val_loss: 1.4887 - val_acc: 0.0137\n",
      "Epoch 29/100\n",
      "117289/117289 [==============================] - 7s 59us/step - loss: 1.4059 - acc: 0.0168 - val_loss: 1.4823 - val_acc: 0.0237\n",
      "Epoch 30/100\n",
      "117289/117289 [==============================] - 7s 57us/step - loss: 1.4017 - acc: 0.0177 - val_loss: 1.4586 - val_acc: 0.0178\n",
      "Epoch 31/100\n",
      "117289/117289 [==============================] - 7s 56us/step - loss: 1.4037 - acc: 0.0191 - val_loss: 1.4475 - val_acc: 0.0158\n"
     ]
    }
   ],
   "source": [
    "nb_epoch = 100\n",
    "batch_size = 32\n",
    "autoencoder.compile(optimizer='adam', loss='mean_squared_error', metrics=['accuracy'])\n",
    "checkpointer = ModelCheckpoint(filepath=\"model.h5\", verbose=0, save_best_only=True)\n",
    "earlystopping = EarlyStopping(monitor='val_loss', min_delta=0, patience=10, verbose=0, mode='auto', baseline=None, restore_best_weights=False)\n",
    "#tensorboard = TensorBoard(log_dir='./logs', histogram_freq=0, write_graph=True, write_images=True)\n",
    "history = autoencoder.fit(X_train, X_train,\n",
    "                    epochs=nb_epoch,\n",
    "                    batch_size=batch_size,\n",
    "                    shuffle=True,\n",
    "                    validation_data=(X_test, X_test),\n",
    "                    verbose=1,\n",
    "                    callbacks=[checkpointer, earlystopping]).history # tensorboard"
   ]
  },
  {
   "cell_type": "code",
   "execution_count": 26,
   "metadata": {
    "scrolled": false
   },
   "outputs": [
    {
     "data": {
      "image/png": "[encoded data removed]",
      "text/plain": [
       "<Figure size 1080x432 with 1 Axes>"
      ]
     },
     "metadata": {},
     "output_type": "display_data"
    }
   ],
   "source": [
    "plt.plot(history['loss'])\n",
    "plt.plot(history['val_loss'])\n",
    "plt.title('model loss')\n",
    "plt.ylabel('loss')\n",
    "plt.xlabel('epoch')\n",
    "plt.legend(['train', 'test'], loc='upper right');"
   ]
  },
  {
   "cell_type": "code",
   "execution_count": 27,
   "metadata": {},
   "outputs": [],
   "source": [
    "y_test = y_test.map({False: 0, True: 1})"
   ]
  },
  {
   "cell_type": "code",
   "execution_count": 28,
   "metadata": {},
   "outputs": [
    {
     "data": {
      "text/html": [
       "<div>\n",
       "<style scoped>\n",
       "    .dataframe tbody tr th:only-of-type {\n",
       "        vertical-align: middle;\n",
       "    }\n",
       "\n",
       "    .dataframe tbody tr th {\n",
       "        vertical-align: top;\n",
       "    }\n",
       "\n",
       "    .dataframe thead th {\n",
       "        text-align: right;\n",
       "    }\n",
       "</style>\n",
       "<table border=\"1\" class=\"dataframe\">\n",
       "  <thead>\n",
       "    <tr style=\"text-align: right;\">\n",
       "      <th></th>\n",
       "      <th>reconstruction_error</th>\n",
       "      <th>true_class</th>\n",
       "    </tr>\n",
       "  </thead>\n",
       "  <tbody>\n",
       "    <tr>\n",
       "      <th>count</th>\n",
       "      <td>29544.000000</td>\n",
       "      <td>29544.000000</td>\n",
       "    </tr>\n",
       "    <tr>\n",
       "      <th>mean</th>\n",
       "      <td>0.899982</td>\n",
       "      <td>0.008123</td>\n",
       "    </tr>\n",
       "    <tr>\n",
       "      <th>std</th>\n",
       "      <td>6.255638</td>\n",
       "      <td>0.089765</td>\n",
       "    </tr>\n",
       "    <tr>\n",
       "      <th>min</th>\n",
       "      <td>0.219441</td>\n",
       "      <td>0.000000</td>\n",
       "    </tr>\n",
       "    <tr>\n",
       "      <th>25%</th>\n",
       "      <td>0.500056</td>\n",
       "      <td>0.000000</td>\n",
       "    </tr>\n",
       "    <tr>\n",
       "      <th>50%</th>\n",
       "      <td>0.675716</td>\n",
       "      <td>0.000000</td>\n",
       "    </tr>\n",
       "    <tr>\n",
       "      <th>75%</th>\n",
       "      <td>0.932704</td>\n",
       "      <td>0.000000</td>\n",
       "    </tr>\n",
       "    <tr>\n",
       "      <th>max</th>\n",
       "      <td>898.442901</td>\n",
       "      <td>1.000000</td>\n",
       "    </tr>\n",
       "  </tbody>\n",
       "</table>\n",
       "</div>"
      ],
      "text/plain": [
       "       reconstruction_error    true_class\n",
       "count          29544.000000  29544.000000\n",
       "mean               0.899982      0.008123\n",
       "std                6.255638      0.089765\n",
       "min                0.219441      0.000000\n",
       "25%                0.500056      0.000000\n",
       "50%                0.675716      0.000000\n",
       "75%                0.932704      0.000000\n",
       "max              898.442901      1.000000"
      ]
     },
     "execution_count": 28,
     "metadata": {},
     "output_type": "execute_result"
    }
   ],
   "source": [
    "predictions = autoencoder.predict(X_test)\n",
    "mse = np.mean(np.power(X_test - predictions, 2), axis=1)\n",
    "error_df = pd.DataFrame({\n",
    "    'reconstruction_error': mse,\n",
    "    'true_class': y_test\n",
    "})\n",
    "error_df.describe()"
   ]
  },
  {
   "cell_type": "code",
   "execution_count": 29,
   "metadata": {},
   "outputs": [
    {
     "data": {
      "text/plain": [
       "Text(0.5, 1.0, 'Reconstruction error without outliers')"
      ]
     },
     "execution_count": 29,
     "metadata": {},
     "output_type": "execute_result"
    },
    {
     "data": {
      "image/png": "[encoded data removed]",
      "text/plain": [
       "<Figure size 1080x432 with 1 Axes>"
      ]
     },
     "metadata": {},
     "output_type": "display_data"
    }
   ],
   "source": [
    "fig = plt.figure()\n",
    "ax = fig.add_subplot(111)\n",
    "normal_error_df = error_df[(error_df['true_class']== 0) & (error_df['reconstruction_error'] < 10)]\n",
    "_ = ax.hist(normal_error_df.reconstruction_error.values, bins=10)\n",
    "ax.set_title('Reconstruction error without outliers')"
   ]
  },
  {
   "cell_type": "code",
   "execution_count": 30,
   "metadata": {},
   "outputs": [
    {
     "data": {
      "text/plain": [
       "Text(0.5, 1.0, 'Reconstruction error with outliers')"
      ]
     },
     "execution_count": 30,
     "metadata": {},
     "output_type": "execute_result"
    },
    {
     "data": {
      "image/png": "[encoded data removed]",
      "text/plain": [
       "<Figure size 1080x432 with 1 Axes>"
      ]
     },
     "metadata": {},
     "output_type": "display_data"
    }
   ],
   "source": [
    "fig = plt.figure()\n",
    "ax = fig.add_subplot(111)\n",
    "fraud_error_df = error_df[error_df['true_class'] == 1]\n",
    "_ = ax.hist(fraud_error_df.reconstruction_error.values, bins=10)\n",
    "ax.set_title('Reconstruction error with outliers')"
   ]
  },
  {
   "cell_type": "code",
   "execution_count": 31,
   "metadata": {},
   "outputs": [
    {
     "data": {
      "image/png": "[encoded data removed]",
      "text/plain": [
       "<Figure size 1080x432 with 1 Axes>"
      ]
     },
     "metadata": {},
     "output_type": "display_data"
    }
   ],
   "source": [
    "fpr, tpr, thresholds = roc_curve(error_df.true_class, error_df.reconstruction_error)\n",
    "roc_auc = auc(fpr, tpr)\n",
    "\n",
    "plt.title('Receiver Operating Characteristic')\n",
    "plt.plot(fpr, tpr, label='AUC = %0.4f'% roc_auc)\n",
    "plt.legend(loc='lower right')\n",
    "plt.plot([0,1],[0,1],'r--')\n",
    "plt.xlim([-0.001, 1])\n",
    "plt.ylim([0, 1.001])\n",
    "plt.ylabel('True Positive Rate')\n",
    "plt.xlabel('False Positive Rate')\n",
    "plt.show();"
   ]
  },
  {
   "cell_type": "code",
   "execution_count": 32,
   "metadata": {},
   "outputs": [
    {
     "data": {
      "image/png": "[encoded data removed]",
      "text/plain": [
       "<Figure size 1080x432 with 1 Axes>"
      ]
     },
     "metadata": {},
     "output_type": "display_data"
    }
   ],
   "source": [
    "precision, recall, th = precision_recall_curve(error_df.true_class, error_df.reconstruction_error)\n",
    "plt.plot(recall, precision, 'b', label='Precision-Recall curve')\n",
    "plt.title('Recall vs Precision')\n",
    "plt.xlabel('Recall')\n",
    "plt.ylabel('Precision')\n",
    "plt.show()"
   ]
  },
  {
   "cell_type": "code",
   "execution_count": 33,
   "metadata": {},
   "outputs": [
    {
     "data": {
      "image/png": "[encoded data removed]",
      "text/plain": [
       "<Figure size 1080x432 with 1 Axes>"
      ]
     },
     "metadata": {},
     "output_type": "display_data"
    }
   ],
   "source": [
    "plt.plot(th, precision[1:], 'b', label='Threshold-Precision curve')\n",
    "plt.title('Precision for different threshold values')\n",
    "plt.xlabel('Threshold')\n",
    "plt.ylabel('Precision')\n",
    "plt.show()"
   ]
  },
  {
   "cell_type": "code",
   "execution_count": 34,
   "metadata": {},
   "outputs": [
    {
     "data": {
      "image/png": "[encoded data removed]",
      "text/plain": [
       "<Figure size 1080x432 with 1 Axes>"
      ]
     },
     "metadata": {},
     "output_type": "display_data"
    }
   ],
   "source": [
    "plt.plot(th, recall[1:], 'b', label='Threshold-Recall curve')\n",
    "plt.title('Recall for different threshold values')\n",
    "plt.xlabel('Reconstruction error')\n",
    "plt.ylabel('Recall')\n",
    "plt.show()"
   ]
  },
  {
   "cell_type": "code",
   "execution_count": 50,
   "metadata": {},
   "outputs": [],
   "source": [
    "threshold = 1"
   ]
  },
  {
   "cell_type": "code",
   "execution_count": 51,
   "metadata": {},
   "outputs": [
    {
     "data": {
      "image/png": "[encoded data removed]",
      "text/plain": [
       "<Figure size 1080x432 with 1 Axes>"
      ]
     },
     "metadata": {},
     "output_type": "display_data"
    }
   ],
   "source": [
    "groups = error_df.groupby('true_class')\n",
    "fig, ax = plt.subplots()\n",
    "\n",
    "for name, group in groups:\n",
    "    ax.plot(group.index, group.reconstruction_error, marker='o', ms=3.5, linestyle='',\n",
    "            label= \"Fraud\" if name == 1 else \"Normal\")\n",
    "ax.hlines(threshold, ax.get_xlim()[0], ax.get_xlim()[1], colors=\"r\", zorder=100, label='Threshold')\n",
    "ax.legend()\n",
    "plt.title(\"Reconstruction error for different classes\")\n",
    "plt.ylabel(\"Reconstruction error\")\n",
    "plt.xlabel(\"Data point index\")\n",
    "plt.show();"
   ]
  },
  {
   "cell_type": "code",
   "execution_count": 52,
   "metadata": {},
   "outputs": [
    {
     "data": {
      "image/png": "[encoded data removed]",
      "text/plain": [
       "<Figure size 864x864 with 2 Axes>"
      ]
     },
     "metadata": {},
     "output_type": "display_data"
    }
   ],
   "source": [
    "y_pred = [1 if e > threshold else 0 for e in error_df.reconstruction_error.values]\n",
    "conf_matrix = confusion_matrix(error_df.true_class, y_pred)\n",
    "plt.figure(figsize=(12, 12))\n",
    "sns.heatmap(conf_matrix, xticklabels=[\"Normal\", \"Outlier\"], yticklabels=[\"Normal\", \"Outlier\"], annot=True, fmt=\"d\");\n",
    "plt.title(\"Confusion matrix\")\n",
    "plt.ylabel('True class')\n",
    "plt.xlabel('Predicted class')\n",
    "plt.show()"
   ]
  },
  {
   "cell_type": "code",
   "execution_count": null,
   "metadata": {},
   "outputs": [],
   "source": []
  }
 ],
 "metadata": {
  "kernelspec": {
   "display_name": "Python 3",
   "language": "python",
   "name": "python3"
  },
  "language_info": {
   "codemirror_mode": {
    "name": "ipython",
    "version": 3
   },
   "file_extension": ".py",
   "mimetype": "text/x-python",
   "name": "python",
   "nbconvert_exporter": "python",
   "pygments_lexer": "ipython3",
   "version": "3.6.0"
  },
  "toc": {
   "base_numbering": 1,
   "nav_menu": {},
   "number_sections": true,
   "sideBar": true,
   "skip_h1_title": true,
   "title_cell": "Table of Contents",
   "title_sidebar": "Contents",
   "toc_cell": true,
   "toc_position": {},
   "toc_section_display": true,
   "toc_window_display": false
  }
 },
 "nbformat": 4,
 "nbformat_minor": 2
}
