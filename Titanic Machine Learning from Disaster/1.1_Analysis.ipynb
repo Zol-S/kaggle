{
 "cells": [
  {
   "cell_type": "markdown",
   "metadata": {},
   "source": [
    "# Titanic: Machine Learning from Disaster - Exploratory Data Analysis\n",
    "\n",
    "The input files are available from the [download](https://www.kaggle.com/c/titanic/data) section of the contest:\n",
    "\n",
    "**Data Dictionary**\n",
    "- survival (Survival): 0 = No, 1 = Yes\n",
    "- pclass (Ticket class): 1 = 1st, 2 = 2nd, 3 = 3rd\n",
    "- sex (Sex)\t\n",
    "- Age (Age in years)\t\n",
    "- sibsp (# of siblings / spouses aboard the Titanic)\n",
    "- parch (# of parents / children aboard the Titanic)\n",
    "- ticket (Ticket number)\n",
    "- fare (Passenger fare)\n",
    "- cabin (Cabin number)\n",
    "- embarked (Port of Embarkation): C = Cherbourg, Q = Queenstown, S = Southampton\n",
    "\n",
    "**Variable Notes**\n",
    "- pclass: A proxy for socio-economic status (SES)\n",
    "    - 1st = Upper\n",
    "    - 2nd = Middle\n",
    "    - 3rd = Lower\n",
    "- age: Age is fractional if less than 1. If the age is estimated, is it in the form of xx.5\n",
    "- sibsp: The dataset defines family relations in this way...\n",
    "    - Sibling = brother, sister, stepbrother, stepsister\n",
    "    - Spouse = husband, wife (mistresses and fiancés were ignored)\n",
    "\n",
    "- parch: The dataset defines family relations in this way...\n",
    "    - Parent = mother, father\n",
    "    - Child = daughter, son, stepdaughter, stepson\n",
    "\n",
    "Some children travelled only with a nanny, therefore parch=0 for them.\n",
    "\n",
    "Inspired by [A Data Science Framework: To Achieve 99% Accuracy](https://www.kaggle.com/ldfreeman3/a-data-science-framework-to-achieve-99-accuracy)"
   ]
  },
  {
   "cell_type": "markdown",
   "metadata": {},
   "source": [
    "## Data import"
   ]
  },
  {
   "cell_type": "code",
   "execution_count": 58,
   "metadata": {},
   "outputs": [],
   "source": [
    "import gc\n",
    "import time\n",
    "import random\n",
    "import warnings\n",
    "import numpy as np\n",
    "import pandas as pd\n",
    "import seaborn as sns\n",
    "import xgboost as xgb\n",
    "import lightgbm as lgb\n",
    "from scipy import interp\n",
    "from itertools import cycle\n",
    "import matplotlib.pyplot as plt\n",
    "from sklearn import preprocessing\n",
    "from sklearn.manifold import TSNE\n",
    "from xgboost import XGBClassifier\n",
    "from sklearn import model_selection\n",
    "from sklearn import feature_selection\n",
    "from sklearn.decomposition import PCA\n",
    "from catboost import CatBoostRegressor\n",
    "from sklearn.linear_model import Ridge\n",
    "from sklearn.model_selection import StratifiedKFold, KFold, train_test_split\n",
    "from sklearn.metrics import confusion_matrix, roc_auc_score, mean_squared_error, roc_curve, auc\n",
    "from sklearn import svm, tree, linear_model, neighbors, naive_bayes, ensemble, discriminant_analysis, gaussian_process\n",
    "\n",
    "random.seed(1)\n",
    "warnings.filterwarnings(\"ignore\")\n",
    "\n",
    "sns.set(rc={'figure.figsize':(15, 6)})"
   ]
  },
  {
   "cell_type": "code",
   "execution_count": 2,
   "metadata": {},
   "outputs": [],
   "source": [
    "def reduce_memory_usage(df, verbose=True):\n",
    "    numerics = ['int16', 'int32', 'int64', 'float16', 'float32', 'float64']\n",
    "    start_mem = df.memory_usage().sum() / 1024**2\n",
    "    if verbose: print('Starting memory usage: {:5.2f} MB'.format(start_mem))\n",
    "\n",
    "    for col in df.columns:\n",
    "        col_type = df[col].dtypes\n",
    "        if col_type in numerics:\n",
    "            c_min = df[col].min()\n",
    "            c_max = df[col].max()\n",
    "            if str(col_type)[:3] == 'int':\n",
    "                if c_min >= np.iinfo(np.int8).min and c_max <= np.iinfo(np.int8).max:\n",
    "                    df[col] = df[col].astype(np.int8)\n",
    "                elif c_min >= np.iinfo(np.int16).min and c_max <= np.iinfo(np.int16).max:\n",
    "                    df[col] = df[col].astype(np.int16)\n",
    "                elif c_min >= np.iinfo(np.int32).min and c_max <= np.iinfo(np.int32).max:\n",
    "                    df[col] = df[col].astype(np.int32)\n",
    "                elif c_min >= np.iinfo(np.int64).min and c_max <= np.iinfo(np.int64).max:\n",
    "                    df[col] = df[col].astype(np.int64)  \n",
    "            else:\n",
    "                if c_min >= np.finfo(np.float16).min and c_max <= np.finfo(np.float16).max:\n",
    "                    df[col] = df[col].astype(np.float16)\n",
    "                elif c_min >= np.finfo(np.float32).min and c_max <= np.finfo(np.float32).max:\n",
    "                    df[col] = df[col].astype(np.float32)\n",
    "                else:\n",
    "                    df[col] = df[col].astype(np.float64)    \n",
    "    end_mem = df.memory_usage().sum() / 1024**2\n",
    "    if verbose: print('Reduced memory usage: {:5.2f} MB ({:.1f}% reduction)'.format(end_mem, 100 * (start_mem - end_mem) / start_mem))\n",
    "    return df"
   ]
  },
  {
   "cell_type": "code",
   "execution_count": 3,
   "metadata": {},
   "outputs": [
    {
     "name": "stdout",
     "output_type": "stream",
     "text": [
      "Starting memory usage:  0.07 MB\n",
      "Reduced memory usage:  0.04 MB (45.5% reduction)\n",
      "891 records and 10 features in train set.\n"
     ]
    }
   ],
   "source": [
    "df_train = pd.read_csv('input/train.csv', index_col='PassengerId', usecols=['PassengerId', 'Survived', 'Name', 'Pclass', 'Sex', 'Age', 'SibSp', 'Parch', 'Fare', 'Cabin', 'Embarked'])\n",
    "df_train = reduce_memory_usage(df_train)\n",
    "print(\"{:,} records and {} features in train set.\".format(df_train.shape[0], df_train.shape[1]))"
   ]
  },
  {
   "cell_type": "code",
   "execution_count": 4,
   "metadata": {},
   "outputs": [
    {
     "name": "stdout",
     "output_type": "stream",
     "text": [
      "Starting memory usage:  0.03 MB\n",
      "Reduced memory usage:  0.02 MB (41.2% reduction)\n",
      "418 records and 9 features in test set.\n"
     ]
    }
   ],
   "source": [
    "df_test = pd.read_csv('input/test.csv', index_col='PassengerId', usecols=['PassengerId', 'Name', 'Pclass', 'Sex', 'Age', 'SibSp', 'Parch', 'Fare', 'Cabin', 'Embarked'])\n",
    "df_test = reduce_memory_usage(df_test)\n",
    "print(\"{:,} records and {} features in test set.\".format(df_test.shape[0], df_test.shape[1]))"
   ]
  },
  {
   "cell_type": "markdown",
   "metadata": {},
   "source": [
    "## Exploratory Data Analysis"
   ]
  },
  {
   "cell_type": "code",
   "execution_count": 5,
   "metadata": {},
   "outputs": [
    {
     "data": {
      "text/html": [
       "<div>\n",
       "<style scoped>\n",
       "    .dataframe tbody tr th:only-of-type {\n",
       "        vertical-align: middle;\n",
       "    }\n",
       "\n",
       "    .dataframe tbody tr th {\n",
       "        vertical-align: top;\n",
       "    }\n",
       "\n",
       "    .dataframe thead th {\n",
       "        text-align: right;\n",
       "    }\n",
       "</style>\n",
       "<table border=\"1\" class=\"dataframe\">\n",
       "  <thead>\n",
       "    <tr style=\"text-align: right;\">\n",
       "      <th></th>\n",
       "      <th>Survived</th>\n",
       "      <th>Pclass</th>\n",
       "      <th>Name</th>\n",
       "      <th>Sex</th>\n",
       "      <th>Age</th>\n",
       "      <th>SibSp</th>\n",
       "      <th>Parch</th>\n",
       "      <th>Fare</th>\n",
       "      <th>Cabin</th>\n",
       "      <th>Embarked</th>\n",
       "    </tr>\n",
       "    <tr>\n",
       "      <th>PassengerId</th>\n",
       "      <th></th>\n",
       "      <th></th>\n",
       "      <th></th>\n",
       "      <th></th>\n",
       "      <th></th>\n",
       "      <th></th>\n",
       "      <th></th>\n",
       "      <th></th>\n",
       "      <th></th>\n",
       "      <th></th>\n",
       "    </tr>\n",
       "  </thead>\n",
       "  <tbody>\n",
       "    <tr>\n",
       "      <th>1</th>\n",
       "      <td>0</td>\n",
       "      <td>3</td>\n",
       "      <td>Braund, Mr. Owen Harris</td>\n",
       "      <td>male</td>\n",
       "      <td>22.0</td>\n",
       "      <td>1</td>\n",
       "      <td>0</td>\n",
       "      <td>7.250000</td>\n",
       "      <td>NaN</td>\n",
       "      <td>S</td>\n",
       "    </tr>\n",
       "    <tr>\n",
       "      <th>2</th>\n",
       "      <td>1</td>\n",
       "      <td>1</td>\n",
       "      <td>Cumings, Mrs. John Bradley (Florence Briggs Th...</td>\n",
       "      <td>female</td>\n",
       "      <td>38.0</td>\n",
       "      <td>1</td>\n",
       "      <td>0</td>\n",
       "      <td>71.312500</td>\n",
       "      <td>C85</td>\n",
       "      <td>C</td>\n",
       "    </tr>\n",
       "    <tr>\n",
       "      <th>3</th>\n",
       "      <td>1</td>\n",
       "      <td>3</td>\n",
       "      <td>Heikkinen, Miss. Laina</td>\n",
       "      <td>female</td>\n",
       "      <td>26.0</td>\n",
       "      <td>0</td>\n",
       "      <td>0</td>\n",
       "      <td>7.925781</td>\n",
       "      <td>NaN</td>\n",
       "      <td>S</td>\n",
       "    </tr>\n",
       "  </tbody>\n",
       "</table>\n",
       "</div>"
      ],
      "text/plain": [
       "             Survived  Pclass  \\\n",
       "PassengerId                     \n",
       "1                   0       3   \n",
       "2                   1       1   \n",
       "3                   1       3   \n",
       "\n",
       "                                                          Name     Sex   Age  \\\n",
       "PassengerId                                                                    \n",
       "1                                      Braund, Mr. Owen Harris    male  22.0   \n",
       "2            Cumings, Mrs. John Bradley (Florence Briggs Th...  female  38.0   \n",
       "3                                       Heikkinen, Miss. Laina  female  26.0   \n",
       "\n",
       "             SibSp  Parch       Fare Cabin Embarked  \n",
       "PassengerId                                          \n",
       "1                1      0   7.250000   NaN        S  \n",
       "2                1      0  71.312500   C85        C  \n",
       "3                0      0   7.925781   NaN        S  "
      ]
     },
     "execution_count": 5,
     "metadata": {},
     "output_type": "execute_result"
    }
   ],
   "source": [
    "df_train[:3]"
   ]
  },
  {
   "cell_type": "code",
   "execution_count": 6,
   "metadata": {},
   "outputs": [
    {
     "data": {
      "text/plain": [
       "Survived    891\n",
       "Pclass      891\n",
       "Name        891\n",
       "Sex         891\n",
       "Age         714\n",
       "SibSp       891\n",
       "Parch       891\n",
       "Fare        891\n",
       "Cabin       204\n",
       "Embarked    889\n",
       "dtype: int64"
      ]
     },
     "execution_count": 6,
     "metadata": {},
     "output_type": "execute_result"
    }
   ],
   "source": [
    "df_train.count()"
   ]
  },
  {
   "cell_type": "code",
   "execution_count": 7,
   "metadata": {},
   "outputs": [
    {
     "data": {
      "text/plain": [
       "Pclass      418\n",
       "Name        418\n",
       "Sex         418\n",
       "Age         332\n",
       "SibSp       418\n",
       "Parch       418\n",
       "Fare        417\n",
       "Cabin        91\n",
       "Embarked    418\n",
       "dtype: int64"
      ]
     },
     "execution_count": 7,
     "metadata": {},
     "output_type": "execute_result"
    }
   ],
   "source": [
    "df_test.count()"
   ]
  },
  {
   "cell_type": "markdown",
   "metadata": {},
   "source": [
    "### Age"
   ]
  },
  {
   "cell_type": "code",
   "execution_count": 8,
   "metadata": {},
   "outputs": [
    {
     "data": {
      "text/plain": [
       "<matplotlib.axes._subplots.AxesSubplot at 0x7ff17c939c18>"
      ]
     },
     "execution_count": 8,
     "metadata": {},
     "output_type": "execute_result"
    },
    {
     "data": {
      "image/png": "[encoded data removed]",
      "text/plain": [
       "<matplotlib.figure.Figure at 0x7ff17c96a080>"
      ]
     },
     "metadata": {
      "needs_background": "light"
     },
     "output_type": "display_data"
    }
   ],
   "source": [
    "fig, ax = plt.subplots(1, 2, sharey='row', figsize=(15, 6))\n",
    "fig.subplots_adjust(wspace=0.05)\n",
    "\n",
    "ax[0].set_title(\"Died\")\n",
    "ax[0].set_xlabel('Age')\n",
    "ax[0].set_ylabel('Number of passengers')\n",
    "df_train[df_train['Survived'] == 0]['Age'].hist(bins=10, ax=ax[0])\n",
    "\n",
    "ax[1].set_title(\"Survived\")\n",
    "ax[1].set_xlabel('Age')\n",
    "df_train[df_train['Survived'] == 1]['Age'].hist(bins=10, ax=ax[1])"
   ]
  },
  {
   "cell_type": "code",
   "execution_count": 9,
   "metadata": {},
   "outputs": [
    {
     "name": "stdout",
     "output_type": "stream",
     "text": [
      "Average age of the died passangers: 30.62\n",
      "Average age of the survived passangers: 28.33\n"
     ]
    }
   ],
   "source": [
    "mean_d = df_train[df_train['Survived'] == 0]['Age'].mean()\n",
    "mean_s = df_train[df_train['Survived'] == 1]['Age'].mean()\n",
    "print('Average age of the died passangers: {:.2f}'.format(mean_d))\n",
    "print('Average age of the survived passangers: {:.2f}'.format(mean_s))"
   ]
  },
  {
   "cell_type": "code",
   "execution_count": 10,
   "metadata": {},
   "outputs": [],
   "source": [
    "df_train[df_train['Survived'] == 0]['Age'] = mean_d\n",
    "df_train[df_train['Survived'] == 1]['Age'] = mean_s"
   ]
  },
  {
   "cell_type": "code",
   "execution_count": 11,
   "metadata": {},
   "outputs": [
    {
     "data": {
      "text/html": [
       "<div>\n",
       "<style scoped>\n",
       "    .dataframe tbody tr th:only-of-type {\n",
       "        vertical-align: middle;\n",
       "    }\n",
       "\n",
       "    .dataframe tbody tr th {\n",
       "        vertical-align: top;\n",
       "    }\n",
       "\n",
       "    .dataframe thead th {\n",
       "        text-align: right;\n",
       "    }\n",
       "</style>\n",
       "<table border=\"1\" class=\"dataframe\">\n",
       "  <thead>\n",
       "    <tr style=\"text-align: right;\">\n",
       "      <th></th>\n",
       "      <th>Survived</th>\n",
       "      <th>Pclass</th>\n",
       "      <th>Name</th>\n",
       "      <th>Sex</th>\n",
       "      <th>Age</th>\n",
       "      <th>SibSp</th>\n",
       "      <th>Parch</th>\n",
       "      <th>Fare</th>\n",
       "      <th>Cabin</th>\n",
       "      <th>Embarked</th>\n",
       "    </tr>\n",
       "    <tr>\n",
       "      <th>PassengerId</th>\n",
       "      <th></th>\n",
       "      <th></th>\n",
       "      <th></th>\n",
       "      <th></th>\n",
       "      <th></th>\n",
       "      <th></th>\n",
       "      <th></th>\n",
       "      <th></th>\n",
       "      <th></th>\n",
       "      <th></th>\n",
       "    </tr>\n",
       "  </thead>\n",
       "  <tbody>\n",
       "    <tr>\n",
       "      <th>6</th>\n",
       "      <td>0</td>\n",
       "      <td>3</td>\n",
       "      <td>Moran, Mr. James</td>\n",
       "      <td>male</td>\n",
       "      <td>NaN</td>\n",
       "      <td>0</td>\n",
       "      <td>0</td>\n",
       "      <td>8.460938</td>\n",
       "      <td>NaN</td>\n",
       "      <td>Q</td>\n",
       "    </tr>\n",
       "    <tr>\n",
       "      <th>18</th>\n",
       "      <td>1</td>\n",
       "      <td>2</td>\n",
       "      <td>Williams, Mr. Charles Eugene</td>\n",
       "      <td>male</td>\n",
       "      <td>NaN</td>\n",
       "      <td>0</td>\n",
       "      <td>0</td>\n",
       "      <td>13.000000</td>\n",
       "      <td>NaN</td>\n",
       "      <td>S</td>\n",
       "    </tr>\n",
       "    <tr>\n",
       "      <th>20</th>\n",
       "      <td>1</td>\n",
       "      <td>3</td>\n",
       "      <td>Masselmani, Mrs. Fatima</td>\n",
       "      <td>female</td>\n",
       "      <td>NaN</td>\n",
       "      <td>0</td>\n",
       "      <td>0</td>\n",
       "      <td>7.226562</td>\n",
       "      <td>NaN</td>\n",
       "      <td>C</td>\n",
       "    </tr>\n",
       "  </tbody>\n",
       "</table>\n",
       "</div>"
      ],
      "text/plain": [
       "             Survived  Pclass                          Name     Sex  Age  \\\n",
       "PassengerId                                                                \n",
       "6                   0       3              Moran, Mr. James    male  NaN   \n",
       "18                  1       2  Williams, Mr. Charles Eugene    male  NaN   \n",
       "20                  1       3       Masselmani, Mrs. Fatima  female  NaN   \n",
       "\n",
       "             SibSp  Parch       Fare Cabin Embarked  \n",
       "PassengerId                                          \n",
       "6                0      0   8.460938   NaN        Q  \n",
       "18               0      0  13.000000   NaN        S  \n",
       "20               0      0   7.226562   NaN        C  "
      ]
     },
     "execution_count": 11,
     "metadata": {},
     "output_type": "execute_result"
    }
   ],
   "source": [
    "df_train[df_train['Age'].isna()][:3]"
   ]
  },
  {
   "cell_type": "markdown",
   "metadata": {},
   "source": [
    "### Cabin"
   ]
  },
  {
   "cell_type": "code",
   "execution_count": 12,
   "metadata": {},
   "outputs": [
    {
     "data": {
      "text/plain": [
       "(481, 68)"
      ]
     },
     "execution_count": 12,
     "metadata": {},
     "output_type": "execute_result"
    }
   ],
   "source": [
    "len(df_train[(df_train['Survived'] == 0)&(df_train['Cabin'].isna())]), len(df_train[(df_train['Survived'] == 0)&(df_train['Cabin'].isna() == False)])"
   ]
  },
  {
   "cell_type": "code",
   "execution_count": 13,
   "metadata": {},
   "outputs": [
    {
     "data": {
      "text/plain": [
       "<matplotlib.axes._subplots.AxesSubplot at 0x7ff17a673860>"
      ]
     },
     "execution_count": 13,
     "metadata": {},
     "output_type": "execute_result"
    },
    {
     "data": {
      "image/png": "[encoded data removed]",
      "text/plain": [
       "<matplotlib.figure.Figure at 0x7ff17a8112b0>"
      ]
     },
     "metadata": {
      "needs_background": "light"
     },
     "output_type": "display_data"
    }
   ],
   "source": [
    "fig, ax = plt.subplots(1, 2, sharey='row', figsize=(15, 6))\n",
    "fig.subplots_adjust(wspace=0.05)\n",
    "\n",
    "ax[0].set_title('Died')\n",
    "ax[0].set_xlabel('Does not have cabin')\n",
    "ax[0].set_ylabel('Number of passengers')\n",
    "df_train[(df_train['Survived'] == 0)&(df_train['Cabin'].isna())]['Cabin'].hist(ax=ax[0])\n",
    "\n",
    "ax[1].set_title('Survived')\n",
    "ax[1].set_xlabel('Has cabin')\n",
    "plt.xticks(rotation=90)\n",
    "df_train[(df_train['Survived'] == 1)&(df_train['Cabin'].isna() == False)]['Cabin'].hist(bins=5, ax=ax[1])"
   ]
  },
  {
   "cell_type": "markdown",
   "metadata": {},
   "source": [
    "### Embarked"
   ]
  },
  {
   "cell_type": "code",
   "execution_count": 14,
   "metadata": {},
   "outputs": [
    {
     "data": {
      "text/plain": [
       "<matplotlib.axes._subplots.AxesSubplot at 0x7ff17a619470>"
      ]
     },
     "execution_count": 14,
     "metadata": {},
     "output_type": "execute_result"
    },
    {
     "data": {
      "image/png": "[encoded data removed]",
      "text/plain": [
       "<matplotlib.figure.Figure at 0x7ff17a53bd68>"
      ]
     },
     "metadata": {
      "needs_background": "light"
     },
     "output_type": "display_data"
    }
   ],
   "source": [
    "fig, ax = plt.subplots(1, 2, sharey='row', figsize=(15, 6))\n",
    "fig.subplots_adjust(wspace=0.05)\n",
    "\n",
    "ax[0].set_title('Died')\n",
    "ax[0].set_xlabel('Fare')\n",
    "ax[0].set_ylabel('Number of passengers')\n",
    "df_train[df_train['Survived'] == 0]['Embarked'].hist(bins=3, ax=ax[0])\n",
    "\n",
    "ax[1].set_title('Survived')\n",
    "ax[1].set_xlabel('Fare')\n",
    "df_train[df_train['Survived'] == 1]['Embarked'].hist(bins=3, ax=ax[1])"
   ]
  },
  {
   "cell_type": "code",
   "execution_count": 15,
   "metadata": {},
   "outputs": [
    {
     "data": {
      "text/plain": [
       "S    644\n",
       "C    168\n",
       "Q     77\n",
       "Name: Embarked, dtype: int64"
      ]
     },
     "execution_count": 15,
     "metadata": {},
     "output_type": "execute_result"
    }
   ],
   "source": [
    "df_train['Embarked'].value_counts()"
   ]
  },
  {
   "cell_type": "markdown",
   "metadata": {},
   "source": [
    "### Fare"
   ]
  },
  {
   "cell_type": "code",
   "execution_count": 16,
   "metadata": {},
   "outputs": [
    {
     "data": {
      "text/plain": [
       "<matplotlib.axes._subplots.AxesSubplot at 0x7ff17a273748>"
      ]
     },
     "execution_count": 16,
     "metadata": {},
     "output_type": "execute_result"
    },
    {
     "data": {
      "image/png": "[encoded data removed]",
      "text/plain": [
       "<matplotlib.figure.Figure at 0x7ff17a56b780>"
      ]
     },
     "metadata": {
      "needs_background": "light"
     },
     "output_type": "display_data"
    }
   ],
   "source": [
    "fig, ax = plt.subplots(1, 2, sharey='row', figsize=(15, 6))\n",
    "fig.subplots_adjust(wspace=0.05)\n",
    "\n",
    "ax[0].set_title('Died')\n",
    "ax[0].set_xlabel('Fare')\n",
    "ax[0].set_ylabel('Number of passengers')\n",
    "df_train[df_train['Survived'] == 0]['Fare'].hist(ax=ax[0])\n",
    "\n",
    "ax[1].set_title('Survived')\n",
    "ax[1].set_xlabel('Fare')\n",
    "df_train[df_train['Survived'] == 1]['Fare'].hist(ax=ax[1])"
   ]
  },
  {
   "cell_type": "markdown",
   "metadata": {},
   "source": [
    "### PClass"
   ]
  },
  {
   "cell_type": "code",
   "execution_count": 17,
   "metadata": {},
   "outputs": [
    {
     "data": {
      "text/plain": [
       "<matplotlib.axes._subplots.AxesSubplot at 0x7ff17a1df5c0>"
      ]
     },
     "execution_count": 17,
     "metadata": {},
     "output_type": "execute_result"
    },
    {
     "data": {
      "image/png": "[encoded data removed]",
      "text/plain": [
       "<matplotlib.figure.Figure at 0x7ff17a2404a8>"
      ]
     },
     "metadata": {
      "needs_background": "light"
     },
     "output_type": "display_data"
    }
   ],
   "source": [
    "fig, ax = plt.subplots(1, 2, sharey='row', figsize=(15, 6))\n",
    "fig.subplots_adjust(wspace=0.05)\n",
    "\n",
    "ax[0].set_title('Died')\n",
    "ax[0].set_xlabel('Ticket class')\n",
    "ax[0].set_ylabel('Number of passengers')\n",
    "df_train[df_train['Survived'] == 0]['Pclass'].hist(bins=3, ax=ax[0])\n",
    "\n",
    "ax[1].set_title('Survived')\n",
    "ax[1].set_xlabel('Ticket class')\n",
    "df_train[df_train['Survived'] == 1]['Pclass'].hist(bins=3, ax=ax[1])"
   ]
  },
  {
   "cell_type": "markdown",
   "metadata": {},
   "source": [
    "### Sex"
   ]
  },
  {
   "cell_type": "code",
   "execution_count": 18,
   "metadata": {},
   "outputs": [
    {
     "data": {
      "text/plain": [
       "<matplotlib.axes._subplots.AxesSubplot at 0x7ff17a12be10>"
      ]
     },
     "execution_count": 18,
     "metadata": {},
     "output_type": "execute_result"
    },
    {
     "data": {
      "image/png": "[encoded data removed]",
      "text/plain": [
       "<matplotlib.figure.Figure at 0x7ff17a1c0860>"
      ]
     },
     "metadata": {
      "needs_background": "light"
     },
     "output_type": "display_data"
    }
   ],
   "source": [
    "fig, ax = plt.subplots(1, 2, sharey='row', figsize=(15, 6))\n",
    "fig.subplots_adjust(wspace=0.05)\n",
    "\n",
    "ax[0].set_title('Died')\n",
    "ax[0].set_xlabel('Ticket class')\n",
    "ax[0].set_ylabel('Number of passengers')\n",
    "df_train[df_train['Survived'] == 0]['Sex'].hist(bins=2, ax=ax[0])\n",
    "\n",
    "ax[1].set_title('Survived')\n",
    "ax[1].set_xlabel('Ticket class')\n",
    "df_train[df_train['Survived'] == 1]['Sex'].hist(bins=2, ax=ax[1])"
   ]
  },
  {
   "cell_type": "markdown",
   "metadata": {},
   "source": [
    "### Siblings/Spouse"
   ]
  },
  {
   "cell_type": "code",
   "execution_count": 19,
   "metadata": {},
   "outputs": [
    {
     "data": {
      "text/plain": [
       "<matplotlib.axes._subplots.AxesSubplot at 0x7ff179feccc0>"
      ]
     },
     "execution_count": 19,
     "metadata": {},
     "output_type": "execute_result"
    },
    {
     "data": {
      "image/png": "[encoded data removed]",
      "text/plain": [
       "<matplotlib.figure.Figure at 0x7ff17c923470>"
      ]
     },
     "metadata": {
      "needs_background": "light"
     },
     "output_type": "display_data"
    }
   ],
   "source": [
    "fig, ax = plt.subplots(1, 2, sharey='row', figsize=(15, 6))\n",
    "fig.subplots_adjust(wspace=0.05)\n",
    "\n",
    "ax[0].set_title('Died')\n",
    "ax[0].set_xlabel('Sibling/Spouse')\n",
    "ax[0].set_ylabel('Number of passengers')\n",
    "df_train[df_train['Survived'] == 0]['SibSp'].hist(bins=2, ax=ax[0])\n",
    "\n",
    "ax[1].set_title('Survived')\n",
    "ax[1].set_xlabel('Sibling/Spouse')\n",
    "df_train[df_train['Survived'] == 1]['SibSp'].hist(bins=2, ax=ax[1])"
   ]
  },
  {
   "cell_type": "markdown",
   "metadata": {},
   "source": [
    "### Parents/Children"
   ]
  },
  {
   "cell_type": "code",
   "execution_count": 20,
   "metadata": {},
   "outputs": [
    {
     "data": {
      "text/plain": [
       "<matplotlib.axes._subplots.AxesSubplot at 0x7ff179f2e748>"
      ]
     },
     "execution_count": 20,
     "metadata": {},
     "output_type": "execute_result"
    },
    {
     "data": {
      "image/png": "[encoded data removed]",
      "text/plain": [
       "<matplotlib.figure.Figure at 0x7ff179f78908>"
      ]
     },
     "metadata": {
      "needs_background": "light"
     },
     "output_type": "display_data"
    }
   ],
   "source": [
    "fig, ax = plt.subplots(1, 2, sharey='row', figsize=(15, 6))\n",
    "fig.subplots_adjust(wspace=0.05)\n",
    "\n",
    "ax[0].set_title('Died')\n",
    "ax[0].set_xlabel('Parents/Children')\n",
    "ax[0].set_ylabel('Number of passengers')\n",
    "df_train[df_train['Survived'] == 0]['Parch'].hist(bins=2, ax=ax[0])\n",
    "\n",
    "ax[1].set_title('Survived')\n",
    "ax[1].set_xlabel('Parents/Children')\n",
    "df_train[df_train['Survived'] == 1]['Parch'].hist(bins=2, ax=ax[1])"
   ]
  },
  {
   "cell_type": "markdown",
   "metadata": {},
   "source": [
    "## Feature engineering"
   ]
  },
  {
   "cell_type": "code",
   "execution_count": 5,
   "metadata": {},
   "outputs": [],
   "source": [
    "df_train['Age'].fillna(df_train['Age'].median(), inplace=True)\n",
    "df_test['Age'].fillna(df_test['Age'].median(), inplace=True)"
   ]
  },
  {
   "cell_type": "code",
   "execution_count": 6,
   "metadata": {},
   "outputs": [],
   "source": [
    "df_train['Sex'] = df_train['Sex'].map({'male': 0, 'female': 1})\n",
    "df_test['Sex'] = df_test['Sex'].map({'male': 0, 'female': 1})"
   ]
  },
  {
   "cell_type": "code",
   "execution_count": 7,
   "metadata": {},
   "outputs": [],
   "source": [
    "df_train['has_cabin'] = np.where(df_train['Cabin'].isna(), 0, 1)\n",
    "df_test['has_cabin'] = np.where(df_test['Cabin'].isna(), 0, 1)"
   ]
  },
  {
   "cell_type": "code",
   "execution_count": 8,
   "metadata": {},
   "outputs": [
    {
     "name": "stdout",
     "output_type": "stream",
     "text": [
      "Mr        517\n",
      "Miss      182\n",
      "Mrs       125\n",
      "Master     40\n",
      "Misc       27\n",
      "Name: Title, dtype: int64\n",
      "Mr        240\n",
      "Miss       78\n",
      "Mrs        72\n",
      "Master     21\n",
      "Misc        7\n",
      "Name: Title, dtype: int64\n"
     ]
    }
   ],
   "source": [
    "df_train['FamilySize'] = df_train['SibSp'] + df_train['Parch'] + 1\n",
    "df_test['FamilySize'] = df_test['SibSp'] + df_test['Parch'] + 1\n",
    "\n",
    "df_train['IsAlone'] = 1\n",
    "df_test['IsAlone'] = 1\n",
    "df_train['IsAlone'].loc[df_train['FamilySize'] > 1] = 0\n",
    "df_test['IsAlone'].loc[df_test['FamilySize'] > 1] = 0\n",
    "\n",
    "df_train['Title'] = df_train['Name'].str.split(\", \", expand=True)[1].str.split(\".\", expand=True)[0]\n",
    "df_test['Title'] = df_test['Name'].str.split(\", \", expand=True)[1].str.split(\".\", expand=True)[0]\n",
    "\n",
    "df_train['FareBin'] = pd.qcut(df_train['Fare'], 4)\n",
    "df_test['FareBin'] = pd.qcut(df_test['Fare'], 4)\n",
    "\n",
    "df_train['AgeBin'] = pd.cut(df_train['Age'].astype(int), 5)\n",
    "df_test['AgeBin'] = pd.cut(df_test['Age'].astype(int), 5)\n",
    "\n",
    "stat_min = 10\n",
    "title_names_train = (df_train['Title'].value_counts() < stat_min)\n",
    "title_names_test = (df_test['Title'].value_counts() < stat_min)\n",
    "\n",
    "df_train['Title'] = df_train['Title'].apply(lambda x: 'Misc' if title_names_train.loc[x] == True else x)\n",
    "df_test['Title'] = df_test['Title'].apply(lambda x: 'Misc' if title_names_test.loc[x] == True else x)\n",
    "print(df_train['Title'].value_counts())\n",
    "print(df_test['Title'].value_counts())"
   ]
  },
  {
   "cell_type": "code",
   "execution_count": 9,
   "metadata": {},
   "outputs": [],
   "source": [
    "df_train['Fare'].fillna(df_train['Fare'].median(), inplace=True)"
   ]
  },
  {
   "cell_type": "code",
   "execution_count": 10,
   "metadata": {},
   "outputs": [
    {
     "data": {
      "text/html": [
       "<div>\n",
       "<style scoped>\n",
       "    .dataframe tbody tr th:only-of-type {\n",
       "        vertical-align: middle;\n",
       "    }\n",
       "\n",
       "    .dataframe tbody tr th {\n",
       "        vertical-align: top;\n",
       "    }\n",
       "\n",
       "    .dataframe thead th {\n",
       "        text-align: right;\n",
       "    }\n",
       "</style>\n",
       "<table border=\"1\" class=\"dataframe\">\n",
       "  <thead>\n",
       "    <tr style=\"text-align: right;\">\n",
       "      <th></th>\n",
       "      <th>Survived</th>\n",
       "      <th>Pclass</th>\n",
       "      <th>Name</th>\n",
       "      <th>Sex</th>\n",
       "      <th>Age</th>\n",
       "      <th>SibSp</th>\n",
       "      <th>Parch</th>\n",
       "      <th>Fare</th>\n",
       "      <th>Cabin</th>\n",
       "      <th>Embarked</th>\n",
       "      <th>has_cabin</th>\n",
       "      <th>FamilySize</th>\n",
       "      <th>IsAlone</th>\n",
       "      <th>Title</th>\n",
       "      <th>FareBin</th>\n",
       "      <th>AgeBin</th>\n",
       "    </tr>\n",
       "    <tr>\n",
       "      <th>PassengerId</th>\n",
       "      <th></th>\n",
       "      <th></th>\n",
       "      <th></th>\n",
       "      <th></th>\n",
       "      <th></th>\n",
       "      <th></th>\n",
       "      <th></th>\n",
       "      <th></th>\n",
       "      <th></th>\n",
       "      <th></th>\n",
       "      <th></th>\n",
       "      <th></th>\n",
       "      <th></th>\n",
       "      <th></th>\n",
       "      <th></th>\n",
       "      <th></th>\n",
       "    </tr>\n",
       "  </thead>\n",
       "  <tbody>\n",
       "    <tr>\n",
       "      <th>62</th>\n",
       "      <td>1</td>\n",
       "      <td>1</td>\n",
       "      <td>Icard, Miss. Amelie</td>\n",
       "      <td>1</td>\n",
       "      <td>38.0</td>\n",
       "      <td>0</td>\n",
       "      <td>0</td>\n",
       "      <td>80.0</td>\n",
       "      <td>B28</td>\n",
       "      <td>NaN</td>\n",
       "      <td>1</td>\n",
       "      <td>1</td>\n",
       "      <td>1</td>\n",
       "      <td>Miss</td>\n",
       "      <td>(31.0, 512.5]</td>\n",
       "      <td>(32.0, 48.0]</td>\n",
       "    </tr>\n",
       "    <tr>\n",
       "      <th>830</th>\n",
       "      <td>1</td>\n",
       "      <td>1</td>\n",
       "      <td>Stone, Mrs. George Nelson (Martha Evelyn)</td>\n",
       "      <td>1</td>\n",
       "      <td>62.0</td>\n",
       "      <td>0</td>\n",
       "      <td>0</td>\n",
       "      <td>80.0</td>\n",
       "      <td>B28</td>\n",
       "      <td>NaN</td>\n",
       "      <td>1</td>\n",
       "      <td>1</td>\n",
       "      <td>1</td>\n",
       "      <td>Mrs</td>\n",
       "      <td>(31.0, 512.5]</td>\n",
       "      <td>(48.0, 64.0]</td>\n",
       "    </tr>\n",
       "  </tbody>\n",
       "</table>\n",
       "</div>"
      ],
      "text/plain": [
       "             Survived  Pclass                                       Name  Sex  \\\n",
       "PassengerId                                                                     \n",
       "62                  1       1                        Icard, Miss. Amelie    1   \n",
       "830                 1       1  Stone, Mrs. George Nelson (Martha Evelyn)    1   \n",
       "\n",
       "              Age  SibSp  Parch  Fare Cabin Embarked  has_cabin  FamilySize  \\\n",
       "PassengerId                                                                   \n",
       "62           38.0      0      0  80.0   B28      NaN          1           1   \n",
       "830          62.0      0      0  80.0   B28      NaN          1           1   \n",
       "\n",
       "             IsAlone Title        FareBin        AgeBin  \n",
       "PassengerId                                              \n",
       "62                 1  Miss  (31.0, 512.5]  (32.0, 48.0]  \n",
       "830                1   Mrs  (31.0, 512.5]  (48.0, 64.0]  "
      ]
     },
     "execution_count": 10,
     "metadata": {},
     "output_type": "execute_result"
    }
   ],
   "source": [
    "df_train[df_train['Embarked'].isna()]"
   ]
  },
  {
   "cell_type": "code",
   "execution_count": 11,
   "metadata": {},
   "outputs": [],
   "source": [
    "df_train.at[62, 'Embarked'] = 'S'\n",
    "df_train.at[830, 'Embarked'] = 'S'"
   ]
  },
  {
   "cell_type": "code",
   "execution_count": 12,
   "metadata": {},
   "outputs": [
    {
     "data": {
      "text/plain": [
       "0"
      ]
     },
     "execution_count": 12,
     "metadata": {},
     "output_type": "execute_result"
    }
   ],
   "source": [
    "len(df_train[df_train['Embarked'].isna()])"
   ]
  },
  {
   "cell_type": "code",
   "execution_count": 13,
   "metadata": {},
   "outputs": [],
   "source": [
    "le = preprocessing.LabelEncoder()\n",
    "\n",
    "# Embarked\n",
    "le.fit(df_train['Embarked'])\n",
    "df_train['Embarked'] = le.transform(df_train['Embarked'])\n",
    "\n",
    "le.fit(df_test['Embarked'])\n",
    "df_test['Embarked'] = le.transform(df_test['Embarked'])\n",
    "\n",
    "# Title\n",
    "le.fit(df_train['Title'])\n",
    "df_train['Title'] = le.transform(df_train['Title'])\n",
    "\n",
    "le.fit(df_test['Title'])\n",
    "df_test['Title'] = le.transform(df_test['Title'])"
   ]
  },
  {
   "cell_type": "code",
   "execution_count": 14,
   "metadata": {},
   "outputs": [
    {
     "name": "stdout",
     "output_type": "stream",
     "text": [
      "Starting memory usage:  0.10 MB\n",
      "Reduced memory usage:  0.07 MB (28.9% reduction)\n",
      "Starting memory usage:  0.03 MB\n",
      "Reduced memory usage:  0.02 MB (47.1% reduction)\n"
     ]
    }
   ],
   "source": [
    "df_train = reduce_memory_usage(df_train)\n",
    "df_test = reduce_memory_usage(df_test)"
   ]
  },
  {
   "cell_type": "code",
   "execution_count": 15,
   "metadata": {},
   "outputs": [
    {
     "data": {
      "text/plain": [
       "Survived        0\n",
       "Pclass          0\n",
       "Name            0\n",
       "Sex             0\n",
       "Age             0\n",
       "SibSp           0\n",
       "Parch           0\n",
       "Fare            0\n",
       "Cabin         687\n",
       "Embarked        0\n",
       "has_cabin       0\n",
       "FamilySize      0\n",
       "IsAlone         0\n",
       "Title           0\n",
       "FareBin         0\n",
       "AgeBin          0\n",
       "dtype: int64"
      ]
     },
     "execution_count": 15,
     "metadata": {},
     "output_type": "execute_result"
    }
   ],
   "source": [
    "df_train.isna().sum()"
   ]
  },
  {
   "cell_type": "code",
   "execution_count": 16,
   "metadata": {},
   "outputs": [
    {
     "data": {
      "text/plain": [
       "Pclass          0\n",
       "Name            0\n",
       "Sex             0\n",
       "Age             0\n",
       "SibSp           0\n",
       "Parch           0\n",
       "Fare            1\n",
       "Cabin         327\n",
       "Embarked        0\n",
       "has_cabin       0\n",
       "FamilySize      0\n",
       "IsAlone         0\n",
       "Title           0\n",
       "FareBin         1\n",
       "AgeBin          0\n",
       "dtype: int64"
      ]
     },
     "execution_count": 16,
     "metadata": {},
     "output_type": "execute_result"
    }
   ],
   "source": [
    "df_test.isna().sum()"
   ]
  },
  {
   "cell_type": "markdown",
   "metadata": {},
   "source": [
    "## Dimension reduction"
   ]
  },
  {
   "cell_type": "code",
   "execution_count": 33,
   "metadata": {},
   "outputs": [],
   "source": [
    "df_train['Age'].fillna(df_train['Age'].mean(), inplace=True)\n",
    "df_test['Age'].fillna(df_test['Age'].mean(), inplace=True)"
   ]
  },
  {
   "cell_type": "markdown",
   "metadata": {},
   "source": [
    "### PCA"
   ]
  },
  {
   "cell_type": "code",
   "execution_count": 34,
   "metadata": {},
   "outputs": [],
   "source": [
    "features = df_train.select_dtypes(include=['int8', 'int64', 'float16', 'float64']).columns"
   ]
  },
  {
   "cell_type": "code",
   "execution_count": 35,
   "metadata": {},
   "outputs": [
    {
     "data": {
      "text/plain": [
       "Index(['Survived', 'Pclass', 'Sex', 'Age', 'SibSp', 'Parch', 'Fare',\n",
       "       'Embarked', 'has_cabin', 'FamilySize', 'IsAlone', 'Title'],\n",
       "      dtype='object')"
      ]
     },
     "execution_count": 35,
     "metadata": {},
     "output_type": "execute_result"
    }
   ],
   "source": [
    "features"
   ]
  },
  {
   "cell_type": "code",
   "execution_count": 36,
   "metadata": {},
   "outputs": [
    {
     "data": {
      "text/plain": [
       "Survived        0\n",
       "Pclass          0\n",
       "Name            0\n",
       "Sex             0\n",
       "Age             0\n",
       "SibSp           0\n",
       "Parch           0\n",
       "Fare            0\n",
       "Cabin         687\n",
       "Embarked        0\n",
       "has_cabin       0\n",
       "FamilySize      0\n",
       "IsAlone         0\n",
       "Title           0\n",
       "FareBin         0\n",
       "AgeBin          0\n",
       "dtype: int64"
      ]
     },
     "execution_count": 36,
     "metadata": {},
     "output_type": "execute_result"
    }
   ],
   "source": [
    "df_train.isna().sum()"
   ]
  },
  {
   "cell_type": "code",
   "execution_count": 37,
   "metadata": {},
   "outputs": [
    {
     "name": "stdout",
     "output_type": "stream",
     "text": [
      "Explained variation per principal component: [0.93397016 0.06358084]\n"
     ]
    }
   ],
   "source": [
    "pca = PCA(n_components=2)\n",
    "pca_result = pca.fit_transform(df_train[features].values)\n",
    "\n",
    "df_train['pca_1'] = pca_result[:,0]\n",
    "df_train['pca_2'] = pca_result[:,1]\n",
    "\n",
    "print('Explained variation per principal component: {}'.format(pca.explained_variance_ratio_))"
   ]
  },
  {
   "cell_type": "code",
   "execution_count": 38,
   "metadata": {},
   "outputs": [
    {
     "data": {
      "image/png": "[encoded data removed]",
      "text/plain": [
       "<matplotlib.figure.Figure at 0x7ff179f10ba8>"
      ]
     },
     "metadata": {
      "needs_background": "light"
     },
     "output_type": "display_data"
    }
   ],
   "source": [
    "plt.scatter(df_train['pca_1'], df_train['pca_2'], c=df_train['Survived'], cmap=\"jet_r\")\n",
    "plt.axis('equal');"
   ]
  },
  {
   "cell_type": "code",
   "execution_count": 39,
   "metadata": {},
   "outputs": [],
   "source": [
    "del df_train['pca_1'], df_train['pca_2']"
   ]
  },
  {
   "cell_type": "markdown",
   "metadata": {},
   "source": [
    "### t-SNE"
   ]
  },
  {
   "cell_type": "code",
   "execution_count": 40,
   "metadata": {},
   "outputs": [
    {
     "name": "stdout",
     "output_type": "stream",
     "text": [
      "[t-SNE] Computing 121 nearest neighbors...\n",
      "[t-SNE] Indexed 891 samples in 0.002s...\n",
      "[t-SNE] Computed neighbors for 891 samples in 0.031s...\n",
      "[t-SNE] Computed conditional probabilities for sample 891 / 891\n",
      "[t-SNE] Mean sigma: 1.706064\n",
      "[t-SNE] KL divergence after 250 iterations with early exaggeration: 52.785221\n",
      "[t-SNE] KL divergence after 300 iterations: 0.351870\n"
     ]
    }
   ],
   "source": [
    "n_sne = 3000\n",
    "\n",
    "tsne = TSNE(n_components=2, verbose=1, perplexity=40, n_iter=300)\n",
    "tsne_results = tsne.fit_transform(df_train.loc[:, features].values)"
   ]
  },
  {
   "cell_type": "code",
   "execution_count": 41,
   "metadata": {},
   "outputs": [],
   "source": [
    "df_tsne = df_train.copy()\n",
    "df_tsne['x-tsne'] = tsne_results[:,0]\n",
    "df_tsne['y-tsne'] = tsne_results[:,1]"
   ]
  },
  {
   "cell_type": "code",
   "execution_count": 42,
   "metadata": {
    "scrolled": true
   },
   "outputs": [
    {
     "data": {
      "image/png": "[encoded data removed]",
      "text/plain": [
       "<matplotlib.figure.Figure at 0x7ff179ed4da0>"
      ]
     },
     "metadata": {
      "needs_background": "light"
     },
     "output_type": "display_data"
    }
   ],
   "source": [
    "plt.scatter(df_tsne['x-tsne'], df_tsne['y-tsne'], c=df_tsne['Survived'], cmap=\"jet_r\")\n",
    "plt.axis('equal');"
   ]
  },
  {
   "cell_type": "markdown",
   "metadata": {},
   "source": [
    "## Training\n",
    "### Decision trees"
   ]
  },
  {
   "cell_type": "code",
   "execution_count": 17,
   "metadata": {},
   "outputs": [],
   "source": [
    "df_train_columns = [c for c in df_train.columns if c not in ['PassangerId', 'Survived', 'Cabin', 'Name', 'FareBin', 'AgeBin']]\n",
    "target = df_train['Survived']\n",
    "del df_train['Survived']"
   ]
  },
  {
   "cell_type": "markdown",
   "metadata": {},
   "source": [
    "#### LightGBM"
   ]
  },
  {
   "cell_type": "code",
   "execution_count": 44,
   "metadata": {},
   "outputs": [
    {
     "data": {
      "text/html": [
       "<div>\n",
       "<style scoped>\n",
       "    .dataframe tbody tr th:only-of-type {\n",
       "        vertical-align: middle;\n",
       "    }\n",
       "\n",
       "    .dataframe tbody tr th {\n",
       "        vertical-align: top;\n",
       "    }\n",
       "\n",
       "    .dataframe thead th {\n",
       "        text-align: right;\n",
       "    }\n",
       "</style>\n",
       "<table border=\"1\" class=\"dataframe\">\n",
       "  <thead>\n",
       "    <tr style=\"text-align: right;\">\n",
       "      <th></th>\n",
       "      <th>Pclass</th>\n",
       "      <th>Name</th>\n",
       "      <th>Sex</th>\n",
       "      <th>Age</th>\n",
       "      <th>SibSp</th>\n",
       "      <th>Parch</th>\n",
       "      <th>Fare</th>\n",
       "      <th>Cabin</th>\n",
       "      <th>Embarked</th>\n",
       "      <th>has_cabin</th>\n",
       "      <th>FamilySize</th>\n",
       "      <th>IsAlone</th>\n",
       "      <th>Title</th>\n",
       "      <th>FareBin</th>\n",
       "      <th>AgeBin</th>\n",
       "    </tr>\n",
       "    <tr>\n",
       "      <th>PassengerId</th>\n",
       "      <th></th>\n",
       "      <th></th>\n",
       "      <th></th>\n",
       "      <th></th>\n",
       "      <th></th>\n",
       "      <th></th>\n",
       "      <th></th>\n",
       "      <th></th>\n",
       "      <th></th>\n",
       "      <th></th>\n",
       "      <th></th>\n",
       "      <th></th>\n",
       "      <th></th>\n",
       "      <th></th>\n",
       "      <th></th>\n",
       "    </tr>\n",
       "  </thead>\n",
       "  <tbody>\n",
       "    <tr>\n",
       "      <th>1</th>\n",
       "      <td>3</td>\n",
       "      <td>Braund, Mr. Owen Harris</td>\n",
       "      <td>0</td>\n",
       "      <td>22.0</td>\n",
       "      <td>1</td>\n",
       "      <td>0</td>\n",
       "      <td>7.250000</td>\n",
       "      <td>NaN</td>\n",
       "      <td>2</td>\n",
       "      <td>0</td>\n",
       "      <td>2</td>\n",
       "      <td>0</td>\n",
       "      <td>3</td>\n",
       "      <td>(-0.001, 7.91]</td>\n",
       "      <td>(16.0, 32.0]</td>\n",
       "    </tr>\n",
       "    <tr>\n",
       "      <th>2</th>\n",
       "      <td>1</td>\n",
       "      <td>Cumings, Mrs. John Bradley (Florence Briggs Th...</td>\n",
       "      <td>1</td>\n",
       "      <td>38.0</td>\n",
       "      <td>1</td>\n",
       "      <td>0</td>\n",
       "      <td>71.312500</td>\n",
       "      <td>C85</td>\n",
       "      <td>0</td>\n",
       "      <td>1</td>\n",
       "      <td>2</td>\n",
       "      <td>0</td>\n",
       "      <td>4</td>\n",
       "      <td>(31.0, 512.5]</td>\n",
       "      <td>(32.0, 48.0]</td>\n",
       "    </tr>\n",
       "    <tr>\n",
       "      <th>3</th>\n",
       "      <td>3</td>\n",
       "      <td>Heikkinen, Miss. Laina</td>\n",
       "      <td>1</td>\n",
       "      <td>26.0</td>\n",
       "      <td>0</td>\n",
       "      <td>0</td>\n",
       "      <td>7.925781</td>\n",
       "      <td>NaN</td>\n",
       "      <td>2</td>\n",
       "      <td>0</td>\n",
       "      <td>1</td>\n",
       "      <td>1</td>\n",
       "      <td>2</td>\n",
       "      <td>(7.91, 14.453]</td>\n",
       "      <td>(16.0, 32.0]</td>\n",
       "    </tr>\n",
       "  </tbody>\n",
       "</table>\n",
       "</div>"
      ],
      "text/plain": [
       "             Pclass                                               Name  Sex  \\\n",
       "PassengerId                                                                   \n",
       "1                 3                            Braund, Mr. Owen Harris    0   \n",
       "2                 1  Cumings, Mrs. John Bradley (Florence Briggs Th...    1   \n",
       "3                 3                             Heikkinen, Miss. Laina    1   \n",
       "\n",
       "              Age  SibSp  Parch       Fare Cabin  Embarked  has_cabin  \\\n",
       "PassengerId                                                             \n",
       "1            22.0      1      0   7.250000   NaN         2          0   \n",
       "2            38.0      1      0  71.312500   C85         0          1   \n",
       "3            26.0      0      0   7.925781   NaN         2          0   \n",
       "\n",
       "             FamilySize  IsAlone  Title         FareBin        AgeBin  \n",
       "PassengerId                                                            \n",
       "1                     2        0      3  (-0.001, 7.91]  (16.0, 32.0]  \n",
       "2                     2        0      4   (31.0, 512.5]  (32.0, 48.0]  \n",
       "3                     1        1      2  (7.91, 14.453]  (16.0, 32.0]  "
      ]
     },
     "execution_count": 44,
     "metadata": {},
     "output_type": "execute_result"
    }
   ],
   "source": [
    "df_train[:3]"
   ]
  },
  {
   "cell_type": "code",
   "execution_count": 45,
   "metadata": {},
   "outputs": [
    {
     "name": "stdout",
     "output_type": "stream",
     "text": [
      "\n",
      "Fold 1.\n",
      "Training until validation scores don't improve for 100 rounds.\n",
      "[100]\ttraining's rmse: 0.358197\tvalid_1's rmse: 0.391183\n",
      "[200]\ttraining's rmse: 0.319761\tvalid_1's rmse: 0.368946\n",
      "[300]\ttraining's rmse: 0.298819\tvalid_1's rmse: 0.364581\n",
      "[400]\ttraining's rmse: 0.281176\tvalid_1's rmse: 0.364603\n",
      "Early stopping, best iteration is:\n",
      "[369]\ttraining's rmse: 0.286301\tvalid_1's rmse: 0.363765\n",
      "\n",
      "Fold 2.\n",
      "Training until validation scores don't improve for 100 rounds.\n",
      "[100]\ttraining's rmse: 0.358373\tvalid_1's rmse: 0.390932\n",
      "[200]\ttraining's rmse: 0.320419\tvalid_1's rmse: 0.371139\n",
      "[300]\ttraining's rmse: 0.300919\tvalid_1's rmse: 0.367874\n",
      "Early stopping, best iteration is:\n",
      "[288]\ttraining's rmse: 0.302996\tvalid_1's rmse: 0.367655\n",
      "\n",
      "Fold 3.\n",
      "Training until validation scores don't improve for 100 rounds.\n",
      "[100]\ttraining's rmse: 0.362839\tvalid_1's rmse: 0.38607\n",
      "[200]\ttraining's rmse: 0.32672\tvalid_1's rmse: 0.36035\n",
      "[300]\ttraining's rmse: 0.307299\tvalid_1's rmse: 0.352595\n",
      "[400]\ttraining's rmse: 0.290559\tvalid_1's rmse: 0.350207\n",
      "Early stopping, best iteration is:\n",
      "[378]\ttraining's rmse: 0.29422\tvalid_1's rmse: 0.34988\n",
      "\n",
      "Fold 4.\n",
      "Training until validation scores don't improve for 100 rounds.\n",
      "[100]\ttraining's rmse: 0.365392\tvalid_1's rmse: 0.361994\n",
      "[200]\ttraining's rmse: 0.327751\tvalid_1's rmse: 0.334009\n",
      "[300]\ttraining's rmse: 0.307509\tvalid_1's rmse: 0.32765\n",
      "Early stopping, best iteration is:\n",
      "[289]\ttraining's rmse: 0.309479\tvalid_1's rmse: 0.327405\n",
      "\n",
      "Fold 5.\n",
      "Training until validation scores don't improve for 100 rounds.\n",
      "[100]\ttraining's rmse: 0.359408\tvalid_1's rmse: 0.377184\n",
      "[200]\ttraining's rmse: 0.317767\tvalid_1's rmse: 0.359208\n",
      "[300]\ttraining's rmse: 0.296377\tvalid_1's rmse: 0.358095\n",
      "Early stopping, best iteration is:\n",
      "[299]\ttraining's rmse: 0.296439\tvalid_1's rmse: 0.358071\n",
      "CPU times: user 6.88 s, sys: 547 ms, total: 7.42 s\n",
      "Wall time: 1.99 s\n"
     ]
    }
   ],
   "source": [
    "%%time\n",
    "params_lgb = {\n",
    "    \"bagging_freq\": 1,\n",
    "    \"bagging_fraction\": 0.9,\n",
    "    \"bagging_seed\": 1,\n",
    "    \"boosting\": \"gbdt\",\n",
    "\n",
    "    \"feature_fraction\": 0.9,\n",
    "    \"feature_fraction_seed\": 1,\n",
    "\n",
    "    \"lambda_l1\": 0.1,\n",
    "    \"learning_rate\": 0.01,\n",
    "\n",
    "    'max_depth': -1,\n",
    "    \"metric\": \"rmse\",\n",
    "    \"num_leaves\": 31,\n",
    "    \"nthread\": -1,\n",
    "\n",
    "    \"objective\": \"binary\",\n",
    "\n",
    "    \"random_state\": 1,\n",
    "    \"verbosity\": -1\n",
    "}\n",
    "\n",
    "folds = StratifiedKFold(n_splits=5, shuffle=True, random_state=1)\n",
    "oof_lgb = np.zeros(len(df_train))\n",
    "pred_test_lgb = np.zeros(len(df_test))\n",
    "feature_importance_lgb = pd.DataFrame()\n",
    "\n",
    "for fold_, (trn_idx, val_idx) in enumerate(folds.split(df_train, df_train['Pclass'].values)):\n",
    "    print(\"\\nFold {}.\".format(fold_+1))\n",
    "    trn_data = lgb.Dataset(df_train.iloc[trn_idx][df_train_columns], label=target.iloc[trn_idx])\n",
    "    val_data = lgb.Dataset(df_train.iloc[val_idx][df_train_columns], label=target.iloc[val_idx])\n",
    "\n",
    "    num_round = 10000\n",
    "    model_lgb = lgb.train(params_lgb, trn_data, num_round, valid_sets = [trn_data, val_data], categorical_feature=['Embarked', 'Pclass'] , verbose_eval=100, early_stopping_rounds=100)\n",
    "    oof_lgb[val_idx] = model_lgb.predict(df_train.iloc[val_idx][df_train_columns], num_iteration=model_lgb.best_iteration)\n",
    "    \n",
    "    fold_importance_df = pd.DataFrame()\n",
    "    fold_importance_df[\"feature\"] = df_train_columns\n",
    "    fold_importance_df[\"importance\"] = model_lgb.feature_importance()\n",
    "    fold_importance_df[\"fold\"] = fold_ + 1\n",
    "    feature_importance_lgb = pd.concat([feature_importance_lgb, fold_importance_df], axis=0)\n",
    "    \n",
    "    pred_test_lgb += model_lgb.predict(df_test[df_train_columns], num_iteration=model_lgb.best_iteration) / folds.n_splits"
   ]
  },
  {
   "cell_type": "code",
   "execution_count": 46,
   "metadata": {},
   "outputs": [],
   "source": [
    "pred_train_lgb = model_lgb.predict(df_train[df_train_columns])\n",
    "pred_train_lgb = np.where(pred_train_lgb > 0.5, 1, 0)"
   ]
  },
  {
   "cell_type": "code",
   "execution_count": 47,
   "metadata": {},
   "outputs": [
    {
     "name": "stdout",
     "output_type": "stream",
     "text": [
      "CV score: 0.353662\n",
      "Area under curve: 85.7372%\n"
     ]
    }
   ],
   "source": [
    "cv_score_lgb = np.sqrt(mean_squared_error(oof_lgb, target))\n",
    "print(\"CV score: {:.6f}\".format(cv_score_lgb))\n",
    "\n",
    "auc_score_lgb = roc_auc_score(target, pred_train_lgb)\n",
    "print('Area under curve: {:.4f}%'.format(auc_score_lgb*100))"
   ]
  },
  {
   "cell_type": "code",
   "execution_count": 48,
   "metadata": {},
   "outputs": [
    {
     "data": {
      "text/plain": [
       "array([[516,  33],\n",
       "       [ 77, 265]])"
      ]
     },
     "execution_count": 48,
     "metadata": {},
     "output_type": "execute_result"
    }
   ],
   "source": [
    "confusion_matrix(target, pred_train_lgb)"
   ]
  },
  {
   "cell_type": "code",
   "execution_count": 49,
   "metadata": {},
   "outputs": [
    {
     "data": {
      "image/png": "[encoded data removed]",
      "text/plain": [
       "<matplotlib.figure.Figure at 0x7ff179ea24e0>"
      ]
     },
     "metadata": {
      "needs_background": "light"
     },
     "output_type": "display_data"
    }
   ],
   "source": [
    "cols = (feature_importance_lgb[[\"feature\", \"importance\"]]\n",
    "        .groupby(\"feature\")\n",
    "        .mean()\n",
    "        .sort_values(by=\"importance\", ascending=False).index)\n",
    "\n",
    "best_features_lgb = feature_importance_lgb.loc[feature_importance_lgb.feature.isin(cols)]\n",
    "\n",
    "plt.figure(figsize=(20, 8))\n",
    "sns.barplot(x=\"importance\", y=\"feature\", data=best_features_lgb.sort_values(by=\"importance\", ascending=False))\n",
    "plt.title('LightGBM Features (avg over folds)')\n",
    "plt.tight_layout()\n",
    "plt.savefig('lgbm_importances.png')"
   ]
  },
  {
   "cell_type": "markdown",
   "metadata": {},
   "source": [
    "[Receiver Operating Characteristic](https://scikit-learn.org/stable/auto_examples/model_selection/plot_roc.html)"
   ]
  },
  {
   "cell_type": "code",
   "execution_count": 50,
   "metadata": {},
   "outputs": [],
   "source": [
    "fpr = dict()\n",
    "tpr = dict()\n",
    "roc_auc = dict()\n",
    "\n",
    "for i in range(len(target)):\n",
    "    fpr[i], tpr[i], _ = roc_curve(target, pred_train_lgb)\n",
    "    roc_auc[i] = auc(fpr[i], tpr[i])\n",
    "\n",
    "fpr[\"micro\"], tpr[\"micro\"], _ = roc_curve(target.ravel(), pred_train_lgb.ravel())\n",
    "roc_auc[\"micro\"] = auc(fpr[\"micro\"], tpr[\"micro\"])"
   ]
  },
  {
   "cell_type": "code",
   "execution_count": 51,
   "metadata": {},
   "outputs": [
    {
     "data": {
      "image/png": "[encoded data removed]",
      "text/plain": [
       "<matplotlib.figure.Figure at 0x7ff1784cf780>"
      ]
     },
     "metadata": {
      "needs_background": "light"
     },
     "output_type": "display_data"
    }
   ],
   "source": [
    "plt.figure(figsize=(7, 7))\n",
    "lw = 2\n",
    "plt.plot(fpr[2], tpr[2], color='darkorange', lw=lw, label='ROC curve (area = %0.2f)' % roc_auc[2])\n",
    "plt.plot([0, 1], [0, 1], color='navy', lw=lw, linestyle='--')\n",
    "plt.xlim([0.0, 1.0])\n",
    "plt.ylim([0.0, 1.05])\n",
    "plt.xlabel('False Positive Rate')\n",
    "plt.ylabel('True Positive Rate')\n",
    "plt.title('Receiver operating characteristic example')\n",
    "plt.legend(loc=\"lower right\")\n",
    "plt.show()"
   ]
  },
  {
   "cell_type": "code",
   "execution_count": 52,
   "metadata": {},
   "outputs": [
    {
     "name": "stdout",
     "output_type": "stream",
     "text": [
      "´output/regression_0.857372.csv´ saved\n"
     ]
    }
   ],
   "source": [
    "sub_df = pd.DataFrame({\n",
    "    \"PassengerId\": df_test.index.values\n",
    "})\n",
    "\n",
    "sub_df[\"Survived\"] = np.where(pred_test_lgb > 0.5, 1, 0)\n",
    "sub_df.to_csv(\"output/regression_{:.6f}.csv\".format(auc_score_lgb), index=False)\n",
    "print(\"´output/regression_{:.6f}.csv´ saved\".format(auc_score_lgb))"
   ]
  },
  {
   "cell_type": "code",
   "execution_count": null,
   "metadata": {},
   "outputs": [],
   "source": [
    "print('CV score: {:.5f}\\nLB score: {:.5f}'.format(cv_score_lgb, 0.75119))"
   ]
  },
  {
   "cell_type": "markdown",
   "metadata": {},
   "source": [
    "#### XGBoost"
   ]
  },
  {
   "cell_type": "code",
   "execution_count": 53,
   "metadata": {},
   "outputs": [
    {
     "name": "stdout",
     "output_type": "stream",
     "text": [
      "\n",
      "Fold 1.\n",
      "[0]\ttrain-rmse:0.787562\tvalid-rmse:0.774597\n",
      "Multiple eval metrics have been passed: 'valid-rmse' will be used for early stopping.\n",
      "\n",
      "Will train until valid-rmse hasn't improved in 50 rounds.\n",
      "Stopping. Best iteration:\n",
      "[28]\ttrain-rmse:0.205412\tvalid-rmse:0.434613\n",
      "\n",
      "\n",
      "Fold 2.\n",
      "[0]\ttrain-rmse:0.781088\tvalid-rmse:0.800281\n",
      "Multiple eval metrics have been passed: 'valid-rmse' will be used for early stopping.\n",
      "\n",
      "Will train until valid-rmse hasn't improved in 50 rounds.\n",
      "Stopping. Best iteration:\n",
      "[76]\ttrain-rmse:0.149801\tvalid-rmse:0.374766\n",
      "\n",
      "\n",
      "Fold 3.\n",
      "[0]\ttrain-rmse:0.77929\tvalid-rmse:0.80727\n",
      "Multiple eval metrics have been passed: 'valid-rmse' will be used for early stopping.\n",
      "\n",
      "Will train until valid-rmse hasn't improved in 50 rounds.\n",
      "Stopping. Best iteration:\n",
      "[29]\ttrain-rmse:0.242706\tvalid-rmse:0.389468\n",
      "\n",
      "\n",
      "Fold 4.\n",
      "[0]\ttrain-rmse:0.790902\tvalid-rmse:0.760692\n",
      "Multiple eval metrics have been passed: 'valid-rmse' will be used for early stopping.\n",
      "\n",
      "Will train until valid-rmse hasn't improved in 50 rounds.\n",
      "Stopping. Best iteration:\n",
      "[100]\ttrain-rmse:0.112351\tvalid-rmse:0.382188\n",
      "\n",
      "\n",
      "Fold 5.\n",
      "[0]\ttrain-rmse:0.785905\tvalid-rmse:0.781133\n",
      "Multiple eval metrics have been passed: 'valid-rmse' will be used for early stopping.\n",
      "\n",
      "Will train until valid-rmse hasn't improved in 50 rounds.\n",
      "Stopping. Best iteration:\n",
      "[73]\ttrain-rmse:0.140028\tvalid-rmse:0.360477\n",
      "\n",
      "CPU times: user 3.47 s, sys: 31.2 ms, total: 3.5 s\n",
      "Wall time: 1.08 s\n"
     ]
    }
   ],
   "source": [
    "%%time\n",
    "params_xgb = {\n",
    "    'colsample_bytree': 0.8,\n",
    "    'eta': 0.05,\n",
    "    'eval_metric': 'rmse',\n",
    "    'max_depth': 20,\n",
    "    'objective': 'binary:hinge',\n",
    "    'random_state': 1,\n",
    "    'silent': True,\n",
    "    'subsample': 0.8\n",
    "}\n",
    "\n",
    "folds = StratifiedKFold(n_splits=5, shuffle=True, random_state=402)\n",
    "oof_xgb = np.zeros(len(df_train))\n",
    "pred_test_xgb = np.zeros(len(df_test))\n",
    "feature_importance_xgb = pd.DataFrame()\n",
    "\n",
    "for fold_, (trn_idx, val_idx) in enumerate(folds.split(df_train, df_train['Pclass'].values)):\n",
    "    print(\"\\nFold {}.\".format(fold_+1))\n",
    "    trn_data = xgb.DMatrix(data=df_train.iloc[trn_idx][df_train_columns], label=target.iloc[trn_idx])\n",
    "    val_data = xgb.DMatrix(data=df_train.iloc[val_idx][df_train_columns], label=target.iloc[val_idx])\n",
    "    watchlist = [(trn_data, 'train'), (val_data, 'valid')]\n",
    "\n",
    "    num_round = 10000\n",
    "    model_xgb = xgb.train(params_xgb, trn_data, num_round, watchlist, early_stopping_rounds=50, verbose_eval=1000)\n",
    "    oof_xgb[val_idx] = model_xgb.predict(xgb.DMatrix(df_train.iloc[val_idx][df_train_columns]), ntree_limit=model_xgb.best_ntree_limit+50)\n",
    "    \n",
    "    fold_importance_df = pd.DataFrame()\n",
    "    fold_importance_df[\"feature\"] = df_train_columns\n",
    "    fold_importance_df[\"fold\"] = fold_ + 1\n",
    "    feature_importance_lxgb = pd.concat([feature_importance_xgb, fold_importance_df], axis=0)\n",
    "    \n",
    "    pred_test_xgb += model_xgb.predict(xgb.DMatrix(df_test[df_train_columns]), ntree_limit=model_xgb.best_ntree_limit+50) / folds.n_splits"
   ]
  },
  {
   "cell_type": "code",
   "execution_count": 54,
   "metadata": {},
   "outputs": [],
   "source": [
    "pred_train_xgb = model_xgb.predict(xgb.DMatrix(df_train[df_train_columns]))"
   ]
  },
  {
   "cell_type": "code",
   "execution_count": 55,
   "metadata": {},
   "outputs": [
    {
     "name": "stdout",
     "output_type": "stream",
     "text": [
      "CV score: 0.414388\n",
      "Area under curve: 95.1419%\n"
     ]
    }
   ],
   "source": [
    "cv_score_xgb = np.sqrt(mean_squared_error(oof_xgb, target))\n",
    "print(\"CV score: {:.6f}\".format(cv_score_xgb))\n",
    "\n",
    "auc_score_xgb = roc_auc_score(target, pred_train_xgb)\n",
    "print('Area under curve: {:.4f}%'.format(auc_score_xgb*100))"
   ]
  },
  {
   "cell_type": "code",
   "execution_count": 56,
   "metadata": {},
   "outputs": [
    {
     "data": {
      "text/plain": [
       "array([[539,  10],\n",
       "       [ 27, 315]])"
      ]
     },
     "execution_count": 56,
     "metadata": {},
     "output_type": "execute_result"
    }
   ],
   "source": [
    "confusion_matrix(target, pred_train_xgb)"
   ]
  },
  {
   "cell_type": "markdown",
   "metadata": {},
   "source": [
    "#### CatBoost"
   ]
  },
  {
   "cell_type": "code",
   "execution_count": 57,
   "metadata": {},
   "outputs": [],
   "source": [
    "category_columns = df_train[df_train_columns].select_dtypes(include=['int8', 'int16', 'int32', 'int64']).columns.tolist()"
   ]
  },
  {
   "cell_type": "code",
   "execution_count": 58,
   "metadata": {},
   "outputs": [
    {
     "name": "stdout",
     "output_type": "stream",
     "text": [
      "0: Pclass\n",
      "1: Sex\n",
      "3: SibSp\n",
      "4: Parch\n",
      "6: Embarked\n",
      "7: has_cabin\n",
      "8: FamilySize\n",
      "9: IsAlone\n",
      "10: Title\n"
     ]
    }
   ],
   "source": [
    "category_columns_index = []\n",
    "\n",
    "for i in category_columns:\n",
    "    category_columns_index.append(df_train[df_train_columns].columns.get_loc(i))\n",
    "    print(str(df_train[df_train_columns].columns.get_loc(i)) + ': ' + i)"
   ]
  },
  {
   "cell_type": "code",
   "execution_count": 59,
   "metadata": {},
   "outputs": [
    {
     "name": "stdout",
     "output_type": "stream",
     "text": [
      "\n",
      "Fold 1.\n",
      "0:\tlearn: 0.5991950\ttest: 0.6114336\tbest: 0.6114336 (0)\ttotal: 71.6ms\tremaining: 1m 11s\n",
      "100:\tlearn: 0.3404216\ttest: 0.3754492\tbest: 0.3754492 (100)\ttotal: 462ms\tremaining: 4.11s\n",
      "200:\tlearn: 0.3222025\ttest: 0.3695774\tbest: 0.3695774 (200)\ttotal: 881ms\tremaining: 3.5s\n",
      "300:\tlearn: 0.3099924\ttest: 0.3670147\tbest: 0.3668894 (280)\ttotal: 1.43s\tremaining: 3.33s\n",
      "Stopped by overfitting detector  (50 iterations wait)\n",
      "\n",
      "bestTest = 0.3659549613\n",
      "bestIteration = 316\n",
      "\n",
      "Shrink model to first 317 iterations.\n",
      "\n",
      "Fold 2.\n",
      "0:\tlearn: 0.5940925\ttest: 0.6356767\tbest: 0.6356767 (0)\ttotal: 3.65ms\tremaining: 3.65s\n",
      "100:\tlearn: 0.3473277\ttest: 0.3628573\tbest: 0.3628573 (100)\ttotal: 316ms\tremaining: 2.81s\n",
      "Stopped by overfitting detector  (50 iterations wait)\n",
      "\n",
      "bestTest = 0.3589396945\n",
      "bestIteration = 134\n",
      "\n",
      "Shrink model to first 135 iterations.\n",
      "\n",
      "Fold 3.\n",
      "0:\tlearn: 0.5989564\ttest: 0.6138591\tbest: 0.6138591 (0)\ttotal: 3.6ms\tremaining: 3.6s\n",
      "100:\tlearn: 0.3510540\ttest: 0.3806012\tbest: 0.3805860 (97)\ttotal: 326ms\tremaining: 2.9s\n",
      "200:\tlearn: 0.3351635\ttest: 0.3703539\tbest: 0.3703539 (200)\ttotal: 703ms\tremaining: 2.79s\n",
      "300:\tlearn: 0.3222260\ttest: 0.3671574\tbest: 0.3667160 (282)\ttotal: 1.15s\tremaining: 2.67s\n",
      "400:\tlearn: 0.3124105\ttest: 0.3624693\tbest: 0.3624693 (400)\ttotal: 1.65s\tremaining: 2.46s\n",
      "500:\tlearn: 0.3045545\ttest: 0.3607646\tbest: 0.3606887 (479)\ttotal: 2.15s\tremaining: 2.14s\n",
      "600:\tlearn: 0.2992205\ttest: 0.3586358\tbest: 0.3586065 (597)\ttotal: 2.66s\tremaining: 1.76s\n",
      "700:\tlearn: 0.2953109\ttest: 0.3583351\tbest: 0.3580802 (692)\ttotal: 3.14s\tremaining: 1.34s\n",
      "Stopped by overfitting detector  (50 iterations wait)\n",
      "\n",
      "bestTest = 0.3580802228\n",
      "bestIteration = 692\n",
      "\n",
      "Shrink model to first 693 iterations.\n",
      "\n",
      "Fold 4.\n",
      "0:\tlearn: 0.6120133\ttest: 0.5586494\tbest: 0.5586494 (0)\ttotal: 3.35ms\tremaining: 3.35s\n",
      "100:\tlearn: 0.3515622\ttest: 0.3319569\tbest: 0.3319569 (100)\ttotal: 347ms\tremaining: 3.09s\n",
      "200:\tlearn: 0.3374077\ttest: 0.3279310\tbest: 0.3279285 (199)\ttotal: 779ms\tremaining: 3.1s\n",
      "300:\tlearn: 0.3245402\ttest: 0.3262235\tbest: 0.3261086 (294)\ttotal: 1.26s\tremaining: 2.94s\n",
      "400:\tlearn: 0.3162589\ttest: 0.3254978\tbest: 0.3254722 (396)\ttotal: 1.75s\tremaining: 2.61s\n",
      "Stopped by overfitting detector  (50 iterations wait)\n",
      "\n",
      "bestTest = 0.3248061882\n",
      "bestIteration = 415\n",
      "\n",
      "Shrink model to first 416 iterations.\n",
      "\n",
      "Fold 5.\n",
      "0:\tlearn: 0.6038932\ttest: 0.5879317\tbest: 0.5879317 (0)\ttotal: 3.42ms\tremaining: 3.41s\n",
      "100:\tlearn: 0.3460732\ttest: 0.3636785\tbest: 0.3631075 (67)\ttotal: 334ms\tremaining: 2.97s\n",
      "Stopped by overfitting detector  (50 iterations wait)\n",
      "\n",
      "bestTest = 0.3631075029\n",
      "bestIteration = 67\n",
      "\n",
      "Shrink model to first 68 iterations.\n",
      "CPU times: user 24.8 s, sys: 5.09 s, total: 29.9 s\n",
      "Wall time: 9.22 s\n"
     ]
    }
   ],
   "source": [
    "%%time\n",
    "folds = StratifiedKFold(n_splits=5, shuffle=True, random_state=1)\n",
    "oof_cat = np.zeros(len(df_train))\n",
    "pred_test_cat = np.zeros(len(df_test))\n",
    "feature_importance_cat = pd.DataFrame()\n",
    "\n",
    "model_cat = CatBoostRegressor(\n",
    "    iterations=1000,\n",
    "    learning_rate=0.05,\n",
    "    depth=6,\n",
    "    eval_metric='RMSE',\n",
    "    bagging_temperature = 0.9,\n",
    "    od_type='Iter',\n",
    "    #metric_period = 100,\n",
    "    od_wait=50\n",
    ")\n",
    "\n",
    "for fold_, (trn_idx, val_idx) in enumerate(folds.split(df_train, df_train['Pclass'].values)):\n",
    "    print(\"\\nFold {}.\".format(fold_+1))\n",
    "    trn_data = df_train.iloc[trn_idx][df_train_columns]\n",
    "    trn_label = target.iloc[trn_idx]\n",
    "    val_data = df_train.iloc[val_idx][df_train_columns]\n",
    "    val_label = target.iloc[val_idx]\n",
    "\n",
    "    num_round = 10000\n",
    "    model_cat.fit(trn_data, trn_label, eval_set=(val_data, val_label), cat_features=category_columns_index, use_best_model=True, verbose=100)\n",
    "    \n",
    "    oof_cat[val_idx] = model_cat.predict(df_train.iloc[val_idx][df_train_columns])\n",
    "    \n",
    "    fold_importance_df = pd.DataFrame()\n",
    "    fold_importance_df[\"feature\"] = df_train_columns\n",
    "    fold_importance_df[\"importance\"] = model_cat.feature_importances_\n",
    "    fold_importance_df[\"fold\"] = fold_ + 1\n",
    "    feature_importance_cat = pd.concat([feature_importance_cat, fold_importance_df], axis=0)\n",
    "    \n",
    "    pred_test_cat += model_cat.predict(df_test[df_train_columns].fillna(0)) / folds.n_splits"
   ]
  },
  {
   "cell_type": "code",
   "execution_count": 60,
   "metadata": {},
   "outputs": [],
   "source": [
    "pred_train_cat = model_cat.predict(df_train[df_train_columns])\n",
    "pred_train_cat = np.where(pred_train_cat > 0.5, 1, 0)"
   ]
  },
  {
   "cell_type": "code",
   "execution_count": 61,
   "metadata": {},
   "outputs": [
    {
     "name": "stdout",
     "output_type": "stream",
     "text": [
      "CV score: 0.354510\n",
      "Area under curve: 80.5172%\n"
     ]
    }
   ],
   "source": [
    "cv_score_cat = np.sqrt(mean_squared_error(oof_cat, target))\n",
    "print(\"CV score: {:.6f}\".format(cv_score_cat))\n",
    "\n",
    "auc_score_cat = roc_auc_score(target, pred_train_cat)\n",
    "print('Area under curve: {:.4f}%'.format(auc_score_cat*100))"
   ]
  },
  {
   "cell_type": "code",
   "execution_count": 62,
   "metadata": {},
   "outputs": [
    {
     "data": {
      "text/plain": [
       "array([[494,  55],\n",
       "       [ 99, 243]])"
      ]
     },
     "execution_count": 62,
     "metadata": {},
     "output_type": "execute_result"
    }
   ],
   "source": [
    "confusion_matrix(target, pred_train_cat)"
   ]
  },
  {
   "cell_type": "markdown",
   "metadata": {},
   "source": [
    "#### Meta model"
   ]
  },
  {
   "cell_type": "code",
   "execution_count": 63,
   "metadata": {},
   "outputs": [
    {
     "name": "stdout",
     "output_type": "stream",
     "text": [
      "\n",
      "Fold 1.\n",
      "\n",
      "Fold 2.\n",
      "\n",
      "Fold 3.\n",
      "\n",
      "Fold 4.\n",
      "\n",
      "Fold 5.\n"
     ]
    }
   ],
   "source": [
    "train_stack = np.vstack([oof_lgb, oof_xgb, oof_cat]).transpose()\n",
    "test_stack = np.vstack([pred_test_lgb, pred_test_xgb, pred_test_cat]).transpose()\n",
    "\n",
    "folds = KFold(n_splits=5, shuffle=True, random_state=1)\n",
    "oof_stack = np.zeros(train_stack.shape[0])\n",
    "pred_test_stack = np.zeros(test_stack.shape[0])\n",
    "\n",
    "for fold_, (trn_idx, val_idx) in enumerate(folds.split(train_stack, target)):\n",
    "    print(\"\\nFold {}.\".format(fold_+1))\n",
    "    trn_data, trn_y = train_stack[trn_idx], target.iloc[trn_idx].values\n",
    "    val_data, val_y = train_stack[val_idx], target.iloc[val_idx].values\n",
    "\n",
    "    model_ridge = Ridge(alpha=100)\n",
    "    model_ridge.fit(trn_data, trn_y)\n",
    "    \n",
    "    oof_stack[val_idx] = model_ridge.predict(val_data)\n",
    "    pred_test_stack += model_ridge.predict(test_stack) / 5"
   ]
  },
  {
   "cell_type": "code",
   "execution_count": 64,
   "metadata": {},
   "outputs": [
    {
     "name": "stdout",
     "output_type": "stream",
     "text": [
      "CV score: 0.360241\n"
     ]
    }
   ],
   "source": [
    "cv_score_stack = np.sqrt(mean_squared_error(oof_stack, target))\n",
    "print(\"CV score: {:.6f}\".format(cv_score_stack))"
   ]
  },
  {
   "cell_type": "code",
   "execution_count": 65,
   "metadata": {},
   "outputs": [
    {
     "name": "stdout",
     "output_type": "stream",
     "text": [
      "´output/stacking_0.360241.csv´ saved\n"
     ]
    }
   ],
   "source": [
    "sub_df = pd.DataFrame({\n",
    "    \"PassengerId\": df_test.index.values\n",
    "})\n",
    "\n",
    "sub_df[\"Survived\"] = np.where(pred_test_stack > 0.5, 1, 0)\n",
    "sub_df.to_csv(\"output/stacking_{:.6f}.csv\".format(cv_score_stack), index=False)\n",
    "print(\"´output/stacking_{:.6f}.csv´ saved\".format(cv_score_stack))"
   ]
  },
  {
   "cell_type": "code",
   "execution_count": 67,
   "metadata": {},
   "outputs": [
    {
     "name": "stdout",
     "output_type": "stream",
     "text": [
      "CV score: 0.36024\n",
      "LB score: 0.76076\n"
     ]
    }
   ],
   "source": [
    "print('CV score: {:.5f}\\nLB score: {:.5f}'.format(cv_score_stack, 0.76076))"
   ]
  },
  {
   "cell_type": "markdown",
   "metadata": {},
   "source": [
    "### Machine Learning Algorithms\n",
    "Inspired by [A Data Science Framework: To Achieve 99% Accuracy](https://www.kaggle.com/ldfreeman3/a-data-science-framework-to-achieve-99-accuracy)"
   ]
  },
  {
   "cell_type": "code",
   "execution_count": 18,
   "metadata": {
    "scrolled": false
   },
   "outputs": [],
   "source": [
    "MLA = [\n",
    "    #Ensemble Methods\n",
    "    ensemble.AdaBoostClassifier(),\n",
    "    ensemble.BaggingClassifier(),\n",
    "    ensemble.ExtraTreesClassifier(),\n",
    "    ensemble.GradientBoostingClassifier(),\n",
    "    ensemble.RandomForestClassifier(),\n",
    "\n",
    "    #Gaussian Processes\n",
    "    gaussian_process.GaussianProcessClassifier(),\n",
    "\n",
    "    #GLM\n",
    "    linear_model.LogisticRegressionCV(),\n",
    "    linear_model.PassiveAggressiveClassifier(),\n",
    "    linear_model.RidgeClassifierCV(),\n",
    "    linear_model.SGDClassifier(),\n",
    "    linear_model.Perceptron(),\n",
    "\n",
    "    #Navies Bayes\n",
    "    naive_bayes.BernoulliNB(),\n",
    "    naive_bayes.GaussianNB(),\n",
    "\n",
    "    #Nearest Neighbor\n",
    "    neighbors.KNeighborsClassifier(),\n",
    "\n",
    "    #SVM\n",
    "    svm.SVC(probability=True),\n",
    "    svm.NuSVC(probability=True),\n",
    "    svm.LinearSVC(),\n",
    "\n",
    "    #Trees\n",
    "    tree.DecisionTreeClassifier(),\n",
    "    tree.ExtraTreeClassifier(),\n",
    "\n",
    "    #Discriminant Analysis\n",
    "    discriminant_analysis.LinearDiscriminantAnalysis(),\n",
    "    #discriminant_analysis.QuadraticDiscriminantAnalysis(),\n",
    "    \n",
    "    XGBClassifier()\n",
    "]\n",
    "\n",
    "#split dataset in cross-validation with this splitter class: http://scikit-learn.org/stable/modules/generated/sklearn.model_selection.ShuffleSplit.html#sklearn.model_selection.ShuffleSplit\n",
    "#note: this is an alternative to train_test_split\n",
    "cv_split = model_selection.ShuffleSplit(n_splits = 10, test_size = .3, train_size = .6, random_state = 0 ) # run model 10x with 60/30 split intentionally leaving out 10%\n",
    "\n",
    "#create table to compare MLA metrics\n",
    "MLA_columns = ['MLA Name', 'MLA Parameters','MLA Train Accuracy Mean', 'MLA Test Accuracy Mean', 'MLA Test Accuracy 3*STD' ,'MLA Time']\n",
    "MLA_compare = pd.DataFrame(columns = MLA_columns)\n",
    "\n",
    "#create table to compare MLA predictions\n",
    "MLA_predict = df_train[df_train_columns]\n",
    "\n",
    "#index through MLA and save performance to table\n",
    "row_index = 0\n",
    "for alg in MLA:\n",
    "\n",
    "    #set name and parameters\n",
    "    MLA_name = alg.__class__.__name__\n",
    "    MLA_compare.loc[row_index, 'MLA Name'] = MLA_name\n",
    "    MLA_compare.loc[row_index, 'MLA Parameters'] = str(alg.get_params())\n",
    "    \n",
    "    #score model with cross validation: http://scikit-learn.org/stable/modules/generated/sklearn.model_selection.cross_validate.html#sklearn.model_selection.cross_validate\n",
    "    cv_results = model_selection.cross_validate(alg, df_train[df_train_columns], target, cv  = cv_split)\n",
    "\n",
    "    MLA_compare.loc[row_index, 'MLA Time'] = cv_results['fit_time'].mean()\n",
    "    MLA_compare.loc[row_index, 'MLA Train Accuracy Mean'] = cv_results['train_score'].mean()\n",
    "    MLA_compare.loc[row_index, 'MLA Test Accuracy Mean'] = cv_results['test_score'].mean()   \n",
    "    #if this is a non-bias random sample, then +/-3 standard deviations (std) from the mean, should statistically capture 99.7% of the subsets\n",
    "    MLA_compare.loc[row_index, 'MLA Test Accuracy 3*STD'] = cv_results['test_score'].std()*3   #let's know the worst that can happen!\n",
    "\n",
    "    #save MLA predictions - see section 6 for usage\n",
    "    alg.fit(df_train[df_train_columns], target)\n",
    "    MLA_predict[MLA_name] = alg.predict(df_train[df_train_columns])\n",
    "\n",
    "    row_index+=1\n",
    "    \n",
    "#print and sort table: https://pandas.pydata.org/pandas-docs/stable/generated/pandas.DataFrame.sort_values.html\n",
    "MLA_compare.sort_values(by = ['MLA Test Accuracy Mean'], ascending = False, inplace = True)"
   ]
  },
  {
   "cell_type": "code",
   "execution_count": 19,
   "metadata": {},
   "outputs": [
    {
     "data": {
      "text/html": [
       "<div>\n",
       "<style scoped>\n",
       "    .dataframe tbody tr th:only-of-type {\n",
       "        vertical-align: middle;\n",
       "    }\n",
       "\n",
       "    .dataframe tbody tr th {\n",
       "        vertical-align: top;\n",
       "    }\n",
       "\n",
       "    .dataframe thead th {\n",
       "        text-align: right;\n",
       "    }\n",
       "</style>\n",
       "<table border=\"1\" class=\"dataframe\">\n",
       "  <thead>\n",
       "    <tr style=\"text-align: right;\">\n",
       "      <th></th>\n",
       "      <th>MLA Name</th>\n",
       "      <th>MLA Parameters</th>\n",
       "      <th>MLA Train Accuracy Mean</th>\n",
       "      <th>MLA Test Accuracy Mean</th>\n",
       "      <th>MLA Test Accuracy 3*STD</th>\n",
       "      <th>MLA Time</th>\n",
       "    </tr>\n",
       "  </thead>\n",
       "  <tbody>\n",
       "    <tr>\n",
       "      <th>3</th>\n",
       "      <td>GradientBoostingClassifier</td>\n",
       "      <td>{'criterion': 'friedman_mse', 'init': None, 'l...</td>\n",
       "      <td>0.917603</td>\n",
       "      <td>0.836567</td>\n",
       "      <td>0.058766</td>\n",
       "      <td>0.0674631</td>\n",
       "    </tr>\n",
       "    <tr>\n",
       "      <th>20</th>\n",
       "      <td>XGBClassifier</td>\n",
       "      <td>{'base_score': 0.5, 'booster': 'gbtree', 'cols...</td>\n",
       "      <td>0.894944</td>\n",
       "      <td>0.833209</td>\n",
       "      <td>0.0684668</td>\n",
       "      <td>0.0353651</td>\n",
       "    </tr>\n",
       "    <tr>\n",
       "      <th>0</th>\n",
       "      <td>AdaBoostClassifier</td>\n",
       "      <td>{'algorithm': 'SAMME.R', 'base_estimator': Non...</td>\n",
       "      <td>0.850749</td>\n",
       "      <td>0.814925</td>\n",
       "      <td>0.0629658</td>\n",
       "      <td>0.0564868</td>\n",
       "    </tr>\n",
       "    <tr>\n",
       "      <th>4</th>\n",
       "      <td>RandomForestClassifier</td>\n",
       "      <td>{'bootstrap': True, 'class_weight': None, 'cri...</td>\n",
       "      <td>0.97191</td>\n",
       "      <td>0.811194</td>\n",
       "      <td>0.0643438</td>\n",
       "      <td>0.0117211</td>\n",
       "    </tr>\n",
       "    <tr>\n",
       "      <th>6</th>\n",
       "      <td>LogisticRegressionCV</td>\n",
       "      <td>{'Cs': 10, 'class_weight': None, 'cv': 'warn',...</td>\n",
       "      <td>0.814607</td>\n",
       "      <td>0.808582</td>\n",
       "      <td>0.0581767</td>\n",
       "      <td>0.357499</td>\n",
       "    </tr>\n",
       "    <tr>\n",
       "      <th>8</th>\n",
       "      <td>RidgeClassifierCV</td>\n",
       "      <td>{'alphas': array([ 0.1,  1. , 10. ]), 'class_w...</td>\n",
       "      <td>0.811423</td>\n",
       "      <td>0.801119</td>\n",
       "      <td>0.0445095</td>\n",
       "      <td>0.00830157</td>\n",
       "    </tr>\n",
       "    <tr>\n",
       "      <th>1</th>\n",
       "      <td>BaggingClassifier</td>\n",
       "      <td>{'base_estimator': None, 'bootstrap': True, 'b...</td>\n",
       "      <td>0.971348</td>\n",
       "      <td>0.800746</td>\n",
       "      <td>0.0416442</td>\n",
       "      <td>0.0165063</td>\n",
       "    </tr>\n",
       "    <tr>\n",
       "      <th>19</th>\n",
       "      <td>LinearDiscriminantAnalysis</td>\n",
       "      <td>{'n_components': None, 'priors': None, 'shrink...</td>\n",
       "      <td>0.810112</td>\n",
       "      <td>0.8</td>\n",
       "      <td>0.0445517</td>\n",
       "      <td>0.00360346</td>\n",
       "    </tr>\n",
       "    <tr>\n",
       "      <th>2</th>\n",
       "      <td>ExtraTreesClassifier</td>\n",
       "      <td>{'bootstrap': False, 'class_weight': None, 'cr...</td>\n",
       "      <td>0.988577</td>\n",
       "      <td>0.797388</td>\n",
       "      <td>0.0566489</td>\n",
       "      <td>0.0114278</td>\n",
       "    </tr>\n",
       "    <tr>\n",
       "      <th>17</th>\n",
       "      <td>DecisionTreeClassifier</td>\n",
       "      <td>{'class_weight': None, 'criterion': 'gini', 'm...</td>\n",
       "      <td>0.988577</td>\n",
       "      <td>0.78097</td>\n",
       "      <td>0.0664232</td>\n",
       "      <td>0.00567245</td>\n",
       "    </tr>\n",
       "    <tr>\n",
       "      <th>18</th>\n",
       "      <td>ExtraTreeClassifier</td>\n",
       "      <td>{'class_weight': None, 'criterion': 'gini', 'm...</td>\n",
       "      <td>0.988577</td>\n",
       "      <td>0.776866</td>\n",
       "      <td>0.0896641</td>\n",
       "      <td>0.00255084</td>\n",
       "    </tr>\n",
       "    <tr>\n",
       "      <th>11</th>\n",
       "      <td>BernoulliNB</td>\n",
       "      <td>{'alpha': 1.0, 'binarize': 0.0, 'class_prior':...</td>\n",
       "      <td>0.758614</td>\n",
       "      <td>0.748881</td>\n",
       "      <td>0.0848165</td>\n",
       "      <td>0.00538623</td>\n",
       "    </tr>\n",
       "    <tr>\n",
       "      <th>13</th>\n",
       "      <td>KNeighborsClassifier</td>\n",
       "      <td>{'algorithm': 'auto', 'leaf_size': 30, 'metric...</td>\n",
       "      <td>0.794757</td>\n",
       "      <td>0.720522</td>\n",
       "      <td>0.0603752</td>\n",
       "      <td>0.00274487</td>\n",
       "    </tr>\n",
       "    <tr>\n",
       "      <th>5</th>\n",
       "      <td>GaussianProcessClassifier</td>\n",
       "      <td>{'copy_X_train': True, 'kernel': None, 'max_it...</td>\n",
       "      <td>0.961236</td>\n",
       "      <td>0.720149</td>\n",
       "      <td>0.0671642</td>\n",
       "      <td>0.335646</td>\n",
       "    </tr>\n",
       "    <tr>\n",
       "      <th>15</th>\n",
       "      <td>NuSVC</td>\n",
       "      <td>{'cache_size': 200, 'class_weight': None, 'coe...</td>\n",
       "      <td>0.927341</td>\n",
       "      <td>0.718284</td>\n",
       "      <td>0.0978758</td>\n",
       "      <td>0.0675822</td>\n",
       "    </tr>\n",
       "    <tr>\n",
       "      <th>14</th>\n",
       "      <td>SVC</td>\n",
       "      <td>{'C': 1.0, 'cache_size': 200, 'class_weight': ...</td>\n",
       "      <td>0.904307</td>\n",
       "      <td>0.710821</td>\n",
       "      <td>0.0958055</td>\n",
       "      <td>0.0587052</td>\n",
       "    </tr>\n",
       "    <tr>\n",
       "      <th>16</th>\n",
       "      <td>LinearSVC</td>\n",
       "      <td>{'C': 1.0, 'class_weight': None, 'dual': True,...</td>\n",
       "      <td>0.724532</td>\n",
       "      <td>0.709701</td>\n",
       "      <td>0.286086</td>\n",
       "      <td>0.0286076</td>\n",
       "    </tr>\n",
       "    <tr>\n",
       "      <th>9</th>\n",
       "      <td>SGDClassifier</td>\n",
       "      <td>{'alpha': 0.0001, 'average': False, 'class_wei...</td>\n",
       "      <td>0.697378</td>\n",
       "      <td>0.692537</td>\n",
       "      <td>0.142933</td>\n",
       "      <td>0.00527015</td>\n",
       "    </tr>\n",
       "    <tr>\n",
       "      <th>7</th>\n",
       "      <td>PassiveAggressiveClassifier</td>\n",
       "      <td>{'C': 1.0, 'average': False, 'class_weight': N...</td>\n",
       "      <td>0.647753</td>\n",
       "      <td>0.639925</td>\n",
       "      <td>0.310269</td>\n",
       "      <td>0.00524371</td>\n",
       "    </tr>\n",
       "    <tr>\n",
       "      <th>12</th>\n",
       "      <td>GaussianNB</td>\n",
       "      <td>{'priors': None, 'var_smoothing': 1e-09}</td>\n",
       "      <td>0.615169</td>\n",
       "      <td>0.614925</td>\n",
       "      <td>0.0418243</td>\n",
       "      <td>0.00349872</td>\n",
       "    </tr>\n",
       "    <tr>\n",
       "      <th>10</th>\n",
       "      <td>Perceptron</td>\n",
       "      <td>{'alpha': 0.0001, 'class_weight': None, 'early...</td>\n",
       "      <td>0.609925</td>\n",
       "      <td>0.599254</td>\n",
       "      <td>0.377728</td>\n",
       "      <td>0.00504</td>\n",
       "    </tr>\n",
       "  </tbody>\n",
       "</table>\n",
       "</div>"
      ],
      "text/plain": [
       "                       MLA Name  \\\n",
       "3    GradientBoostingClassifier   \n",
       "20                XGBClassifier   \n",
       "0            AdaBoostClassifier   \n",
       "4        RandomForestClassifier   \n",
       "6          LogisticRegressionCV   \n",
       "8             RidgeClassifierCV   \n",
       "1             BaggingClassifier   \n",
       "19   LinearDiscriminantAnalysis   \n",
       "2          ExtraTreesClassifier   \n",
       "17       DecisionTreeClassifier   \n",
       "18          ExtraTreeClassifier   \n",
       "11                  BernoulliNB   \n",
       "13         KNeighborsClassifier   \n",
       "5     GaussianProcessClassifier   \n",
       "15                        NuSVC   \n",
       "14                          SVC   \n",
       "16                    LinearSVC   \n",
       "9                 SGDClassifier   \n",
       "7   PassiveAggressiveClassifier   \n",
       "12                   GaussianNB   \n",
       "10                   Perceptron   \n",
       "\n",
       "                                       MLA Parameters MLA Train Accuracy Mean  \\\n",
       "3   {'criterion': 'friedman_mse', 'init': None, 'l...                0.917603   \n",
       "20  {'base_score': 0.5, 'booster': 'gbtree', 'cols...                0.894944   \n",
       "0   {'algorithm': 'SAMME.R', 'base_estimator': Non...                0.850749   \n",
       "4   {'bootstrap': True, 'class_weight': None, 'cri...                 0.97191   \n",
       "6   {'Cs': 10, 'class_weight': None, 'cv': 'warn',...                0.814607   \n",
       "8   {'alphas': array([ 0.1,  1. , 10. ]), 'class_w...                0.811423   \n",
       "1   {'base_estimator': None, 'bootstrap': True, 'b...                0.971348   \n",
       "19  {'n_components': None, 'priors': None, 'shrink...                0.810112   \n",
       "2   {'bootstrap': False, 'class_weight': None, 'cr...                0.988577   \n",
       "17  {'class_weight': None, 'criterion': 'gini', 'm...                0.988577   \n",
       "18  {'class_weight': None, 'criterion': 'gini', 'm...                0.988577   \n",
       "11  {'alpha': 1.0, 'binarize': 0.0, 'class_prior':...                0.758614   \n",
       "13  {'algorithm': 'auto', 'leaf_size': 30, 'metric...                0.794757   \n",
       "5   {'copy_X_train': True, 'kernel': None, 'max_it...                0.961236   \n",
       "15  {'cache_size': 200, 'class_weight': None, 'coe...                0.927341   \n",
       "14  {'C': 1.0, 'cache_size': 200, 'class_weight': ...                0.904307   \n",
       "16  {'C': 1.0, 'class_weight': None, 'dual': True,...                0.724532   \n",
       "9   {'alpha': 0.0001, 'average': False, 'class_wei...                0.697378   \n",
       "7   {'C': 1.0, 'average': False, 'class_weight': N...                0.647753   \n",
       "12           {'priors': None, 'var_smoothing': 1e-09}                0.615169   \n",
       "10  {'alpha': 0.0001, 'class_weight': None, 'early...                0.609925   \n",
       "\n",
       "   MLA Test Accuracy Mean MLA Test Accuracy 3*STD    MLA Time  \n",
       "3                0.836567                0.058766   0.0674631  \n",
       "20               0.833209               0.0684668   0.0353651  \n",
       "0                0.814925               0.0629658   0.0564868  \n",
       "4                0.811194               0.0643438   0.0117211  \n",
       "6                0.808582               0.0581767    0.357499  \n",
       "8                0.801119               0.0445095  0.00830157  \n",
       "1                0.800746               0.0416442   0.0165063  \n",
       "19                    0.8               0.0445517  0.00360346  \n",
       "2                0.797388               0.0566489   0.0114278  \n",
       "17                0.78097               0.0664232  0.00567245  \n",
       "18               0.776866               0.0896641  0.00255084  \n",
       "11               0.748881               0.0848165  0.00538623  \n",
       "13               0.720522               0.0603752  0.00274487  \n",
       "5                0.720149               0.0671642    0.335646  \n",
       "15               0.718284               0.0978758   0.0675822  \n",
       "14               0.710821               0.0958055   0.0587052  \n",
       "16               0.709701                0.286086   0.0286076  \n",
       "9                0.692537                0.142933  0.00527015  \n",
       "7                0.639925                0.310269  0.00524371  \n",
       "12               0.614925               0.0418243  0.00349872  \n",
       "10               0.599254                0.377728     0.00504  "
      ]
     },
     "execution_count": 19,
     "metadata": {},
     "output_type": "execute_result"
    }
   ],
   "source": [
    "MLA_compare"
   ]
  },
  {
   "cell_type": "code",
   "execution_count": 44,
   "metadata": {},
   "outputs": [
    {
     "data": {
      "image/png": "[encoded data removed]",
      "text/plain": [
       "<matplotlib.figure.Figure at 0x7ff54d5cfd68>"
      ]
     },
     "metadata": {
      "needs_background": "light"
     },
     "output_type": "display_data"
    }
   ],
   "source": [
    "sns.palplot(sns.cubehelix_palette(len(MLA_compare), start=2, rot=0, dark=0.2, light=.85, reverse=False))"
   ]
  },
  {
   "cell_type": "code",
   "execution_count": 46,
   "metadata": {},
   "outputs": [
    {
     "data": {
      "image/png": "[encoded data removed]",
      "text/plain": [
       "<matplotlib.figure.Figure at 0x7ff5500b1be0>"
      ]
     },
     "metadata": {
      "needs_background": "light"
     },
     "output_type": "display_data"
    }
   ],
   "source": [
    "plt.figure(figsize=(10, 8))\n",
    "sns.barplot(x='MLA Test Accuracy Mean', y = 'MLA Name', data = MLA_compare, palette=sns.cubehelix_palette(len(MLA_compare), start=2, rot=0, dark=0.2, light=.85, reverse=False))\n",
    "\n",
    "plt.title('Machine Learning Algorithm Accuracy Score \\n')\n",
    "plt.xlabel('Accuracy Score (%)')\n",
    "plt.ylabel('Algorithm')\n",
    "plt.tight_layout()"
   ]
  },
  {
   "cell_type": "markdown",
   "metadata": {},
   "source": [
    "#### GridSearch"
   ]
  },
  {
   "cell_type": "code",
   "execution_count": 48,
   "metadata": {},
   "outputs": [
    {
     "name": "stdout",
     "output_type": "stream",
     "text": [
      "BEFORE DT Parameters:  {'class_weight': None, 'criterion': 'gini', 'max_depth': None, 'max_features': None, 'max_leaf_nodes': None, 'min_impurity_decrease': 0.0, 'min_impurity_split': None, 'min_samples_leaf': 1, 'min_samples_split': 2, 'min_weight_fraction_leaf': 0.0, 'presort': False, 'random_state': 0, 'splitter': 'best'}\n",
      "BEFORE DT Training w/bin score mean: 98.86\n",
      "BEFORE DT Test w/bin score mean: 77.76\n",
      "BEFORE DT Test w/bin score 3*std: +/- 5.62\n",
      "----------\n",
      "AFTER DT Parameters:  {'criterion': 'gini', 'max_depth': 4, 'random_state': 0}\n",
      "AFTER DT Training w/bin score mean: 89.69\n",
      "AFTER DT Test w/bin score mean: 84.67\n",
      "AFTER DT Test w/bin score 3*std: +/- 8.46\n"
     ]
    }
   ],
   "source": [
    "dtree = tree.DecisionTreeClassifier(random_state = 0)\n",
    "base_results = model_selection.cross_validate(dtree, df_train[df_train_columns], target, cv  = cv_split)\n",
    "dtree.fit(df_train[df_train_columns], target)\n",
    "\n",
    "print('BEFORE DT Parameters: ', dtree.get_params())\n",
    "print(\"BEFORE DT Training w/bin score mean: {:.2f}\". format(base_results['train_score'].mean()*100)) \n",
    "print(\"BEFORE DT Test w/bin score mean: {:.2f}\". format(base_results['test_score'].mean()*100))\n",
    "print(\"BEFORE DT Test w/bin score 3*std: +/- {:.2f}\". format(base_results['test_score'].std()*100*3))\n",
    "print('-'*10)\n",
    "\n",
    "param_grid = {\n",
    "    'criterion': ['gini', 'entropy'],  #scoring methodology; two supported formulas for calculating information gain - default is gini\n",
    "    'max_depth': [2, 4, 6, 8, 10, None], #max depth tree can grow; default is none\n",
    "    'random_state': [0] #seed or control random number generator: https://www.quora.com/What-is-seed-in-random-number-generation\n",
    "}\n",
    "\n",
    "tune_model = model_selection.GridSearchCV(tree.DecisionTreeClassifier(), param_grid=param_grid, scoring = 'roc_auc', cv = cv_split)\n",
    "tune_model.fit(df_train[df_train_columns], target)\n",
    "\n",
    "print('AFTER DT Parameters: ', tune_model.best_params_)\n",
    "print(\"AFTER DT Training w/bin score mean: {:.2f}\". format(tune_model.cv_results_['mean_train_score'][tune_model.best_index_]*100)) \n",
    "print(\"AFTER DT Test w/bin score mean: {:.2f}\". format(tune_model.cv_results_['mean_test_score'][tune_model.best_index_]*100))\n",
    "print(\"AFTER DT Test w/bin score 3*std: +/- {:.2f}\". format(tune_model.cv_results_['std_test_score'][tune_model.best_index_]*100*3))"
   ]
  },
  {
   "cell_type": "markdown",
   "metadata": {},
   "source": [
    "#### Feature selection"
   ]
  },
  {
   "cell_type": "code",
   "execution_count": 51,
   "metadata": {},
   "outputs": [
    {
     "name": "stdout",
     "output_type": "stream",
     "text": [
      "BEFORE DT RFE Training Shape Old:  (891, 11)\n",
      "BEFORE DT RFE Training Columns Old:  ['Pclass' 'Sex' 'Age' 'SibSp' 'Parch' 'Fare' 'Embarked' 'has_cabin'\n",
      " 'FamilySize' 'IsAlone' 'Title']\n",
      "BEFORE DT RFE Training w/bin score mean: 98.86\n",
      "BEFORE DT RFE Test w/bin score mean: 77.76\n",
      "BEFORE DT RFE Test w/bin score 3*std: +/- 5.62\n",
      "----------\n",
      "AFTER DT RFE Training Shape New:  (891, 6)\n",
      "AFTER DT RFE Training Columns New:  ['Pclass' 'Sex' 'Age' 'Fare' 'has_cabin' 'FamilySize']\n",
      "AFTER DT RFE Training w/bin score mean: 98.75\n",
      "AFTER DT RFE Test w/bin score mean: 78.84\n",
      "AFTER DT RFE Test w/bin score 3*std: +/- 7.20\n",
      "----------\n",
      "AFTER DT RFE Tuned Parameters:  {'criterion': 'gini', 'max_depth': 4, 'random_state': 0}\n",
      "AFTER DT RFE Tuned Training w/bin score mean: 89.43\n",
      "AFTER DT RFE Tuned Test w/bin score mean: 84.21\n",
      "AFTER DT RFE Tuned Test w/bin score 3*std: +/- 7.68\n",
      "----------\n"
     ]
    }
   ],
   "source": [
    "print('BEFORE DT RFE Training Shape Old: ', df_train[df_train_columns].shape) \n",
    "print('BEFORE DT RFE Training Columns Old: ', df_train[df_train_columns].columns.values)\n",
    "\n",
    "print(\"BEFORE DT RFE Training w/bin score mean: {:.2f}\". format(base_results['train_score'].mean()*100)) \n",
    "print(\"BEFORE DT RFE Test w/bin score mean: {:.2f}\". format(base_results['test_score'].mean()*100))\n",
    "print(\"BEFORE DT RFE Test w/bin score 3*std: +/- {:.2f}\". format(base_results['test_score'].std()*100*3))\n",
    "print('-'*10)\n",
    "\n",
    "#feature selection\n",
    "dtree_rfe = feature_selection.RFECV(dtree, step = 1, scoring = 'accuracy', cv = cv_split)\n",
    "dtree_rfe.fit(df_train[df_train_columns], target)\n",
    "\n",
    "#transform x&y to reduced features and fit new model\n",
    "#alternative: can use pipeline to reduce fit and transform steps: http://scikit-learn.org/stable/modules/generated/sklearn.pipeline.Pipeline.html\n",
    "X_rfe = df_train[df_train_columns].columns.values[dtree_rfe.get_support()]\n",
    "rfe_results = model_selection.cross_validate(dtree, df_train[X_rfe], target, cv  = cv_split)\n",
    "\n",
    "#print(dtree_rfe.grid_scores_)\n",
    "print('AFTER DT RFE Training Shape New: ', df_train[X_rfe].shape) \n",
    "print('AFTER DT RFE Training Columns New: ', X_rfe)\n",
    "\n",
    "print(\"AFTER DT RFE Training w/bin score mean: {:.2f}\". format(rfe_results['train_score'].mean()*100)) \n",
    "print(\"AFTER DT RFE Test w/bin score mean: {:.2f}\". format(rfe_results['test_score'].mean()*100))\n",
    "print(\"AFTER DT RFE Test w/bin score 3*std: +/- {:.2f}\". format(rfe_results['test_score'].std()*100*3))\n",
    "print('-'*10)\n",
    "\n",
    "#tune rfe model\n",
    "rfe_tune_model = model_selection.GridSearchCV(tree.DecisionTreeClassifier(), param_grid=param_grid, scoring = 'roc_auc', cv = cv_split)\n",
    "rfe_tune_model.fit(df_train[X_rfe], target)\n",
    "\n",
    "#print(rfe_tune_model.cv_results_.keys())\n",
    "#print(rfe_tune_model.cv_results_['params'])\n",
    "print('AFTER DT RFE Tuned Parameters: ', rfe_tune_model.best_params_)\n",
    "#print(rfe_tune_model.cv_results_['mean_train_score'])\n",
    "print(\"AFTER DT RFE Tuned Training w/bin score mean: {:.2f}\". format(rfe_tune_model.cv_results_['mean_train_score'][tune_model.best_index_]*100)) \n",
    "#print(rfe_tune_model.cv_results_['mean_test_score'])\n",
    "print(\"AFTER DT RFE Tuned Test w/bin score mean: {:.2f}\". format(rfe_tune_model.cv_results_['mean_test_score'][tune_model.best_index_]*100))\n",
    "print(\"AFTER DT RFE Tuned Test w/bin score 3*std: +/- {:.2f}\". format(rfe_tune_model.cv_results_['std_test_score'][tune_model.best_index_]*100*3))"
   ]
  },
  {
   "cell_type": "raw",
   "metadata": {},
   "source": [
    "dot_data = tree.export_graphviz(dtree, out_file=None, \n",
    "                                feature_names = data1_x_bin, class_names = True,\n",
    "                                filled = True, rounded = True)\n",
    "graph = graphviz.Source(dot_data) "
   ]
  },
  {
   "cell_type": "code",
   "execution_count": 55,
   "metadata": {},
   "outputs": [
    {
     "name": "stdout",
     "output_type": "stream",
     "text": [
      "Hard Voting Training w/bin score mean: 93.41\n",
      "Hard Voting Test w/bin score mean: 82.57\n",
      "Hard Voting Test w/bin score 3*std: +/- 6.92\n",
      "----------\n",
      "Soft Voting Training w/bin score mean: 61.52\n",
      "Soft Voting Test w/bin score mean: 61.49\n",
      "Soft Voting Test w/bin score 3*std: +/- 4.18\n"
     ]
    }
   ],
   "source": [
    "vote_est = [\n",
    "    #Ensemble Methods: http://scikit-learn.org/stable/modules/ensemble.html\n",
    "    ('ada', ensemble.AdaBoostClassifier()),\n",
    "    ('bc', ensemble.BaggingClassifier()),\n",
    "    ('etc',ensemble.ExtraTreesClassifier()),\n",
    "    ('gbc', ensemble.GradientBoostingClassifier()),\n",
    "    ('rfc', ensemble.RandomForestClassifier()),\n",
    "\n",
    "    #Gaussian Processes: http://scikit-learn.org/stable/modules/gaussian_process.html#gaussian-process-classification-gpc\n",
    "    ('gpc', gaussian_process.GaussianProcessClassifier()),\n",
    "    \n",
    "    #GLM: http://scikit-learn.org/stable/modules/linear_model.html#logistic-regression\n",
    "    ('lr', linear_model.LogisticRegressionCV()),\n",
    "    \n",
    "    #Navies Bayes: http://scikit-learn.org/stable/modules/naive_bayes.html\n",
    "    ('bnb', naive_bayes.BernoulliNB()),\n",
    "    ('gnb', naive_bayes.GaussianNB()),\n",
    "    \n",
    "    #Nearest Neighbor: http://scikit-learn.org/stable/modules/neighbors.html\n",
    "    ('knn', neighbors.KNeighborsClassifier()),\n",
    "    \n",
    "    #SVM: http://scikit-learn.org/stable/modules/svm.html\n",
    "    ('svc', svm.SVC(probability=True)),\n",
    "    \n",
    "    #xgboost: http://xgboost.readthedocs.io/en/latest/model.html\n",
    "   ('xgb', XGBClassifier())\n",
    "]\n",
    "\n",
    "#Hard Vote or majority rules\n",
    "vote_hard = ensemble.VotingClassifier(estimators = vote_est , voting = 'hard')\n",
    "vote_hard_cv = model_selection.cross_validate(vote_hard, df_train[df_train_columns], target, cv  = cv_split)\n",
    "vote_hard.fit(df_train[df_train_columns], target)\n",
    "\n",
    "print(\"Hard Voting Training w/bin score mean: {:.2f}\". format(vote_hard_cv['train_score'].mean()*100)) \n",
    "print(\"Hard Voting Test w/bin score mean: {:.2f}\". format(vote_hard_cv['test_score'].mean()*100))\n",
    "print(\"Hard Voting Test w/bin score 3*std: +/- {:.2f}\". format(vote_hard_cv['test_score'].std()*100*3))\n",
    "print('-'*10)\n",
    "\n",
    "\n",
    "#Soft Vote or weighted probabilities\n",
    "vote_soft = ensemble.VotingClassifier(estimators = vote_est , voting = 'soft')\n",
    "vote_soft_cv = model_selection.cross_validate(vote_soft, df_train[df_train_columns], target, cv  = cv_split)\n",
    "vote_soft.fit(df_train[df_train_columns], target)\n",
    "\n",
    "print(\"Soft Voting Training w/bin score mean: {:.2f}\". format(vote_soft_cv['train_score'].mean()*100)) \n",
    "print(\"Soft Voting Test w/bin score mean: {:.2f}\". format(vote_soft_cv['test_score'].mean()*100))\n",
    "print(\"Soft Voting Test w/bin score 3*std: +/- {:.2f}\". format(vote_soft_cv['test_score'].std()*100*3))"
   ]
  },
  {
   "cell_type": "code",
   "execution_count": null,
   "metadata": {},
   "outputs": [],
   "source": [
    "grid_n_estimator = [50,100,300]\n",
    "grid_ratio = [.1, .25, .5, .75, 1.0]\n",
    "grid_learn = [.01, .03, .05, .1, .25]\n",
    "grid_max_depth = [2, 4, 6, None]\n",
    "grid_min_samples = [5, 10, .03, .05, .10]\n",
    "grid_criterion = ['gini', 'entropy']\n",
    "grid_bool = [True, False]\n",
    "grid_seed = [0]\n",
    "\n",
    "vote_param = [{\n",
    "    #http://scikit-learn.org/stable/modules/generated/sklearn.ensemble.AdaBoostClassifier.html\n",
    "    'ada__n_estimators': grid_n_estimator,\n",
    "    'ada__learning_rate': grid_ratio,\n",
    "    'ada__algorithm': ['SAMME', 'SAMME.R'],\n",
    "    'ada__random_state': grid_seed,\n",
    "\n",
    "    #http://scikit-learn.org/stable/modules/generated/sklearn.ensemble.BaggingClassifier.html#sklearn.ensemble.BaggingClassifier\n",
    "    'bc__n_estimators': grid_n_estimator,\n",
    "    'bc__max_samples': grid_ratio,\n",
    "    'bc__oob_score': grid_bool, \n",
    "    'bc__random_state': grid_seed,\n",
    "\n",
    "    #http://scikit-learn.org/stable/modules/generated/sklearn.ensemble.ExtraTreesClassifier.html#sklearn.ensemble.ExtraTreesClassifier\n",
    "    'etc__n_estimators': grid_n_estimator,\n",
    "    'etc__criterion': grid_criterion,\n",
    "    'etc__max_depth': grid_max_depth,\n",
    "    'etc__random_state': grid_seed,\n",
    "\n",
    "\n",
    "    #http://scikit-learn.org/stable/modules/generated/sklearn.ensemble.GradientBoostingClassifier.html#sklearn.ensemble.GradientBoostingClassifier\n",
    "    'gbc__loss': ['deviance', 'exponential'],\n",
    "    'gbc__learning_rate': grid_ratio,\n",
    "    'gbc__n_estimators': grid_n_estimator,\n",
    "    'gbc__criterion': ['friedman_mse', 'mse', 'mae'],\n",
    "    'gbc__max_depth': grid_max_depth,\n",
    "    'gbc__min_samples_split': grid_min_samples,\n",
    "    'gbc__min_samples_leaf': grid_min_samples,      \n",
    "    'gbc__random_state': grid_seed,\n",
    "\n",
    "    #http://scikit-learn.org/stable/modules/generated/sklearn.ensemble.RandomForestClassifier.html#sklearn.ensemble.RandomForestClassifier\n",
    "    'rfc__n_estimators': grid_n_estimator,\n",
    "    'rfc__criterion': grid_criterion,\n",
    "    'rfc__max_depth': grid_max_depth,\n",
    "    'rfc__min_samples_split': grid_min_samples,\n",
    "    'rfc__min_samples_leaf': grid_min_samples,   \n",
    "    'rfc__bootstrap': grid_bool,\n",
    "    'rfc__oob_score': grid_bool, \n",
    "    'rfc__random_state': grid_seed,\n",
    "\n",
    "    #http://scikit-learn.org/stable/modules/generated/sklearn.linear_model.LogisticRegressionCV.html#sklearn.linear_model.LogisticRegressionCV\n",
    "    'lr__fit_intercept': grid_bool,\n",
    "    'lr__penalty': ['l1','l2'],\n",
    "    'lr__solver': ['newton-cg', 'lbfgs', 'liblinear', 'sag', 'saga'],\n",
    "    'lr__random_state': grid_seed,\n",
    "\n",
    "    #http://scikit-learn.org/stable/modules/generated/sklearn.naive_bayes.BernoulliNB.html#sklearn.naive_bayes.BernoulliNB\n",
    "    'bnb__alpha': grid_ratio,\n",
    "    'bnb__prior': grid_bool,\n",
    "    'bnb__random_state': grid_seed,\n",
    "\n",
    "    #http://scikit-learn.org/stable/modules/generated/sklearn.neighbors.KNeighborsClassifier.html#sklearn.neighbors.KNeighborsClassifier\n",
    "    'knn__n_neighbors': [1,2,3,4,5,6,7],\n",
    "    'knn__weights': ['uniform', 'distance'],\n",
    "    'knn__algorithm': ['auto', 'ball_tree', 'kd_tree', 'brute'],\n",
    "    'knn__random_state': grid_seed,\n",
    "\n",
    "    #http://scikit-learn.org/stable/modules/generated/sklearn.svm.SVC.html#sklearn.svm.SVC\n",
    "    #http://blog.hackerearth.com/simple-tutorial-svm-parameter-tuning-python-r\n",
    "    'svc__kernel': ['linear', 'poly', 'rbf', 'sigmoid'],\n",
    "    'svc__C': grid_max_depth,\n",
    "    'svc__gamma': grid_ratio,\n",
    "    'svc__decision_function_shape': ['ovo', 'ovr'],\n",
    "    'svc__probability': [True],\n",
    "    'svc__random_state': grid_seed,\n",
    "\n",
    "\n",
    "    #http://xgboost.readthedocs.io/en/latest/parameter.html\n",
    "    'xgb__learning_rate': grid_ratio,\n",
    "    'xgb__max_depth': [2,4,6,8,10],\n",
    "    'xgb__tree_method': ['exact', 'approx', 'hist'],\n",
    "    'xgb__objective': ['reg:linear', 'reg:logistic', 'binary:logistic'],\n",
    "    'xgb__seed': grid_seed    \n",
    "\n",
    "    }]"
   ]
  },
  {
   "cell_type": "code",
   "execution_count": null,
   "metadata": {},
   "outputs": [],
   "source": [
    "grid_n_estimator = [10, 50, 100, 300]\n",
    "grid_ratio = [.1, .25, .5, .75, 1.0]\n",
    "grid_learn = [.01, .03, .05, .1, .25]\n",
    "grid_max_depth = [2, 4, 6, 8, 10, None]\n",
    "grid_min_samples = [5, 10, .03, .05, .10]\n",
    "grid_criterion = ['gini', 'entropy']\n",
    "grid_bool = [True, False]\n",
    "grid_seed = [0]\n",
    "\n",
    "grid_param = [\n",
    "    [{\n",
    "        #AdaBoostClassifier - http://scikit-learn.org/stable/modules/generated/sklearn.ensemble.AdaBoostClassifier.html\n",
    "        'n_estimators': grid_n_estimator, #default=50\n",
    "        'learning_rate': grid_learn, #default=1\n",
    "        #'algorithm': ['SAMME', 'SAMME.R'], #default=’SAMME.R\n",
    "        'random_state': grid_seed\n",
    "    }],\n",
    "    [{\n",
    "        #BaggingClassifier - http://scikit-learn.org/stable/modules/generated/sklearn.ensemble.BaggingClassifier.html#sklearn.ensemble.BaggingClassifier\n",
    "        'n_estimators': grid_n_estimator, #default=10\n",
    "        'max_samples': grid_ratio, #default=1.0\n",
    "        'random_state': grid_seed\n",
    "     }],\n",
    "    [{\n",
    "        #ExtraTreesClassifier - http://scikit-learn.org/stable/modules/generated/sklearn.ensemble.ExtraTreesClassifier.html#sklearn.ensemble.ExtraTreesClassifier\n",
    "        'n_estimators': grid_n_estimator, #default=10\n",
    "        'criterion': grid_criterion, #default=”gini”\n",
    "        'max_depth': grid_max_depth, #default=None\n",
    "        'random_state': grid_seed\n",
    "     }],\n",
    "    [{\n",
    "        #GradientBoostingClassifier - http://scikit-learn.org/stable/modules/generated/sklearn.ensemble.GradientBoostingClassifier.html#sklearn.ensemble.GradientBoostingClassifier\n",
    "        #'loss': ['deviance', 'exponential'], #default=’deviance’\n",
    "        'learning_rate': [.05], #default=0.1 -- 12/31/17 set to reduce runtime -- The best parameter for GradientBoostingClassifier is {'learning_rate': 0.05, 'max_depth': 2, 'n_estimators': 300, 'random_state': 0} with a runtime of 264.45 seconds.\n",
    "        'n_estimators': [300], #default=100 -- 12/31/17 set to reduce runtime -- The best parameter for GradientBoostingClassifier is {'learning_rate': 0.05, 'max_depth': 2, 'n_estimators': 300, 'random_state': 0} with a runtime of 264.45 seconds.\n",
    "        #'criterion': ['friedman_mse', 'mse', 'mae'], #default=”friedman_mse”\n",
    "        'max_depth': grid_max_depth, #default=3   \n",
    "        'random_state': grid_seed\n",
    "     }],\n",
    "    [{\n",
    "        #RandomForestClassifier - http://scikit-learn.org/stable/modules/generated/sklearn.ensemble.RandomForestClassifier.html#sklearn.ensemble.RandomForestClassifier\n",
    "        'n_estimators': grid_n_estimator, #default=10\n",
    "        'criterion': grid_criterion, #default=”gini”\n",
    "        'max_depth': grid_max_depth, #default=None\n",
    "        'oob_score': [True], #default=False -- 12/31/17 set to reduce runtime -- The best parameter for RandomForestClassifier is {'criterion': 'entropy', 'max_depth': 6, 'n_estimators': 100, 'oob_score': True, 'random_state': 0} with a runtime of 146.35 seconds.\n",
    "        'random_state': grid_seed\n",
    "     }],\n",
    "    #[{    \n",
    "    #    #GaussianProcessClassifier\n",
    "    #    'max_iter_predict': grid_n_estimator, #default: 100\n",
    "    #    'random_state': grid_seed\n",
    "    #}],\n",
    "    [{\n",
    "        #LogisticRegressionCV - http://scikit-learn.org/stable/modules/generated/sklearn.linear_model.LogisticRegressionCV.html#sklearn.linear_model.LogisticRegressionCV\n",
    "        'fit_intercept': grid_bool, #default: True\n",
    "        #'penalty': ['l1','l2'],\n",
    "        'solver': ['newton-cg', 'lbfgs', 'liblinear', 'sag', 'saga'], #default: lbfgs\n",
    "        'random_state': grid_seed\n",
    "     }],\n",
    "    #[{\n",
    "        #BernoulliNB - http://scikit-learn.org/stable/modules/generated/sklearn.naive_bayes.BernoulliNB.html#sklearn.naive_bayes.BernoulliNB\n",
    "    #    'alpha': grid_ratio, #default: 1.0\n",
    "    # }],\n",
    "    [{}],\n",
    "    [{\n",
    "        #KNeighborsClassifier - http://scikit-learn.org/stable/modules/generated/sklearn.neighbors.KNeighborsClassifier.html#sklearn.neighbors.KNeighborsClassifier\n",
    "        'n_neighbors': [1,2,3,4,5,6,7], #default: 5\n",
    "        'weights': ['uniform', 'distance'], #default = ‘uniform’\n",
    "        'algorithm': ['auto', 'ball_tree', 'kd_tree', 'brute']\n",
    "    }],\n",
    "    #GaussianNB - \n",
    "    #[{\n",
    "        #SVC - http://scikit-learn.org/stable/modules/generated/sklearn.svm.SVC.html#sklearn.svm.SVC\n",
    "        #http://blog.hackerearth.com/simple-tutorial-svm-parameter-tuning-python-r\n",
    "        #'kernel': ['linear', 'poly', 'rbf', 'sigmoid'],\n",
    "     #   'C': [1,2,3,4,5], #default=1.0\n",
    "     #   'gamma': grid_ratio, #edfault: auto\n",
    "     #   'decision_function_shape': ['ovo', 'ovr'], #default:ovr\n",
    "     #   'probability': [True],\n",
    "     #   'random_state': grid_seed\n",
    "     #}],\n",
    "    [{\n",
    "        #XGBClassifier - http://xgboost.readthedocs.io/en/latest/parameter.html\n",
    "        'learning_rate': grid_learn, #default: .3\n",
    "        'max_depth': [1,2,4,6,8,10], #default 2\n",
    "        'n_estimators': grid_n_estimator, \n",
    "        'seed': grid_seed  \n",
    "     }]   \n",
    "]\n",
    "\n",
    "start_total = time.perf_counter() #https://docs.python.org/3/library/time.html#time.perf_counter\n",
    "for clf, param in zip (vote_est, grid_param): #https://docs.python.org/3/library/functions.html#zip\n",
    "    start = time.perf_counter()        \n",
    "    best_search = model_selection.GridSearchCV(estimator = clf[1], param_grid = param, cv = cv_split, scoring = 'roc_auc')\n",
    "    best_search.fit(df_train[df_train_columns], target)\n",
    "    run = time.perf_counter() - start\n",
    "\n",
    "    best_param = best_search.best_params_\n",
    "    print('The best parameter for {} is {} with a runtime of {:.2f} seconds.'.format(clf[1].__class__.__name__, best_param, run))\n",
    "    clf[1].set_params(**best_param) \n",
    "\n",
    "run_total = time.perf_counter() - start_total\n",
    "print('Total optimization time was {:.2f} minutes.'.format(run_total/60))"
   ]
  },
  {
   "cell_type": "code",
   "execution_count": 67,
   "metadata": {},
   "outputs": [
    {
     "name": "stdout",
     "output_type": "stream",
     "text": [
      "Hard Voting w/Tuned Hyperparameters Training w/bin score mean: 90.36\n",
      "Hard Voting w/Tuned Hyperparameters Test w/bin score mean: 82.99\n",
      "Hard Voting w/Tuned Hyperparameters Test w/bin score 3*std: +/- 5.42\n",
      "----------\n",
      "Soft Voting w/Tuned Hyperparameters Training w/bin score mean: 61.52\n",
      "Soft Voting w/Tuned Hyperparameters Test w/bin score mean: 61.49\n",
      "Soft Voting w/Tuned Hyperparameters Test w/bin score 3*std: +/- 4.18\n"
     ]
    }
   ],
   "source": [
    "#Hard Vote or majority rules w/Tuned Hyperparameters\n",
    "grid_hard = ensemble.VotingClassifier(estimators = vote_est , voting = 'hard')\n",
    "grid_hard_cv = model_selection.cross_validate(grid_hard, df_train[df_train_columns], target, cv  = cv_split)\n",
    "grid_hard.fit(df_train[df_train_columns], target)\n",
    "\n",
    "print(\"Hard Voting w/Tuned Hyperparameters Training w/bin score mean: {:.2f}\". format(grid_hard_cv['train_score'].mean()*100)) \n",
    "print(\"Hard Voting w/Tuned Hyperparameters Test w/bin score mean: {:.2f}\". format(grid_hard_cv['test_score'].mean()*100))\n",
    "print(\"Hard Voting w/Tuned Hyperparameters Test w/bin score 3*std: +/- {:.2f}\". format(grid_hard_cv['test_score'].std()*100*3))\n",
    "print('-'*10)\n",
    "\n",
    "#Soft Vote or weighted probabilities w/Tuned Hyperparameters\n",
    "grid_soft = ensemble.VotingClassifier(estimators = vote_est , voting = 'soft')\n",
    "grid_soft_cv = model_selection.cross_validate(grid_soft, df_train[df_train_columns], target, cv  = cv_split)\n",
    "grid_soft.fit(df_train[df_train_columns], target)\n",
    "\n",
    "print(\"Soft Voting w/Tuned Hyperparameters Training w/bin score mean: {:.2f}\". format(grid_soft_cv['train_score'].mean()*100)) \n",
    "print(\"Soft Voting w/Tuned Hyperparameters Test w/bin score mean: {:.2f}\". format(grid_soft_cv['test_score'].mean()*100))\n",
    "print(\"Soft Voting w/Tuned Hyperparameters Test w/bin score 3*std: +/- {:.2f}\". format(grid_soft_cv['test_score'].std()*100*3))"
   ]
  },
  {
   "cell_type": "code",
   "execution_count": null,
   "metadata": {},
   "outputs": [],
   "source": []
  }
 ],
 "metadata": {
  "kernelspec": {
   "display_name": "Python 3",
   "language": "python",
   "name": "python3"
  },
  "language_info": {
   "codemirror_mode": {
    "name": "ipython",
    "version": 3
   },
   "file_extension": ".py",
   "mimetype": "text/x-python",
   "name": "python",
   "nbconvert_exporter": "python",
   "pygments_lexer": "ipython3",
   "version": "3.6.0"
  },
  "toc": {
   "base_numbering": 1,
   "nav_menu": {},
   "number_sections": true,
   "sideBar": true,
   "skip_h1_title": true,
   "title_cell": "Table of Contents",
   "title_sidebar": "Contents",
   "toc_cell": false,
   "toc_position": {
    "height": "calc(100% - 180px)",
    "left": "10px",
    "top": "150px",
    "width": "179.391px"
   },
   "toc_section_display": true,
   "toc_window_display": true
  }
 },
 "nbformat": 4,
 "nbformat_minor": 2
}
