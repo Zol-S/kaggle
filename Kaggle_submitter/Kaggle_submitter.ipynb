{
 "cells": [
  {
   "cell_type": "markdown",
   "metadata": {},
   "source": [
    "# Kaggle submitter\n",
    "<img src=\"https://cdn-images-1.medium.com/max/800/0*hP7d7lmvx0QM_wFM.png\" alt=\"Kaggle Logo\" style=\"width: 200px;\"/>\n",
    "\n",
    "**Installation:**\n",
    "- Create the following folders:\n",
    "\t- _archives_: CSV and ipynb files are stored here in ZIP files.\n",
    "\t- _credentials_: Credentials to access Kaggle and Google Spreadsheet are stored under this folder.\n",
    "\t- _temporary_: Temporary files (Competition leaderboards etc.) will be stored under this folder.\n",
    "\t- _input_: copy the submisson file to this folder (the name can be different, but the file needs to be under a folder) \n",
    "- Create a Kaggle token: login to kaggle.com, then click on _My Profile_, _Edit Profile_ and _Create New API Token_ to download __kaggle.json__ and copy it to\n",
    "`C:\\Users\\<Windows-username>\\.kaggle\\kaggle.json` on Windows\n",
    "`chmod 600 ~/.kaggle/kaggle.json` on Linux.\n",
    "- Go to https://developers.google.com/sheets/api/quickstart/python to enable Google Sheets API, then download client configuration (aka credentials.json) and copy it under `credentials` folder.\n",
    "\n",
    "**Usage:**\n",
    "- Before every competition, set\n",
    "    - *kaggle_selected_competition*: variable to the name of the competition\n",
    "    - *kaggle_user_name*: variable to reflect your username on Kaggle\n",
    "    - *kaggle_leaderboard_ascending*: if the leaderboard is sorted ascending\n",
    "    - *google_spreasheet_id*: ID of the Google Spreadsheet to save the scores to\n",
    "- Before every submission\n",
    "    - *submission_csv*: copy the submission under the input folder and name is accordingly: input/&lt;text&gt;\\_&lt;measurement score metric like CV, MEA etc.&gt;&lt;CV score of 5 digits of punctuation&gt;.csv\n",
    "    - *submission_notebook*: the name of the notebook, that is used to generate the output"
   ]
  },
  {
   "cell_type": "code",
   "execution_count": 21,
   "metadata": {},
   "outputs": [],
   "source": [
    "# Change before every competition\n",
    "kaggle_user_name = 'Zol-S'\n",
    "kaggle_leaderboard_ascending = True\n",
    "kaggle_selected_competition = 'elo-merchant-category-recommendation'\n",
    "google_spreasheet_id = '1Pww0KEQKb2bbTUE4-DODV8RTqSnFbXwQqXUESQLOZ3I'\n",
    "\n",
    "# Change before every submission\n",
    "submission_csv = 'input/stacked_CV3.65492.csv'\n",
    "submission_notebook = ''\n",
    "submission_score = 'CV' # CV, MAE etc."
   ]
  },
  {
   "cell_type": "code",
   "execution_count": 2,
   "metadata": {},
   "outputs": [],
   "source": [
    "import re\n",
    "import json\n",
    "import pickle\n",
    "import random\n",
    "import os.path\n",
    "import zipfile\n",
    "import warnings\n",
    "import numpy as np\n",
    "import pandas as pd\n",
    "import seaborn as sns\n",
    "from pprint import pprint\n",
    "from datetime import datetime\n",
    "import matplotlib.pyplot as plt\n",
    "\n",
    "from kaggle.api.kaggle_api_extended import KaggleApi\n",
    "\n",
    "from googleapiclient.discovery import build\n",
    "from google.auth.transport.requests import Request\n",
    "from google_auth_oauthlib.flow import InstalledAppFlow\n",
    "\n",
    "warnings.filterwarnings(\"ignore\")\n",
    "\n",
    "random.seed(1)\n",
    "\n",
    "%matplotlib inline"
   ]
  },
  {
   "cell_type": "markdown",
   "metadata": {},
   "source": [
    "## Login"
   ]
  },
  {
   "cell_type": "code",
   "execution_count": 3,
   "metadata": {},
   "outputs": [],
   "source": [
    "with open('credentials/kaggle.json') as f:\n",
    "    kaggle_credentials = json.load(f)\n",
    "\n",
    "api = KaggleApi(kaggle_credentials)\n",
    "api.authenticate()"
   ]
  },
  {
   "cell_type": "markdown",
   "metadata": {},
   "source": [
    "## List competitions"
   ]
  },
  {
   "cell_type": "code",
   "execution_count": 4,
   "metadata": {},
   "outputs": [
    {
     "data": {
      "text/plain": [
       "[digit-recognizer,\n",
       " titanic,\n",
       " house-prices-advanced-regression-techniques,\n",
       " imagenet-object-localization-challenge,\n",
       " competitive-data-science-predict-future-sales,\n",
       " two-sigma-financial-news,\n",
       " aerial-cactus-identification,\n",
       " LANL-Earthquake-Prediction,\n",
       " tmdb-box-office-prediction,\n",
       " dont-overfit-ii,\n",
       " data-science-for-good-careervillage,\n",
       " gendered-pronoun-resolution,\n",
       " santander-customer-transaction-prediction,\n",
       " womens-machine-learning-competition-2019,\n",
       " mens-machine-learning-competition-2019,\n",
       " histopathologic-cancer-detection,\n",
       " petfinder-adoption-prediction,\n",
       " vsb-power-line-fault-detection,\n",
       " microsoft-malware-prediction,\n",
       " humpback-whale-identification]"
      ]
     },
     "execution_count": 4,
     "metadata": {},
     "output_type": "execute_result"
    }
   ],
   "source": [
    "api.competitions_list()"
   ]
  },
  {
   "cell_type": "markdown",
   "metadata": {},
   "source": [
    "## Public Leaderboard"
   ]
  },
  {
   "cell_type": "code",
   "execution_count": 5,
   "metadata": {},
   "outputs": [
    {
     "name": "stderr",
     "output_type": "stream",
     "text": [
      "\r",
      "  0%|          | 0.00/320k [00:00<?, ?B/s]"
     ]
    },
    {
     "name": "stdout",
     "output_type": "stream",
     "text": [
      "Downloading elo-merchant-category-recommendation.zip to temporary\n"
     ]
    },
    {
     "name": "stderr",
     "output_type": "stream",
     "text": [
      "\r",
      "100%|██████████| 320k/320k [00:00<00:00, 1.07MB/s]"
     ]
    },
    {
     "name": "stdout",
     "output_type": "stream",
     "text": [
      "\n"
     ]
    },
    {
     "name": "stderr",
     "output_type": "stream",
     "text": [
      "\n"
     ]
    }
   ],
   "source": [
    "api.competition_leaderboard_cli(kaggle_selected_competition, competition_opt='m', path='temporary/', download='True')"
   ]
  },
  {
   "cell_type": "code",
   "execution_count": 6,
   "metadata": {},
   "outputs": [],
   "source": [
    "def read_zip_file(zippath, filename):\n",
    "    zf = zipfile.ZipFile(zippath)\n",
    "    return pd.read_csv(zf.open(filename))"
   ]
  },
  {
   "cell_type": "code",
   "execution_count": 7,
   "metadata": {},
   "outputs": [],
   "source": [
    "df_lb = read_zip_file('temporary/' + kaggle_selected_competition + '.zip', kaggle_selected_competition + '-publicleaderboard.csv')"
   ]
  },
  {
   "cell_type": "code",
   "execution_count": 8,
   "metadata": {},
   "outputs": [],
   "source": [
    "df_lb_sorted = df_lb.sort_values(by='Score', ascending=kaggle_leaderboard_ascending).drop_duplicates(subset='TeamId', keep='first').reset_index()"
   ]
  },
  {
   "cell_type": "markdown",
   "metadata": {},
   "source": [
    "**Top 5**"
   ]
  },
  {
   "cell_type": "code",
   "execution_count": 9,
   "metadata": {},
   "outputs": [
    {
     "data": {
      "text/html": [
       "<div>\n",
       "<style scoped>\n",
       "    .dataframe tbody tr th:only-of-type {\n",
       "        vertical-align: middle;\n",
       "    }\n",
       "\n",
       "    .dataframe tbody tr th {\n",
       "        vertical-align: top;\n",
       "    }\n",
       "\n",
       "    .dataframe thead th {\n",
       "        text-align: right;\n",
       "    }\n",
       "</style>\n",
       "<table border=\"1\" class=\"dataframe\">\n",
       "  <thead>\n",
       "    <tr style=\"text-align: right;\">\n",
       "      <th></th>\n",
       "      <th>TeamName</th>\n",
       "      <th>SubmissionDate</th>\n",
       "      <th>Score</th>\n",
       "    </tr>\n",
       "  </thead>\n",
       "  <tbody>\n",
       "    <tr>\n",
       "      <th>0</th>\n",
       "      <td>Adventurous LB validation</td>\n",
       "      <td>2019-02-24 11:29:10</td>\n",
       "      <td>3.61285</td>\n",
       "    </tr>\n",
       "    <tr>\n",
       "      <th>1</th>\n",
       "      <td>[Aladdin Healthcare Tech]Snake</td>\n",
       "      <td>2019-02-24 09:56:33</td>\n",
       "      <td>3.61383</td>\n",
       "    </tr>\n",
       "    <tr>\n",
       "      <th>2</th>\n",
       "      <td>You'll Never Overfitting Alone</td>\n",
       "      <td>2019-01-21 15:11:35</td>\n",
       "      <td>3.63701</td>\n",
       "    </tr>\n",
       "    <tr>\n",
       "      <th>3</th>\n",
       "      <td>Mind Rank</td>\n",
       "      <td>2019-02-26 16:46:19</td>\n",
       "      <td>3.63724</td>\n",
       "    </tr>\n",
       "    <tr>\n",
       "      <th>4</th>\n",
       "      <td>知否知否应是摸奖时候</td>\n",
       "      <td>2019-02-18 00:12:31</td>\n",
       "      <td>3.63904</td>\n",
       "    </tr>\n",
       "  </tbody>\n",
       "</table>\n",
       "</div>"
      ],
      "text/plain": [
       "                         TeamName       SubmissionDate    Score\n",
       "0       Adventurous LB validation  2019-02-24 11:29:10  3.61285\n",
       "1  [Aladdin Healthcare Tech]Snake  2019-02-24 09:56:33  3.61383\n",
       "2  You'll Never Overfitting Alone  2019-01-21 15:11:35  3.63701\n",
       "3                       Mind Rank  2019-02-26 16:46:19  3.63724\n",
       "4                      知否知否应是摸奖时候  2019-02-18 00:12:31  3.63904"
      ]
     },
     "execution_count": 9,
     "metadata": {},
     "output_type": "execute_result"
    }
   ],
   "source": [
    "df_lb_sorted[['TeamName', 'SubmissionDate', 'Score']][:5]"
   ]
  },
  {
   "cell_type": "markdown",
   "metadata": {},
   "source": [
    "**My submission**"
   ]
  },
  {
   "cell_type": "code",
   "execution_count": 10,
   "metadata": {},
   "outputs": [
    {
     "data": {
      "text/html": [
       "<div>\n",
       "<style scoped>\n",
       "    .dataframe tbody tr th:only-of-type {\n",
       "        vertical-align: middle;\n",
       "    }\n",
       "\n",
       "    .dataframe tbody tr th {\n",
       "        vertical-align: top;\n",
       "    }\n",
       "\n",
       "    .dataframe thead th {\n",
       "        text-align: right;\n",
       "    }\n",
       "</style>\n",
       "<table border=\"1\" class=\"dataframe\">\n",
       "  <thead>\n",
       "    <tr style=\"text-align: right;\">\n",
       "      <th></th>\n",
       "      <th>index</th>\n",
       "      <th>TeamId</th>\n",
       "      <th>TeamName</th>\n",
       "      <th>SubmissionDate</th>\n",
       "      <th>Score</th>\n",
       "    </tr>\n",
       "  </thead>\n",
       "  <tbody>\n",
       "    <tr>\n",
       "      <th>1544</th>\n",
       "      <td>20673</td>\n",
       "      <td>2510512</td>\n",
       "      <td>Zol-S</td>\n",
       "      <td>2019-02-26 11:00:03</td>\n",
       "      <td>3.69367</td>\n",
       "    </tr>\n",
       "  </tbody>\n",
       "</table>\n",
       "</div>"
      ],
      "text/plain": [
       "      index   TeamId TeamName       SubmissionDate    Score\n",
       "1544  20673  2510512    Zol-S  2019-02-26 11:00:03  3.69367"
      ]
     },
     "execution_count": 10,
     "metadata": {},
     "output_type": "execute_result"
    }
   ],
   "source": [
    "df_lb_sorted[df_lb_sorted['TeamName'] == kaggle_user_name]"
   ]
  },
  {
   "cell_type": "code",
   "execution_count": null,
   "metadata": {},
   "outputs": [],
   "source": [
    "print('I am {:,} out of total {:,}'.format(\n",
    "    df_lb_sorted[df_lb_sorted['TeamName'] == kaggle_user_name].index[0]-1,\n",
    "    list(df_lb_sorted.index)[-1:][0]\n",
    "))"
   ]
  },
  {
   "cell_type": "markdown",
   "metadata": {},
   "source": [
    "**Statistics**"
   ]
  },
  {
   "cell_type": "code",
   "execution_count": 11,
   "metadata": {},
   "outputs": [],
   "source": [
    "index_of_last_10_percent = -int(len(df_lb_sorted)/10)"
   ]
  },
  {
   "cell_type": "code",
   "execution_count": 12,
   "metadata": {},
   "outputs": [
    {
     "name": "stdout",
     "output_type": "stream",
     "text": [
      "Range of score: 3.61285 - 7318994848.3230295\n",
      "Interquartile range of score without the last 10%: 3.689210 - 3.737410\n"
     ]
    }
   ],
   "source": [
    "q1_tr = int(df_lb_sorted['Score'][:index_of_last_10_percent].count()/4)\n",
    "q3_tr = int(3*df_lb_sorted['Score'][:index_of_last_10_percent].count()/4)\n",
    "ms = df_lb_sorted[df_lb_sorted['TeamName'] == kaggle_user_name].index[0]\n",
    "\n",
    "print('Range of score: {} - {}'.format(df_lb_sorted['Score'].min(), df_lb_sorted['Score'].max()))\n",
    "print('Interquartile range of score without the last 10%: {:.6f} - {:.6f}'.format(df_lb_sorted['Score'][:index_of_last_10_percent].iloc[q1_tr], df_lb_sorted['Score'][:index_of_last_10_percent].iloc[q3_tr]))"
   ]
  },
  {
   "cell_type": "code",
   "execution_count": 13,
   "metadata": {},
   "outputs": [
    {
     "data": {
      "image/png": "[encoded data removed]",
      "text/plain": [
       "<matplotlib.figure.Figure at 0x7fcfb04dfcf8>"
      ]
     },
     "metadata": {},
     "output_type": "display_data"
    }
   ],
   "source": [
    "sns.set(rc={'figure.figsize':(15, 6)})\n",
    "sns.distplot(df_lb_sorted['Score'][:index_of_last_10_percent].values, bins=100)\n",
    "plt.title('Histogram score counts')\n",
    "plt.xlabel('Count')\n",
    "plt.xticks(rotation=60)\n",
    "plt.ylabel('First Active Month')\n",
    "plt.axvline(df_lb_sorted['Score'].iloc[ms], color=\"r\", linestyle=\"--\", linewidth=1)\n",
    "plt.axvline(df_lb_sorted['Score'].iloc[q1_tr], color=\"k\", linestyle=\"--\", linewidth=1)\n",
    "plt.axvline(df_lb_sorted['Score'].iloc[q3_tr], color=\"k\", linestyle=\"--\", linewidth=1)\n",
    "plt.show()"
   ]
  },
  {
   "cell_type": "markdown",
   "metadata": {},
   "source": [
    "**Red dashed vertical** line denotes my current position and the **black dashed vertical** lines denote the 1st and 3rd quartile. "
   ]
  },
  {
   "cell_type": "markdown",
   "metadata": {},
   "source": [
    "## Submission"
   ]
  },
  {
   "cell_type": "code",
   "execution_count": 14,
   "metadata": {},
   "outputs": [],
   "source": [
    "submission_params = re.findall(r\"\\/(.*\" + submission_score + \"([0-9\\.]{7}).*\\.csv)\", submission_csv)\n",
    "\n",
    "submission_public_score = str(submission_params[0][1]) if len(submission_params) > 0 else submission_csv[submission_csv.index('/')+1:]\n",
    "submission_file = str(submission_params[0][0]) if len(submission_params) > 0 else submission_csv[submission_csv.index('/')+1:]"
   ]
  },
  {
   "cell_type": "code",
   "execution_count": 15,
   "metadata": {},
   "outputs": [],
   "source": [
    "def convert_to_df(csv):\n",
    "    df = pd.DataFrame(data=csv)[0].str.split(',',expand=True)  \n",
    "    header = df.iloc[0]\n",
    "    df = df[1:]\n",
    "    df.columns = header\n",
    "    return df"
   ]
  },
  {
   "cell_type": "code",
   "execution_count": 16,
   "metadata": {},
   "outputs": [
    {
     "name": "stderr",
     "output_type": "stream",
     "text": [
      "100%|██████████| 4.24M/4.24M [00:07<00:00, 624kB/s] \n"
     ]
    },
    {
     "data": {
      "text/plain": [
       "Successfully submitted to Elo Merchant Category Recommendation"
      ]
     },
     "execution_count": 16,
     "metadata": {},
     "output_type": "execute_result"
    }
   ],
   "source": [
    "api.competition_submit(submission_csv, submission_score + ' score: ' + submission_score, kaggle_selected_competition)"
   ]
  },
  {
   "cell_type": "code",
   "execution_count": 17,
   "metadata": {},
   "outputs": [],
   "source": [
    "#submissions_csv = api.competition_submissions_cli(kaggle_selected_competition, csv_display=True, quiet=True)\n",
    "submissions_csv = !kaggle competitions submissions $kaggle_selected_competition -v\n",
    "df_submissions = convert_to_df(submissions_csv)"
   ]
  },
  {
   "cell_type": "code",
   "execution_count": 18,
   "metadata": {},
   "outputs": [
    {
     "data": {
      "text/html": [
       "<div>\n",
       "<style scoped>\n",
       "    .dataframe tbody tr th:only-of-type {\n",
       "        vertical-align: middle;\n",
       "    }\n",
       "\n",
       "    .dataframe tbody tr th {\n",
       "        vertical-align: top;\n",
       "    }\n",
       "\n",
       "    .dataframe thead th {\n",
       "        text-align: right;\n",
       "    }\n",
       "</style>\n",
       "<table border=\"1\" class=\"dataframe\">\n",
       "  <thead>\n",
       "    <tr style=\"text-align: right;\">\n",
       "      <th></th>\n",
       "      <th>fileName</th>\n",
       "      <th>date</th>\n",
       "      <th>description</th>\n",
       "      <th>status</th>\n",
       "      <th>publicScore</th>\n",
       "      <th>privateScore</th>\n",
       "      <th>None</th>\n",
       "    </tr>\n",
       "  </thead>\n",
       "  <tbody>\n",
       "    <tr>\n",
       "      <th>1</th>\n",
       "      <td>stacked_CV3.65492.csv</td>\n",
       "      <td>2019-03-11 09:58:52</td>\n",
       "      <td>CV score: 3.65492</td>\n",
       "      <td>complete</td>\n",
       "      <td>3.70587</td>\n",
       "      <td>3.63021</td>\n",
       "      <td>None</td>\n",
       "    </tr>\n",
       "    <tr>\n",
       "      <th>2</th>\n",
       "      <td>stacked_wavg_3.654925.csv</td>\n",
       "      <td>2019-03-08 15:16:04</td>\n",
       "      <td>Test message</td>\n",
       "      <td>complete</td>\n",
       "      <td>3.70587</td>\n",
       "      <td>3.63021</td>\n",
       "      <td>None</td>\n",
       "    </tr>\n",
       "    <tr>\n",
       "      <th>3</th>\n",
       "      <td>stacked_wavg_3.654925.csv</td>\n",
       "      <td>2019-03-08 10:44:21</td>\n",
       "      <td>Test message</td>\n",
       "      <td>complete</td>\n",
       "      <td>3.70587</td>\n",
       "      <td>3.63021</td>\n",
       "      <td>None</td>\n",
       "    </tr>\n",
       "    <tr>\n",
       "      <th>4</th>\n",
       "      <td>stacked_wavg_3.654925.csv</td>\n",
       "      <td>2019-03-08 10:42:57</td>\n",
       "      <td>Test message</td>\n",
       "      <td>complete</td>\n",
       "      <td>3.70587</td>\n",
       "      <td>3.63021</td>\n",
       "      <td>None</td>\n",
       "    </tr>\n",
       "    <tr>\n",
       "      <th>5</th>\n",
       "      <td>stacked_3.652103.csv</td>\n",
       "      <td>2019-02-26 19:46:07</td>\n",
       "      <td>\"LightGBM + XGBoost + CatBoost stacking + Lynx...</td>\n",
       "      <td>None</td>\n",
       "      <td>None</td>\n",
       "      <td>None</td>\n",
       "      <td>None</td>\n",
       "    </tr>\n",
       "  </tbody>\n",
       "</table>\n",
       "</div>"
      ],
      "text/plain": [
       "0                   fileName                 date  \\\n",
       "1      stacked_CV3.65492.csv  2019-03-11 09:58:52   \n",
       "2  stacked_wavg_3.654925.csv  2019-03-08 15:16:04   \n",
       "3  stacked_wavg_3.654925.csv  2019-03-08 10:44:21   \n",
       "4  stacked_wavg_3.654925.csv  2019-03-08 10:42:57   \n",
       "5       stacked_3.652103.csv  2019-02-26 19:46:07   \n",
       "\n",
       "0                                        description    status publicScore  \\\n",
       "1                                  CV score: 3.65492  complete     3.70587   \n",
       "2                                       Test message  complete     3.70587   \n",
       "3                                       Test message  complete     3.70587   \n",
       "4                                       Test message  complete     3.70587   \n",
       "5  \"LightGBM + XGBoost + CatBoost stacking + Lynx...      None        None   \n",
       "\n",
       "0 privateScore   NaN  \n",
       "1      3.63021  None  \n",
       "2      3.63021  None  \n",
       "3      3.63021  None  \n",
       "4      3.63021  None  \n",
       "5         None  None  "
      ]
     },
     "execution_count": 18,
     "metadata": {},
     "output_type": "execute_result"
    }
   ],
   "source": [
    "df_submissions[:5]"
   ]
  },
  {
   "cell_type": "code",
   "execution_count": 19,
   "metadata": {},
   "outputs": [
    {
     "name": "stdout",
     "output_type": "stream",
     "text": [
      "{'spreadsheetId': '1Pww0KEQKb2bbTUE4-DODV8RTqSnFbXwQqXUESQLOZ3I',\n",
      " 'tableRange': 'Sheet1!A1:F2',\n",
      " 'updates': {'spreadsheetId': '1Pww0KEQKb2bbTUE4-DODV8RTqSnFbXwQqXUESQLOZ3I',\n",
      "             'updatedCells': 6,\n",
      "             'updatedColumns': 6,\n",
      "             'updatedRange': 'Sheet1!A3:F3',\n",
      "             'updatedRows': 1}}\n"
     ]
    }
   ],
   "source": [
    "credentials = None\n",
    "\n",
    "# Authentication\n",
    "if os.path.exists('credentials/token.pickle'):\n",
    "    with open('credentials/token.pickle', 'rb') as token:\n",
    "        credentials = pickle.load(token)\n",
    "\n",
    "# If there are no (valid) credentials available, let the user log in.\n",
    "if not credentials or not credentials.valid:\n",
    "    if credentials and credentials.expired and credentials.refresh_token:\n",
    "        credentials.refresh(Request())\n",
    "    else:\n",
    "        flow = InstalledAppFlow.from_client_secrets_file('credentials/credentials.json', ['https://www.googleapis.com/auth/spreadsheets'])\n",
    "        credentials = flow.run_local_server()\n",
    "    # Save the credentials for the next run\n",
    "    with open('credentials/token.pickle', 'wb') as token:\n",
    "        pickle.dump(credentials, token)\n",
    "\n",
    "service = build('sheets', 'v4', credentials=credentials)\n",
    "\n",
    "# Read cells\n",
    "result = service.spreadsheets().values().get(spreadsheetId=google_spreasheet_id, range='A2:A200').execute()\n",
    "numRows = result.get('values') if result.get('values') is not None else 0\n",
    "rowNumber = int(np.concatenate(numRows).astype(int).max() + 1)\n",
    "\n",
    "# Append cells\n",
    "value_range_body = {\"values\":[[rowNumber, kaggle_user_name, str(datetime.now())[:19], submission_public_score, df_submissions['publicScore'][1], submission_file, submission_notebook]]}\n",
    "\n",
    "request = service.spreadsheets().values().append(spreadsheetId=google_spreasheet_id, range='A2:G2', valueInputOption='RAW', insertDataOption='INSERT_ROWS', body=value_range_body)\n",
    "response = request.execute()\n",
    "\n",
    "pprint(response)"
   ]
  },
  {
   "cell_type": "code",
   "execution_count": 22,
   "metadata": {},
   "outputs": [
    {
     "name": "stdout",
     "output_type": "stream",
     "text": [
      "File Name                                             Modified             Size\n",
      "input/stacked_CV3.65492.csv                    2019-02-25 16:12:30      4443818\n"
     ]
    }
   ],
   "source": [
    "z = zipfile.ZipFile(\"archives/\" + submission_file + \".zip\", \"w\")\n",
    "z.write(submission_csv)\n",
    "if (submission_notebook != \"\"):\n",
    "    z.write(submission_notebook)\n",
    "z.close()\n",
    "\n",
    "z.printdir()"
   ]
  },
  {
   "cell_type": "code",
   "execution_count": null,
   "metadata": {},
   "outputs": [],
   "source": []
  }
 ],
 "metadata": {
  "kernelspec": {
   "display_name": "Python 3",
   "language": "python",
   "name": "python3"
  },
  "language_info": {
   "codemirror_mode": {
    "name": "ipython",
    "version": 3
   },
   "file_extension": ".py",
   "mimetype": "text/x-python",
   "name": "python",
   "nbconvert_exporter": "python",
   "pygments_lexer": "ipython3",
   "version": "3.6.0"
  },
  "toc": {
   "base_numbering": 1,
   "nav_menu": {},
   "number_sections": true,
   "sideBar": true,
   "skip_h1_title": true,
   "title_cell": "Table of Contents",
   "title_sidebar": "Contents",
   "toc_cell": false,
   "toc_position": {
    "height": "calc(100% - 180px)",
    "left": "10px",
    "top": "150px",
    "width": "165px"
   },
   "toc_section_display": true,
   "toc_window_display": false
  }
 },
 "nbformat": 4,
 "nbformat_minor": 2
}
