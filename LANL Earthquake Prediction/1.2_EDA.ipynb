{
 "cells": [
  {
   "cell_type": "markdown",
   "metadata": {},
   "source": [
    "# Exploratory Data Analysis\n",
    "    \n",
    "The goal of this competition is to use seismic signals to predict the timing of laboratory earthquakes. The data comes from a well-known experimental set-up used to study earthquake physics.\n",
    "\n",
    "- The **training data** is a single, continuous segment of experimental data. \n",
    "- The **test data** consists of a folder containing many small segments. The data within each test file is continuous, but the test files do not represent a continuous segment of the experiment; thus, the predictions cannot be assumed to follow the same regular pattern seen in the training file.\n",
    "\n",
    "For each *seg_id* in the test folder, you should predict a single *time_to_failure* corresponding to the time between the last row of the segment and the next laboratory earthquake.\n",
    "\n",
    "[Scores](https://docs.google.com/spreadsheets/d/1AWLPZfryFWx6wM9fxmMmGm31R4B9PMrZzLp71ZtlcRk/edit#gid=0)"
   ]
  },
  {
   "cell_type": "code",
   "execution_count": 1,
   "metadata": {},
   "outputs": [],
   "source": [
    "# Convenience\n",
    "import warnings\n",
    "from tqdm import tqdm\n",
    "\n",
    "import random\n",
    "import numpy as np\n",
    "import pandas as pd\n",
    "\n",
    "# Visualization\n",
    "import seaborn as sns\n",
    "import matplotlib.pyplot as plt\n",
    "\n",
    "from sklearn.svm import NuSVR\n",
    "from sklearn.metrics import mean_absolute_error\n",
    "from sklearn.preprocessing import StandardScaler\n",
    "\n",
    "# Machine Learning libraries\n",
    "import xgboost as xgb\n",
    "import lightgbm as lgb\n",
    "from sklearn import model_selection\n",
    "from sklearn.model_selection import StratifiedKFold, KFold, train_test_split\n",
    "from sklearn.metrics import roc_auc_score, mean_squared_error, roc_curve, auc\n",
    "from sklearn import linear_model\n",
    "\n",
    "warnings.filterwarnings(\"ignore\")\n",
    "\n",
    "random.seed(1)\n",
    "pd.options.display.precision = 15"
   ]
  },
  {
   "cell_type": "code",
   "execution_count": 2,
   "metadata": {},
   "outputs": [],
   "source": [
    "def reduce_memory_usage(df, verbose=True):\n",
    "    numerics = ['int16', 'int32', 'int64', 'float16', 'float32', 'float64']\n",
    "    start_mem = df.memory_usage().sum() / 1024**2\n",
    "    if verbose: print('Starting memory usage: {:5.2f} MB'.format(start_mem))\n",
    "\n",
    "    for col in df.columns:\n",
    "        col_type = df[col].dtypes\n",
    "        if col_type in numerics:\n",
    "            c_min = df[col].min()\n",
    "            c_max = df[col].max()\n",
    "            if str(col_type)[:3] == 'int':\n",
    "                if c_min >= np.iinfo(np.int8).min and c_max <= np.iinfo(np.int8).max:\n",
    "                    df[col] = df[col].astype(np.int8)\n",
    "                elif c_min >= np.iinfo(np.int16).min and c_max <= np.iinfo(np.int16).max:\n",
    "                    df[col] = df[col].astype(np.int16)\n",
    "                elif c_min >= np.iinfo(np.int32).min and c_max <= np.iinfo(np.int32).max:\n",
    "                    df[col] = df[col].astype(np.int32)\n",
    "                elif c_min >= np.iinfo(np.int64).min and c_max <= np.iinfo(np.int64).max:\n",
    "                    df[col] = df[col].astype(np.int64)  \n",
    "            else:\n",
    "                if c_min >= np.finfo(np.float16).min and c_max <= np.finfo(np.float16).max:\n",
    "                    df[col] = df[col].astype(np.float16)\n",
    "                elif c_min >= np.finfo(np.float32).min and c_max <= np.finfo(np.float32).max:\n",
    "                    df[col] = df[col].astype(np.float32)\n",
    "                else:\n",
    "                    df[col] = df[col].astype(np.float64)    \n",
    "    end_mem = df.memory_usage().sum() / 1024**2\n",
    "    if verbose: print('Reduced memory usage: {:5.2f} MB ({:.1f}% reduction)'.format(end_mem, 100 * (start_mem - end_mem) / start_mem))\n",
    "    return df"
   ]
  },
  {
   "cell_type": "markdown",
   "metadata": {},
   "source": [
    "[Earthquakes FE. More features and samples](https://www.kaggle.com/artgor/earthquakes-fe-more-features-and-samples)<br/>\n",
    "[Seismic data EDA and baseline](https://www.kaggle.com/artgor/seismic-data-eda-and-baseline)<br/>\n",
    "[Shaking Earth](https://www.kaggle.com/allunia/shaking-earth)"
   ]
  },
  {
   "cell_type": "markdown",
   "metadata": {},
   "source": [
    "## Loading data"
   ]
  },
  {
   "cell_type": "code",
   "execution_count": 3,
   "metadata": {},
   "outputs": [
    {
     "name": "stdout",
     "output_type": "stream",
     "text": [
      "Starting memory usage: 3600.00 MB\n",
      "Reduced memory usage: 2400.00 MB (33.3% reduction)\n",
      "629,145,480 records and 2 features in train set.\n"
     ]
    }
   ],
   "source": [
    "df_train = pd.read_csv('input/train.csv', dtype={'acoustic_data': np.int16, 'time_to_failure': np.float32})\n",
    "df_train = reduce_memory_usage(df_train)\n",
    "print(\"{:,} records and {} features in train set.\".format(df_train.shape[0], df_train.shape[1]))"
   ]
  },
  {
   "cell_type": "markdown",
   "metadata": {},
   "source": [
    "## Feature extraction"
   ]
  },
  {
   "cell_type": "code",
   "execution_count": 4,
   "metadata": {},
   "outputs": [
    {
     "name": "stderr",
     "output_type": "stream",
     "text": [
      "100%|██████████| 4194/4194 [00:16<00:00, 248.70it/s]\n"
     ]
    }
   ],
   "source": [
    "rows = 150_000\n",
    "segments = int(np.floor(df_train.shape[0] / rows))\n",
    "\n",
    "X_train = pd.DataFrame(index=range(segments), dtype=np.float64, columns=['ave', 'std', 'max', 'min'])\n",
    "y_train = pd.DataFrame(index=range(segments), dtype=np.float64, columns=['time_to_failure'])\n",
    "\n",
    "for segment in tqdm(range(segments)):\n",
    "    seg = df_train.iloc[segment*rows:segment*rows+rows]\n",
    "    x = seg['acoustic_data'].values\n",
    "    y = seg['time_to_failure'].values[-1]\n",
    "    \n",
    "    y_train.loc[segment, 'time_to_failure'] = y\n",
    "    \n",
    "    X_train.loc[segment, 'ave'] = x.mean()\n",
    "    X_train.loc[segment, 'std'] = x.std()\n",
    "    X_train.loc[segment, 'max'] = x.max()\n",
    "    X_train.loc[segment, 'min'] = x.min()"
   ]
  },
  {
   "cell_type": "markdown",
   "metadata": {},
   "source": [
    "## Feature selection"
   ]
  },
  {
   "cell_type": "raw",
   "metadata": {},
   "source": [
    "print('BEFORE DT RFE Training Shape Old: ', df_train[df_train_columns].shape) \n",
    "print('BEFORE DT RFE Training Columns Old: ', df_train[df_train_columns].columns.values)\n",
    "\n",
    "print(\"BEFORE DT RFE Training w/bin score mean: {:.2f}\". format(base_results['train_score'].mean()*100)) \n",
    "print(\"BEFORE DT RFE Test w/bin score mean: {:.2f}\". format(base_results['test_score'].mean()*100))\n",
    "print(\"BEFORE DT RFE Test w/bin score 3*std: +/- {:.2f}\". format(base_results['test_score'].std()*100*3))\n",
    "print('-'*10)\n",
    "\n",
    "#feature selection\n",
    "dtree_rfe = feature_selection.RFECV(dtree, step = 1, scoring = 'accuracy', cv = cv_split)\n",
    "dtree_rfe.fit(df_train[df_train_columns], target)\n",
    "\n",
    "#transform x&y to reduced features and fit new model\n",
    "#alternative: can use pipeline to reduce fit and transform steps: http://scikit-learn.org/stable/modules/generated/sklearn.pipeline.Pipeline.html\n",
    "X_rfe = df_train[df_train_columns].columns.values[dtree_rfe.get_support()]\n",
    "rfe_results = model_selection.cross_validate(dtree, df_train[X_rfe], target, cv  = cv_split)\n",
    "\n",
    "#print(dtree_rfe.grid_scores_)\n",
    "print('AFTER DT RFE Training Shape New: ', df_train[X_rfe].shape) \n",
    "print('AFTER DT RFE Training Columns New: ', X_rfe)\n",
    "\n",
    "print(\"AFTER DT RFE Training w/bin score mean: {:.2f}\". format(rfe_results['train_score'].mean()*100)) \n",
    "print(\"AFTER DT RFE Test w/bin score mean: {:.2f}\". format(rfe_results['test_score'].mean()*100))\n",
    "print(\"AFTER DT RFE Test w/bin score 3*std: +/- {:.2f}\". format(rfe_results['test_score'].std()*100*3))\n",
    "print('-'*10)\n",
    "\n",
    "#tune rfe model\n",
    "rfe_tune_model = model_selection.GridSearchCV(tree.DecisionTreeClassifier(), param_grid=param_grid, scoring = 'roc_auc', cv = cv_split)\n",
    "rfe_tune_model.fit(df_train[X_rfe], target)\n",
    "\n",
    "#print(rfe_tune_model.cv_results_.keys())\n",
    "#print(rfe_tune_model.cv_results_['params'])\n",
    "print('AFTER DT RFE Tuned Parameters: ', rfe_tune_model.best_params_)\n",
    "#print(rfe_tune_model.cv_results_['mean_train_score'])\n",
    "print(\"AFTER DT RFE Tuned Training w/bin score mean: {:.2f}\". format(rfe_tune_model.cv_results_['mean_train_score'][tune_model.best_index_]*100)) \n",
    "#print(rfe_tune_model.cv_results_['mean_test_score'])\n",
    "print(\"AFTER DT RFE Tuned Test w/bin score mean: {:.2f}\". format(rfe_tune_model.cv_results_['mean_test_score'][tune_model.best_index_]*100))\n",
    "print(\"AFTER DT RFE Tuned Test w/bin score 3*std: +/- {:.2f}\". format(rfe_tune_model.cv_results_['std_test_score'][tune_model.best_index_]*100*3))"
   ]
  },
  {
   "cell_type": "markdown",
   "metadata": {},
   "source": [
    "## Training"
   ]
  },
  {
   "cell_type": "code",
   "execution_count": 5,
   "metadata": {},
   "outputs": [],
   "source": [
    "scaler = StandardScaler()\n",
    "scaler.fit(X_train)\n",
    "X_train_scaled = scaler.transform(X_train)"
   ]
  },
  {
   "cell_type": "markdown",
   "metadata": {},
   "source": [
    "### Nu Support Vector Regression"
   ]
  },
  {
   "cell_type": "code",
   "execution_count": null,
   "metadata": {},
   "outputs": [],
   "source": [
    "svm = NuSVR()\n",
    "svm.fit(X_train_scaled, y_train.values.flatten())\n",
    "y_pred = svm.predict(X_train_scaled)"
   ]
  },
  {
   "cell_type": "code",
   "execution_count": null,
   "metadata": {},
   "outputs": [],
   "source": [
    "plt.figure(figsize=(6, 6))\n",
    "plt.scatter(y_train.values.flatten(), y_pred)\n",
    "plt.xlim(0, 20)\n",
    "plt.ylim(0, 20)\n",
    "plt.xlabel('actual', fontsize=12)\n",
    "plt.ylabel('predicted', fontsize=12)\n",
    "plt.plot([(0, 0), (20, 20)], [(0, 0), (20, 20)])\n",
    "plt.show()"
   ]
  },
  {
   "cell_type": "code",
   "execution_count": null,
   "metadata": {},
   "outputs": [],
   "source": [
    "NuSVR_MAE_score = mean_absolute_error(y_train.values.flatten(), y_pred)\n",
    "print('MAE: {:.5f}'.format(NuSVR_MAE_score))"
   ]
  },
  {
   "cell_type": "code",
   "execution_count": null,
   "metadata": {},
   "outputs": [],
   "source": [
    "submission = pd.read_csv('input/sample_submission.csv', index_col='seg_id')"
   ]
  },
  {
   "cell_type": "code",
   "execution_count": null,
   "metadata": {},
   "outputs": [],
   "source": [
    "X_test = pd.DataFrame(columns=X_train.columns, dtype=np.float64, index=submission.index)"
   ]
  },
  {
   "cell_type": "code",
   "execution_count": null,
   "metadata": {},
   "outputs": [],
   "source": [
    "for seg_id in X_test.index:\n",
    "    seg = pd.read_csv('input/test/' + seg_id + '.csv')\n",
    "    \n",
    "    x = seg['acoustic_data'].values\n",
    "    \n",
    "    X_test.loc[seg_id, 'ave'] = x.mean()\n",
    "    X_test.loc[seg_id, 'std'] = x.std()\n",
    "    X_test.loc[seg_id, 'max'] = x.max()\n",
    "    X_test.loc[seg_id, 'min'] = x.min()"
   ]
  },
  {
   "cell_type": "code",
   "execution_count": null,
   "metadata": {},
   "outputs": [],
   "source": [
    "X_test_scaled = scaler.transform(X_test)\n",
    "submission['time_to_failure'] = svm.predict(X_test_scaled)\n",
    "submission.to_csv('output/NuSVR_MAE{:.5f}.csv'.format(NuSVR_MAE_score))\n",
    "print('output/NuSVR_MAE{:.5f}.csv'.format(NuSVR_MAE_score))"
   ]
  },
  {
   "cell_type": "markdown",
   "metadata": {},
   "source": [
    "### Machine Learning Algorithms"
   ]
  },
  {
   "cell_type": "code",
   "execution_count": 9,
   "metadata": {},
   "outputs": [
    {
     "name": "stdout",
     "output_type": "stream",
     "text": [
      "LinearRegression\n",
      "Ridge\n",
      "Lasso\n",
      "ElasticNet\n",
      "LassoLars\n",
      "BayesianRidge\n",
      "SGDRegressor\n",
      "PassiveAggressiveRegressor\n",
      "RANSACRegressor\n",
      "TheilSenRegressor\n",
      "HuberRegressor\n",
      "NuSVR\n",
      "LGBMRegressor\n"
     ]
    }
   ],
   "source": [
    "MLA = [\n",
    "    # Linear models\n",
    "    linear_model.LinearRegression(),\n",
    "    linear_model.Ridge(),\n",
    "    linear_model.Lasso(alpha=0.1),\n",
    "    linear_model.ElasticNet(),\n",
    "    linear_model.LassoLars(alpha=.1),\n",
    "    linear_model.BayesianRidge(),\n",
    "    linear_model.SGDRegressor(),\n",
    "    linear_model.PassiveAggressiveRegressor(),\n",
    "    linear_model.RANSACRegressor(),\n",
    "    linear_model.TheilSenRegressor(),\n",
    "    linear_model.HuberRegressor(),\n",
    "\n",
    "    # SVR\n",
    "    NuSVR(),\n",
    "\n",
    "    # LightGBM\n",
    "    lgb.LGBMRegressor(learning_rate=0.05)   \n",
    "]\n",
    "\n",
    "cv_split = model_selection.ShuffleSplit(n_splits = 10, test_size = .25, train_size = .75, random_state = 0 )\n",
    "\n",
    "#create table to compare MLA metrics\n",
    "MLA_columns = ['MLA Name', 'MLA Parameters','MLA Train Accuracy Mean', 'MLA Test Accuracy Mean', 'MLA Test Accuracy 3*STD' ,'MLA Time']\n",
    "MLA_compare = pd.DataFrame(columns = MLA_columns)\n",
    "\n",
    "#create table to compare MLA predictions\n",
    "MLA_predict = X_train\n",
    "\n",
    "#index through MLA and save performance to table\n",
    "row_index = 0\n",
    "for alg in MLA:\n",
    "    #set name and parameters\n",
    "    MLA_name = alg.__class__.__name__\n",
    "    print(MLA_name)\n",
    "    MLA_compare.loc[row_index, 'MLA Name'] = MLA_name\n",
    "    MLA_compare.loc[row_index, 'MLA Parameters'] = str(alg.get_params())\n",
    "    \n",
    "    #score model with cross validation: http://scikit-learn.org/stable/modules/generated/sklearn.model_selection.cross_validate.html#sklearn.model_selection.cross_validate\n",
    "    cv_results = model_selection.cross_validate(alg, X_train_scaled, y_train, cv  = cv_split)\n",
    "\n",
    "    MLA_compare.loc[row_index, 'MLA Time'] = cv_results['fit_time'].mean()\n",
    "    MLA_compare.loc[row_index, 'MLA Train Accuracy Mean'] = cv_results['train_score'].mean()\n",
    "    MLA_compare.loc[row_index, 'MLA Test Accuracy Mean'] = cv_results['test_score'].mean()   \n",
    "    #if this is a non-bias random sample, then +/-3 standard deviations (std) from the mean, should statistically capture 99.7% of the subsets\n",
    "    MLA_compare.loc[row_index, 'MLA Test Accuracy 3*STD'] = cv_results['test_score'].std()*3   #let's know the worst that can happen!\n",
    "\n",
    "    #save MLA predictions - see section 6 for usage\n",
    "    alg.fit(X_train_scaled, y_train)\n",
    "    MLA_predict[MLA_name] = alg.predict(X_train_scaled)\n",
    "\n",
    "    row_index+=1\n",
    "    \n",
    "MLA_compare.sort_values(by = ['MLA Test Accuracy Mean'], ascending = False, inplace = True)"
   ]
  },
  {
   "cell_type": "code",
   "execution_count": 10,
   "metadata": {},
   "outputs": [
    {
     "data": {
      "text/html": [
       "<div>\n",
       "<style scoped>\n",
       "    .dataframe tbody tr th:only-of-type {\n",
       "        vertical-align: middle;\n",
       "    }\n",
       "\n",
       "    .dataframe tbody tr th {\n",
       "        vertical-align: top;\n",
       "    }\n",
       "\n",
       "    .dataframe thead th {\n",
       "        text-align: right;\n",
       "    }\n",
       "</style>\n",
       "<table border=\"1\" class=\"dataframe\">\n",
       "  <thead>\n",
       "    <tr style=\"text-align: right;\">\n",
       "      <th></th>\n",
       "      <th>MLA Name</th>\n",
       "      <th>MLA Parameters</th>\n",
       "      <th>MLA Train Accuracy Mean</th>\n",
       "      <th>MLA Test Accuracy Mean</th>\n",
       "      <th>MLA Test Accuracy 3*STD</th>\n",
       "      <th>MLA Time</th>\n",
       "    </tr>\n",
       "  </thead>\n",
       "  <tbody>\n",
       "    <tr>\n",
       "      <th>11</th>\n",
       "      <td>NuSVR</td>\n",
       "      <td>{'C': 1.0, 'cache_size': 200, 'coef0': 0.0, 'd...</td>\n",
       "      <td>0.357567755499649</td>\n",
       "      <td>0.350300060048647</td>\n",
       "      <td>0.0514824641879457</td>\n",
       "      <td>0.521807765960693</td>\n",
       "    </tr>\n",
       "    <tr>\n",
       "      <th>12</th>\n",
       "      <td>LGBMRegressor</td>\n",
       "      <td>{'boosting_type': 'gbdt', 'class_weight': None...</td>\n",
       "      <td>0.556353439663867</td>\n",
       "      <td>0.349089779257175</td>\n",
       "      <td>0.0695470015841627</td>\n",
       "      <td>0.0911734580993652</td>\n",
       "    </tr>\n",
       "    <tr>\n",
       "      <th>5</th>\n",
       "      <td>BayesianRidge</td>\n",
       "      <td>{'alpha_1': 1e-06, 'alpha_2': 1e-06, 'compute_...</td>\n",
       "      <td>0.0550546796413919</td>\n",
       "      <td>0.0446736478489484</td>\n",
       "      <td>0.0541833235501411</td>\n",
       "      <td>0.00368928909301758</td>\n",
       "    </tr>\n",
       "    <tr>\n",
       "      <th>1</th>\n",
       "      <td>Ridge</td>\n",
       "      <td>{'alpha': 1.0, 'copy_X': True, 'fit_intercept'...</td>\n",
       "      <td>0.0551693326727262</td>\n",
       "      <td>0.044309210936094</td>\n",
       "      <td>0.0586217057532036</td>\n",
       "      <td>0.00474357604980469</td>\n",
       "    </tr>\n",
       "    <tr>\n",
       "      <th>0</th>\n",
       "      <td>LinearRegression</td>\n",
       "      <td>{'copy_X': True, 'fit_intercept': True, 'n_job...</td>\n",
       "      <td>0.0551705636178839</td>\n",
       "      <td>0.0441709104981262</td>\n",
       "      <td>0.059517092073804</td>\n",
       "      <td>0.00487165451049805</td>\n",
       "    </tr>\n",
       "    <tr>\n",
       "      <th>2</th>\n",
       "      <td>Lasso</td>\n",
       "      <td>{'alpha': 0.1, 'copy_X': True, 'fit_intercept'...</td>\n",
       "      <td>0.046451487991976</td>\n",
       "      <td>0.0436330747378471</td>\n",
       "      <td>0.0173717666325946</td>\n",
       "      <td>0.00470154285430908</td>\n",
       "    </tr>\n",
       "    <tr>\n",
       "      <th>6</th>\n",
       "      <td>SGDRegressor</td>\n",
       "      <td>{'alpha': 0.0001, 'average': False, 'early_sto...</td>\n",
       "      <td>0.0474314374827146</td>\n",
       "      <td>0.0360501530500266</td>\n",
       "      <td>0.058010327605715</td>\n",
       "      <td>0.00621054172515869</td>\n",
       "    </tr>\n",
       "    <tr>\n",
       "      <th>3</th>\n",
       "      <td>ElasticNet</td>\n",
       "      <td>{'alpha': 1.0, 'copy_X': True, 'fit_intercept'...</td>\n",
       "      <td>0.021363994143529</td>\n",
       "      <td>0.0187072634394731</td>\n",
       "      <td>0.00702195455703102</td>\n",
       "      <td>0.00494704246520996</td>\n",
       "    </tr>\n",
       "    <tr>\n",
       "      <th>4</th>\n",
       "      <td>LassoLars</td>\n",
       "      <td>{'alpha': 0.1, 'copy_X': True, 'eps': 2.220446...</td>\n",
       "      <td>0</td>\n",
       "      <td>-0.00218488196973265</td>\n",
       "      <td>0.00761095952837273</td>\n",
       "      <td>0.0044971227645874</td>\n",
       "    </tr>\n",
       "    <tr>\n",
       "      <th>10</th>\n",
       "      <td>HuberRegressor</td>\n",
       "      <td>{'alpha': 0.0001, 'epsilon': 1.35, 'fit_interc...</td>\n",
       "      <td>-0.353129781037742</td>\n",
       "      <td>-0.508216818018665</td>\n",
       "      <td>2.06447191889115</td>\n",
       "      <td>0.0227333784103394</td>\n",
       "    </tr>\n",
       "    <tr>\n",
       "      <th>7</th>\n",
       "      <td>PassiveAggressiveRegressor</td>\n",
       "      <td>{'C': 1.0, 'average': False, 'early_stopping':...</td>\n",
       "      <td>-3.17387907640458</td>\n",
       "      <td>-3.19198597851305</td>\n",
       "      <td>8.05946795686607</td>\n",
       "      <td>0.00393795967102051</td>\n",
       "    </tr>\n",
       "    <tr>\n",
       "      <th>8</th>\n",
       "      <td>RANSACRegressor</td>\n",
       "      <td>{'base_estimator': None, 'is_data_valid': None...</td>\n",
       "      <td>-4.92555683506064</td>\n",
       "      <td>-3.79920627318002</td>\n",
       "      <td>5.98508383856417</td>\n",
       "      <td>0.069013237953186</td>\n",
       "    </tr>\n",
       "    <tr>\n",
       "      <th>9</th>\n",
       "      <td>TheilSenRegressor</td>\n",
       "      <td>{'copy_X': True, 'fit_intercept': True, 'max_i...</td>\n",
       "      <td>-7.31410606658831</td>\n",
       "      <td>-6.64709114531881</td>\n",
       "      <td>11.5411907455162</td>\n",
       "      <td>1.45424027442932</td>\n",
       "    </tr>\n",
       "  </tbody>\n",
       "</table>\n",
       "</div>"
      ],
      "text/plain": [
       "                      MLA Name  \\\n",
       "11                       NuSVR   \n",
       "12               LGBMRegressor   \n",
       "5                BayesianRidge   \n",
       "1                        Ridge   \n",
       "0             LinearRegression   \n",
       "2                        Lasso   \n",
       "6                 SGDRegressor   \n",
       "3                   ElasticNet   \n",
       "4                    LassoLars   \n",
       "10              HuberRegressor   \n",
       "7   PassiveAggressiveRegressor   \n",
       "8              RANSACRegressor   \n",
       "9            TheilSenRegressor   \n",
       "\n",
       "                                       MLA Parameters MLA Train Accuracy Mean  \\\n",
       "11  {'C': 1.0, 'cache_size': 200, 'coef0': 0.0, 'd...       0.357567755499649   \n",
       "12  {'boosting_type': 'gbdt', 'class_weight': None...       0.556353439663867   \n",
       "5   {'alpha_1': 1e-06, 'alpha_2': 1e-06, 'compute_...      0.0550546796413919   \n",
       "1   {'alpha': 1.0, 'copy_X': True, 'fit_intercept'...      0.0551693326727262   \n",
       "0   {'copy_X': True, 'fit_intercept': True, 'n_job...      0.0551705636178839   \n",
       "2   {'alpha': 0.1, 'copy_X': True, 'fit_intercept'...       0.046451487991976   \n",
       "6   {'alpha': 0.0001, 'average': False, 'early_sto...      0.0474314374827146   \n",
       "3   {'alpha': 1.0, 'copy_X': True, 'fit_intercept'...       0.021363994143529   \n",
       "4   {'alpha': 0.1, 'copy_X': True, 'eps': 2.220446...                       0   \n",
       "10  {'alpha': 0.0001, 'epsilon': 1.35, 'fit_interc...      -0.353129781037742   \n",
       "7   {'C': 1.0, 'average': False, 'early_stopping':...       -3.17387907640458   \n",
       "8   {'base_estimator': None, 'is_data_valid': None...       -4.92555683506064   \n",
       "9   {'copy_X': True, 'fit_intercept': True, 'max_i...       -7.31410606658831   \n",
       "\n",
       "   MLA Test Accuracy Mean MLA Test Accuracy 3*STD             MLA Time  \n",
       "11      0.350300060048647      0.0514824641879457    0.521807765960693  \n",
       "12      0.349089779257175      0.0695470015841627   0.0911734580993652  \n",
       "5      0.0446736478489484      0.0541833235501411  0.00368928909301758  \n",
       "1       0.044309210936094      0.0586217057532036  0.00474357604980469  \n",
       "0      0.0441709104981262       0.059517092073804  0.00487165451049805  \n",
       "2      0.0436330747378471      0.0173717666325946  0.00470154285430908  \n",
       "6      0.0360501530500266       0.058010327605715  0.00621054172515869  \n",
       "3      0.0187072634394731     0.00702195455703102  0.00494704246520996  \n",
       "4    -0.00218488196973265     0.00761095952837273   0.0044971227645874  \n",
       "10     -0.508216818018665        2.06447191889115   0.0227333784103394  \n",
       "7       -3.19198597851305        8.05946795686607  0.00393795967102051  \n",
       "8       -3.79920627318002        5.98508383856417    0.069013237953186  \n",
       "9       -6.64709114531881        11.5411907455162     1.45424027442932  "
      ]
     },
     "execution_count": 10,
     "metadata": {},
     "output_type": "execute_result"
    }
   ],
   "source": [
    "MLA_compare"
   ]
  },
  {
   "cell_type": "code",
   "execution_count": 11,
   "metadata": {},
   "outputs": [
    {
     "data": {
      "image/png": "[encoded data removed]",
      "text/plain": [
       "<matplotlib.figure.Figure at 0x7f58b1e96860>"
      ]
     },
     "metadata": {
      "needs_background": "light"
     },
     "output_type": "display_data"
    }
   ],
   "source": [
    "plt.figure(figsize=(10, 8))\n",
    "sns.barplot(x='MLA Test Accuracy Mean', y = 'MLA Name', data = MLA_compare, palette=sns.cubehelix_palette(len(MLA_compare), start=2, rot=0, dark=0.2, light=.85, reverse=False))\n",
    "\n",
    "plt.title('Machine Learning Algorithm Accuracy Score \\n')\n",
    "plt.xlabel('Accuracy Score (%)')\n",
    "plt.ylabel('Algorithm')\n",
    "plt.tight_layout()"
   ]
  },
  {
   "cell_type": "code",
   "execution_count": null,
   "metadata": {},
   "outputs": [],
   "source": [
    "def create_submission(model, output_filename, mae_score):\n",
    "    submission = pd.read_csv('input/sample_submission.csv', index_col='seg_id')\n",
    "    output = pd.DataFrame(columns=['ave', 'std', 'max', 'min'], dtype=np.float64, index=submission.index)\n",
    "    for seg_id in output.index:\n",
    "        seg = pd.read_csv('input/test/' + seg_id + '.csv')\n",
    "        x = seg['acoustic_data'].values\n",
    "\n",
    "        output.loc[seg_id, 'ave'] = x.mean()\n",
    "        output.loc[seg_id, 'std'] = x.std()\n",
    "        output.loc[seg_id, 'max'] = x.max()\n",
    "        output.loc[seg_id, 'min'] = x.min()\n",
    "\n",
    "    output_scaled = scaler.transform(output)\n",
    "\n",
    "    submission['time_to_failure'] = model.predict(output_scaled)\n",
    "    submission.to_csv(output_filename.format(mae_score))\n",
    "    print(output_filename.format(mae_score))"
   ]
  },
  {
   "cell_type": "code",
   "execution_count": null,
   "metadata": {},
   "outputs": [],
   "source": [
    "model_sgd = linear_model.SGDRegressor()\n",
    "model_sgd.fit(X_train_scaled, y_train.values.flatten())\n",
    "y_pred = model_sgd.predict(X_train_scaled)\n",
    "mae_score = mean_absolute_error(y_train.values.flatten(), y_pred)\n",
    "\n",
    "create_submission(model_sgd, 'output/NuSVR_MAE{:.5f}.csv', mae_score)"
   ]
  },
  {
   "cell_type": "markdown",
   "metadata": {},
   "source": [
    "### GridSearch\n",
    "[Parameters to tune](https://medium.com/@pushkarmandot/https-medium-com-pushkarmandot-what-is-lightgbm-how-to-implement-it-how-to-fine-tune-the-parameters-60347819b7fc)"
   ]
  },
  {
   "cell_type": "code",
   "execution_count": null,
   "metadata": {
    "scrolled": false
   },
   "outputs": [
    {
     "name": "stdout",
     "output_type": "stream",
     "text": [
      "BEFORE DT Parameters:  {'boosting_type': 'gbdt', 'class_weight': None, 'colsample_bytree': 1.0, 'importance_type': 'split', 'learning_rate': 0.05, 'max_depth': -1, 'min_child_samples': 20, 'min_child_weight': 0.001, 'min_split_gain': 0.0, 'n_estimators': 100, 'n_jobs': -1, 'num_leaves': 31, 'objective': None, 'random_state': None, 'reg_alpha': 0.0, 'reg_lambda': 0.0, 'silent': True, 'subsample': 1.0, 'subsample_for_bin': 200000, 'subsample_freq': 0}\n",
      "BEFORE DT Training w/bin score mean: 75.77\n",
      "BEFORE DT Test w/bin score mean: 59.04\n",
      "BEFORE DT Test w/bin score 3*std: +/- 4.75\n",
      "----------\n",
      "Fitting 10 folds for each of 24 candidates, totalling 240 fits\n"
     ]
    },
    {
     "name": "stderr",
     "output_type": "stream",
     "text": [
      "[Parallel(n_jobs=4)]: Using backend LokyBackend with 4 concurrent workers.\n",
      "[Parallel(n_jobs=4)]: Done  42 tasks      | elapsed:    7.2s\n",
      "[Parallel(n_jobs=4)]: Done 192 tasks      | elapsed:   21.9s\n"
     ]
    }
   ],
   "source": [
    "model_lgb = lgb.LGBMRegressor(learning_rate=0.05)\n",
    "cv_split = model_selection.ShuffleSplit(n_splits=10, test_size=.25, train_size=.75, random_state=1)\n",
    "base_results = model_selection.cross_validate(model_lgb, X_train, y_train, cv=cv_split)\n",
    "model_lgb.fit(X_train, y_train)\n",
    "\n",
    "print('BEFORE DT Parameters: ', model_lgb.get_params())\n",
    "print(\"BEFORE DT Training w/bin score mean: {:.2f}\". format(base_results['train_score'].mean()*100)) \n",
    "print(\"BEFORE DT Test w/bin score mean: {:.2f}\". format(base_results['test_score'].mean()*100))\n",
    "print(\"BEFORE DT Test w/bin score 3*std: +/- {:.2f}\". format(base_results['test_score'].std()*100*3))\n",
    "print('-'*10)\n",
    "\n",
    "param_grid = {\n",
    "    'boosting': ['gbdt', 'dart'],\n",
    "    'lambda': [0.01, 0.1],\n",
    "    'learning_rate': [0.003, 0.01, 0.03],\n",
    "    #'max_depth': [10, 25],\n",
    "    'num_leaves': [10, 20]\n",
    "}\n",
    "\n",
    "tune_model = model_selection.GridSearchCV(lgb.LGBMRegressor(), param_grid=param_grid, scoring = 'neg_mean_absolute_error', cv = cv_split, verbose=1, n_jobs=4)\n",
    "tune_model.fit(X_train, y_train)\n",
    "\n",
    "print('AFTER DT Parameters: ', tune_model.best_params_)\n",
    "print(\"AFTER DT Training w/bin score mean: {:.2f}\". format(tune_model.cv_results_['mean_train_score'][tune_model.best_index_]*100)) \n",
    "print(\"AFTER DT Test w/bin score mean: {:.2f}\". format(tune_model.cv_results_['mean_test_score'][tune_model.best_index_]*100))\n",
    "print(\"AFTER DT Test w/bin score 3*std: +/- {:.2f}\". format(tune_model.cv_results_['std_test_score'][tune_model.best_index_]*100*3))"
   ]
  },
  {
   "cell_type": "markdown",
   "metadata": {},
   "source": [
    "### Ensembling"
   ]
  },
  {
   "cell_type": "markdown",
   "metadata": {},
   "source": [
    "### Stacking"
   ]
  },
  {
   "cell_type": "code",
   "execution_count": null,
   "metadata": {},
   "outputs": [],
   "source": []
  }
 ],
 "metadata": {
  "kernelspec": {
   "display_name": "Python 3",
   "language": "python",
   "name": "python3"
  },
  "language_info": {
   "codemirror_mode": {
    "name": "ipython",
    "version": 3
   },
   "file_extension": ".py",
   "mimetype": "text/x-python",
   "name": "python",
   "nbconvert_exporter": "python",
   "pygments_lexer": "ipython3",
   "version": "3.6.0"
  },
  "toc": {
   "base_numbering": 1,
   "nav_menu": {},
   "number_sections": true,
   "sideBar": true,
   "skip_h1_title": true,
   "title_cell": "Table of Contents",
   "title_sidebar": "Contents",
   "toc_cell": false,
   "toc_position": {
    "height": "calc(100% - 180px)",
    "left": "10px",
    "top": "150px",
    "width": "208px"
   },
   "toc_section_display": true,
   "toc_window_display": true
  }
 },
 "nbformat": 4,
 "nbformat_minor": 2
}
