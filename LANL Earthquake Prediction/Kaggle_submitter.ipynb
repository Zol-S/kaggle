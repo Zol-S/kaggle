{
 "cells": [
  {
   "cell_type": "markdown",
   "metadata": {},
   "source": [
    "# Kaggle submitter\n",
    "<img src=\"https://cdn-images-1.medium.com/max/800/0*hP7d7lmvx0QM_wFM.png\" alt=\"Kaggle Logo\" style=\"width: 200px;\"/>\n",
    "\n",
    "To create token login to kaggle.com, then click on _My Profile_, _Edit Profile_ and _Create New API Token_ to download __kaggle.json__ and copy it to\n",
    "`C:\\Users\\<Windows-username>\\.kaggle\\kaggle.json` on Windows\n",
    "`chmod 600 ~/.kaggle/kaggle.json` on Linux"
   ]
  },
  {
   "cell_type": "code",
   "execution_count": 145,
   "metadata": {},
   "outputs": [],
   "source": [
    "import json\n",
    "import random\n",
    "import zipfile\n",
    "import warnings\n",
    "import numpy as np\n",
    "import pandas as pd\n",
    "import matplotlib.pyplot as plt\n",
    "from kaggle.api.kaggle_api_extended import KaggleApi\n",
    "\n",
    "warnings.filterwarnings(\"ignore\")\n",
    "\n",
    "random.seed(1)\n",
    "\n",
    "%matplotlib inline\n",
    "\n",
    "# Set the competition here\n",
    "kaggle_selected_competition = 'elo-merchant-category-recommendation'\n",
    "kaggle_user_name = 'Zol-S'\n",
    "kaggle_leaderboard_ascending = True"
   ]
  },
  {
   "cell_type": "markdown",
   "metadata": {},
   "source": [
    "## Login"
   ]
  },
  {
   "cell_type": "code",
   "execution_count": 10,
   "metadata": {},
   "outputs": [],
   "source": [
    "with open('credentials/kaggle.json') as f:\n",
    "    kaggle_credentials = json.load(f)\n",
    "\n",
    "api = KaggleApi(kaggle_credentials)\n",
    "api.authenticate()"
   ]
  },
  {
   "cell_type": "markdown",
   "metadata": {},
   "source": [
    "## Competition list"
   ]
  },
  {
   "cell_type": "code",
   "execution_count": 38,
   "metadata": {},
   "outputs": [
    {
     "data": {
      "text/plain": [
       "[digit-recognizer,\n",
       " titanic,\n",
       " house-prices-advanced-regression-techniques,\n",
       " imagenet-object-localization-challenge,\n",
       " competitive-data-science-predict-future-sales,\n",
       " two-sigma-financial-news,\n",
       " LANL-Earthquake-Prediction,\n",
       " tmdb-box-office-prediction,\n",
       " dont-overfit-ii,\n",
       " data-science-for-good-careervillage,\n",
       " gendered-pronoun-resolution,\n",
       " santander-customer-transaction-prediction,\n",
       " womens-machine-learning-competition-2019,\n",
       " mens-machine-learning-competition-2019,\n",
       " histopathologic-cancer-detection,\n",
       " petfinder-adoption-prediction,\n",
       " vsb-power-line-fault-detection,\n",
       " microsoft-malware-prediction,\n",
       " humpback-whale-identification,\n",
       " elo-merchant-category-recommendation]"
      ]
     },
     "execution_count": 38,
     "metadata": {},
     "output_type": "execute_result"
    }
   ],
   "source": [
    "api.competitions_list()"
   ]
  },
  {
   "cell_type": "markdown",
   "metadata": {},
   "source": [
    "## Public Leaderboard"
   ]
  },
  {
   "cell_type": "code",
   "execution_count": 68,
   "metadata": {},
   "outputs": [
    {
     "name": "stderr",
     "output_type": "stream",
     "text": [
      "\r",
      "  0%|          | 0.00/320k [00:00<?, ?B/s]"
     ]
    },
    {
     "name": "stdout",
     "output_type": "stream",
     "text": [
      "Downloading elo-merchant-category-recommendation.zip to downloads\n"
     ]
    },
    {
     "name": "stderr",
     "output_type": "stream",
     "text": [
      "\r",
      "100%|██████████| 320k/320k [00:00<00:00, 708kB/s]"
     ]
    },
    {
     "name": "stdout",
     "output_type": "stream",
     "text": [
      "\n"
     ]
    },
    {
     "name": "stderr",
     "output_type": "stream",
     "text": [
      "\n"
     ]
    }
   ],
   "source": [
    "api.competition_leaderboard_cli(kaggle_selected_competition, competition_opt='m', path='downloads/', download='True')"
   ]
  },
  {
   "cell_type": "code",
   "execution_count": 72,
   "metadata": {},
   "outputs": [],
   "source": [
    "def read_zip_file(zippath, filename):\n",
    "    zf = zipfile.ZipFile(zippath)\n",
    "    return pd.read_csv(zf.open(filename))"
   ]
  },
  {
   "cell_type": "code",
   "execution_count": 116,
   "metadata": {},
   "outputs": [],
   "source": [
    "df_lb = read_zip_file('downloads/' + kaggle_selected_competition + '.zip', kaggle_selected_competition + '-publicleaderboard.csv')"
   ]
  },
  {
   "cell_type": "code",
   "execution_count": 117,
   "metadata": {},
   "outputs": [],
   "source": [
    "df_lb_sorted = df_lb.sort_values(by='Score', ascending=kaggle_leaderboard_ascending).drop_duplicates(subset='TeamId', keep='first').reset_index()"
   ]
  },
  {
   "cell_type": "markdown",
   "metadata": {},
   "source": [
    "**Top 5**"
   ]
  },
  {
   "cell_type": "code",
   "execution_count": 120,
   "metadata": {},
   "outputs": [
    {
     "data": {
      "text/html": [
       "<div>\n",
       "<style scoped>\n",
       "    .dataframe tbody tr th:only-of-type {\n",
       "        vertical-align: middle;\n",
       "    }\n",
       "\n",
       "    .dataframe tbody tr th {\n",
       "        vertical-align: top;\n",
       "    }\n",
       "\n",
       "    .dataframe thead th {\n",
       "        text-align: right;\n",
       "    }\n",
       "</style>\n",
       "<table border=\"1\" class=\"dataframe\">\n",
       "  <thead>\n",
       "    <tr style=\"text-align: right;\">\n",
       "      <th></th>\n",
       "      <th>index</th>\n",
       "      <th>TeamId</th>\n",
       "      <th>TeamName</th>\n",
       "      <th>SubmissionDate</th>\n",
       "      <th>Score</th>\n",
       "    </tr>\n",
       "  </thead>\n",
       "  <tbody>\n",
       "    <tr>\n",
       "      <th>0</th>\n",
       "      <td>19859</td>\n",
       "      <td>2447031</td>\n",
       "      <td>Adventurous LB validation</td>\n",
       "      <td>2019-02-24 11:29:10</td>\n",
       "      <td>3.61285</td>\n",
       "    </tr>\n",
       "    <tr>\n",
       "      <th>1</th>\n",
       "      <td>19839</td>\n",
       "      <td>2482607</td>\n",
       "      <td>[Aladdin Healthcare Tech]Snake</td>\n",
       "      <td>2019-02-24 09:56:33</td>\n",
       "      <td>3.61383</td>\n",
       "    </tr>\n",
       "    <tr>\n",
       "      <th>2</th>\n",
       "      <td>11597</td>\n",
       "      <td>2441836</td>\n",
       "      <td>You'll Never Overfitting Alone</td>\n",
       "      <td>2019-01-21 15:11:35</td>\n",
       "      <td>3.63701</td>\n",
       "    </tr>\n",
       "    <tr>\n",
       "      <th>3</th>\n",
       "      <td>20817</td>\n",
       "      <td>2524618</td>\n",
       "      <td>Mind Rank</td>\n",
       "      <td>2019-02-26 16:46:19</td>\n",
       "      <td>3.63724</td>\n",
       "    </tr>\n",
       "    <tr>\n",
       "      <th>4</th>\n",
       "      <td>18242</td>\n",
       "      <td>2504932</td>\n",
       "      <td>知否知否应是摸奖时候</td>\n",
       "      <td>2019-02-18 13:46:56</td>\n",
       "      <td>3.63904</td>\n",
       "    </tr>\n",
       "  </tbody>\n",
       "</table>\n",
       "</div>"
      ],
      "text/plain": [
       "   index   TeamId                        TeamName       SubmissionDate  \\\n",
       "0  19859  2447031       Adventurous LB validation  2019-02-24 11:29:10   \n",
       "1  19839  2482607  [Aladdin Healthcare Tech]Snake  2019-02-24 09:56:33   \n",
       "2  11597  2441836  You'll Never Overfitting Alone  2019-01-21 15:11:35   \n",
       "3  20817  2524618                       Mind Rank  2019-02-26 16:46:19   \n",
       "4  18242  2504932                      知否知否应是摸奖时候  2019-02-18 13:46:56   \n",
       "\n",
       "     Score  \n",
       "0  3.61285  \n",
       "1  3.61383  \n",
       "2  3.63701  \n",
       "3  3.63724  \n",
       "4  3.63904  "
      ]
     },
     "execution_count": 120,
     "metadata": {},
     "output_type": "execute_result"
    }
   ],
   "source": [
    "df_lb_sorted[:5]"
   ]
  },
  {
   "cell_type": "markdown",
   "metadata": {},
   "source": [
    "**My submission**"
   ]
  },
  {
   "cell_type": "code",
   "execution_count": 122,
   "metadata": {},
   "outputs": [
    {
     "data": {
      "text/html": [
       "<div>\n",
       "<style scoped>\n",
       "    .dataframe tbody tr th:only-of-type {\n",
       "        vertical-align: middle;\n",
       "    }\n",
       "\n",
       "    .dataframe tbody tr th {\n",
       "        vertical-align: top;\n",
       "    }\n",
       "\n",
       "    .dataframe thead th {\n",
       "        text-align: right;\n",
       "    }\n",
       "</style>\n",
       "<table border=\"1\" class=\"dataframe\">\n",
       "  <thead>\n",
       "    <tr style=\"text-align: right;\">\n",
       "      <th></th>\n",
       "      <th>index</th>\n",
       "      <th>TeamId</th>\n",
       "      <th>TeamName</th>\n",
       "      <th>SubmissionDate</th>\n",
       "      <th>Score</th>\n",
       "    </tr>\n",
       "  </thead>\n",
       "  <tbody>\n",
       "    <tr>\n",
       "      <th>1543</th>\n",
       "      <td>20673</td>\n",
       "      <td>2510512</td>\n",
       "      <td>Zol-S</td>\n",
       "      <td>2019-02-26 11:00:03</td>\n",
       "      <td>3.69367</td>\n",
       "    </tr>\n",
       "  </tbody>\n",
       "</table>\n",
       "</div>"
      ],
      "text/plain": [
       "      index   TeamId TeamName       SubmissionDate    Score\n",
       "1543  20673  2510512    Zol-S  2019-02-26 11:00:03  3.69367"
      ]
     },
     "execution_count": 122,
     "metadata": {},
     "output_type": "execute_result"
    }
   ],
   "source": [
    "df_lb_sorted[df_lb_sorted['TeamName'] == kaggle_user_name]"
   ]
  },
  {
   "cell_type": "markdown",
   "metadata": {},
   "source": [
    "**Statistics**"
   ]
  },
  {
   "cell_type": "code",
   "execution_count": 134,
   "metadata": {},
   "outputs": [],
   "source": [
    "index_of_last_10_percent = -int(len(df_lb_sorted)/10)"
   ]
  },
  {
   "cell_type": "code",
   "execution_count": 139,
   "metadata": {},
   "outputs": [
    {
     "name": "stdout",
     "output_type": "stream",
     "text": [
      "Range of score: 3.61285 - 7318994848.3230295\n",
      "Interquartile range of score without the last 10%: 3.689210 - 3.737410\n"
     ]
    }
   ],
   "source": [
    "q1_tr = int(df_lb_sorted['Score'][:index_of_last_10_percent].count()/4)\n",
    "q3_tr = int(3*df_lb_sorted['Score'][:index_of_last_10_percent].count()/4)\n",
    "\n",
    "print('Range of score: {} - {}'.format(df_lb_sorted['Score'].min(), df_lb_sorted['Score'].max()))\n",
    "print('Interquartile range of score without the last 10%: {:.6f} - {:.6f}'.format(df_lb_sorted['Score'][:index_of_last_10_percent].iloc[q1_tr], df_lb_sorted['Score'][:index_of_last_10_percent].iloc[q3_tr]))"
   ]
  },
  {
   "cell_type": "code",
   "execution_count": 147,
   "metadata": {},
   "outputs": [
    {
     "data": {
      "image/png": "[encoded data removed]",
      "text/plain": [
       "<matplotlib.figure.Figure at 0x7f9c94b36320>"
      ]
     },
     "metadata": {
      "needs_background": "light"
     },
     "output_type": "display_data"
    }
   ],
   "source": [
    "plt.figure(figsize=(15, 5))\n",
    "plt.hist(df_lb_sorted['Score'][:index_of_last_10_percent].values, bins=100)\n",
    "plt.title('Histogram score counts')\n",
    "plt.xlabel('Count')\n",
    "plt.xticks(rotation=60)\n",
    "plt.ylabel('First Active Month')\n",
    "plt.axvline(df_lb_sorted['Score'][:index_of_last_10_percent].iloc[q1_tr], color=\"k\", linestyle=\"--\")\n",
    "plt.axvline(df_lb_sorted['Score'][:index_of_last_10_percent].iloc[q3_tr], color=\"k\", linestyle=\"--\")\n",
    "plt.show()"
   ]
  },
  {
   "cell_type": "markdown",
   "metadata": {},
   "source": [
    "## Submit"
   ]
  },
  {
   "cell_type": "code",
   "execution_count": null,
   "metadata": {},
   "outputs": [],
   "source": [
    "kaggle competitions submit [-h] -c COMPETITION -f FILE -m MESSAGE"
   ]
  },
  {
   "cell_type": "code",
   "execution_count": null,
   "metadata": {},
   "outputs": [],
   "source": []
  }
 ],
 "metadata": {
  "kernelspec": {
   "display_name": "Python 3",
   "language": "python",
   "name": "python3"
  },
  "language_info": {
   "codemirror_mode": {
    "name": "ipython",
    "version": 3
   },
   "file_extension": ".py",
   "mimetype": "text/x-python",
   "name": "python",
   "nbconvert_exporter": "python",
   "pygments_lexer": "ipython3",
   "version": "3.6.0"
  },
  "toc": {
   "base_numbering": 1,
   "nav_menu": {},
   "number_sections": true,
   "sideBar": true,
   "skip_h1_title": true,
   "title_cell": "Table of Contents",
   "title_sidebar": "Contents",
   "toc_cell": false,
   "toc_position": {
    "height": "calc(100% - 180px)",
    "left": "10px",
    "top": "150px",
    "width": "165px"
   },
   "toc_section_display": true,
   "toc_window_display": false
  }
 },
 "nbformat": 4,
 "nbformat_minor": 2
}
